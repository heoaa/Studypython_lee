{
 "cells": [
  {
   "cell_type": "markdown",
   "id": "1d4bffd9-bae2-46e7-b7d1-a142c9eecd91",
   "metadata": {},
   "source": [
    "## 머신러닝에서 사용되는 전처리 기법"
   ]
  },
  {
   "cell_type": "code",
   "execution_count": null,
   "id": "ab23960f-f1e4-49e3-bc26-8c56b0b4a3df",
   "metadata": {},
   "outputs": [],
   "source": [
    "## 데이터 준비하기\n",
    "# - 어제 사용한 도미와 빙어 데이터 가지고 오기\n",
    "# - 2차원 데이터까지 만들어주세요"
   ]
  },
  {
   "cell_type": "code",
   "execution_count": 3,
   "id": "bddfc74e-ea50-444d-b6aa-61cd9a3928b2",
   "metadata": {},
   "outputs": [],
   "source": [
    "import numpy as np\n",
    "from sklearn.neighbors import KNeighborsClassifier\n",
    "\n",
    "# 도미 길이\n",
    "bream_length = [25.4, 26.3, 26.5, 29.0, 29.0, 29.7, 29.7, 30.0, \n",
    "                30.0, 30.7, 31.0, 31.0, 31.5, 32.0, 32.0, 32.0, \n",
    "                33.0, 33.0, 33.5, 33.5, 34.0, 34.0, 34.5, 35.0, \n",
    "                35.0, 35.0, 35.0, 36.0, 36.0, 37.0, 38.5, 38.5, \n",
    "                39.5, 41.0, 41.0]\n",
    "\n",
    "# 도미 무게\n",
    "bream_weight = [242.0, 290.0, 340.0, 363.0, 430.0, 450.0, 500.0, \n",
    "                390.0, 450.0, 500.0, 475.0, 500.0, 500.0, 340.0, \n",
    "                600.0, 600.0, 700.0, 700.0, 610.0, 650.0, 575.0, \n",
    "                685.0, 620.0, 680.0, 700.0, 725.0, 720.0, 714.0, \n",
    "                850.0, 1000.0, 920.0, 955.0, 925.0, 975.0, 950.0]\n",
    "\n",
    "# 빙어 길이\n",
    "smelt_length = [9.8, 10.5, 10.6, 11.0, 11.2, 11.3, 11.8, 11.8, 12.0, 12.2, 12.4, 13.0, 14.3, 15.0]\n",
    "\n",
    "# 빙어 무게\n",
    "smelt_weight = [6.7, 7.5, 7.0, 9.7, 9.8, 8.7, 10.0, 9.9, 9.8, 12.2, 13.4, 12.2, 19.7, 19.9]"
   ]
  },
  {
   "cell_type": "code",
   "execution_count": 2,
   "id": "f90b3b19-c2aa-4950-958c-9f18769a98b4",
   "metadata": {
    "collapsed": true,
    "jupyter": {
     "outputs_hidden": true
    },
    "tags": []
   },
   "outputs": [
    {
     "data": {
      "text/plain": [
       "[[25.4, 242.0],\n",
       " [26.3, 290.0],\n",
       " [26.5, 340.0],\n",
       " [29.0, 363.0],\n",
       " [29.0, 430.0],\n",
       " [29.7, 450.0],\n",
       " [29.7, 500.0],\n",
       " [30.0, 390.0],\n",
       " [30.0, 450.0],\n",
       " [30.7, 500.0],\n",
       " [31.0, 475.0],\n",
       " [31.0, 500.0],\n",
       " [31.5, 500.0],\n",
       " [32.0, 340.0],\n",
       " [32.0, 600.0],\n",
       " [32.0, 600.0],\n",
       " [33.0, 700.0],\n",
       " [33.0, 700.0],\n",
       " [33.5, 610.0],\n",
       " [33.5, 650.0],\n",
       " [34.0, 575.0],\n",
       " [34.0, 685.0],\n",
       " [34.5, 620.0],\n",
       " [35.0, 680.0],\n",
       " [35.0, 700.0],\n",
       " [35.0, 725.0],\n",
       " [35.0, 720.0],\n",
       " [36.0, 714.0],\n",
       " [36.0, 850.0],\n",
       " [37.0, 1000.0],\n",
       " [38.5, 920.0],\n",
       " [38.5, 955.0],\n",
       " [39.5, 925.0],\n",
       " [41.0, 975.0],\n",
       " [41.0, 950.0],\n",
       " [9.8, 6.7],\n",
       " [10.5, 7.5],\n",
       " [10.6, 7.0],\n",
       " [11.0, 9.7],\n",
       " [11.2, 9.8],\n",
       " [11.3, 8.7],\n",
       " [11.8, 10.0],\n",
       " [11.8, 9.9],\n",
       " [12.0, 9.8],\n",
       " [12.2, 12.2],\n",
       " [12.4, 13.4],\n",
       " [13.0, 12.2],\n",
       " [14.3, 19.7],\n",
       " [15.0, 19.9]]"
      ]
     },
     "execution_count": 2,
     "metadata": {},
     "output_type": "execute_result"
    }
   ],
   "source": [
    "# 2차원 데이터셋으로 합치기\n",
    "length = bream_length + smelt_length\n",
    "weight = bream_weight + smelt_weight\n",
    "\n",
    "fish_data = [[len, wei] for len, wei in zip(length, weight)]\n",
    "fish_data"
   ]
  },
  {
   "cell_type": "code",
   "execution_count": 4,
   "id": "5d09f43b-2970-4706-82da-c324bc1047ec",
   "metadata": {},
   "outputs": [
    {
     "data": {
      "text/plain": [
       "array([[1, 4],\n",
       "       [2, 5],\n",
       "       [3, 6]])"
      ]
     },
     "execution_count": 4,
     "metadata": {},
     "output_type": "execute_result"
    }
   ],
   "source": [
    "## numpy가 제공하는 함수를 이용한 2차원 데이터 생성\n",
    "# 샘플\n",
    "a = [1,2,3]\n",
    "b = [4,5,6]\n",
    "np.column_stack((a,b))"
   ]
  },
  {
   "cell_type": "code",
   "execution_count": 5,
   "id": "6c5d82dc-eb1a-4ad2-baac-1c7681626064",
   "metadata": {
    "collapsed": true,
    "jupyter": {
     "outputs_hidden": true
    },
    "tags": []
   },
   "outputs": [
    {
     "data": {
      "text/plain": [
       "array([[  25.4,  242. ],\n",
       "       [  26.3,  290. ],\n",
       "       [  26.5,  340. ],\n",
       "       [  29. ,  363. ],\n",
       "       [  29. ,  430. ],\n",
       "       [  29.7,  450. ],\n",
       "       [  29.7,  500. ],\n",
       "       [  30. ,  390. ],\n",
       "       [  30. ,  450. ],\n",
       "       [  30.7,  500. ],\n",
       "       [  31. ,  475. ],\n",
       "       [  31. ,  500. ],\n",
       "       [  31.5,  500. ],\n",
       "       [  32. ,  340. ],\n",
       "       [  32. ,  600. ],\n",
       "       [  32. ,  600. ],\n",
       "       [  33. ,  700. ],\n",
       "       [  33. ,  700. ],\n",
       "       [  33.5,  610. ],\n",
       "       [  33.5,  650. ],\n",
       "       [  34. ,  575. ],\n",
       "       [  34. ,  685. ],\n",
       "       [  34.5,  620. ],\n",
       "       [  35. ,  680. ],\n",
       "       [  35. ,  700. ],\n",
       "       [  35. ,  725. ],\n",
       "       [  35. ,  720. ],\n",
       "       [  36. ,  714. ],\n",
       "       [  36. ,  850. ],\n",
       "       [  37. , 1000. ],\n",
       "       [  38.5,  920. ],\n",
       "       [  38.5,  955. ],\n",
       "       [  39.5,  925. ],\n",
       "       [  41. ,  975. ],\n",
       "       [  41. ,  950. ],\n",
       "       [   9.8,    6.7],\n",
       "       [  10.5,    7.5],\n",
       "       [  10.6,    7. ],\n",
       "       [  11. ,    9.7],\n",
       "       [  11.2,    9.8],\n",
       "       [  11.3,    8.7],\n",
       "       [  11.8,   10. ],\n",
       "       [  11.8,    9.9],\n",
       "       [  12. ,    9.8],\n",
       "       [  12.2,   12.2],\n",
       "       [  12.4,   13.4],\n",
       "       [  13. ,   12.2],\n",
       "       [  14.3,   19.7],\n",
       "       [  15. ,   19.9]])"
      ]
     },
     "execution_count": 5,
     "metadata": {},
     "output_type": "execute_result"
    }
   ],
   "source": [
    "fish_data = np.column_stack((length, weight))\n",
    "fish_data"
   ]
  },
  {
   "cell_type": "code",
   "execution_count": 10,
   "id": "dbc84aac-9cc3-48d1-a0c3-3242b0807450",
   "metadata": {
    "tags": []
   },
   "outputs": [
    {
     "name": "stdout",
     "output_type": "stream",
     "text": [
      "[1. 1. 1. 1. 1.]\n",
      "[0. 0. 0. 0. 0.]\n",
      "[1. 1. 1. 1. 1. 0. 0. 0. 0. 0.]\n"
     ]
    }
   ],
   "source": [
    "print(np.ones(5))   # 입력된 개수만큼 1로 만들어줌\n",
    "print(np.zeros(5))  # 입력된 개수만큼 0으로 만들어줌\n",
    "\n",
    "print(np.concatenate((np.ones(5), np.zeros(5))))"
   ]
  },
  {
   "cell_type": "code",
   "execution_count": 8,
   "id": "8a42e4ec-f593-4a53-89e1-ecc31433ba42",
   "metadata": {},
   "outputs": [
    {
     "data": {
      "text/plain": [
       "array([1., 1., 1., 1., 1., 1., 1., 1., 1., 1., 1., 1., 1., 1., 1., 1., 1.,\n",
       "       1., 1., 1., 1., 1., 1., 1., 1., 1., 1., 1., 1., 1., 1., 1., 1., 1.,\n",
       "       1., 0., 0., 0., 0., 0., 0., 0., 0., 0., 0., 0., 0., 0., 0.])"
      ]
     },
     "execution_count": 8,
     "metadata": {},
     "output_type": "execute_result"
    }
   ],
   "source": [
    "## numpy를 이용해서 1과 0의 임의 값 만들기\n",
    "fish_target = np.concatenate((np.ones(35), np.zeros(14)))\n",
    "fish_target"
   ]
  },
  {
   "cell_type": "markdown",
   "id": "71453df4-85bc-4b84-8840-cbfad9b7ff68",
   "metadata": {},
   "source": [
    "## 훈련데이터셋과 테스트데이터셋 만들기\n",
    "- 훈련데이터셋 : 독립변수의 훈련데이터와 target 데이터 생성\n",
    "- 테스트데이터셋 : 독립변수의 테스트데이터와 target 데이터 생성\n",
    "\n",
    "- <b>train_data, train_target : 훈련에 사용</b>\n",
    "- <b>test_data, test_target : 훈련에 사용</b>"
   ]
  },
  {
   "cell_type": "code",
   "execution_count": 16,
   "id": "8d1f59d3-c8f0-4143-913f-940317a48b95",
   "metadata": {},
   "outputs": [],
   "source": [
    "# 어제 사용한 방식으로 훈련 및 테스트 데이터세트 생성해주세요\n",
    "\n",
    "# numpy 셔플 방법\n",
    "np.random.seed(123)\n",
    "index = np.arange(49)\n",
    "np.random.shuffle(index)\n",
    "\n",
    "train_data = fish_data[index[:35]]\n",
    "train_target = fish_target[index[:35]]\n",
    "test_data = fish_data[index[35:]]\n",
    "test_target = fish_target[index[35:]]"
   ]
  },
  {
   "cell_type": "code",
   "execution_count": 17,
   "id": "de0d1217-5296-4f65-bf41-bdc9a70dc4b2",
   "metadata": {},
   "outputs": [],
   "source": [
    "# 사이킷런 패키지에는 훈련 및 테스트 데이터를 자동으로 섞어주는 함수가 있음\n",
    "# - train_test_split() 함수 : 섞어주기, 비율로 나누기\n",
    "from sklearn.model_selection import train_test_split"
   ]
  },
  {
   "cell_type": "code",
   "execution_count": 29,
   "id": "bf30c74c-f474-4578-a414-b5787c4c76b5",
   "metadata": {},
   "outputs": [
    {
     "name": "stdout",
     "output_type": "stream",
     "text": [
      "train 비율 =  73.46938775510205\n",
      "test 비율 =  26.53061224489796\n"
     ]
    }
   ],
   "source": [
    "# 훈련 및 테스트데이터 분류하여 가지고 오기\n",
    "# 총 4개의 변수값을 반환\n",
    "\n",
    "# test_size : 테스트데이터 비율\n",
    "# train_size : 훈련데이터 비율\n",
    "# 미지정시 default값은 대략 train:test = 75:25 비율\n",
    "# 일반적으로 훈련과 테스트 비율은 7:3 또는 7.5:2.5 사용\n",
    "\n",
    "train_input, test_input, train_target, test_target = \\\n",
    "    train_test_split(fish_data, fish_target, test_size=0.25, random_state=42)  # random_state : np.seed()와 동일\n",
    "\n",
    "# 구분 비율 확인하기\n",
    "# - 구분 비율은 훈련과 테스트 비율 체크\n",
    "# - 비율 계산해 주세요\n",
    "print('train 비율 = ', len(train_input) / (len(train_input)+len(test_input)) * 100)\n",
    "print('test 비율 = ', len(test_input) / (len(train_input)+len(test_input)) * 100)"
   ]
  },
  {
   "cell_type": "code",
   "execution_count": 30,
   "id": "76db3ef7-2dac-47b4-ad0b-0542cea90072",
   "metadata": {
    "collapsed": true,
    "jupyter": {
     "outputs_hidden": true
    },
    "tags": []
   },
   "outputs": [
    {
     "name": "stdout",
     "output_type": "stream",
     "text": [
      "[[  30.   450. ]\n",
      " [  29.   363. ]\n",
      " [  29.7  500. ]\n",
      " [  11.3    8.7]\n",
      " [  11.8   10. ]\n",
      " [  13.    12.2]\n",
      " [  32.   600. ]\n",
      " [  30.7  500. ]\n",
      " [  33.   700. ]\n",
      " [  35.   700. ]\n",
      " [  41.   975. ]\n",
      " [  38.5  920. ]\n",
      " [  25.4  242. ]\n",
      " [  12.     9.8]\n",
      " [  39.5  925. ]\n",
      " [  29.7  450. ]\n",
      " [  37.  1000. ]\n",
      " [  31.   500. ]\n",
      " [  10.5    7.5]\n",
      " [  26.3  290. ]\n",
      " [  34.   685. ]\n",
      " [  26.5  340. ]\n",
      " [  10.6    7. ]\n",
      " [   9.8    6.7]\n",
      " [  35.   680. ]\n",
      " [  11.2    9.8]\n",
      " [  31.   475. ]\n",
      " [  34.5  620. ]\n",
      " [  33.5  610. ]\n",
      " [  15.    19.9]\n",
      " [  34.   575. ]\n",
      " [  30.   390. ]\n",
      " [  11.8    9.9]\n",
      " [  32.   600. ]\n",
      " [  36.   850. ]\n",
      " [  11.     9.7]]\n",
      "[[ 32.  340. ]\n",
      " [ 12.4  13.4]\n",
      " [ 14.3  19.7]\n",
      " [ 12.2  12.2]\n",
      " [ 33.  700. ]\n",
      " [ 36.  714. ]\n",
      " [ 35.  720. ]\n",
      " [ 35.  725. ]\n",
      " [ 38.5 955. ]\n",
      " [ 33.5 650. ]\n",
      " [ 31.5 500. ]\n",
      " [ 29.  430. ]\n",
      " [ 41.  950. ]]\n",
      "[1. 1. 1. 0. 0. 0. 1. 1. 1. 1. 1. 1. 1. 0. 1. 1. 1. 1. 0. 1. 1. 1. 0. 0.\n",
      " 1. 0. 1. 1. 1. 0. 1. 1. 0. 1. 1. 0.]\n",
      "[1. 0. 0. 0. 1. 1. 1. 1. 1. 1. 1. 1. 1.]\n"
     ]
    }
   ],
   "source": [
    "print(train_input)\n",
    "print(test_input)\n",
    "print(train_target)\n",
    "print(test_target)"
   ]
  },
  {
   "cell_type": "code",
   "execution_count": 31,
   "id": "303d3209-803d-47ea-b252-993e65041067",
   "metadata": {},
   "outputs": [
    {
     "name": "stdout",
     "output_type": "stream",
     "text": [
      "(36, 2) (36,)\n"
     ]
    }
   ],
   "source": [
    "# 훈련데이터 차원 확인하기\n",
    "print(train_input.shape, train_target.shape)"
   ]
  },
  {
   "cell_type": "code",
   "execution_count": 32,
   "id": "a5053e45-6e5f-4efb-92e4-9fb2cadb082e",
   "metadata": {},
   "outputs": [
    {
     "name": "stdout",
     "output_type": "stream",
     "text": [
      "(13, 2) (13,)\n"
     ]
    }
   ],
   "source": [
    "# 테스트데이터 차원 확인\n",
    "print(test_input.shape, test_target.shape)"
   ]
  },
  {
   "cell_type": "code",
   "execution_count": 33,
   "id": "5296d677-70fc-4987-b402-16103b5fdda8",
   "metadata": {},
   "outputs": [
    {
     "data": {
      "text/plain": [
       "array([1., 0., 0., 0., 1., 1., 1., 1., 1., 1., 1., 1., 1.])"
      ]
     },
     "execution_count": 33,
     "metadata": {},
     "output_type": "execute_result"
    }
   ],
   "source": [
    "# 편향 확인\n",
    "test_target"
   ]
  },
  {
   "cell_type": "code",
   "execution_count": 36,
   "id": "a9f45f92-dcf0-47bd-a1ba-7ffb2c1e1100",
   "metadata": {},
   "outputs": [],
   "source": [
    "## 샘플링 편향을 최소화 하기 위한 방법으로 stratify 속성 사용\n",
    "# 속성에는 기준값을 넣어줍니다. (보통 종속데이터)\n",
    "# 종속데이터의 분류 값을 기준으로 test_size의 비율로 섞어줍니다\n",
    "train_input, test_input, train_target, test_target = \\\n",
    "    train_test_split(fish_data, fish_target, stratify = fish_target,\n",
    "                     test_size=0.25, random_state=42)"
   ]
  },
  {
   "cell_type": "code",
   "execution_count": 37,
   "id": "c5f951c2-79fa-409f-9157-c3c9ae806b2e",
   "metadata": {},
   "outputs": [
    {
     "data": {
      "text/plain": [
       "array([0., 0., 1., 0., 1., 0., 1., 1., 1., 1., 1., 1., 1.])"
      ]
     },
     "execution_count": 37,
     "metadata": {},
     "output_type": "execute_result"
    }
   ],
   "source": [
    "# 편향 확인\n",
    "test_target"
   ]
  },
  {
   "cell_type": "markdown",
   "id": "0ef144c8-60b9-43e7-b21f-9533d0ff66b3",
   "metadata": {},
   "source": [
    "## 특정 위치의 생선 예측하기\n",
    "- 특정 위치 생선 : 예측 데이터 1개 사용"
   ]
  },
  {
   "cell_type": "code",
   "execution_count": null,
   "id": "0af45d4b-d645-4cd9-834d-0dc13a1d5317",
   "metadata": {},
   "outputs": [],
   "source": [
    "## [문제]\n",
    "# 생선의 길이와 무게가 25cm, 150g일때, 생선은 도미? 빙어?\n",
    "# 1. 훈련데이터를 산점도로 시각화하여 대략 위의 생선의 위치를 눈으로 확인\n",
    "# 2. 모델 객체 생성  >  3. 훈련데이터 학습  >  4. 정확도 확인\n",
    "# 5. 위 생선 예측  >  6. 산점도 그래프 시각화"
   ]
  },
  {
   "cell_type": "code",
   "execution_count": 40,
   "id": "54f2c5ee-169a-4b79-84eb-d5e9f336976f",
   "metadata": {},
   "outputs": [],
   "source": [
    "import numpy as np\n",
    "import matplotlib.pyplot as plt\n",
    "from sklearn.neighbors import KNeighborsClassifier"
   ]
  },
  {
   "cell_type": "code",
   "execution_count": 38,
   "id": "14b4c2ed-a8ad-4adb-8084-c35c95151cd4",
   "metadata": {},
   "outputs": [],
   "source": [
    "# 도미 길이\n",
    "bream_length = [25.4, 26.3, 26.5, 29.0, 29.0, 29.7, 29.7, 30.0, \n",
    "                30.0, 30.7, 31.0, 31.0, 31.5, 32.0, 32.0, 32.0, \n",
    "                33.0, 33.0, 33.5, 33.5, 34.0, 34.0, 34.5, 35.0, \n",
    "                35.0, 35.0, 35.0, 36.0, 36.0, 37.0, 38.5, 38.5, \n",
    "                39.5, 41.0, 41.0]\n",
    "\n",
    "# 도미 무게\n",
    "bream_weight = [242.0, 290.0, 340.0, 363.0, 430.0, 450.0, 500.0, \n",
    "                390.0, 450.0, 500.0, 475.0, 500.0, 500.0, 340.0, \n",
    "                600.0, 600.0, 700.0, 700.0, 610.0, 650.0, 575.0, \n",
    "                685.0, 620.0, 680.0, 700.0, 725.0, 720.0, 714.0, \n",
    "                850.0, 1000.0, 920.0, 955.0, 925.0, 975.0, 950.0]\n",
    "\n",
    "# 빙어 길이\n",
    "smelt_length = [9.8, 10.5, 10.6, 11.0, 11.2, 11.3, 11.8, 11.8, 12.0, 12.2, 12.4, 13.0, 14.3, 15.0]\n",
    "\n",
    "# 빙어 무게\n",
    "smelt_weight = [6.7, 7.5, 7.0, 9.7, 9.8, 8.7, 10.0, 9.9, 9.8, 12.2, 13.4, 12.2, 19.7, 19.9]"
   ]
  },
  {
   "cell_type": "code",
   "execution_count": 64,
   "id": "1be06516-0585-4f20-b658-4dede0f85ce5",
   "metadata": {},
   "outputs": [
    {
     "data": {
      "image/png": "[encoded data removed]",
      "text/plain": [
       "<Figure size 432x288 with 1 Axes>"
      ]
     },
     "metadata": {
      "needs_background": "light"
     },
     "output_type": "display_data"
    }
   ],
   "source": [
    "plt.scatter(bream_length, bream_weight)\n",
    "plt.scatter(smelt_length, smelt_weight)\n",
    "plt.scatter(25, 150, marker = '^', c = 'y')\n",
    "\n",
    "plt.xlabel('length')\n",
    "plt.ylabel('weight')\n",
    "plt.show()"
   ]
  },
  {
   "cell_type": "code",
   "execution_count": 42,
   "id": "ecaddcb8-5ba9-488c-869e-0a1f3710876d",
   "metadata": {
    "collapsed": true,
    "jupyter": {
     "outputs_hidden": true
    },
    "tags": []
   },
   "outputs": [
    {
     "data": {
      "text/plain": [
       "array([[  25.4,  242. ],\n",
       "       [  26.3,  290. ],\n",
       "       [  26.5,  340. ],\n",
       "       [  29. ,  363. ],\n",
       "       [  29. ,  430. ],\n",
       "       [  29.7,  450. ],\n",
       "       [  29.7,  500. ],\n",
       "       [  30. ,  390. ],\n",
       "       [  30. ,  450. ],\n",
       "       [  30.7,  500. ],\n",
       "       [  31. ,  475. ],\n",
       "       [  31. ,  500. ],\n",
       "       [  31.5,  500. ],\n",
       "       [  32. ,  340. ],\n",
       "       [  32. ,  600. ],\n",
       "       [  32. ,  600. ],\n",
       "       [  33. ,  700. ],\n",
       "       [  33. ,  700. ],\n",
       "       [  33.5,  610. ],\n",
       "       [  33.5,  650. ],\n",
       "       [  34. ,  575. ],\n",
       "       [  34. ,  685. ],\n",
       "       [  34.5,  620. ],\n",
       "       [  35. ,  680. ],\n",
       "       [  35. ,  700. ],\n",
       "       [  35. ,  725. ],\n",
       "       [  35. ,  720. ],\n",
       "       [  36. ,  714. ],\n",
       "       [  36. ,  850. ],\n",
       "       [  37. , 1000. ],\n",
       "       [  38.5,  920. ],\n",
       "       [  38.5,  955. ],\n",
       "       [  39.5,  925. ],\n",
       "       [  41. ,  975. ],\n",
       "       [  41. ,  950. ],\n",
       "       [   9.8,    6.7],\n",
       "       [  10.5,    7.5],\n",
       "       [  10.6,    7. ],\n",
       "       [  11. ,    9.7],\n",
       "       [  11.2,    9.8],\n",
       "       [  11.3,    8.7],\n",
       "       [  11.8,   10. ],\n",
       "       [  11.8,    9.9],\n",
       "       [  12. ,    9.8],\n",
       "       [  12.2,   12.2],\n",
       "       [  12.4,   13.4],\n",
       "       [  13. ,   12.2],\n",
       "       [  14.3,   19.7],\n",
       "       [  15. ,   19.9]])"
      ]
     },
     "execution_count": 42,
     "metadata": {},
     "output_type": "execute_result"
    }
   ],
   "source": [
    "length = bream_length+smelt_length\n",
    "weight = bream_weight+smelt_weight\n",
    "\n",
    "fish_data = [[leng, wei] for leng, wei in zip(length, weight)]\n",
    "fish_data = np.array(fish_data)\n",
    "fish_data"
   ]
  },
  {
   "cell_type": "code",
   "execution_count": 44,
   "id": "f34f06ad-4684-4f78-929e-4007a36591ac",
   "metadata": {},
   "outputs": [
    {
     "data": {
      "text/plain": [
       "array([1., 1., 1., 1., 1., 1., 1., 1., 1., 1., 1., 1., 1., 1., 1., 1., 1.,\n",
       "       1., 1., 1., 1., 1., 1., 1., 1., 1., 1., 1., 1., 1., 1., 1., 1., 1.,\n",
       "       1., 0., 0., 0., 0., 0., 0., 0., 0., 0., 0., 0., 0., 0., 0.])"
      ]
     },
     "execution_count": 44,
     "metadata": {},
     "output_type": "execute_result"
    }
   ],
   "source": [
    "fish_target = np.concatenate((np.ones(35), np.zeros(14)))\n",
    "fish_target"
   ]
  },
  {
   "cell_type": "code",
   "execution_count": 60,
   "id": "be16fae4-928d-47c7-9d14-48c6003e2caa",
   "metadata": {},
   "outputs": [],
   "source": [
    "train_data, test_data, train_target, test_target =\\\n",
    "    train_test_split(fish_data, fish_target, stratify=fish_target, \n",
    "                     test_size = 0.25, random_state=42)"
   ]
  },
  {
   "cell_type": "code",
   "execution_count": 54,
   "id": "b5e4e1f8-2948-4fb7-8754-8c8aeae4f78b",
   "metadata": {},
   "outputs": [],
   "source": [
    "kn = KNeighborsClassifier()"
   ]
  },
  {
   "cell_type": "code",
   "execution_count": 61,
   "id": "c5ab2ea7-695e-4eb5-95ec-ab3703be86c7",
   "metadata": {},
   "outputs": [
    {
     "data": {
      "text/plain": [
       "1.0"
      ]
     },
     "execution_count": 61,
     "metadata": {},
     "output_type": "execute_result"
    }
   ],
   "source": [
    "kn.fit(train_data, train_target)\n",
    "kn.score(test_data, test_target)"
   ]
  },
  {
   "cell_type": "code",
   "execution_count": 62,
   "id": "732aa5c4-f332-4515-939a-f23b0e31c7b7",
   "metadata": {},
   "outputs": [
    {
     "data": {
      "text/plain": [
       "array([0.])"
      ]
     },
     "execution_count": 62,
     "metadata": {},
     "output_type": "execute_result"
    }
   ],
   "source": [
    "kn.predict([[25,150]])"
   ]
  },
  {
   "cell_type": "code",
   "execution_count": 71,
   "id": "09f9b59d-df91-4327-bb33-3cd4ff2aac0c",
   "metadata": {},
   "outputs": [
    {
     "data": {
      "image/png": "[encoded data removed]",
      "text/plain": [
       "<Figure size 432x288 with 1 Axes>"
      ]
     },
     "metadata": {
      "needs_background": "light"
     },
     "output_type": "display_data"
    }
   ],
   "source": [
    "plt.scatter(train_data[:,0], train_data[:,1])\n",
    "plt.scatter(25, 150, marker = '^', c = 'y')\n",
    "\n",
    "plt.xlabel('length')\n",
    "plt.ylabel('weight')\n",
    "plt.show()\n",
    "\n",
    "# prdict = 0 빙어로 예측한 것을 확인할 수 있으나 눈으로 확인하면 도미와 가까운 것을 확인할 수 있음"
   ]
  },
  {
   "cell_type": "code",
   "execution_count": 66,
   "id": "53351239-29f6-46dc-88cf-2c338894fe22",
   "metadata": {},
   "outputs": [
    {
     "name": "stdout",
     "output_type": "stream",
     "text": [
      "[[ 92.00086956 130.48375378 130.73859415 138.32150953 138.39320793]]\n",
      "[[21 33 19 30  1]]\n"
     ]
    }
   ],
   "source": [
    "## 사용된 이웃값 확인\n",
    "# - 모델 생성시 기본 5개의 이웃으로 지정되어 훈련이 됩니다\n",
    "# - 이웃 5개의 값을 추출하기 위해서는 kneighbors() 함수를 사용합니다\n",
    "# - kneighbors() 함수의 반환값은 2개 \n",
    "#   (특정 생선과 이웃과의 거리, 이웃 5개의 실제 위치(인덱스번호))\n",
    "distances, indexes = kn.kneighbors([[25,150]])\n",
    "print(distances)\n",
    "print(indexes)"
   ]
  },
  {
   "cell_type": "code",
   "execution_count": 72,
   "id": "473eff67-c9ee-4ada-a729-e3264daedc5c",
   "metadata": {},
   "outputs": [
    {
     "data": {
      "image/png": "[encoded data removed]",
      "text/plain": [
       "<Figure size 432x288 with 1 Axes>"
      ]
     },
     "metadata": {
      "needs_background": "light"
     },
     "output_type": "display_data"
    }
   ],
   "source": [
    "# 사용된 이웃값 시각화 확인\n",
    "plt.scatter(train_data[:,0], train_data[:,1])\n",
    "plt.scatter(25, 150, marker = '^', c = 'y')\n",
    "plt.scatter(train_data[indexes,0], train_data[indexes,1], marker = 'D')\n",
    "\n",
    "plt.xlabel('length')\n",
    "plt.ylabel('weight')\n",
    "plt.show()"
   ]
  },
  {
   "cell_type": "code",
   "execution_count": null,
   "id": "93b9d3be-388d-4bb8-a7cd-6be926607dcf",
   "metadata": {},
   "outputs": [],
   "source": [
    "'''\n",
    "(해석)\n",
    "- x축의 범위와 y축의 범위가 너무 큰 차이로 나타난 현성\n",
    "- x축 범위 : 10~40 cm\n",
    "- y축 범위 : 0~1000 g\n",
    "- 두 축의 범위값 차이가 너무 크다.\n",
    "- y축으로 조금만 올라가도 거리는 크게 벌어집니다.\n",
    "- 도미들의 위치가 위로 조금만 올라가도 거리는 크게 벌어집니다\n",
    "\n",
    "- 이런 현상을 '스케일이 다르다'고 해석합니다\n",
    "- 분석 시 매우 흔하게 발생하는 현상으로 전처리를 꼭 해주어야 합니다.\n",
    "- 전처리 방법 : x축과 y축 값을 동일하게 맞춰야 합니다.\n",
    "'''"
   ]
  },
  {
   "cell_type": "code",
   "execution_count": 73,
   "id": "9549c347-1d84-4d0a-91dd-4cfffc858e26",
   "metadata": {},
   "outputs": [
    {
     "data": {
      "image/png": "[encoded data removed]",
      "text/plain": [
       "<Figure size 432x288 with 1 Axes>"
      ]
     },
     "metadata": {
      "needs_background": "light"
     },
     "output_type": "display_data"
    }
   ],
   "source": [
    "# 임의로 단위 맞추기\n",
    "plt.scatter(train_data[:,0], train_data[:,1])\n",
    "plt.scatter(25, 150, marker = '^', c = 'y')\n",
    "plt.scatter(train_data[indexes,0], train_data[indexes,1], marker = 'D')\n",
    "\n",
    "# x축의 범위를 y축과 동일하게 임의로 변경\n",
    "plt.xlim((0,1000))\n",
    "\n",
    "plt.xlabel('length')\n",
    "plt.ylabel('weight')\n",
    "plt.show()"
   ]
  },
  {
   "cell_type": "markdown",
   "id": "d92bad9b-97f5-45cc-bd1c-313bc9371e1c",
   "metadata": {},
   "source": [
    "## 스케일 동일하게 맞추기 (전처리)\n",
    "- 스케일을 맞추는 전처리방법으로는 '표준점수(standard score)'를 사용\n",
    "- 표준점수 : 각 데이터가 원점(0)에서 얼마의 표준편차만큼 떨어져 있는지 나타내는 값\n",
    "- 표준점수 = (각 데이터값 - 데이터세트 전체 평균값) / 데이터세트 전체 표준편차값\n",
    "- 훈련한 데이터 기준으로 예측을 하기때문에 뮤값은 훈련데이터 기준!!\n",
    "\n",
    "\n",
    "- 평균, 표준편차 꼐산은 모두 numpy에서 함수 제공"
   ]
  },
  {
   "cell_type": "code",
   "execution_count": 74,
   "id": "8b78fe09-bda1-4ce9-8b43-b5a0ac15a3bb",
   "metadata": {},
   "outputs": [
    {
     "data": {
      "text/plain": [
       "array([ 27.29722222, 454.09722222])"
      ]
     },
     "execution_count": 74,
     "metadata": {},
     "output_type": "execute_result"
    }
   ],
   "source": [
    "# 훈련데이터 전체 평균 구하기\n",
    "mean = np.mean(train_data, axis = 0)\n",
    "mean"
   ]
  },
  {
   "cell_type": "code",
   "execution_count": 75,
   "id": "128e3030-2b49-4008-88ef-cb1a2a862042",
   "metadata": {},
   "outputs": [
    {
     "data": {
      "text/plain": [
       "array([  9.98244253, 323.29893931])"
      ]
     },
     "execution_count": 75,
     "metadata": {},
     "output_type": "execute_result"
    }
   ],
   "source": [
    "# 훈련데이터 전체 표준편차 구하기\n",
    "std = np.std(train_data, axis = 0)\n",
    "std"
   ]
  },
  {
   "cell_type": "code",
   "execution_count": 76,
   "id": "106a37b9-6ccf-4b4d-89d1-6c04f5c8ec00",
   "metadata": {},
   "outputs": [
    {
     "data": {
      "text/plain": [
       "array([[ 0.24070039,  0.14198246],\n",
       "       [-1.51237757, -1.36683783],\n",
       "       [ 0.5712808 ,  0.76060496],\n",
       "       [-1.60253587, -1.37766373],\n",
       "       [ 1.22242404,  1.45655528],\n",
       "       [ 0.17057727, -0.07453542],\n",
       "       [ 0.87180845,  0.80390854],\n",
       "       [ 0.87180845,  1.22457184],\n",
       "       [ 0.37092904,  0.06465464],\n",
       "       [ 0.77163257,  0.82246721],\n",
       "       [ 0.97198434,  1.68853872],\n",
       "       [-1.61255346, -1.3742613 ],\n",
       "       [ 0.72154463,  0.51315596],\n",
       "       [-1.53241275, -1.3742613 ],\n",
       "       [ 0.17057727, -0.28177396],\n",
       "       [ 0.5712808 ,  0.76060496],\n",
       "       [ 0.34087627,  0.14198246],\n",
       "       [ 1.12224816,  1.54934866],\n",
       "       [ 0.62136874,  0.60594934],\n",
       "       [-1.30200822, -1.34363949],\n",
       "       [ 0.42101698,  0.14198246],\n",
       "       [-0.19005591, -0.65604058],\n",
       "       [-1.75279969, -1.38384995],\n",
       "       [ 0.47110492,  0.45129371],\n",
       "       [-1.68267658, -1.38137546],\n",
       "       [ 0.62136874,  0.48222484],\n",
       "       [-1.67265899, -1.38292202],\n",
       "       [ 0.77163257,  0.76060496],\n",
       "       [ 0.47110492,  0.45129371],\n",
       "       [ 0.77163257,  0.83793278],\n",
       "       [-1.43223687, -1.36683783],\n",
       "       [ 0.27075315, -0.01267317],\n",
       "       [ 0.47110492, -0.35291555],\n",
       "       [-1.2318851 , -1.34302087],\n",
       "       [ 0.27075315, -0.19825992],\n",
       "       [ 1.37268787,  1.61121091]])"
      ]
     },
     "execution_count": 76,
     "metadata": {},
     "output_type": "execute_result"
    }
   ],
   "source": [
    "# 표준점수 데이터 계산하여 훈련데이터 재생성하기\n",
    "train_scaled = (train_data - mean) / std\n",
    "train_scaled"
   ]
  },
  {
   "cell_type": "markdown",
   "id": "d1754c08-16c0-453f-b529-79bce7cba131",
   "metadata": {},
   "source": [
    "### 스케일로 훈련데이터 재생성 후에는 훈련모델도 재생성"
   ]
  },
  {
   "cell_type": "code",
   "execution_count": 79,
   "id": "893b97d1-4e6e-41f3-8a60-7b836ea3d005",
   "metadata": {},
   "outputs": [
    {
     "data": {
      "image/png": "[encoded data removed]",
      "text/plain": [
       "<Figure size 432x288 with 1 Axes>"
      ]
     },
     "metadata": {
      "needs_background": "light"
     },
     "output_type": "display_data"
    }
   ],
   "source": [
    "# 사용된 이웃값 시각화 확인\n",
    "plt.scatter(train_scaled[:,0], train_scaled[:,1])\n",
    "plt.scatter(25, 150, marker = '^', c = 'y')\n",
    "# plt.scatter(train_scaled[indexes,0], train_scaled[indexes,1], marker = 'D')\n",
    "\n",
    "plt.xlabel('length')\n",
    "plt.ylabel('weight')\n",
    "plt.show()\n",
    "\n",
    "# (해석)\n",
    "# - 훈련데이터는 스케일을 맞추었지만, 예측데이터는 맞추지 못해서 발생한 현상\n",
    "# - 예측데이터 한개도 스케일 작업을 진행해야함\n",
    "#  -- 한개의 예측데이터 스케일 작업은 \n",
    "#  -- 훈련데이터를 사용하여 계산된 평균과 표준편차 값을 사용해야 함"
   ]
  },
  {
   "cell_type": "code",
   "execution_count": 80,
   "id": "76353a63-99ab-4712-a6b3-70a060d2082a",
   "metadata": {},
   "outputs": [
    {
     "data": {
      "text/plain": [
       "array([-0.23012627, -0.94060693])"
      ]
     },
     "execution_count": 80,
     "metadata": {},
     "output_type": "execute_result"
    }
   ],
   "source": [
    "# 예측데이터 스케일\n",
    "new = ([25, 150] - mean) / std\n",
    "new"
   ]
  },
  {
   "cell_type": "code",
   "execution_count": 106,
   "id": "4fe74e31-271d-454a-a3de-4f04c8947ad0",
   "metadata": {},
   "outputs": [
    {
     "data": {
      "image/png": "[encoded data removed]",
      "text/plain": [
       "<Figure size 432x288 with 1 Axes>"
      ]
     },
     "metadata": {
      "needs_background": "light"
     },
     "output_type": "display_data"
    }
   ],
   "source": [
    "plt.scatter(train_scaled[:,0], train_scaled[:,1])\n",
    "plt.scatter(new[0], new[1], marker = '^', c = 'y')\n",
    "\n",
    "plt.xlabel('length')\n",
    "plt.ylabel('weight')\n",
    "plt.show()\n",
    "\n",
    "## 표준화 하고 보면 도미여야 정상이다. 하지만 표준화전 거리로 훈련을 했기때문에 \n",
    "# 표준화 모델 재생성 후 다시 훈련이 필요함"
   ]
  },
  {
   "cell_type": "markdown",
   "id": "abfca0fc-cf77-4803-a942-8504ff9dd0fb",
   "metadata": {},
   "source": [
    "## 테스트데이터 스케일 동일하게 처리"
   ]
  },
  {
   "cell_type": "code",
   "execution_count": 91,
   "id": "23596fae-1a00-4792-9316-f7f6e08d7909",
   "metadata": {},
   "outputs": [
    {
     "data": {
      "text/plain": [
       "array([[-1.63258863, -1.37457062],\n",
       "       [-1.55244793, -1.37395199],\n",
       "       [ 0.24070039, -0.01267317],\n",
       "       [-1.55244793, -1.37364268],\n",
       "       [-0.07986244, -0.35291555],\n",
       "       [-1.4923424 , -1.3631261 ],\n",
       "       [ 0.67145669,  0.71420828],\n",
       "       [ 0.67145669,  0.3739659 ],\n",
       "       [ 1.12224816,  1.44108972],\n",
       "       [ 0.77163257,  0.69874271],\n",
       "       [-0.09989762, -0.50757117],\n",
       "       [ 0.37092904,  0.14198246],\n",
       "       [ 1.37268787,  1.5338831 ]])"
      ]
     },
     "execution_count": 91,
     "metadata": {},
     "output_type": "execute_result"
    }
   ],
   "source": [
    "test_scaled = (test_data - mean) / std\n",
    "test_scaled"
   ]
  },
  {
   "cell_type": "code",
   "execution_count": 93,
   "id": "eb2eb87a-879c-4729-a8d2-5966d50c4b87",
   "metadata": {
    "tags": []
   },
   "outputs": [
    {
     "data": {
      "text/plain": [
       "1.0"
      ]
     },
     "execution_count": 93,
     "metadata": {},
     "output_type": "execute_result"
    }
   ],
   "source": [
    "kn_z = KNeighborsClassifier()\n",
    "\n",
    "kn_z.fit(train_scaled, train_target)\n",
    "kn_z.score(test_scaled, test_target)"
   ]
  },
  {
   "cell_type": "code",
   "execution_count": 103,
   "id": "b657c5e3-00c1-4a7a-87a4-65607ea957a9",
   "metadata": {},
   "outputs": [
    {
     "data": {
      "text/plain": [
       "[-0.23012626562373972, -0.9406069282852298]"
      ]
     },
     "execution_count": 103,
     "metadata": {},
     "output_type": "execute_result"
    }
   ],
   "source": [
    "[new[0], new[1]]"
   ]
  },
  {
   "cell_type": "code",
   "execution_count": 104,
   "id": "361adad1-afc2-411e-9cc9-6a045a0250b8",
   "metadata": {},
   "outputs": [
    {
     "data": {
      "text/plain": [
       "array([1.])"
      ]
     },
     "execution_count": 104,
     "metadata": {},
     "output_type": "execute_result"
    }
   ],
   "source": [
    "# predict 함수는 2차원만 가능\n",
    "kn_z.predict([[new[0], new[1]]])"
   ]
  },
  {
   "cell_type": "code",
   "execution_count": 117,
   "id": "15d56701-2e9e-4a44-9cd6-842e018c95ea",
   "metadata": {},
   "outputs": [
    {
     "name": "stdout",
     "output_type": "stream",
     "text": [
      "[[0.2873737  0.7711188  0.89552179 0.91493515 0.95427626]]\n",
      "[[21 14 34 32  5]]\n"
     ]
    }
   ],
   "source": [
    "distances_z, indexes_z = kn_z.kneighbors([[new[0],new[1]]])\n",
    "print(distances_z)\n",
    "print(indexes_z)"
   ]
  },
  {
   "cell_type": "code",
   "execution_count": 116,
   "id": "5c38bc2f-733c-4796-b3e0-88861a3c5e2f",
   "metadata": {},
   "outputs": [
    {
     "data": {
      "image/png": "[encoded data removed]",
      "text/plain": [
       "<Figure size 432x288 with 1 Axes>"
      ]
     },
     "metadata": {
      "needs_background": "light"
     },
     "output_type": "display_data"
    }
   ],
   "source": [
    "plt.scatter(train_scaled[:,0], train_scaled[:,1])\n",
    "plt.scatter(new[0], new[1], marker = '^', c = 'y')\n",
    "plt.scatter(train_scaled[indexes_z,0], train_scaled[indexes_z,1], marker = 'D')\n",
    "\n",
    "plt.xlabel('length')\n",
    "plt.ylabel('weight')\n",
    "plt.show()"
   ]
  }
 ],
 "metadata": {
  "kernelspec": {
   "display_name": "ml_kernel",
   "language": "python",
   "name": "ml"
  },
  "language_info": {
   "codemirror_mode": {
    "name": "ipython",
    "version": 3
   },
   "file_extension": ".py",
   "mimetype": "text/x-python",
   "name": "python",
   "nbconvert_exporter": "python",
   "pygments_lexer": "ipython3",
   "version": "3.9.12"
  }
 },
 "nbformat": 4,
 "nbformat_minor": 5
}
