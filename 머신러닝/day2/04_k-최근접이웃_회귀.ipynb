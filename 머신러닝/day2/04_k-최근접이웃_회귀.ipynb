{
 "cells": [
  {
   "cell_type": "markdown",
   "id": "11ff518c-2271-4708-813e-a20e62c07731",
   "metadata": {},
   "source": [
    "## k-최근접 이웃 회귀모델\n",
    "- 분류 : 범주형 데이터를 기준으로 분류하는 방식\n",
    "- 회귀 : 연속형 데이터(숫자)를 예측하는 방식\n",
    "- 회귀는 정해진 범주가 없으며, 임의의 수치값을 출력\n",
    "\n",
    "\n",
    "- k-nn 알고리즘은 회귀에도 작동합니다.\n",
    "- 작동방식은 분류와 유사, 예측하려는 데이터에 가장 가까운 이웃 갯수 선택\n",
    "- 종속변수 target 데이터가 연속형 데이터를 사용하여 임의 수치값 예측\n",
    "\n",
    "## 예측값 결정 방식\n",
    "- 최근접 이웃의 갯수가 정해지면, 이웃한 숫자값들의 '평균'을 계산하여\n",
    "- 평균과 같거나 평균에 가장 근사한 값의 이웃데이터가 예측값으로 결정\n",
    "- (일반 책에서 나오는 개념으로, 실제는 이웃데이터의 평균값이 나온다고 보면 됩니다. 그래서 임의 결과괎이라고 함."
   ]
  },
  {
   "cell_type": "code",
   "execution_count": 1,
   "id": "6722c193-3073-4b81-b65c-a6f7e969548c",
   "metadata": {},
   "outputs": [],
   "source": [
    "import numpy as np\n",
    "perch_length = np.array(\n",
    "    [8.4, 13.7, 15.0, 16.2, 17.4, 18.0, 18.7, 19.0, 19.6, 20.0, \n",
    "     21.0, 21.0, 21.0, 21.3, 22.0, 22.0, 22.0, 22.0, 22.0, 22.5, \n",
    "     22.5, 22.7, 23.0, 23.5, 24.0, 24.0, 24.6, 25.0, 25.6, 26.5, \n",
    "     27.3, 27.5, 27.5, 27.5, 28.0, 28.7, 30.0, 32.8, 34.5, 35.0, \n",
    "     36.5, 36.0, 37.0, 37.0, 39.0, 39.0, 39.0, 40.0, 40.0, 40.0, \n",
    "     40.0, 42.0, 43.0, 43.0, 43.5, 44.0]\n",
    "     )\n",
    "perch_weight = np.array(\n",
    "    [5.9, 32.0, 40.0, 51.5, 70.0, 100.0, 78.0, 80.0, 85.0, 85.0, \n",
    "     110.0, 115.0, 125.0, 130.0, 120.0, 120.0, 130.0, 135.0, 110.0, \n",
    "     130.0, 150.0, 145.0, 150.0, 170.0, 225.0, 145.0, 188.0, 180.0, \n",
    "     197.0, 218.0, 300.0, 260.0, 265.0, 250.0, 250.0, 300.0, 320.0, \n",
    "     514.0, 556.0, 840.0, 685.0, 700.0, 700.0, 690.0, 900.0, 650.0, \n",
    "     820.0, 850.0, 900.0, 1015.0, 820.0, 1100.0, 1000.0, 1100.0, \n",
    "     1000.0, 1000.0]\n",
    "     )"
   ]
  },
  {
   "cell_type": "code",
   "execution_count": 2,
   "id": "16838e26-4593-42ef-91bf-7c4a72bfd3c3",
   "metadata": {},
   "outputs": [
    {
     "name": "stdout",
     "output_type": "stream",
     "text": [
      "[ 8.4 13.7 15.  16.2 17.4 18.  18.7 19.  19.6 20.  21.  21.  21.  21.3\n",
      " 22.  22.  22.  22.  22.  22.5 22.5 22.7 23.  23.5 24.  24.  24.6 25.\n",
      " 25.6 26.5 27.3 27.5 27.5 27.5 28.  28.7 30.  32.8 34.5 35.  36.5 36.\n",
      " 37.  37.  39.  39.  39.  40.  40.  40.  40.  42.  43.  43.  43.5 44. ]\n",
      "-------------------\n",
      "[   5.9   32.    40.    51.5   70.   100.    78.    80.    85.    85.\n",
      "  110.   115.   125.   130.   120.   120.   130.   135.   110.   130.\n",
      "  150.   145.   150.   170.   225.   145.   188.   180.   197.   218.\n",
      "  300.   260.   265.   250.   250.   300.   320.   514.   556.   840.\n",
      "  685.   700.   700.   690.   900.   650.   820.   850.   900.  1015.\n",
      "  820.  1100.  1000.  1100.  1000.  1000. ]\n"
     ]
    }
   ],
   "source": [
    "print(perch_length)\n",
    "print('-------------------')\n",
    "print(perch_weight)\n",
    "\n",
    "# length(길이) : 특성 데이터(훈련데이터, train_data)\n",
    "# weight(무게) : 정답 데이터(train_target)"
   ]
  },
  {
   "cell_type": "code",
   "execution_count": 4,
   "id": "28eb291a-9032-4984-8b7c-6cb1bdfaf12e",
   "metadata": {},
   "outputs": [
    {
     "data": {
      "image/png": "[encoded data removed]",
      "text/plain": [
       "<Figure size 432x288 with 1 Axes>"
      ]
     },
     "metadata": {
      "needs_background": "light"
     },
     "output_type": "display_data"
    }
   ],
   "source": [
    "# 시각화를 통해 데이터의 형태 확인하기\n",
    "import matplotlib.pyplot as plt\n",
    "\n",
    "plt.scatter(perch_length, perch_weight)\n",
    "\n",
    "plt.xlabel('length')\n",
    "plt.ylabel('weight')\n",
    "plt.show()"
   ]
  },
  {
   "cell_type": "code",
   "execution_count": null,
   "id": "e63abe10-0e04-465a-85a8-2d20ae5837e9",
   "metadata": {},
   "outputs": [],
   "source": [
    "'''\n",
    "(해석) \n",
    "x축 length(길이)가 길어지게 되면 y축 weight(무게)가 커지는 현상을 보이고 있음\n",
    "길이는 무게와 연관성이 있으며, 분포 형태는 선형에 가까우나 조금 라운드가 있음.\n",
    "그러나, 선형적 모델을 이용하여 분석을 실시한 후\n",
    "향후, 다항회귀모델을 통해 선형적 모델과 다항회귀모델 검증결과를 통해\n",
    "선택하고자 함\n",
    "'''"
   ]
  },
  {
   "cell_type": "code",
   "execution_count": 10,
   "id": "5d1bc7fc-f7e2-4876-a315-7d22448a68c0",
   "metadata": {},
   "outputs": [],
   "source": [
    "from sklearn.neighbors import KNeighborsClassifier\n",
    "from sklearn.model_selection import train_test_split"
   ]
  },
  {
   "cell_type": "code",
   "execution_count": 21,
   "id": "6928b02a-9174-4653-b7a8-2e7aff1baf80",
   "metadata": {},
   "outputs": [],
   "source": [
    "train_data, test_data, train_target, test_target = train_test_split(\n",
    "    perch_length, perch_weight, random_state = 42)"
   ]
  },
  {
   "cell_type": "code",
   "execution_count": 14,
   "id": "a93e35e8-915b-4ce9-8bc0-384bf3b0a6c7",
   "metadata": {},
   "outputs": [
    {
     "name": "stdout",
     "output_type": "stream",
     "text": [
      "[19.6 22.  18.7 17.4 36.  25.  40.  39.  43.  22.  20.  22.  24.  27.5\n",
      " 43.  40.  24.  21.  27.5 40.  32.8 26.5 36.5 13.7 22.7 15.  37.  35.\n",
      " 28.7 23.5 39.  21.  23.  22.  44.  22.5 19.  37.  22.  25.6 42.  34.5]\n",
      "-----------------\n",
      "[  85.  135.   78.   70.  700.  180.  850.  820. 1000.  120.   85.  130.\n",
      "  225.  260. 1100.  900.  145.  115.  265. 1015.  514.  218.  685.   32.\n",
      "  145.   40.  690.  840.  300.  170.  650.  110.  150.  110. 1000.  150.\n",
      "   80.  700.  120.  197. 1100.  556.]\n",
      "-----------------\n",
      "[ 8.4 18.  27.5 21.3 22.5 40.  30.  24.6 39.  21.  43.5 16.2 28.  27.3]\n",
      "-----------------\n",
      "[   5.9  100.   250.   130.   130.   820.   320.   188.   900.   125.\n",
      " 1000.    51.5  250.   300. ]\n"
     ]
    }
   ],
   "source": [
    "print(train_data)\n",
    "print('-----------------')\n",
    "print(train_target)\n",
    "print('-----------------')\n",
    "print(test_data)\n",
    "print('-----------------')\n",
    "print(test_target)"
   ]
  },
  {
   "cell_type": "code",
   "execution_count": 32,
   "id": "6aeba6c0-04f5-4730-b13c-6399b9ddaef1",
   "metadata": {},
   "outputs": [
    {
     "name": "stdout",
     "output_type": "stream",
     "text": [
      "[1 2 3 4]\n",
      "(4,)\n",
      "[[1 2]\n",
      " [3 4]]\n",
      "[[1]\n",
      " [2]\n",
      " [3]\n",
      " [4]]\n"
     ]
    }
   ],
   "source": [
    "# 샘플\n",
    "test_arr = np.array([1,2,3,4])\n",
    "print(test_arr)\n",
    "print(test_arr.shape)     # 4*1\n",
    "\n",
    "# 2행 2열로 만들기\n",
    "print(test_arr.reshape(2,2))\n",
    "print(test_arr.reshape(4,1))"
   ]
  },
  {
   "cell_type": "code",
   "execution_count": 34,
   "id": "decdfbb7-9c4f-4f3d-ab25-6fdc5e5709bf",
   "metadata": {},
   "outputs": [],
   "source": [
    "# 1차원 데이터를 특정 행렬의 2차원으로 재생성할 때 사용하는 함수\n",
    "# 보통 1차원을 2차원으로 만들때는 각행의 값이 차원이 됩니다.\n",
    "# 즉, 각 행의 값이 배열(리스트) 1개라고 보면 됩니다\n",
    "# 1차원을 2차원으로 만들때는 첫번째 행은 전체 갯수, 두번째는 -1이 됩니다\n",
    "# 전체 갯수를 모를 때는 -1 값을 사용하면 전체 행의 갯수를 체크합니다. **\n",
    "train_data = train_data.reshape(-1, 1)\n",
    "test_data = test_data.reshape(-1, 1)\n",
    "\n",
    "# train_data = train_data.reshape(len(train_data), 1)\n",
    "# test_data = test_data.reshape(len(test_data), 1)"
   ]
  },
  {
   "cell_type": "markdown",
   "id": "2e667ba8-f36d-43b0-9a85-df07217627ff",
   "metadata": {},
   "source": [
    "## k-최근접이웃 회귀 클래스(모델) 생성"
   ]
  },
  {
   "cell_type": "code",
   "execution_count": 36,
   "id": "f061bc4a-55b2-46d7-af6f-e1a6e3d8c679",
   "metadata": {},
   "outputs": [
    {
     "data": {
      "text/plain": [
       "KNeighborsRegressor()"
      ]
     },
     "execution_count": 36,
     "metadata": {},
     "output_type": "execute_result"
    }
   ],
   "source": [
    "## 클래스(모델) 이름 : KNeighborsRegressor()\n",
    "from sklearn.neighbors import KNeighborsRegressor\n",
    "\n",
    "knr = KNeighborsRegressor()\n",
    "knr"
   ]
  },
  {
   "cell_type": "code",
   "execution_count": 38,
   "id": "d711392b-ac61-4a91-9487-32bab6bbbc57",
   "metadata": {},
   "outputs": [
    {
     "data": {
      "text/plain": [
       "KNeighborsRegressor()"
      ]
     },
     "execution_count": 38,
     "metadata": {},
     "output_type": "execute_result"
    }
   ],
   "source": [
    "## 훈련데이터 학습 : 훈련모델 생성하기\n",
    "knr.fit(train_data, train_target)"
   ]
  },
  {
   "cell_type": "code",
   "execution_count": 39,
   "id": "1e5ee279-17e7-49fe-aa32-54baffb8b5fe",
   "metadata": {},
   "outputs": [
    {
     "data": {
      "text/plain": [
       "0.992809406101064"
      ]
     },
     "execution_count": 39,
     "metadata": {},
     "output_type": "execute_result"
    }
   ],
   "source": [
    "## 훈련모델 평가\n",
    "# 분류에서는 score 결과값을 정확도라고 했다면,\n",
    "# 회귀에서는 결정계소(R^2)라는 용어를 사용합니다.\n",
    "\n",
    "## 회귀모델의 학습평가 결과 : 결정계수 이용\n",
    "# - 회귀에서는 정확한 숫자를 맞히는 것은 불가능\n",
    "\n",
    "# @ 결정계수의 범위\n",
    "# - 0~1 사이의 값을 반환받음\n",
    "# - 1에 가까울 수록 훈련이 잘 된 모델이라고 판단\n",
    "# - 보통 0.95 이상을 좋다고 판단(기준은 아님)\n",
    "# @ 결정계수 공식\n",
    "# R^2 = 1-((target - 예측)^2의 합 / (target - 평균)^2의 합)\n",
    "# - 예측값이 target값에 가까울수록 분자값이 0에 가까워지며, 1에 가까워짐\n",
    "\n",
    "# 테스트 결정계수\n",
    "knr.score(test_data, test_target)"
   ]
  },
  {
   "cell_type": "markdown",
   "id": "73b8bed5-3512-4917-8e90-1c27b651eaa7",
   "metadata": {},
   "source": [
    "## 오차 확인\n",
    "- 일반적으로 계산에 의한 결정계수값을 봐서는 오차가 어느정도 인지 모릅니다\n",
    "- 오차값 확인이 필요하다"
   ]
  },
  {
   "cell_type": "code",
   "execution_count": 40,
   "id": "d04f1ecc-cda4-46c3-a83b-91ae8a05d3a7",
   "metadata": {},
   "outputs": [
    {
     "data": {
      "text/plain": [
       "array([  60. ,   79.6,  248. ,  122. ,  136. ,  847. ,  311.4,  183.4,\n",
       "        847. ,  113. , 1010. ,   60. ,  248. ,  248. ])"
      ]
     },
     "execution_count": 40,
     "metadata": {},
     "output_type": "execute_result"
    }
   ],
   "source": [
    "# 오차를 확인하기 위해서는 예측을 먼저 선행해야 한다.\n",
    "test_prediction = knr.predict(test_data)\n",
    "test_prediction"
   ]
  },
  {
   "cell_type": "code",
   "execution_count": 41,
   "id": "e091dd41-9a50-44c4-b5db-fb7a1c95eade",
   "metadata": {},
   "outputs": [],
   "source": [
    "# 타깃값과 예측값 간의 오차를 확인하는 라이브러리 불러들이기\n",
    "from sklearn.metrics import mean_absolute_error"
   ]
  },
  {
   "cell_type": "code",
   "execution_count": 42,
   "id": "4f20b545-0fd0-42f7-a5a7-860d12641da9",
   "metadata": {},
   "outputs": [
    {
     "data": {
      "text/plain": [
       "19.157142857142862"
      ]
     },
     "execution_count": 42,
     "metadata": {},
     "output_type": "execute_result"
    }
   ],
   "source": [
    "# 오차값은 : 테스트데이터에 대한 평균 절대값 오차를 계산합니다.\n",
    "mae = mean_absolute_error(test_target, test_prediction)\n",
    "mae"
   ]
  },
  {
   "cell_type": "code",
   "execution_count": null,
   "id": "28873989-beca-453e-be14-2ec6220d341a",
   "metadata": {},
   "outputs": [],
   "source": [
    "'''\n",
    "(해석)\n",
    "예측값이 평균적으로 19g 정도 타깃값과 차이가 있다는 것을 의미\n",
    "- 차이 = 다르다는 의미는 아님\n",
    "'''"
   ]
  },
  {
   "cell_type": "code",
   "execution_count": 44,
   "id": "b3ebda67-728b-4c77-bad3-432839250a3b",
   "metadata": {},
   "outputs": [
    {
     "data": {
      "text/plain": [
       "0.992809406101064"
      ]
     },
     "execution_count": 44,
     "metadata": {},
     "output_type": "execute_result"
    }
   ],
   "source": [
    "# 테스트 결정계숙\n",
    "knr.score(test_data, test_target)"
   ]
  },
  {
   "cell_type": "code",
   "execution_count": 43,
   "id": "534d9efa-f8ad-47af-a320-d2bf56b969d2",
   "metadata": {},
   "outputs": [
    {
     "data": {
      "text/plain": [
       "0.9698823289099254"
      ]
     },
     "execution_count": 43,
     "metadata": {},
     "output_type": "execute_result"
    }
   ],
   "source": [
    "# 훈련 결정계수\n",
    "knr.score(train_data, train_target)"
   ]
  },
  {
   "cell_type": "code",
   "execution_count": null,
   "id": "90c8f6d4-5a15-41ca-83ed-5059e22f0819",
   "metadata": {},
   "outputs": [],
   "source": [
    "''' \n",
    "과소적합 나타남. 최대한 줄여야 함\n",
    "'''"
   ]
  },
  {
   "cell_type": "markdown",
   "id": "2b879384-7ea2-4b8f-a8c5-415814420d83",
   "metadata": {},
   "source": [
    "## 과대적합 vs 과소적합\n",
    "- 훈련데이터와 테스트데이터를 각각 평가하여 비교했을 때\n",
    "- 1. 과대적합 : 훈련데이터의 평가결과가 너무 높고, 테스트데이터의 평가가 너무 낮을 경우\n",
    "- 2. 과소적합 : 훈련데이터의 평가결과가 낮고, 테스트데이터의 평가가 높은 경우\n",
    "\n",
    "\n",
    "### 과소적합이 발생하는 이유?\n",
    "- 사용된 전체 데이터의 갯수가 너무 작은 경우에 주로 발생합니다.\n",
    "- 데이터가 작으면 테스트데이터가 훈련데이터의 특징을 잘 따르지 못하는 경우 발생"
   ]
  },
  {
   "cell_type": "code",
   "execution_count": null,
   "id": "9b558db6-4531-4656-8aa1-1e74a923bd38",
   "metadata": {},
   "outputs": [],
   "source": [
    "## 과소적합 해소 방법\n",
    "# - 훈련모델을 복잡하게 만들어서 평가결과를 높일 둣 있음\n",
    "## 모델을 복잡하게 만드는 방법\n",
    "# - 이웃의 개수를 작게하면 됩니다.\n",
    "# - 이웃의 개수가 작아지면, 이웃의 비교대상이 조급 더 압축되기 때문에\n",
    "# 훈련의 집중도가 높아짐. 정확도가 높아집니다.\n",
    "\n",
    "## 이웃의 갯수 : 기본 5개\n",
    "# - 복잡도를 높이는 방법은 이웃의 갯수를 줄여나가는 방법입니다."
   ]
  },
  {
   "cell_type": "code",
   "execution_count": 49,
   "id": "a53a3403-cb43-4435-9b0a-bacf5c4de17e",
   "metadata": {},
   "outputs": [
    {
     "name": "stdout",
     "output_type": "stream",
     "text": [
      "0.9746459963987609\n",
      "0.9804899950518966\n"
     ]
    }
   ],
   "source": [
    "## 이웃 갯수 정하기\n",
    "# 최소 3개 이상 / 3, 5, 7 을 가장 많이 사용\n",
    "knr.n_neighbors = 3\n",
    "\n",
    "# 훈련\n",
    "knr.fit(train_data, train_target)\n",
    "\n",
    "# 테스트데이터 평가\n",
    "print(knr.score(test_data, test_target))\n",
    "\n",
    "# 훈련데이터 평가\n",
    "print(knr.score(train_data, train_target))"
   ]
  },
  {
   "cell_type": "code",
   "execution_count": null,
   "id": "865939cd-2968-455e-9347-7dd08299ebe6",
   "metadata": {},
   "outputs": [],
   "source": []
  },
  {
   "cell_type": "code",
   "execution_count": null,
   "id": "78883458-3da8-4937-ac43-ea18a53bc846",
   "metadata": {},
   "outputs": [],
   "source": []
  }
 ],
 "metadata": {
  "kernelspec": {
   "display_name": "ml_kernel",
   "language": "python",
   "name": "ml"
  },
  "language_info": {
   "codemirror_mode": {
    "name": "ipython",
    "version": 3
   },
   "file_extension": ".py",
   "mimetype": "text/x-python",
   "name": "python",
   "nbconvert_exporter": "python",
   "pygments_lexer": "ipython3",
   "version": "3.9.12"
  }
 },
 "nbformat": 4,
 "nbformat_minor": 5
}
