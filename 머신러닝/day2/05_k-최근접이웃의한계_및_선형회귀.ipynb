{
 "cells": [
  {
   "cell_type": "code",
   "execution_count": 2,
   "id": "45749d80-2685-4a0e-8a12-ae4e06a14917",
   "metadata": {},
   "outputs": [],
   "source": [
    "import numpy as np"
   ]
  },
  {
   "cell_type": "code",
   "execution_count": 3,
   "id": "ec08035a-b072-4be5-80df-6bd1897165a1",
   "metadata": {},
   "outputs": [],
   "source": [
    "## 데이터 생성\n",
    "perch_length = np.array(\n",
    "    [8.4, 13.7, 15.0, 16.2, 17.4, 18.0, 18.7, 19.0, 19.6, 20.0, \n",
    "     21.0, 21.0, 21.0, 21.3, 22.0, 22.0, 22.0, 22.0, 22.0, 22.5, \n",
    "     22.5, 22.7, 23.0, 23.5, 24.0, 24.0, 24.6, 25.0, 25.6, 26.5, \n",
    "     27.3, 27.5, 27.5, 27.5, 28.0, 28.7, 30.0, 32.8, 34.5, 35.0, \n",
    "     36.5, 36.0, 37.0, 37.0, 39.0, 39.0, 39.0, 40.0, 40.0, 40.0, \n",
    "     40.0, 42.0, 43.0, 43.0, 43.5, 44.0]\n",
    "     )\n",
    "perch_weight = np.array(\n",
    "    [5.9, 32.0, 40.0, 51.5, 70.0, 100.0, 78.0, 80.0, 85.0, 85.0, \n",
    "     110.0, 115.0, 125.0, 130.0, 120.0, 120.0, 130.0, 135.0, 110.0, \n",
    "     130.0, 150.0, 145.0, 150.0, 170.0, 225.0, 145.0, 188.0, 180.0, \n",
    "     197.0, 218.0, 300.0, 260.0, 265.0, 250.0, 250.0, 300.0, 320.0, \n",
    "     514.0, 556.0, 840.0, 685.0, 700.0, 700.0, 690.0, 900.0, 650.0, \n",
    "     820.0, 850.0, 900.0, 1015.0, 820.0, 1100.0, 1000.0, 1100.0, \n",
    "     1000.0, 1000.0]\n",
    "     )"
   ]
  },
  {
   "cell_type": "code",
   "execution_count": 13,
   "id": "5809b24d-67ac-48d0-a7de-4e8fa8e022e3",
   "metadata": {},
   "outputs": [],
   "source": [
    "from sklearn.neighbors import KNeighborsRegressor\n",
    "from sklearn.model_selection import train_test_split"
   ]
  },
  {
   "cell_type": "code",
   "execution_count": 6,
   "id": "40104d41-a71a-43a4-a9e4-91f35b4ed9e7",
   "metadata": {},
   "outputs": [],
   "source": [
    "# 데이터 분리\n",
    "train_data, test_data, train_target, test_target = train_test_split(\n",
    "    perch_length, perch_weight, random_state=42)"
   ]
  },
  {
   "cell_type": "code",
   "execution_count": 10,
   "id": "7bfc3b53-9ef1-400c-a6c8-6c907076298a",
   "metadata": {},
   "outputs": [
    {
     "name": "stdout",
     "output_type": "stream",
     "text": [
      "[19.6 22.  18.7 17.4 36.  25.  40.  39.  43.  22.  20.  22.  24.  27.5\n",
      " 43.  40.  24.  21.  27.5 40.  32.8 26.5 36.5 13.7 22.7 15.  37.  35.\n",
      " 28.7 23.5 39.  21.  23.  22.  44.  22.5 19.  37.  22.  25.6 42.  34.5]\n",
      "-----------------\n",
      "[  85.  135.   78.   70.  700.  180.  850.  820. 1000.  120.   85.  130.\n",
      "  225.  260. 1100.  900.  145.  115.  265. 1015.  514.  218.  685.   32.\n",
      "  145.   40.  690.  840.  300.  170.  650.  110.  150.  110. 1000.  150.\n",
      "   80.  700.  120.  197. 1100.  556.]\n",
      "-----------------\n",
      "[ 8.4 18.  27.5 21.3 22.5 40.  30.  24.6 39.  21.  43.5 16.2 28.  27.3]\n",
      "-----------------\n",
      "[   5.9  100.   250.   130.   130.   820.   320.   188.   900.   125.\n",
      " 1000.    51.5  250.   300. ]\n"
     ]
    }
   ],
   "source": [
    "print(train_data)\n",
    "print('-----------------')\n",
    "print(train_target)\n",
    "print('-----------------')\n",
    "print(test_data)\n",
    "print('-----------------')\n",
    "print(test_target)"
   ]
  },
  {
   "cell_type": "code",
   "execution_count": 11,
   "id": "138a5af3-a9b0-4db0-b364-3dcfd526e572",
   "metadata": {},
   "outputs": [],
   "source": [
    "# 2차원 데이터 생성\n",
    "train_data = train_data.reshape(-1,1)\n",
    "test_data = test_data.reshape(-1,1)"
   ]
  },
  {
   "cell_type": "code",
   "execution_count": 12,
   "id": "dd0bb287-1832-447f-8d43-db9e62018429",
   "metadata": {
    "collapsed": true,
    "jupyter": {
     "outputs_hidden": true
    },
    "tags": []
   },
   "outputs": [
    {
     "name": "stdout",
     "output_type": "stream",
     "text": [
      "[[19.6]\n",
      " [22. ]\n",
      " [18.7]\n",
      " [17.4]\n",
      " [36. ]\n",
      " [25. ]\n",
      " [40. ]\n",
      " [39. ]\n",
      " [43. ]\n",
      " [22. ]\n",
      " [20. ]\n",
      " [22. ]\n",
      " [24. ]\n",
      " [27.5]\n",
      " [43. ]\n",
      " [40. ]\n",
      " [24. ]\n",
      " [21. ]\n",
      " [27.5]\n",
      " [40. ]\n",
      " [32.8]\n",
      " [26.5]\n",
      " [36.5]\n",
      " [13.7]\n",
      " [22.7]\n",
      " [15. ]\n",
      " [37. ]\n",
      " [35. ]\n",
      " [28.7]\n",
      " [23.5]\n",
      " [39. ]\n",
      " [21. ]\n",
      " [23. ]\n",
      " [22. ]\n",
      " [44. ]\n",
      " [22.5]\n",
      " [19. ]\n",
      " [37. ]\n",
      " [22. ]\n",
      " [25.6]\n",
      " [42. ]\n",
      " [34.5]]\n",
      "-----------------\n",
      "[[ 8.4]\n",
      " [18. ]\n",
      " [27.5]\n",
      " [21.3]\n",
      " [22.5]\n",
      " [40. ]\n",
      " [30. ]\n",
      " [24.6]\n",
      " [39. ]\n",
      " [21. ]\n",
      " [43.5]\n",
      " [16.2]\n",
      " [28. ]\n",
      " [27.3]]\n"
     ]
    }
   ],
   "source": [
    "print(train_data)\n",
    "print('-----------------')\n",
    "print(test_data)"
   ]
  },
  {
   "cell_type": "code",
   "execution_count": 40,
   "id": "7bd12fca-56df-47f6-b9cd-3facf2ea681d",
   "metadata": {},
   "outputs": [
    {
     "data": {
      "text/plain": [
       "KNeighborsRegressor(n_neighbors=3)"
      ]
     },
     "execution_count": 40,
     "metadata": {},
     "output_type": "execute_result"
    }
   ],
   "source": [
    "# 클래스(모델) 객체 생성\n",
    "kn_r = KNeighborsRegressor(n_neighbors=3)\n",
    "kn_r"
   ]
  },
  {
   "cell_type": "code",
   "execution_count": 41,
   "id": "f5188f45-1e34-4828-b87e-9d1b7e344efb",
   "metadata": {},
   "outputs": [
    {
     "data": {
      "text/plain": [
       "KNeighborsRegressor(n_neighbors=3)"
      ]
     },
     "execution_count": 41,
     "metadata": {},
     "output_type": "execute_result"
    }
   ],
   "source": [
    "# 훈련데이터 학습 : 훈련모델 생성\n",
    "kn_r.fit(train_data, train_target)"
   ]
  },
  {
   "cell_type": "code",
   "execution_count": 46,
   "id": "f29a578a-075f-41c0-91ab-253b5cd52f01",
   "metadata": {},
   "outputs": [
    {
     "name": "stdout",
     "output_type": "stream",
     "text": [
      "[1033.33333333]\n"
     ]
    }
   ],
   "source": [
    "# 예측데이터 : 50 / 100\n",
    "print(kn_r.predict([[100]]))"
   ]
  },
  {
   "cell_type": "code",
   "execution_count": 47,
   "id": "46cf7274-378c-4a1b-a1c2-16359daecf2b",
   "metadata": {},
   "outputs": [
    {
     "data": {
      "image/png": "[encoded data removed]",
      "text/plain": [
       "<Figure size 432x288 with 1 Axes>"
      ]
     },
     "metadata": {
      "needs_background": "light"
     },
     "output_type": "display_data"
    }
   ],
   "source": [
    "# 산점도 시각화\n",
    "import matplotlib.pyplot as plt\n",
    "\n",
    "plt.scatter(train_data, train_target)\n",
    "plt.scatter(50, 1010)\n",
    "\n",
    "plt.show()"
   ]
  },
  {
   "cell_type": "code",
   "execution_count": 48,
   "id": "b17bebfd-0b72-4866-8511-bfa300e2ea2f",
   "metadata": {},
   "outputs": [
    {
     "name": "stdout",
     "output_type": "stream",
     "text": [
      "[[6. 7. 7.]]\n",
      "[[34  8 14]]\n"
     ]
    }
   ],
   "source": [
    "distances_r, indexes_r = kn_r.kneighbors([[50]])\n",
    "print(distances_r)\n",
    "print(indexes_r)"
   ]
  },
  {
   "cell_type": "code",
   "execution_count": 50,
   "id": "d103ef95-e4d1-42f4-926e-374a84816cbe",
   "metadata": {},
   "outputs": [
    {
     "data": {
      "image/png": "[encoded data removed]",
      "text/plain": [
       "<Figure size 432x288 with 1 Axes>"
      ]
     },
     "metadata": {
      "needs_background": "light"
     },
     "output_type": "display_data"
    }
   ],
   "source": [
    "# 산점도 시각화\n",
    "import matplotlib.pyplot as plt\n",
    "\n",
    "plt.scatter(train_data, train_target)\n",
    "# plt.scatter(50, 1010)\n",
    "plt.scatter(100, 1010)\n",
    "plt.scatter(train_data[indexes_r], train_target[indexes_r], marker = 'D',c='y')\n",
    "\n",
    "plt.show()"
   ]
  },
  {
   "cell_type": "code",
   "execution_count": null,
   "id": "4e14fc9d-dc62-462d-a8e3-386f9f61c1f0",
   "metadata": {},
   "outputs": [],
   "source": [
    "'''\n",
    "KNN의 경우 훈련데이터 내의 범위 내에서만 예측이 가능하다는 단점을 가지고 있다.\n",
    "범위를 벗어나면 예측이 불가능하다는 한계가 있다.\n",
    "\n",
    "훈련데이터 범위 밖의 데이터를 예측하기 위해서는 선형회귀로 진행해야한다.\n",
    "'''"
   ]
  },
  {
   "cell_type": "markdown",
   "id": "09816f2f-d197-4d72-8d8a-823eee3f20ab",
   "metadata": {},
   "source": [
    "## 선형회귀(Linear Regression)\n",
    "- 많이 사용되는 대표적인 회귀 알고리즘\n",
    "- 비교적 간단하고, 성능이 뛰어나기 때문에 회귀모델 수행수 초반에 주로 진행\n",
    "- 선형회귀 역할 : 하나의 특성을 가장 잘 나타내는 직선을 찾아내는 것이 주 역할\n",
    "- 직선을 '추세선'이라고 합니다.\n",
    "- 선형회귀 알고리즘 : 1차 방정식(y=ax+b)\n",
    "\n",
    "\n",
    "- 선형회귀 클래스(모델) : LinearRegresin\n",
    "- 사용되는 패키지 : sklearn.linear_model"
   ]
  },
  {
   "cell_type": "code",
   "execution_count": null,
   "id": "54695825-1a99-4e02-8f92-8a8342e502c2",
   "metadata": {},
   "outputs": [],
   "source": []
  },
  {
   "cell_type": "code",
   "execution_count": null,
   "id": "7e190bc4-8608-457b-8339-55cedff4d11d",
   "metadata": {},
   "outputs": [],
   "source": []
  }
 ],
 "metadata": {
  "kernelspec": {
   "display_name": "ml_kernel",
   "language": "python",
   "name": "ml"
  },
  "language_info": {
   "codemirror_mode": {
    "name": "ipython",
    "version": 3
   },
   "file_extension": ".py",
   "mimetype": "text/x-python",
   "name": "python",
   "nbconvert_exporter": "python",
   "pygments_lexer": "ipython3",
   "version": "3.9.12"
  }
 },
 "nbformat": 4,
 "nbformat_minor": 5
}
