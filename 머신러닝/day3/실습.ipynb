{
 "cells": [
  {
   "cell_type": "code",
   "execution_count": 17,
   "id": "7a7757c9-2b90-4427-9b6f-51d34d3a52ee",
   "metadata": {},
   "outputs": [
    {
     "data": {
      "text/html": [
       "<div>\n",
       "<style scoped>\n",
       "    .dataframe tbody tr th:only-of-type {\n",
       "        vertical-align: middle;\n",
       "    }\n",
       "\n",
       "    .dataframe tbody tr th {\n",
       "        vertical-align: top;\n",
       "    }\n",
       "\n",
       "    .dataframe thead th {\n",
       "        text-align: right;\n",
       "    }\n",
       "</style>\n",
       "<table border=\"1\" class=\"dataframe\">\n",
       "  <thead>\n",
       "    <tr style=\"text-align: right;\">\n",
       "      <th></th>\n",
       "      <th>친밀도</th>\n",
       "      <th>적절성</th>\n",
       "      <th>만족도</th>\n",
       "    </tr>\n",
       "  </thead>\n",
       "  <tbody>\n",
       "    <tr>\n",
       "      <th>0</th>\n",
       "      <td>3</td>\n",
       "      <td>4</td>\n",
       "      <td>3</td>\n",
       "    </tr>\n",
       "    <tr>\n",
       "      <th>1</th>\n",
       "      <td>3</td>\n",
       "      <td>3</td>\n",
       "      <td>2</td>\n",
       "    </tr>\n",
       "    <tr>\n",
       "      <th>2</th>\n",
       "      <td>4</td>\n",
       "      <td>4</td>\n",
       "      <td>4</td>\n",
       "    </tr>\n",
       "    <tr>\n",
       "      <th>3</th>\n",
       "      <td>2</td>\n",
       "      <td>2</td>\n",
       "      <td>2</td>\n",
       "    </tr>\n",
       "    <tr>\n",
       "      <th>4</th>\n",
       "      <td>2</td>\n",
       "      <td>2</td>\n",
       "      <td>2</td>\n",
       "    </tr>\n",
       "    <tr>\n",
       "      <th>...</th>\n",
       "      <td>...</td>\n",
       "      <td>...</td>\n",
       "      <td>...</td>\n",
       "    </tr>\n",
       "    <tr>\n",
       "      <th>259</th>\n",
       "      <td>3</td>\n",
       "      <td>4</td>\n",
       "      <td>4</td>\n",
       "    </tr>\n",
       "    <tr>\n",
       "      <th>260</th>\n",
       "      <td>3</td>\n",
       "      <td>4</td>\n",
       "      <td>3</td>\n",
       "    </tr>\n",
       "    <tr>\n",
       "      <th>261</th>\n",
       "      <td>4</td>\n",
       "      <td>4</td>\n",
       "      <td>4</td>\n",
       "    </tr>\n",
       "    <tr>\n",
       "      <th>262</th>\n",
       "      <td>4</td>\n",
       "      <td>4</td>\n",
       "      <td>4</td>\n",
       "    </tr>\n",
       "    <tr>\n",
       "      <th>263</th>\n",
       "      <td>2</td>\n",
       "      <td>3</td>\n",
       "      <td>3</td>\n",
       "    </tr>\n",
       "  </tbody>\n",
       "</table>\n",
       "<p>264 rows × 3 columns</p>\n",
       "</div>"
      ],
      "text/plain": [
       "     친밀도  적절성  만족도\n",
       "0      3    4    3\n",
       "1      3    3    2\n",
       "2      4    4    4\n",
       "3      2    2    2\n",
       "4      2    2    2\n",
       "..   ...  ...  ...\n",
       "259    3    4    4\n",
       "260    3    4    3\n",
       "261    4    4    4\n",
       "262    4    4    4\n",
       "263    2    3    3\n",
       "\n",
       "[264 rows x 3 columns]"
      ]
     },
     "execution_count": 17,
     "metadata": {},
     "output_type": "execute_result"
    }
   ],
   "source": [
    "import pandas as pd\n",
    "\n",
    "file_path = '../data/04_(문제)_회귀모델_drinking_water.csv'\n",
    "df = pd.read_csv(file_path)\n",
    "df"
   ]
  },
  {
   "cell_type": "code",
   "execution_count": 11,
   "id": "040588eb-6e49-49e2-8f32-9ecc6b5b328b",
   "metadata": {},
   "outputs": [
    {
     "data": {
      "text/plain": [
       "array([3, 2, 4, 5, 1], dtype=int64)"
      ]
     },
     "execution_count": 11,
     "metadata": {},
     "output_type": "execute_result"
    }
   ],
   "source": [
    "df['만족도'].unique()"
   ]
  },
  {
   "cell_type": "code",
   "execution_count": 19,
   "id": "7aa5747f-a70d-41dd-adac-f5765ff15cd9",
   "metadata": {},
   "outputs": [],
   "source": [
    "df_data = df[['친밀도', '적절성']]"
   ]
  },
  {
   "cell_type": "code",
   "execution_count": 20,
   "id": "de5fdb46-8f80-48bf-bf10-9475d6948b57",
   "metadata": {},
   "outputs": [],
   "source": [
    "df_target = df['만족도']"
   ]
  },
  {
   "cell_type": "code",
   "execution_count": 27,
   "id": "ef4d58a6-ee8e-45da-bee7-3f00d64e36ab",
   "metadata": {},
   "outputs": [],
   "source": [
    "import matplotlib.pyplot as plt"
   ]
  },
  {
   "cell_type": "markdown",
   "id": "fdd3ec02-1222-4a66-b53b-415e037553eb",
   "metadata": {
    "tags": []
   },
   "source": [
    "## 다중회귀분석"
   ]
  },
  {
   "cell_type": "code",
   "execution_count": 3,
   "id": "7f0270c0-a343-4bdd-85ac-ceec59256ba4",
   "metadata": {},
   "outputs": [],
   "source": [
    "import numpy as np\n",
    "from sklearn.model_selection import train_test_split\n",
    "from sklearn.preprocessing import PolynomialFeatures\n",
    "from sklearn.linear_model import LinearRegression"
   ]
  },
  {
   "cell_type": "code",
   "execution_count": 21,
   "id": "4ea5954f-3203-4046-beb3-0924db99de06",
   "metadata": {
    "collapsed": true,
    "jupyter": {
     "outputs_hidden": true
    },
    "tags": []
   },
   "outputs": [
    {
     "data": {
      "text/plain": [
       "array([[3, 4],\n",
       "       [3, 3],\n",
       "       [4, 4],\n",
       "       [2, 2],\n",
       "       [2, 2],\n",
       "       [3, 3],\n",
       "       [4, 4],\n",
       "       [2, 2],\n",
       "       [3, 2],\n",
       "       [4, 2],\n",
       "       [5, 5],\n",
       "       [4, 4],\n",
       "       [1, 1],\n",
       "       [3, 2],\n",
       "       [2, 2],\n",
       "       [2, 2],\n",
       "       [3, 3],\n",
       "       [2, 3],\n",
       "       [3, 3],\n",
       "       [4, 4],\n",
       "       [3, 2],\n",
       "       [3, 4],\n",
       "       [2, 3],\n",
       "       [4, 4],\n",
       "       [4, 3],\n",
       "       [3, 2],\n",
       "       [2, 3],\n",
       "       [4, 3],\n",
       "       [3, 2],\n",
       "       [3, 2],\n",
       "       [3, 3],\n",
       "       [2, 3],\n",
       "       [3, 4],\n",
       "       [3, 2],\n",
       "       [3, 4],\n",
       "       [3, 1],\n",
       "       [2, 3],\n",
       "       [3, 3],\n",
       "       [4, 4],\n",
       "       [3, 3],\n",
       "       [3, 3],\n",
       "       [3, 3],\n",
       "       [2, 3],\n",
       "       [3, 2],\n",
       "       [3, 3],\n",
       "       [3, 4],\n",
       "       [4, 3],\n",
       "       [3, 3],\n",
       "       [3, 3],\n",
       "       [3, 2],\n",
       "       [2, 3],\n",
       "       [4, 3],\n",
       "       [3, 3],\n",
       "       [3, 3],\n",
       "       [2, 1],\n",
       "       [4, 3],\n",
       "       [3, 4],\n",
       "       [3, 4],\n",
       "       [4, 5],\n",
       "       [3, 3],\n",
       "       [2, 3],\n",
       "       [4, 4],\n",
       "       [3, 3],\n",
       "       [3, 3],\n",
       "       [3, 3],\n",
       "       [3, 3],\n",
       "       [3, 2],\n",
       "       [2, 3],\n",
       "       [3, 4],\n",
       "       [3, 3],\n",
       "       [3, 3],\n",
       "       [3, 3],\n",
       "       [4, 3],\n",
       "       [3, 3],\n",
       "       [3, 3],\n",
       "       [1, 3],\n",
       "       [2, 2],\n",
       "       [1, 1],\n",
       "       [4, 4],\n",
       "       [3, 3],\n",
       "       [4, 5],\n",
       "       [1, 4],\n",
       "       [2, 2],\n",
       "       [3, 3],\n",
       "       [1, 4],\n",
       "       [1, 4],\n",
       "       [1, 3],\n",
       "       [2, 3],\n",
       "       [3, 4],\n",
       "       [4, 4],\n",
       "       [3, 2],\n",
       "       [1, 4],\n",
       "       [1, 4],\n",
       "       [1, 4],\n",
       "       [1, 4],\n",
       "       [1, 2],\n",
       "       [4, 4],\n",
       "       [1, 3],\n",
       "       [1, 4],\n",
       "       [1, 4],\n",
       "       [5, 5],\n",
       "       [3, 3],\n",
       "       [4, 3],\n",
       "       [3, 3],\n",
       "       [2, 2],\n",
       "       [4, 3],\n",
       "       [2, 3],\n",
       "       [3, 2],\n",
       "       [4, 3],\n",
       "       [3, 3],\n",
       "       [3, 3],\n",
       "       [2, 2],\n",
       "       [4, 3],\n",
       "       [4, 4],\n",
       "       [3, 2],\n",
       "       [1, 2],\n",
       "       [1, 3],\n",
       "       [1, 3],\n",
       "       [1, 3],\n",
       "       [1, 5],\n",
       "       [1, 2],\n",
       "       [3, 3],\n",
       "       [3, 2],\n",
       "       [3, 3],\n",
       "       [2, 3],\n",
       "       [1, 2],\n",
       "       [4, 4],\n",
       "       [4, 4],\n",
       "       [4, 5],\n",
       "       [3, 4],\n",
       "       [4, 3],\n",
       "       [3, 3],\n",
       "       [5, 5],\n",
       "       [3, 4],\n",
       "       [3, 3],\n",
       "       [3, 4],\n",
       "       [2, 3],\n",
       "       [4, 4],\n",
       "       [3, 3],\n",
       "       [3, 3],\n",
       "       [3, 4],\n",
       "       [3, 4],\n",
       "       [3, 3],\n",
       "       [4, 3],\n",
       "       [2, 3],\n",
       "       [3, 3],\n",
       "       [3, 3],\n",
       "       [4, 4],\n",
       "       [3, 3],\n",
       "       [3, 2],\n",
       "       [1, 1],\n",
       "       [2, 3],\n",
       "       [4, 4],\n",
       "       [3, 3],\n",
       "       [4, 4],\n",
       "       [2, 3],\n",
       "       [2, 3],\n",
       "       [4, 4],\n",
       "       [4, 4],\n",
       "       [3, 4],\n",
       "       [4, 4],\n",
       "       [3, 4],\n",
       "       [3, 3],\n",
       "       [3, 3],\n",
       "       [3, 2],\n",
       "       [3, 3],\n",
       "       [2, 2],\n",
       "       [1, 2],\n",
       "       [3, 2],\n",
       "       [3, 2],\n",
       "       [3, 3],\n",
       "       [2, 3],\n",
       "       [2, 2],\n",
       "       [3, 3],\n",
       "       [2, 2],\n",
       "       [3, 3],\n",
       "       [2, 2],\n",
       "       [2, 2],\n",
       "       [3, 3],\n",
       "       [4, 4],\n",
       "       [3, 2],\n",
       "       [3, 2],\n",
       "       [3, 3],\n",
       "       [3, 3],\n",
       "       [3, 3],\n",
       "       [3, 3],\n",
       "       [3, 4],\n",
       "       [3, 3],\n",
       "       [4, 3],\n",
       "       [3, 2],\n",
       "       [4, 4],\n",
       "       [4, 4],\n",
       "       [3, 2],\n",
       "       [3, 2],\n",
       "       [2, 3],\n",
       "       [3, 3],\n",
       "       [3, 3],\n",
       "       [3, 2],\n",
       "       [3, 3],\n",
       "       [4, 4],\n",
       "       [4, 4],\n",
       "       [3, 4],\n",
       "       [5, 5],\n",
       "       [4, 4],\n",
       "       [1, 2],\n",
       "       [3, 3],\n",
       "       [1, 1],\n",
       "       [5, 5],\n",
       "       [3, 2],\n",
       "       [5, 4],\n",
       "       [1, 1],\n",
       "       [4, 4],\n",
       "       [3, 3],\n",
       "       [5, 5],\n",
       "       [4, 4],\n",
       "       [3, 3],\n",
       "       [3, 4],\n",
       "       [4, 4],\n",
       "       [4, 4],\n",
       "       [3, 3],\n",
       "       [3, 3],\n",
       "       [4, 4],\n",
       "       [3, 3],\n",
       "       [1, 1],\n",
       "       [4, 4],\n",
       "       [3, 3],\n",
       "       [3, 4],\n",
       "       [4, 4],\n",
       "       [3, 3],\n",
       "       [4, 4],\n",
       "       [3, 3],\n",
       "       [4, 4],\n",
       "       [3, 3],\n",
       "       [4, 4],\n",
       "       [3, 3],\n",
       "       [3, 4],\n",
       "       [4, 3],\n",
       "       [3, 4],\n",
       "       [3, 4],\n",
       "       [4, 3],\n",
       "       [1, 2],\n",
       "       [3, 3],\n",
       "       [4, 4],\n",
       "       [4, 4],\n",
       "       [3, 3],\n",
       "       [3, 3],\n",
       "       [4, 4],\n",
       "       [4, 3],\n",
       "       [4, 4],\n",
       "       [2, 3],\n",
       "       [4, 3],\n",
       "       [3, 3],\n",
       "       [4, 4],\n",
       "       [3, 3],\n",
       "       [2, 4],\n",
       "       [3, 3],\n",
       "       [3, 3],\n",
       "       [3, 3],\n",
       "       [1, 2],\n",
       "       [3, 4],\n",
       "       [3, 4],\n",
       "       [4, 4],\n",
       "       [4, 4],\n",
       "       [2, 3]], dtype=int64)"
      ]
     },
     "execution_count": 21,
     "metadata": {},
     "output_type": "execute_result"
    }
   ],
   "source": [
    "# 데이터프레임을 2차원 배열로 바꾸기\n",
    "df_n = df_data.to_numpy()\n",
    "df_n"
   ]
  },
  {
   "cell_type": "code",
   "execution_count": 23,
   "id": "0d1c2e0e-f40b-486e-ac75-07e7b0a25bee",
   "metadata": {},
   "outputs": [],
   "source": [
    "# 데이터 분리\n",
    "train_data, test_data, train_target, test_target = train_test_split(df_n, df_target)"
   ]
  },
  {
   "cell_type": "code",
   "execution_count": 24,
   "id": "580f0f40-33f0-4fb6-b612-08feeefdbe1d",
   "metadata": {},
   "outputs": [
    {
     "name": "stdout",
     "output_type": "stream",
     "text": [
      "(198, 2)\n",
      "(198,)\n",
      "(66, 2)\n",
      "(66,)\n"
     ]
    }
   ],
   "source": [
    "print(train_data.shape)\n",
    "print(train_target.shape)\n",
    "print(test_data.shape)\n",
    "print(test_target.shape)"
   ]
  },
  {
   "cell_type": "code",
   "execution_count": 25,
   "id": "d0195401-9fbe-4c7c-a0bf-6e26c134aa99",
   "metadata": {},
   "outputs": [
    {
     "data": {
      "text/plain": [
       "array(['x0', 'x1', 'x0^2', 'x0 x1', 'x1^2'], dtype=object)"
      ]
     },
     "execution_count": 25,
     "metadata": {},
     "output_type": "execute_result"
    }
   ],
   "source": [
    "# 특성 생성\n",
    "poly = PolynomialFeatures(include_bias=False)\n",
    "\n",
    "poly.fit(train_data)\n",
    "poly.fit(test_data)\n",
    "\n",
    "train_poly = poly.transform(train_data)\n",
    "test_poly = poly.transform(test_data)\n",
    "\n",
    "poly.get_feature_names_out()"
   ]
  },
  {
   "cell_type": "code",
   "execution_count": 35,
   "id": "af0173ef-4d1f-4c9f-b209-df30188022d8",
   "metadata": {},
   "outputs": [
    {
     "name": "stdout",
     "output_type": "stream",
     "text": [
      "훈련 =  0.6541278055650137\n",
      "테스트 =  0.5808975478161358\n"
     ]
    }
   ],
   "source": [
    "lr1 = LinearRegression()\n",
    "\n",
    "lr1.fit(train_poly, train_target)\n",
    "print('훈련 = ', lr1.score(train_poly, train_target))\n",
    "print('테스트 = ', lr1.score(test_poly, test_target))"
   ]
  },
  {
   "cell_type": "code",
   "execution_count": null,
   "id": "b36d34c4-5435-4ecd-98fc-201c67589811",
   "metadata": {},
   "outputs": [],
   "source": [
    "'''\n",
    "과대적합\n",
    "'''"
   ]
  },
  {
   "cell_type": "code",
   "execution_count": 65,
   "id": "9f36b825-4f34-47a8-a66e-90a5f799bcc2",
   "metadata": {},
   "outputs": [
    {
     "data": {
      "text/plain": [
       "array(['x0', 'x1', 'x0^2', 'x0 x1', 'x1^2', 'x0^3', 'x0^2 x1', 'x0 x1^2',\n",
       "       'x1^3', 'x0^4', 'x0^3 x1', 'x0^2 x1^2', 'x0 x1^3', 'x1^4', 'x0^5',\n",
       "       'x0^4 x1', 'x0^3 x1^2', 'x0^2 x1^3', 'x0 x1^4', 'x1^5'],\n",
       "      dtype=object)"
      ]
     },
     "execution_count": 65,
     "metadata": {},
     "output_type": "execute_result"
    }
   ],
   "source": [
    "# 특성 생성\n",
    "poly = PolynomialFeatures(degree = 5, include_bias=False)\n",
    "\n",
    "poly.fit(train_data)\n",
    "poly.fit(test_data)\n",
    "\n",
    "train_poly = poly.transform(train_data)\n",
    "test_poly = poly.transform(test_data)\n",
    "\n",
    "poly.get_feature_names_out()"
   ]
  },
  {
   "cell_type": "code",
   "execution_count": 66,
   "id": "aa6bced3-bbfc-488f-9161-76ec51517e23",
   "metadata": {},
   "outputs": [
    {
     "name": "stdout",
     "output_type": "stream",
     "text": [
      "훈련 =  0.6775376594793987\n",
      "테스트 =  -9.081823789613257\n"
     ]
    }
   ],
   "source": [
    "# 훈련 결정계수가 가장 높아지는 차수 설정\n",
    "lr2 = LinearRegression()\n",
    "\n",
    "lr2.fit(train_poly, train_target)\n",
    "print('훈련 = ', lr2.score(train_poly, train_target))\n",
    "print('테스트 = ', lr2.score(test_poly, test_target))"
   ]
  },
  {
   "cell_type": "code",
   "execution_count": 67,
   "id": "2d12c0fb-a3ae-44f3-a9d7-0eee729f58a6",
   "metadata": {},
   "outputs": [],
   "source": [
    "from sklearn.preprocessing import StandardScaler\n",
    "from sklearn.linear_model import Ridge\n",
    "from sklearn.linear_model import Lasso"
   ]
  },
  {
   "cell_type": "code",
   "execution_count": 68,
   "id": "dc1e21db-f6e5-4877-a548-6ce815e5c000",
   "metadata": {},
   "outputs": [
    {
     "name": "stdout",
     "output_type": "stream",
     "text": [
      "[  2.93434343   3.13636364   9.5          9.67171717  10.61111111\n",
      "  32.72222222  32.6010101   33.99494949  38.01515152 118.04545455\n",
      " 116.36868687 118.6010101  125.76262626 142.67171717 442.78282828\n",
      " 433.99494949 437.05555556 452.51010101 485.57070707 556.92424242] [  0.94320126   0.87996264   5.27213947   5.00588624   5.48416248\n",
      "  25.47069243  24.83800849  25.32884679  28.35391005 120.29376062\n",
      " 118.14073284 119.5832722  124.34165712 139.97250202 569.05436206\n",
      " 561.25045722 564.86840511 579.03378018 606.18138479 683.81966383]\n"
     ]
    }
   ],
   "source": [
    "ss = StandardScaler()\n",
    "ss.fit(train_poly, train_target)\n",
    "\n",
    "train_scaled = ss.transform(train_poly)\n",
    "test_scaled = ss.transform(test_poly)\n",
    "\n",
    "print(ss.mean_, ss.scale_)"
   ]
  },
  {
   "cell_type": "code",
   "execution_count": 69,
   "id": "715da502-aefd-4a12-8c32-76c7cb6fc522",
   "metadata": {},
   "outputs": [
    {
     "name": "stdout",
     "output_type": "stream",
     "text": [
      "훈련 =  0.6532533369895203\n",
      "테스트 =  0.592139434517909\n"
     ]
    }
   ],
   "source": [
    "# 릿지모델\n",
    "ridge = Ridge()\n",
    "ridge.fit(train_scaled, train_target)\n",
    "\n",
    "print('훈련 = ', ridge.score(train_scaled, train_target))\n",
    "print('테스트 = ', ridge.score(test_scaled, test_target))"
   ]
  },
  {
   "cell_type": "code",
   "execution_count": 70,
   "id": "2585b0eb-889d-4a4f-92c1-bad62d2fca4d",
   "metadata": {},
   "outputs": [
    {
     "name": "stdout",
     "output_type": "stream",
     "text": [
      "훈련 =  0.0\n",
      "테스트 =  -0.010984182776801577\n"
     ]
    }
   ],
   "source": [
    "lasso = Lasso()\n",
    "lasso.fit(train_scaled, train_target)\n",
    "\n",
    "print('훈련 = ', lasso.score(train_scaled, train_target))\n",
    "print('테스트 = ', lasso.score(test_scaled, test_target))"
   ]
  },
  {
   "cell_type": "code",
   "execution_count": 72,
   "id": "48dfd1e2-7567-401c-9b33-7f71c920260c",
   "metadata": {},
   "outputs": [
    {
     "data": {
      "text/plain": [
       "[<matplotlib.lines.Line2D at 0x1fd782b9fa0>]"
      ]
     },
     "execution_count": 72,
     "metadata": {},
     "output_type": "execute_result"
    },
    {
     "data": {
      "image/png": "[encoded data removed]",
      "text/plain": [
       "<Figure size 432x288 with 1 Axes>"
      ]
     },
     "metadata": {
      "needs_background": "light"
     },
     "output_type": "display_data"
    }
   ],
   "source": [
    "# 훈련시 발생하는 결정계수를 저장\n",
    "train_score = []\n",
    "\n",
    "# 테스트시 발생하는 결정계수를 저장\n",
    "test_score = []\n",
    "\n",
    "\n",
    "## 2. 임의의 alpha값 설정(범위 설정)\n",
    "# 이때, 알파값은 x축으로 설정한다\n",
    "alpha_list = [0.001, 0.01, 0.1 , 1, 10, 100]\n",
    "\n",
    "\n",
    "## 3. 훈련 및 테스트 결정계수 데이터 조회\n",
    "for alpha in alpha_list :\n",
    "    # 릿지모델\n",
    "    ridge = Ridge(alpha = alpha)\n",
    "    ridge.fit(train_scaled, train_target)\n",
    "    train_score.append(ridge.score(train_scaled, train_target))\n",
    "    test_score.append(ridge.score(test_scaled, test_target))\n",
    "    \n",
    "    \n",
    "plt.plot(np.log10(alpha_list), train_score) # blue\n",
    "plt.plot(np.log10(alpha_list), test_score)  # orange"
   ]
  },
  {
   "cell_type": "code",
   "execution_count": 73,
   "id": "d32f1540-1d8e-491d-bc87-4345a56a7a7f",
   "metadata": {},
   "outputs": [
    {
     "name": "stdout",
     "output_type": "stream",
     "text": [
      "0.6388475337560506\n",
      "0.6145474178981807\n"
     ]
    }
   ],
   "source": [
    "ridge = Ridge(alpha = 10)\n",
    "ridge.fit(train_scaled, train_target)\n",
    "print(ridge.score(train_scaled, train_target))\n",
    "print(ridge.score(test_scaled, test_target))"
   ]
  },
  {
   "cell_type": "code",
   "execution_count": 74,
   "id": "6a2fc89e-c424-41d5-9b4e-dd40862fb357",
   "metadata": {},
   "outputs": [
    {
     "name": "stderr",
     "output_type": "stream",
     "text": [
      "C:\\Users\\admin\\anaconda3\\lib\\site-packages\\sklearn\\linear_model\\_coordinate_descent.py:647: ConvergenceWarning: Objective did not converge. You might want to increase the number of iterations, check the scale of the features or consider increasing regularisation. Duality gap: 4.851e-01, tolerance: 1.459e-02\n",
      "  model = cd_fast.enet_coordinate_descent(\n"
     ]
    },
    {
     "data": {
      "text/plain": [
       "[<matplotlib.lines.Line2D at 0x1fd782bcac0>]"
      ]
     },
     "execution_count": 74,
     "metadata": {},
     "output_type": "execute_result"
    },
    {
     "data": {
      "image/png": "[encoded data removed]",
      "text/plain": [
       "<Figure size 432x288 with 1 Axes>"
      ]
     },
     "metadata": {
      "needs_background": "light"
     },
     "output_type": "display_data"
    }
   ],
   "source": [
    "# 훈련시 발생하는 결정계수를 저장\n",
    "train_score = []\n",
    "\n",
    "# 테스트시 발생하는 결정계수를 저장\n",
    "test_score = []\n",
    "\n",
    "\n",
    "## 2. 임의의 alpha값 설정(범위 설정)\n",
    "# 이때, 알파값은 x축으로 설정한다\n",
    "alpha_list = [0.001, 0.01, 0.1 , 1, 10, 100]\n",
    "\n",
    "\n",
    "## 3. 훈련 및 테스트 결정계수 데이터 조회\n",
    "for alpha in alpha_list :\n",
    "    # 라쏘모델\n",
    "    lasso = Lasso(alpha = alpha)\n",
    "    lasso.fit(train_scaled, train_target)\n",
    "    train_score.append(lasso.score(train_scaled, train_target))\n",
    "    test_score.append(lasso.score(test_scaled, test_target))\n",
    "    \n",
    "    \n",
    "plt.plot(np.log10(alpha_list), train_score) # blue\n",
    "plt.plot(np.log10(alpha_list), test_score)  # orange"
   ]
  },
  {
   "cell_type": "code",
   "execution_count": 77,
   "id": "787294d6-406f-474e-b42c-8d823a4c613b",
   "metadata": {},
   "outputs": [
    {
     "name": "stdout",
     "output_type": "stream",
     "text": [
      "0.6383385703244917\n",
      "0.6006863705379715\n"
     ]
    }
   ],
   "source": [
    "lasso = Lasso(alpha = 0.01)\n",
    "lasso.fit(train_scaled, train_target)\n",
    "print(lasso.score(train_scaled, train_target))\n",
    "print(lasso.score(test_scaled, test_target))"
   ]
  },
  {
   "cell_type": "code",
   "execution_count": null,
   "id": "cb1fff5d-f7b3-42c3-9cfe-b97c31e7eebf",
   "metadata": {},
   "outputs": [],
   "source": [
    "'''\n",
    "계속해서 과소적합으로 나오기때문에 다른데이터 요청 가능\n",
    "'''"
   ]
  }
 ],
 "metadata": {
  "kernelspec": {
   "display_name": "ml_kernel",
   "language": "python",
   "name": "ml"
  },
  "language_info": {
   "codemirror_mode": {
    "name": "ipython",
    "version": 3
   },
   "file_extension": ".py",
   "mimetype": "text/x-python",
   "name": "python",
   "nbconvert_exporter": "python",
   "pygments_lexer": "ipython3",
   "version": "3.9.12"
  }
 },
 "nbformat": 4,
 "nbformat_minor": 5
}
