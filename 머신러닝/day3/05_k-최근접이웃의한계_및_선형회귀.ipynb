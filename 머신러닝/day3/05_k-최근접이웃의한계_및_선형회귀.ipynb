{
 "cells": [
  {
   "cell_type": "code",
   "execution_count": 1,
   "id": "45749d80-2685-4a0e-8a12-ae4e06a14917",
   "metadata": {},
   "outputs": [],
   "source": [
    "import numpy as np"
   ]
  },
  {
   "cell_type": "code",
   "execution_count": 2,
   "id": "ec08035a-b072-4be5-80df-6bd1897165a1",
   "metadata": {},
   "outputs": [],
   "source": [
    "## 데이터 생성\n",
    "perch_length = np.array(\n",
    "    [8.4, 13.7, 15.0, 16.2, 17.4, 18.0, 18.7, 19.0, 19.6, 20.0, \n",
    "     21.0, 21.0, 21.0, 21.3, 22.0, 22.0, 22.0, 22.0, 22.0, 22.5, \n",
    "     22.5, 22.7, 23.0, 23.5, 24.0, 24.0, 24.6, 25.0, 25.6, 26.5, \n",
    "     27.3, 27.5, 27.5, 27.5, 28.0, 28.7, 30.0, 32.8, 34.5, 35.0, \n",
    "     36.5, 36.0, 37.0, 37.0, 39.0, 39.0, 39.0, 40.0, 40.0, 40.0, \n",
    "     40.0, 42.0, 43.0, 43.0, 43.5, 44.0]\n",
    "     )\n",
    "perch_weight = np.array(\n",
    "    [5.9, 32.0, 40.0, 51.5, 70.0, 100.0, 78.0, 80.0, 85.0, 85.0, \n",
    "     110.0, 115.0, 125.0, 130.0, 120.0, 120.0, 130.0, 135.0, 110.0, \n",
    "     130.0, 150.0, 145.0, 150.0, 170.0, 225.0, 145.0, 188.0, 180.0, \n",
    "     197.0, 218.0, 300.0, 260.0, 265.0, 250.0, 250.0, 300.0, 320.0, \n",
    "     514.0, 556.0, 840.0, 685.0, 700.0, 700.0, 690.0, 900.0, 650.0, \n",
    "     820.0, 850.0, 900.0, 1015.0, 820.0, 1100.0, 1000.0, 1100.0, \n",
    "     1000.0, 1000.0]\n",
    "     )"
   ]
  },
  {
   "cell_type": "code",
   "execution_count": 3,
   "id": "5809b24d-67ac-48d0-a7de-4e8fa8e022e3",
   "metadata": {},
   "outputs": [],
   "source": [
    "from sklearn.neighbors import KNeighborsRegressor\n",
    "from sklearn.model_selection import train_test_split"
   ]
  },
  {
   "cell_type": "code",
   "execution_count": 4,
   "id": "40104d41-a71a-43a4-a9e4-91f35b4ed9e7",
   "metadata": {},
   "outputs": [],
   "source": [
    "# 데이터 분리\n",
    "train_data, test_data, train_target, test_target = train_test_split(\n",
    "    perch_length, perch_weight, random_state=42)"
   ]
  },
  {
   "cell_type": "code",
   "execution_count": 5,
   "id": "7bfc3b53-9ef1-400c-a6c8-6c907076298a",
   "metadata": {},
   "outputs": [
    {
     "name": "stdout",
     "output_type": "stream",
     "text": [
      "[19.6 22.  18.7 17.4 36.  25.  40.  39.  43.  22.  20.  22.  24.  27.5\n",
      " 43.  40.  24.  21.  27.5 40.  32.8 26.5 36.5 13.7 22.7 15.  37.  35.\n",
      " 28.7 23.5 39.  21.  23.  22.  44.  22.5 19.  37.  22.  25.6 42.  34.5]\n",
      "-----------------\n",
      "[  85.  135.   78.   70.  700.  180.  850.  820. 1000.  120.   85.  130.\n",
      "  225.  260. 1100.  900.  145.  115.  265. 1015.  514.  218.  685.   32.\n",
      "  145.   40.  690.  840.  300.  170.  650.  110.  150.  110. 1000.  150.\n",
      "   80.  700.  120.  197. 1100.  556.]\n",
      "-----------------\n",
      "[ 8.4 18.  27.5 21.3 22.5 40.  30.  24.6 39.  21.  43.5 16.2 28.  27.3]\n",
      "-----------------\n",
      "[   5.9  100.   250.   130.   130.   820.   320.   188.   900.   125.\n",
      " 1000.    51.5  250.   300. ]\n"
     ]
    }
   ],
   "source": [
    "print(train_data)\n",
    "print('-----------------')\n",
    "print(train_target)\n",
    "print('-----------------')\n",
    "print(test_data)\n",
    "print('-----------------')\n",
    "print(test_target)"
   ]
  },
  {
   "cell_type": "code",
   "execution_count": 6,
   "id": "138a5af3-a9b0-4db0-b364-3dcfd526e572",
   "metadata": {},
   "outputs": [],
   "source": [
    "# 2차원 데이터 생성\n",
    "train_data = train_data.reshape(-1,1)\n",
    "test_data = test_data.reshape(-1,1)"
   ]
  },
  {
   "cell_type": "code",
   "execution_count": 7,
   "id": "dd0bb287-1832-447f-8d43-db9e62018429",
   "metadata": {
    "tags": []
   },
   "outputs": [
    {
     "name": "stdout",
     "output_type": "stream",
     "text": [
      "[[19.6]\n",
      " [22. ]\n",
      " [18.7]\n",
      " [17.4]\n",
      " [36. ]\n",
      " [25. ]\n",
      " [40. ]\n",
      " [39. ]\n",
      " [43. ]\n",
      " [22. ]\n",
      " [20. ]\n",
      " [22. ]\n",
      " [24. ]\n",
      " [27.5]\n",
      " [43. ]\n",
      " [40. ]\n",
      " [24. ]\n",
      " [21. ]\n",
      " [27.5]\n",
      " [40. ]\n",
      " [32.8]\n",
      " [26.5]\n",
      " [36.5]\n",
      " [13.7]\n",
      " [22.7]\n",
      " [15. ]\n",
      " [37. ]\n",
      " [35. ]\n",
      " [28.7]\n",
      " [23.5]\n",
      " [39. ]\n",
      " [21. ]\n",
      " [23. ]\n",
      " [22. ]\n",
      " [44. ]\n",
      " [22.5]\n",
      " [19. ]\n",
      " [37. ]\n",
      " [22. ]\n",
      " [25.6]\n",
      " [42. ]\n",
      " [34.5]]\n",
      "-----------------\n",
      "[[ 8.4]\n",
      " [18. ]\n",
      " [27.5]\n",
      " [21.3]\n",
      " [22.5]\n",
      " [40. ]\n",
      " [30. ]\n",
      " [24.6]\n",
      " [39. ]\n",
      " [21. ]\n",
      " [43.5]\n",
      " [16.2]\n",
      " [28. ]\n",
      " [27.3]]\n"
     ]
    }
   ],
   "source": [
    "print(train_data)\n",
    "print('-----------------')\n",
    "print(test_data)"
   ]
  },
  {
   "cell_type": "code",
   "execution_count": 8,
   "id": "7bd12fca-56df-47f6-b9cd-3facf2ea681d",
   "metadata": {},
   "outputs": [
    {
     "data": {
      "text/plain": [
       "KNeighborsRegressor(n_neighbors=3)"
      ]
     },
     "execution_count": 8,
     "metadata": {},
     "output_type": "execute_result"
    }
   ],
   "source": [
    "# 클래스(모델) 객체 생성\n",
    "kn_r = KNeighborsRegressor(n_neighbors=3)\n",
    "kn_r"
   ]
  },
  {
   "cell_type": "code",
   "execution_count": 9,
   "id": "f5188f45-1e34-4828-b87e-9d1b7e344efb",
   "metadata": {},
   "outputs": [
    {
     "data": {
      "text/plain": [
       "KNeighborsRegressor(n_neighbors=3)"
      ]
     },
     "execution_count": 9,
     "metadata": {},
     "output_type": "execute_result"
    }
   ],
   "source": [
    "# 훈련데이터 학습 : 훈련모델 생성\n",
    "kn_r.fit(train_data, train_target)"
   ]
  },
  {
   "cell_type": "code",
   "execution_count": 10,
   "id": "f29a578a-075f-41c0-91ab-253b5cd52f01",
   "metadata": {},
   "outputs": [
    {
     "name": "stdout",
     "output_type": "stream",
     "text": [
      "[1033.33333333]\n"
     ]
    }
   ],
   "source": [
    "# 예측데이터 : 50 / 100\n",
    "print(kn_r.predict([[100]]))"
   ]
  },
  {
   "cell_type": "code",
   "execution_count": 11,
   "id": "46cf7274-378c-4a1b-a1c2-16359daecf2b",
   "metadata": {},
   "outputs": [
    {
     "data": {
      "image/png": "[encoded data removed]",
      "text/plain": [
       "<Figure size 432x288 with 1 Axes>"
      ]
     },
     "metadata": {
      "needs_background": "light"
     },
     "output_type": "display_data"
    }
   ],
   "source": [
    "# 산점도 시각화\n",
    "import matplotlib.pyplot as plt\n",
    "\n",
    "plt.scatter(train_data, train_target)\n",
    "plt.scatter(50, 1010)\n",
    "\n",
    "plt.show()"
   ]
  },
  {
   "cell_type": "code",
   "execution_count": 12,
   "id": "b17bebfd-0b72-4866-8511-bfa300e2ea2f",
   "metadata": {},
   "outputs": [
    {
     "name": "stdout",
     "output_type": "stream",
     "text": [
      "[[6. 7. 7.]]\n",
      "[[34  8 14]]\n"
     ]
    }
   ],
   "source": [
    "distances_r, indexes_r = kn_r.kneighbors([[50]])\n",
    "print(distances_r)\n",
    "print(indexes_r)"
   ]
  },
  {
   "cell_type": "code",
   "execution_count": 13,
   "id": "d103ef95-e4d1-42f4-926e-374a84816cbe",
   "metadata": {},
   "outputs": [
    {
     "data": {
      "image/png": "[encoded data removed]",
      "text/plain": [
       "<Figure size 432x288 with 1 Axes>"
      ]
     },
     "metadata": {
      "needs_background": "light"
     },
     "output_type": "display_data"
    }
   ],
   "source": [
    "# 산점도 시각화\n",
    "import matplotlib.pyplot as plt\n",
    "\n",
    "plt.scatter(train_data, train_target)\n",
    "# plt.scatter(50, 1010)\n",
    "plt.scatter(100, 1010)\n",
    "plt.scatter(train_data[indexes_r], train_target[indexes_r], marker = 'D',c='y')\n",
    "\n",
    "plt.show()"
   ]
  },
  {
   "cell_type": "code",
   "execution_count": 14,
   "id": "4e14fc9d-dc62-462d-a8e3-386f9f61c1f0",
   "metadata": {
    "collapsed": true,
    "jupyter": {
     "outputs_hidden": true
    },
    "tags": []
   },
   "outputs": [
    {
     "data": {
      "text/plain": [
       "'\\nKNN의 경우 훈련데이터 내의 범위 내에서만 예측이 가능하다는 단점을 가지고 있다.\\n범위를 벗어나면 예측이 불가능하다는 한계가 있다.\\n\\n훈련데이터 범위 밖의 데이터를 예측하기 위해서는 선형회귀로 진행해야한다.\\n'"
      ]
     },
     "execution_count": 14,
     "metadata": {},
     "output_type": "execute_result"
    }
   ],
   "source": [
    "'''\n",
    "KNN의 경우 훈련데이터 내의 범위 내에서만 예측이 가능하다는 단점을 가지고 있다.\n",
    "범위를 벗어나면 예측이 불가능하다는 한계가 있다.\n",
    "\n",
    "훈련데이터 범위 밖의 데이터를 예측하기 위해서는 선형회귀로 진행해야한다.\n",
    "'''"
   ]
  },
  {
   "cell_type": "markdown",
   "id": "09816f2f-d197-4d72-8d8a-823eee3f20ab",
   "metadata": {},
   "source": [
    "## 선형회귀(Linear Regression)\n",
    "- 많이 사용되는 대표적인 회귀 알고리즘\n",
    "- 비교적 간단하고, 성능이 뛰어나기 때문에 회귀모델 수행수 초반에 주로 진행\n",
    "- 선형회귀 역할 : 하나의 특성을 가장 잘 나타내는 직선을 찾아내는 것이 주 역할\n",
    "- 직선을 '추세선'이라고 합니다.\n",
    "- 선형회귀 알고리즘 : 1차 방정식(y=ax+b)\n",
    "\n",
    "\n",
    "- 선형회귀 클래스(모델) : LinearRegresin\n",
    "- 사용되는 패키지 : sklearn.linear_model"
   ]
  },
  {
   "cell_type": "code",
   "execution_count": 16,
   "id": "54695825-1a99-4e02-8f92-8a8342e502c2",
   "metadata": {},
   "outputs": [],
   "source": [
    "## 선형회귀 클래스(모델) 생성\n",
    "from sklearn.linear_model import LinearRegression\n",
    "\n",
    "lr = LinearRegression()"
   ]
  },
  {
   "cell_type": "code",
   "execution_count": 17,
   "id": "7e190bc4-8608-457b-8339-55cedff4d11d",
   "metadata": {},
   "outputs": [
    {
     "data": {
      "text/plain": [
       "array([1241.83860323])"
      ]
     },
     "execution_count": 17,
     "metadata": {},
     "output_type": "execute_result"
    }
   ],
   "source": [
    "## 사용데이터 : train_data, train_target, test_data, test_target\n",
    "## 예측데이터 : 길이 50cm\n",
    "\n",
    "# 학습 : 최적화된 기울기와 y절편을 찾기 위한 학습\n",
    "lr.fit(train_data, train_target)\n",
    "lr.predict([[50]])"
   ]
  },
  {
   "cell_type": "code",
   "execution_count": 18,
   "id": "577a6c97-d98c-4e99-b603-fc84b0c1f134",
   "metadata": {},
   "outputs": [
    {
     "name": "stdout",
     "output_type": "stream",
     "text": [
      "[39.01714496] -709.0186449535474\n"
     ]
    }
   ],
   "source": [
    "## 일차방정식의 기울기와 y절편값 확인하기\n",
    "# 일차방정식 : y=ax+b\n",
    "# a : 기울기(coef_)\n",
    "# b : y절편(intercept_)\n",
    "print(lr.coef_, lr.intercept_)"
   ]
  },
  {
   "cell_type": "code",
   "execution_count": 25,
   "id": "964af346-7244-466d-b3c6-e1d36b626e30",
   "metadata": {},
   "outputs": [
    {
     "data": {
      "text/plain": [
       "[<matplotlib.lines.Line2D at 0x2ac47667310>]"
      ]
     },
     "execution_count": 25,
     "metadata": {},
     "output_type": "execute_result"
    },
    {
     "data": {
      "image/png": "[encoded data removed]",
      "text/plain": [
       "<Figure size 432x288 with 1 Axes>"
      ]
     },
     "metadata": {
      "needs_background": "light"
     },
     "output_type": "display_data"
    }
   ],
   "source": [
    "## 추세선을 이용하여 예측데이터 예측가능한지 확인\n",
    "# - 예측데이터로 사용할 수 있을지 확인\n",
    "# - 산점도를 이용해서 확인 (훈련데이터, 예측데이터)\n",
    "plt.scatter(train_data,train_target)\n",
    "plt.scatter(50, lr.predict([[50]]), marker = '^', c='g')\n",
    "\n",
    "# 추세선 : 선형회귀 알고리즘(1차방정식)이 훈련데이터에서 찾은 최적의 직선\n",
    "# plt.plpt(x축 범위, y축 범위)\n",
    "plt.plot([15,50], [lr.coef_*15 + lr.intercept_, lr.coef_*50 + lr.intercept_], c = 'r')"
   ]
  },
  {
   "cell_type": "code",
   "execution_count": 28,
   "id": "5c985151-115f-421b-985a-3fff4c67d7f9",
   "metadata": {},
   "outputs": [
    {
     "name": "stdout",
     "output_type": "stream",
     "text": [
      "0.824750312331356\n",
      "0.9398463339976041\n"
     ]
    }
   ],
   "source": [
    "## 과적합여부 확인\n",
    "# KNN은 과소적합이 나왔습니다, LR모델은 개선이 되었는지 확인\n",
    "print(lr.score(test_data, test_target))    # 테스트데이터\n",
    "print(lr.score(train_data, train_target))  # 훈련데이터"
   ]
  },
  {
   "cell_type": "code",
   "execution_count": null,
   "id": "13bc23e9-3628-486c-a598-195e13f8911c",
   "metadata": {},
   "outputs": [],
   "source": [
    "'''\n",
    "(해석)\n",
    "1. 과소적합은 해소되었으나 테스트 결과가 다소 낮게 나타났으나, 훈련데이터는 높은편이다.\n",
    "다소 차이는 있으나 우수한 모델로 평가는 할 수 있다.\n",
    "단, 훈련데이터와 테스트데이터의 결정계수 차이는 의심해봐야한다.\n",
    "\n",
    "2. 그래프 왼쪽 하단의 산점도 분포가 조금 특이하다. \n",
    "약간의 곡선(round)을 띄고 있다.\n",
    "또한, 추세선의 왼쪽 하단으로 직선을 연장했을 때 y축이 0 이하로 넘어간다.\n",
    "무게는 0보다 작을 수 없기 때문에 음수를 예측하면 잘못된 모델이다.\n",
    "(곡선을 띄면 직선(일차방정식) 사용 불가하므로 잘못된 모델 사용임,\n",
    "다항회귀분석으로 넘어간다.)\n",
    "'''"
   ]
  },
  {
   "cell_type": "code",
   "execution_count": 30,
   "id": "8ad054d5-5407-4fe5-a4fe-07aa22127f29",
   "metadata": {},
   "outputs": [
    {
     "data": {
      "text/plain": [
       "[<matplotlib.lines.Line2D at 0x2ac474c95b0>]"
      ]
     },
     "execution_count": 30,
     "metadata": {},
     "output_type": "execute_result"
    },
    {
     "data": {
      "image/png": "[encoded data removed]",
      "text/plain": [
       "<Figure size 432x288 with 1 Axes>"
      ]
     },
     "metadata": {
      "needs_background": "light"
     },
     "output_type": "display_data"
    }
   ],
   "source": [
    "## 추세선을 이용하여 예측데이터 예측가능한지 확인\n",
    "# - 예측데이터로 사용할 수 있을지 확인\n",
    "# - 산점도를 이용해서 확인 (훈련데이터, 예측데이터)\n",
    "plt.scatter(train_data,train_target)\n",
    "plt.scatter(50, lr.predict([[50]]), marker = '^', c='g')\n",
    "\n",
    "# 추세선 : 선형회귀 알고리즘(1차방정식)이 훈련데이터에서 찾은 최적의 직선\n",
    "# plt.plpt(x축 범위, y축 범위)\n",
    "plt.plot([0,50], [lr.coef_*0 + lr.intercept_, lr.coef_*50 + lr.intercept_], c = 'r')"
   ]
  },
  {
   "cell_type": "markdown",
   "id": "7cf10b10-94ac-4d94-8e0c-66ac7ac43fd3",
   "metadata": {},
   "source": [
    "## 다항회귀분석\n",
    "- 다항식을 사용한 선형회귀를 '다항회귀'라고도 한다\n",
    "- 다항식(이차방정식) : y=ax^2 + bx + c\n",
    "- a와 b : 계수(기울기 포함)\n",
    "- c : y절편"
   ]
  },
  {
   "cell_type": "code",
   "execution_count": 37,
   "id": "e46273f3-567f-4cd5-98ef-d8b149297c1f",
   "metadata": {},
   "outputs": [
    {
     "data": {
      "text/plain": [
       "(42, 2)"
      ]
     },
     "execution_count": 37,
     "metadata": {},
     "output_type": "execute_result"
    }
   ],
   "source": [
    "## 훈련데이터 train_data를 [[제곱된 값 1개, 원래값 1개], [], []]\n",
    "# 변수 : train_poly\n",
    "# column_stack() : 튜플형태로 넣어야함 (값, 값)\n",
    "train_poly = np.column_stack((train_data**2, train_data))\n",
    "train_poly.shape"
   ]
  },
  {
   "cell_type": "code",
   "execution_count": 40,
   "id": "7151e987-0199-47d7-8e4d-563ebb161250",
   "metadata": {},
   "outputs": [
    {
     "data": {
      "text/plain": [
       "(14, 2)"
      ]
     },
     "execution_count": 40,
     "metadata": {},
     "output_type": "execute_result"
    }
   ],
   "source": [
    "test_poly = np.column_stack((test_data**2, test_data))\n",
    "test_poly.shape"
   ]
  },
  {
   "cell_type": "code",
   "execution_count": 48,
   "id": "e15c8782-cdb8-4d0f-85ad-956fc69a49da",
   "metadata": {
    "tags": []
   },
   "outputs": [
    {
     "data": {
      "text/plain": [
       "LinearRegression()"
      ]
     },
     "execution_count": 48,
     "metadata": {},
     "output_type": "execute_result"
    }
   ],
   "source": [
    "## 객체(모델) 생성\n",
    "pr = LinearRegression()\n",
    "\n",
    "## 훈련모델 생성\n",
    "pr.fit(train_poly, train_target)"
   ]
  },
  {
   "cell_type": "code",
   "execution_count": 52,
   "id": "2cfbd1c4-89f1-4be6-b31e-93aeef253c2c",
   "metadata": {},
   "outputs": [
    {
     "data": {
      "text/plain": [
       "array([1573.98423528])"
      ]
     },
     "execution_count": 52,
     "metadata": {},
     "output_type": "execute_result"
    }
   ],
   "source": [
    "## 예측할 데이터 : 길이 50cm 의 무게\n",
    "pr.predict([[50**2,50]])"
   ]
  },
  {
   "cell_type": "code",
   "execution_count": 67,
   "id": "71e0db6d-a426-4929-959c-1c911718b0e5",
   "metadata": {},
   "outputs": [
    {
     "name": "stdout",
     "output_type": "stream",
     "text": [
      "[  1.01433211 -21.55792498] 116.0502107827827\n"
     ]
    }
   ],
   "source": [
    "## 계수 확인 (coef_, intercept_)\n",
    "print(pr.coef_, pr.intercept_)"
   ]
  },
  {
   "cell_type": "code",
   "execution_count": 74,
   "id": "831d2cd0-29eb-4d0a-8307-2ef6a42ca628",
   "metadata": {},
   "outputs": [
    {
     "data": {
      "text/plain": [
       "[<matplotlib.lines.Line2D at 0x2ac50757700>]"
      ]
     },
     "execution_count": 74,
     "metadata": {},
     "output_type": "execute_result"
    },
    {
     "data": {
      "image/png": "[encoded data removed]",
      "text/plain": [
       "<Figure size 432x288 with 1 Axes>"
      ]
     },
     "metadata": {
      "needs_background": "light"
     },
     "output_type": "display_data"
    }
   ],
   "source": [
    "## 산점도 그리기 : 훈련데이터, 예측데이터, 추세선\n",
    "plt.scatter(train_data, train_target)\n",
    "plt.scatter(50,1573.98423528)\n",
    "\n",
    "x = np.arange(15,51)    # 15~50\n",
    "plt.plot(x, pr.coef_[0]*(x**2) + pr.coef_[1]*x + pr.intercept_, c = 'r')\n",
    "# 1.01*(x**2) -21.56*x + 116.05"
   ]
  },
  {
   "cell_type": "code",
   "execution_count": 73,
   "id": "9469a35c-8104-4288-9f62-78834fd72688",
   "metadata": {},
   "outputs": [
    {
     "data": {
      "text/plain": [
       "array([15, 16, 17, 18, 19, 20, 21, 22, 23, 24, 25, 26, 27, 28, 29, 30, 31,\n",
       "       32, 33, 34, 35, 36, 37, 38, 39, 40, 41, 42, 43, 44, 45, 46, 47, 48,\n",
       "       49, 50])"
      ]
     },
     "execution_count": 73,
     "metadata": {},
     "output_type": "execute_result"
    }
   ],
   "source": [
    "x"
   ]
  },
  {
   "cell_type": "code",
   "execution_count": 64,
   "id": "fb246267-fb25-4931-9529-0b9400b26e99",
   "metadata": {},
   "outputs": [
    {
     "name": "stdout",
     "output_type": "stream",
     "text": [
      "0.9706807451768623\n",
      "0.9775935108325122\n"
     ]
    }
   ],
   "source": [
    "print(pr.score(train_poly, train_target))\n",
    "print(pr.score(test_poly, test_target))"
   ]
  },
  {
   "cell_type": "code",
   "execution_count": null,
   "id": "dde641e4-24ff-42e2-b21b-97fa00cd5a89",
   "metadata": {
    "tags": []
   },
   "outputs": [],
   "source": [
    "'''\n",
    "(해석)\n",
    "전체적으로 정확도는 낮아졌으나, \n",
    "훈련/테스트의 결정계수는 유사하게 가까워졌기때문에 우수한 모델이라고 할 수 있다.\n",
    "다만, 아직 훈련이 테스트보다 낮은 과소적합을 보이고 있다.\n",
    "\n",
    "그럼 어떻게 해야할까?\n",
    "과소적합을 해소하기 위해 복잡도를 줄 수 있는 모델을 찾아야 한다.\n",
    "선형회귀분석에서 복잡도를 주기 위해서는 항목을 추가하는 방법이 있다.\n",
    "항목(특성)을 추가할수록 계산의 복잡도가 증가하기 때문이다.\n",
    "\n",
    "그럼 특성을 추가하여 2개 이상의 독립변수가 존재하는 다중회귀분석을 사용해보자.\n",
    "\n",
    "(참고)\n",
    "과소적합 해소가 되지 않았다. \n",
    "현업에선 현실적으로 나올수 있는 수치로 보아 사용하지만 연구나 검증, 특허 등에선 사용할 수 있다.\n",
    "'''"
   ]
  }
 ],
 "metadata": {
  "kernelspec": {
   "display_name": "ml_kernel",
   "language": "python",
   "name": "ml"
  },
  "language_info": {
   "codemirror_mode": {
    "name": "ipython",
    "version": 3
   },
   "file_extension": ".py",
   "mimetype": "text/x-python",
   "name": "python",
   "nbconvert_exporter": "python",
   "pygments_lexer": "ipython3",
   "version": "3.9.12"
  }
 },
 "nbformat": 4,
 "nbformat_minor": 5
}
