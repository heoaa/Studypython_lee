{
 "cells": [
  {
   "cell_type": "markdown",
   "id": "8743ac7e-b54b-47ab-899d-29c77f65d109",
   "metadata": {},
   "source": [
    "## 로지스틱 회귀 분류"
   ]
  },
  {
   "cell_type": "markdown",
   "id": "99f781df-1168-4f02-9fc8-7ad412f4088d",
   "metadata": {},
   "source": [
    "### 1) 데이터 준비"
   ]
  },
  {
   "cell_type": "code",
   "execution_count": 1,
   "id": "56b260c6-3717-4b25-a34e-d6db79852264",
   "metadata": {},
   "outputs": [],
   "source": [
    "import pandas as pd"
   ]
  },
  {
   "cell_type": "code",
   "execution_count": 3,
   "id": "062f11fe-33e1-4702-b15c-6464cdd060a6",
   "metadata": {},
   "outputs": [
    {
     "data": {
      "text/html": [
       "<div>\n",
       "<style scoped>\n",
       "    .dataframe tbody tr th:only-of-type {\n",
       "        vertical-align: middle;\n",
       "    }\n",
       "\n",
       "    .dataframe tbody tr th {\n",
       "        vertical-align: top;\n",
       "    }\n",
       "\n",
       "    .dataframe thead th {\n",
       "        text-align: right;\n",
       "    }\n",
       "</style>\n",
       "<table border=\"1\" class=\"dataframe\">\n",
       "  <thead>\n",
       "    <tr style=\"text-align: right;\">\n",
       "      <th></th>\n",
       "      <th>Species</th>\n",
       "      <th>Weight</th>\n",
       "      <th>Length</th>\n",
       "      <th>Diagonal</th>\n",
       "      <th>Height</th>\n",
       "      <th>Width</th>\n",
       "    </tr>\n",
       "  </thead>\n",
       "  <tbody>\n",
       "    <tr>\n",
       "      <th>0</th>\n",
       "      <td>Bream</td>\n",
       "      <td>242.0</td>\n",
       "      <td>25.4</td>\n",
       "      <td>30.0</td>\n",
       "      <td>11.5200</td>\n",
       "      <td>4.0200</td>\n",
       "    </tr>\n",
       "    <tr>\n",
       "      <th>1</th>\n",
       "      <td>Bream</td>\n",
       "      <td>290.0</td>\n",
       "      <td>26.3</td>\n",
       "      <td>31.2</td>\n",
       "      <td>12.4800</td>\n",
       "      <td>4.3056</td>\n",
       "    </tr>\n",
       "    <tr>\n",
       "      <th>2</th>\n",
       "      <td>Bream</td>\n",
       "      <td>340.0</td>\n",
       "      <td>26.5</td>\n",
       "      <td>31.1</td>\n",
       "      <td>12.3778</td>\n",
       "      <td>4.6961</td>\n",
       "    </tr>\n",
       "    <tr>\n",
       "      <th>3</th>\n",
       "      <td>Bream</td>\n",
       "      <td>363.0</td>\n",
       "      <td>29.0</td>\n",
       "      <td>33.5</td>\n",
       "      <td>12.7300</td>\n",
       "      <td>4.4555</td>\n",
       "    </tr>\n",
       "    <tr>\n",
       "      <th>4</th>\n",
       "      <td>Bream</td>\n",
       "      <td>430.0</td>\n",
       "      <td>29.0</td>\n",
       "      <td>34.0</td>\n",
       "      <td>12.4440</td>\n",
       "      <td>5.1340</td>\n",
       "    </tr>\n",
       "    <tr>\n",
       "      <th>...</th>\n",
       "      <td>...</td>\n",
       "      <td>...</td>\n",
       "      <td>...</td>\n",
       "      <td>...</td>\n",
       "      <td>...</td>\n",
       "      <td>...</td>\n",
       "    </tr>\n",
       "    <tr>\n",
       "      <th>154</th>\n",
       "      <td>Smelt</td>\n",
       "      <td>12.2</td>\n",
       "      <td>12.2</td>\n",
       "      <td>13.4</td>\n",
       "      <td>2.0904</td>\n",
       "      <td>1.3936</td>\n",
       "    </tr>\n",
       "    <tr>\n",
       "      <th>155</th>\n",
       "      <td>Smelt</td>\n",
       "      <td>13.4</td>\n",
       "      <td>12.4</td>\n",
       "      <td>13.5</td>\n",
       "      <td>2.4300</td>\n",
       "      <td>1.2690</td>\n",
       "    </tr>\n",
       "    <tr>\n",
       "      <th>156</th>\n",
       "      <td>Smelt</td>\n",
       "      <td>12.2</td>\n",
       "      <td>13.0</td>\n",
       "      <td>13.8</td>\n",
       "      <td>2.2770</td>\n",
       "      <td>1.2558</td>\n",
       "    </tr>\n",
       "    <tr>\n",
       "      <th>157</th>\n",
       "      <td>Smelt</td>\n",
       "      <td>19.7</td>\n",
       "      <td>14.3</td>\n",
       "      <td>15.2</td>\n",
       "      <td>2.8728</td>\n",
       "      <td>2.0672</td>\n",
       "    </tr>\n",
       "    <tr>\n",
       "      <th>158</th>\n",
       "      <td>Smelt</td>\n",
       "      <td>19.9</td>\n",
       "      <td>15.0</td>\n",
       "      <td>16.2</td>\n",
       "      <td>2.9322</td>\n",
       "      <td>1.8792</td>\n",
       "    </tr>\n",
       "  </tbody>\n",
       "</table>\n",
       "<p>159 rows × 6 columns</p>\n",
       "</div>"
      ],
      "text/plain": [
       "    Species  Weight  Length  Diagonal   Height   Width\n",
       "0     Bream   242.0    25.4      30.0  11.5200  4.0200\n",
       "1     Bream   290.0    26.3      31.2  12.4800  4.3056\n",
       "2     Bream   340.0    26.5      31.1  12.3778  4.6961\n",
       "3     Bream   363.0    29.0      33.5  12.7300  4.4555\n",
       "4     Bream   430.0    29.0      34.0  12.4440  5.1340\n",
       "..      ...     ...     ...       ...      ...     ...\n",
       "154   Smelt    12.2    12.2      13.4   2.0904  1.3936\n",
       "155   Smelt    13.4    12.4      13.5   2.4300  1.2690\n",
       "156   Smelt    12.2    13.0      13.8   2.2770  1.2558\n",
       "157   Smelt    19.7    14.3      15.2   2.8728  2.0672\n",
       "158   Smelt    19.9    15.0      16.2   2.9322  1.8792\n",
       "\n",
       "[159 rows x 6 columns]"
      ]
     },
     "execution_count": 3,
     "metadata": {},
     "output_type": "execute_result"
    }
   ],
   "source": [
    "## 데이터 준비하기\n",
    "file_path = '../data/05_생선_분류_데이터셋.csv'\n",
    "fish = pd.read_csv(file_path)\n",
    "fish\n",
    "\n",
    "# Species\tWeight\tLength\tDiagonal\tHeight\tWidth\n",
    "# 종류       무게     길이     대각선     높이     두께"
   ]
  },
  {
   "cell_type": "markdown",
   "id": "78fe0cf8-75d1-41a4-9f79-10af5c43569e",
   "metadata": {},
   "source": [
    "### 2) 데이터 전처리"
   ]
  },
  {
   "cell_type": "code",
   "execution_count": null,
   "id": "11548114-a6ff-41d8-b1b8-b3d9a2938e6a",
   "metadata": {},
   "outputs": [],
   "source": [
    "# 머신러닝 데이터 전처리는 독립변수와 종속변수를 \n",
    "# 훈련/테스트 데이터로 나누기 위해 각 2차원/1차원\n",
    "# 형태의 데이터셋으로 만들어주는 작업이 필요하다"
   ]
  },
  {
   "cell_type": "code",
   "execution_count": 15,
   "id": "e6a3b65d-ab6b-4d31-809e-c92d87042c5a",
   "metadata": {},
   "outputs": [
    {
     "name": "stdout",
     "output_type": "stream",
     "text": [
      "['Bream' 'Roach' 'Whitefish' 'Parkki' 'Perch' 'Pike' 'Smelt']\n",
      "7\n"
     ]
    }
   ],
   "source": [
    "## 종류 특성(종속변수)의 고유한 값 조회\n",
    "print(fish['Species'].unique())\n",
    "print(len(fish['Species'].unique()))"
   ]
  },
  {
   "cell_type": "code",
   "execution_count": 7,
   "id": "75a8e605-cb47-420b-8d53-7aadb21b2753",
   "metadata": {
    "collapsed": true,
    "jupyter": {
     "outputs_hidden": true
    },
    "tags": []
   },
   "outputs": [
    {
     "data": {
      "text/plain": [
       "array([[2.42000e+02, 2.54000e+01, 3.00000e+01, 1.15200e+01, 4.02000e+00],\n",
       "       [2.90000e+02, 2.63000e+01, 3.12000e+01, 1.24800e+01, 4.30560e+00],\n",
       "       [3.40000e+02, 2.65000e+01, 3.11000e+01, 1.23778e+01, 4.69610e+00],\n",
       "       [3.63000e+02, 2.90000e+01, 3.35000e+01, 1.27300e+01, 4.45550e+00],\n",
       "       [4.30000e+02, 2.90000e+01, 3.40000e+01, 1.24440e+01, 5.13400e+00],\n",
       "       [4.50000e+02, 2.97000e+01, 3.47000e+01, 1.36024e+01, 4.92740e+00],\n",
       "       [5.00000e+02, 2.97000e+01, 3.45000e+01, 1.41795e+01, 5.27850e+00],\n",
       "       [3.90000e+02, 3.00000e+01, 3.50000e+01, 1.26700e+01, 4.69000e+00],\n",
       "       [4.50000e+02, 3.00000e+01, 3.51000e+01, 1.40049e+01, 4.84380e+00],\n",
       "       [5.00000e+02, 3.07000e+01, 3.62000e+01, 1.42266e+01, 4.95940e+00],\n",
       "       [4.75000e+02, 3.10000e+01, 3.62000e+01, 1.42628e+01, 5.10420e+00],\n",
       "       [5.00000e+02, 3.10000e+01, 3.62000e+01, 1.43714e+01, 4.81460e+00],\n",
       "       [5.00000e+02, 3.15000e+01, 3.64000e+01, 1.37592e+01, 4.36800e+00],\n",
       "       [3.40000e+02, 3.20000e+01, 3.73000e+01, 1.39129e+01, 5.07280e+00],\n",
       "       [6.00000e+02, 3.20000e+01, 3.72000e+01, 1.49544e+01, 5.17080e+00],\n",
       "       [6.00000e+02, 3.20000e+01, 3.72000e+01, 1.54380e+01, 5.58000e+00],\n",
       "       [7.00000e+02, 3.30000e+01, 3.83000e+01, 1.48604e+01, 5.28540e+00],\n",
       "       [7.00000e+02, 3.30000e+01, 3.85000e+01, 1.49380e+01, 5.19750e+00],\n",
       "       [6.10000e+02, 3.35000e+01, 3.86000e+01, 1.56330e+01, 5.13380e+00],\n",
       "       [6.50000e+02, 3.35000e+01, 3.87000e+01, 1.44738e+01, 5.72760e+00],\n",
       "       [5.75000e+02, 3.40000e+01, 3.95000e+01, 1.51285e+01, 5.56950e+00],\n",
       "       [6.85000e+02, 3.40000e+01, 3.92000e+01, 1.59936e+01, 5.37040e+00],\n",
       "       [6.20000e+02, 3.45000e+01, 3.97000e+01, 1.55227e+01, 5.28010e+00],\n",
       "       [6.80000e+02, 3.50000e+01, 4.06000e+01, 1.54686e+01, 6.13060e+00],\n",
       "       [7.00000e+02, 3.50000e+01, 4.05000e+01, 1.62405e+01, 5.58900e+00],\n",
       "       [7.25000e+02, 3.50000e+01, 4.09000e+01, 1.63600e+01, 6.05320e+00],\n",
       "       [7.20000e+02, 3.50000e+01, 4.06000e+01, 1.63618e+01, 6.09000e+00],\n",
       "       [7.14000e+02, 3.60000e+01, 4.15000e+01, 1.65170e+01, 5.85150e+00],\n",
       "       [8.50000e+02, 3.60000e+01, 4.16000e+01, 1.68896e+01, 6.19840e+00],\n",
       "       [1.00000e+03, 3.70000e+01, 4.26000e+01, 1.89570e+01, 6.60300e+00],\n",
       "       [9.20000e+02, 3.85000e+01, 4.41000e+01, 1.80369e+01, 6.30630e+00],\n",
       "       [9.55000e+02, 3.85000e+01, 4.40000e+01, 1.80840e+01, 6.29200e+00],\n",
       "       [9.25000e+02, 3.95000e+01, 4.53000e+01, 1.87542e+01, 6.74970e+00],\n",
       "       [9.75000e+02, 4.10000e+01, 4.59000e+01, 1.86354e+01, 6.74730e+00],\n",
       "       [9.50000e+02, 4.10000e+01, 4.65000e+01, 1.76235e+01, 6.37050e+00],\n",
       "       [4.00000e+01, 1.41000e+01, 1.62000e+01, 4.14720e+00, 2.26800e+00],\n",
       "       [6.90000e+01, 1.82000e+01, 2.03000e+01, 5.29830e+00, 2.82170e+00],\n",
       "       [7.80000e+01, 1.88000e+01, 2.12000e+01, 5.57560e+00, 2.90440e+00],\n",
       "       [8.70000e+01, 1.98000e+01, 2.22000e+01, 5.61660e+00, 3.17460e+00],\n",
       "       [1.20000e+02, 2.00000e+01, 2.22000e+01, 6.21600e+00, 3.57420e+00],\n",
       "       [0.00000e+00, 2.05000e+01, 2.28000e+01, 6.47520e+00, 3.35160e+00],\n",
       "       [1.10000e+02, 2.08000e+01, 2.31000e+01, 6.16770e+00, 3.39570e+00],\n",
       "       [1.20000e+02, 2.10000e+01, 2.37000e+01, 6.11460e+00, 3.29430e+00],\n",
       "       [1.50000e+02, 2.20000e+01, 2.47000e+01, 5.80450e+00, 3.75440e+00],\n",
       "       [1.45000e+02, 2.20000e+01, 2.43000e+01, 6.63390e+00, 3.54780e+00],\n",
       "       [1.60000e+02, 2.25000e+01, 2.53000e+01, 7.03340e+00, 3.82030e+00],\n",
       "       [1.40000e+02, 2.25000e+01, 2.50000e+01, 6.55000e+00, 3.32500e+00],\n",
       "       [1.60000e+02, 2.25000e+01, 2.50000e+01, 6.40000e+00, 3.80000e+00],\n",
       "       [1.69000e+02, 2.40000e+01, 2.72000e+01, 7.53440e+00, 3.83520e+00],\n",
       "       [1.61000e+02, 2.34000e+01, 2.67000e+01, 6.91530e+00, 3.63120e+00],\n",
       "       [2.00000e+02, 2.35000e+01, 2.68000e+01, 7.39680e+00, 4.12720e+00],\n",
       "       [1.80000e+02, 2.52000e+01, 2.79000e+01, 7.08660e+00, 3.90600e+00],\n",
       "       [2.90000e+02, 2.60000e+01, 2.92000e+01, 8.87680e+00, 4.49680e+00],\n",
       "       [2.72000e+02, 2.70000e+01, 3.06000e+01, 8.56800e+00, 4.77360e+00],\n",
       "       [3.90000e+02, 3.17000e+01, 3.50000e+01, 9.48500e+00, 5.35500e+00],\n",
       "       [2.70000e+02, 2.60000e+01, 2.87000e+01, 8.38040e+00, 4.24760e+00],\n",
       "       [2.70000e+02, 2.65000e+01, 2.93000e+01, 8.14540e+00, 4.24850e+00],\n",
       "       [3.06000e+02, 2.80000e+01, 3.08000e+01, 8.77800e+00, 4.68160e+00],\n",
       "       [5.40000e+02, 3.10000e+01, 3.40000e+01, 1.07440e+01, 6.56200e+00],\n",
       "       [8.00000e+02, 3.64000e+01, 3.96000e+01, 1.17612e+01, 6.57360e+00],\n",
       "       [1.00000e+03, 4.00000e+01, 4.35000e+01, 1.23540e+01, 6.52500e+00],\n",
       "       [5.50000e+01, 1.47000e+01, 1.65000e+01, 6.84750e+00, 2.32650e+00],\n",
       "       [6.00000e+01, 1.55000e+01, 1.74000e+01, 6.57720e+00, 2.31420e+00],\n",
       "       [9.00000e+01, 1.77000e+01, 1.98000e+01, 7.40520e+00, 2.67300e+00],\n",
       "       [1.20000e+02, 1.90000e+01, 2.13000e+01, 8.39220e+00, 2.91810e+00],\n",
       "       [1.50000e+02, 2.00000e+01, 2.24000e+01, 8.89280e+00, 3.29280e+00],\n",
       "       [1.40000e+02, 2.07000e+01, 2.32000e+01, 8.53760e+00, 3.29440e+00],\n",
       "       [1.70000e+02, 2.07000e+01, 2.32000e+01, 9.39600e+00, 3.41040e+00],\n",
       "       [1.45000e+02, 2.15000e+01, 2.41000e+01, 9.73640e+00, 3.15710e+00],\n",
       "       [2.00000e+02, 2.30000e+01, 2.58000e+01, 1.03458e+01, 3.66360e+00],\n",
       "       [2.73000e+02, 2.50000e+01, 2.80000e+01, 1.10880e+01, 4.14400e+00],\n",
       "       [3.00000e+02, 2.60000e+01, 2.90000e+01, 1.13680e+01, 4.23400e+00],\n",
       "       [5.90000e+00, 8.40000e+00, 8.80000e+00, 2.11200e+00, 1.40800e+00],\n",
       "       [3.20000e+01, 1.37000e+01, 1.47000e+01, 3.52800e+00, 1.99920e+00],\n",
       "       [4.00000e+01, 1.50000e+01, 1.60000e+01, 3.82400e+00, 2.43200e+00],\n",
       "       [5.15000e+01, 1.62000e+01, 1.72000e+01, 4.59240e+00, 2.63160e+00],\n",
       "       [7.00000e+01, 1.74000e+01, 1.85000e+01, 4.58800e+00, 2.94150e+00],\n",
       "       [1.00000e+02, 1.80000e+01, 1.92000e+01, 5.22240e+00, 3.32160e+00],\n",
       "       [7.80000e+01, 1.87000e+01, 1.94000e+01, 5.19920e+00, 3.12340e+00],\n",
       "       [8.00000e+01, 1.90000e+01, 2.02000e+01, 5.63580e+00, 3.05020e+00],\n",
       "       [8.50000e+01, 1.96000e+01, 2.08000e+01, 5.13760e+00, 3.03680e+00],\n",
       "       [8.50000e+01, 2.00000e+01, 2.10000e+01, 5.08200e+00, 2.77200e+00],\n",
       "       [1.10000e+02, 2.10000e+01, 2.25000e+01, 5.69250e+00, 3.55500e+00],\n",
       "       [1.15000e+02, 2.10000e+01, 2.25000e+01, 5.91750e+00, 3.30750e+00],\n",
       "       [1.25000e+02, 2.10000e+01, 2.25000e+01, 5.69250e+00, 3.66750e+00],\n",
       "       [1.30000e+02, 2.13000e+01, 2.28000e+01, 6.38400e+00, 3.53400e+00],\n",
       "       [1.20000e+02, 2.20000e+01, 2.35000e+01, 6.11000e+00, 3.40750e+00],\n",
       "       [1.20000e+02, 2.20000e+01, 2.35000e+01, 5.64000e+00, 3.52500e+00],\n",
       "       [1.30000e+02, 2.20000e+01, 2.35000e+01, 6.11000e+00, 3.52500e+00],\n",
       "       [1.35000e+02, 2.20000e+01, 2.35000e+01, 5.87500e+00, 3.52500e+00],\n",
       "       [1.10000e+02, 2.20000e+01, 2.35000e+01, 5.52250e+00, 3.99500e+00],\n",
       "       [1.30000e+02, 2.25000e+01, 2.40000e+01, 5.85600e+00, 3.62400e+00],\n",
       "       [1.50000e+02, 2.25000e+01, 2.40000e+01, 6.79200e+00, 3.62400e+00],\n",
       "       [1.45000e+02, 2.27000e+01, 2.42000e+01, 5.95320e+00, 3.63000e+00],\n",
       "       [1.50000e+02, 2.30000e+01, 2.45000e+01, 5.21850e+00, 3.62600e+00],\n",
       "       [1.70000e+02, 2.35000e+01, 2.50000e+01, 6.27500e+00, 3.72500e+00],\n",
       "       [2.25000e+02, 2.40000e+01, 2.55000e+01, 7.29300e+00, 3.72300e+00],\n",
       "       [1.45000e+02, 2.40000e+01, 2.55000e+01, 6.37500e+00, 3.82500e+00],\n",
       "       [1.88000e+02, 2.46000e+01, 2.62000e+01, 6.73340e+00, 4.16580e+00],\n",
       "       [1.80000e+02, 2.50000e+01, 2.65000e+01, 6.43950e+00, 3.68350e+00],\n",
       "       [1.97000e+02, 2.56000e+01, 2.70000e+01, 6.56100e+00, 4.23900e+00],\n",
       "       [2.18000e+02, 2.65000e+01, 2.80000e+01, 7.16800e+00, 4.14400e+00],\n",
       "       [3.00000e+02, 2.73000e+01, 2.87000e+01, 8.32300e+00, 5.13730e+00],\n",
       "       [2.60000e+02, 2.75000e+01, 2.89000e+01, 7.16720e+00, 4.33500e+00],\n",
       "       [2.65000e+02, 2.75000e+01, 2.89000e+01, 7.05160e+00, 4.33500e+00],\n",
       "       [2.50000e+02, 2.75000e+01, 2.89000e+01, 7.28280e+00, 4.56620e+00],\n",
       "       [2.50000e+02, 2.80000e+01, 2.94000e+01, 7.82040e+00, 4.20420e+00],\n",
       "       [3.00000e+02, 2.87000e+01, 3.01000e+01, 7.58520e+00, 4.63540e+00],\n",
       "       [3.20000e+02, 3.00000e+01, 3.16000e+01, 7.61560e+00, 4.77160e+00],\n",
       "       [5.14000e+02, 3.28000e+01, 3.40000e+01, 1.00300e+01, 6.01800e+00],\n",
       "       [5.56000e+02, 3.45000e+01, 3.65000e+01, 1.02565e+01, 6.38750e+00],\n",
       "       [8.40000e+02, 3.50000e+01, 3.73000e+01, 1.14884e+01, 7.79570e+00],\n",
       "       [6.85000e+02, 3.65000e+01, 3.90000e+01, 1.08810e+01, 6.86400e+00],\n",
       "       [7.00000e+02, 3.60000e+01, 3.83000e+01, 1.06091e+01, 6.74080e+00],\n",
       "       [7.00000e+02, 3.70000e+01, 3.94000e+01, 1.08350e+01, 6.26460e+00],\n",
       "       [6.90000e+02, 3.70000e+01, 3.93000e+01, 1.05717e+01, 6.36660e+00],\n",
       "       [9.00000e+02, 3.90000e+01, 4.14000e+01, 1.11366e+01, 7.49340e+00],\n",
       "       [6.50000e+02, 3.90000e+01, 4.14000e+01, 1.11366e+01, 6.00300e+00],\n",
       "       [8.20000e+02, 3.90000e+01, 4.13000e+01, 1.24313e+01, 7.35140e+00],\n",
       "       [8.50000e+02, 4.00000e+01, 4.23000e+01, 1.19286e+01, 7.10640e+00],\n",
       "       [9.00000e+02, 4.00000e+01, 4.25000e+01, 1.17300e+01, 7.22500e+00],\n",
       "       [1.01500e+03, 4.00000e+01, 4.24000e+01, 1.23808e+01, 7.46240e+00],\n",
       "       [8.20000e+02, 4.00000e+01, 4.25000e+01, 1.11350e+01, 6.63000e+00],\n",
       "       [1.10000e+03, 4.20000e+01, 4.46000e+01, 1.28002e+01, 6.86840e+00],\n",
       "       [1.00000e+03, 4.30000e+01, 4.52000e+01, 1.19328e+01, 7.27720e+00],\n",
       "       [1.10000e+03, 4.30000e+01, 4.55000e+01, 1.25125e+01, 7.41650e+00],\n",
       "       [1.00000e+03, 4.35000e+01, 4.60000e+01, 1.26040e+01, 8.14200e+00],\n",
       "       [1.00000e+03, 4.40000e+01, 4.66000e+01, 1.24888e+01, 7.59580e+00],\n",
       "       [2.00000e+02, 3.23000e+01, 3.48000e+01, 5.56800e+00, 3.37560e+00],\n",
       "       [3.00000e+02, 3.40000e+01, 3.78000e+01, 5.70780e+00, 4.15800e+00],\n",
       "       [3.00000e+02, 3.50000e+01, 3.88000e+01, 5.93640e+00, 4.38440e+00],\n",
       "       [3.00000e+02, 3.73000e+01, 3.98000e+01, 6.28840e+00, 4.01980e+00],\n",
       "       [4.30000e+02, 3.80000e+01, 4.05000e+01, 7.29000e+00, 4.57650e+00],\n",
       "       [3.45000e+02, 3.85000e+01, 4.10000e+01, 6.39600e+00, 3.97700e+00],\n",
       "       [4.56000e+02, 4.25000e+01, 4.55000e+01, 7.28000e+00, 4.32250e+00],\n",
       "       [5.10000e+02, 4.25000e+01, 4.55000e+01, 6.82500e+00, 4.45900e+00],\n",
       "       [5.40000e+02, 4.30000e+01, 4.58000e+01, 7.78600e+00, 5.12960e+00],\n",
       "       [5.00000e+02, 4.50000e+01, 4.80000e+01, 6.96000e+00, 4.89600e+00],\n",
       "       [5.67000e+02, 4.60000e+01, 4.87000e+01, 7.79200e+00, 4.87000e+00],\n",
       "       [7.70000e+02, 4.80000e+01, 5.12000e+01, 7.68000e+00, 5.37600e+00],\n",
       "       [9.50000e+02, 5.17000e+01, 5.51000e+01, 8.92620e+00, 6.17120e+00],\n",
       "       [1.25000e+03, 5.60000e+01, 5.97000e+01, 1.06863e+01, 6.98490e+00],\n",
       "       [1.60000e+03, 6.00000e+01, 6.40000e+01, 9.60000e+00, 6.14400e+00],\n",
       "       [1.55000e+03, 6.00000e+01, 6.40000e+01, 9.60000e+00, 6.14400e+00],\n",
       "       [1.65000e+03, 6.34000e+01, 6.80000e+01, 1.08120e+01, 7.48000e+00],\n",
       "       [6.70000e+00, 9.80000e+00, 1.08000e+01, 1.73880e+00, 1.04760e+00],\n",
       "       [7.50000e+00, 1.05000e+01, 1.16000e+01, 1.97200e+00, 1.16000e+00],\n",
       "       [7.00000e+00, 1.06000e+01, 1.16000e+01, 1.72840e+00, 1.14840e+00],\n",
       "       [9.70000e+00, 1.10000e+01, 1.20000e+01, 2.19600e+00, 1.38000e+00],\n",
       "       [9.80000e+00, 1.12000e+01, 1.24000e+01, 2.08320e+00, 1.27720e+00],\n",
       "       [8.70000e+00, 1.13000e+01, 1.26000e+01, 1.97820e+00, 1.28520e+00],\n",
       "       [1.00000e+01, 1.18000e+01, 1.31000e+01, 2.21390e+00, 1.28380e+00],\n",
       "       [9.90000e+00, 1.18000e+01, 1.31000e+01, 2.21390e+00, 1.16590e+00],\n",
       "       [9.80000e+00, 1.20000e+01, 1.32000e+01, 2.20440e+00, 1.14840e+00],\n",
       "       [1.22000e+01, 1.22000e+01, 1.34000e+01, 2.09040e+00, 1.39360e+00],\n",
       "       [1.34000e+01, 1.24000e+01, 1.35000e+01, 2.43000e+00, 1.26900e+00],\n",
       "       [1.22000e+01, 1.30000e+01, 1.38000e+01, 2.27700e+00, 1.25580e+00],\n",
       "       [1.97000e+01, 1.43000e+01, 1.52000e+01, 2.87280e+00, 2.06720e+00],\n",
       "       [1.99000e+01, 1.50000e+01, 1.62000e+01, 2.93220e+00, 1.87920e+00]])"
      ]
     },
     "execution_count": 7,
     "metadata": {},
     "output_type": "execute_result"
    }
   ],
   "source": [
    "## 독립변수 추출\n",
    "# - 변수명은 fish_data\n",
    "# - 사이킷런 훈련에 사용하는 형태로 추출\n",
    "fish_data = fish[['Weight','Length','Diagonal','Height','Width']].to_numpy()\n",
    "fish_data"
   ]
  },
  {
   "cell_type": "code",
   "execution_count": 14,
   "id": "5d70e4dd-cf8b-42b5-ad9d-19560fa89093",
   "metadata": {},
   "outputs": [
    {
     "data": {
      "text/plain": [
       "array([[242.    ,  25.4   ,  30.    ,  11.52  ,   4.02  ],\n",
       "       [290.    ,  26.3   ,  31.2   ,  12.48  ,   4.3056],\n",
       "       [340.    ,  26.5   ,  31.1   ,  12.3778,   4.6961],\n",
       "       [363.    ,  29.    ,  33.5   ,  12.73  ,   4.4555],\n",
       "       [430.    ,  29.    ,  34.    ,  12.444 ,   5.134 ]])"
      ]
     },
     "execution_count": 14,
     "metadata": {},
     "output_type": "execute_result"
    }
   ],
   "source": [
    "# 상위 5개 추출\n",
    "fish_data[:5]"
   ]
  },
  {
   "cell_type": "code",
   "execution_count": 11,
   "id": "beca2e4d-22fb-4802-82fe-169f9c109ab7",
   "metadata": {},
   "outputs": [
    {
     "data": {
      "text/plain": [
       "array(['Bream', 'Bream', 'Bream', 'Bream', 'Bream', 'Bream', 'Bream',\n",
       "       'Bream', 'Bream', 'Bream', 'Bream', 'Bream', 'Bream', 'Bream',\n",
       "       'Bream', 'Bream', 'Bream', 'Bream', 'Bream', 'Bream', 'Bream',\n",
       "       'Bream', 'Bream', 'Bream', 'Bream', 'Bream', 'Bream', 'Bream',\n",
       "       'Bream', 'Bream', 'Bream', 'Bream', 'Bream', 'Bream', 'Bream',\n",
       "       'Roach', 'Roach', 'Roach', 'Roach', 'Roach', 'Roach', 'Roach',\n",
       "       'Roach', 'Roach', 'Roach', 'Roach', 'Roach', 'Roach', 'Roach',\n",
       "       'Roach', 'Roach', 'Roach', 'Roach', 'Roach', 'Roach', 'Whitefish',\n",
       "       'Whitefish', 'Whitefish', 'Whitefish', 'Whitefish', 'Whitefish',\n",
       "       'Parkki', 'Parkki', 'Parkki', 'Parkki', 'Parkki', 'Parkki',\n",
       "       'Parkki', 'Parkki', 'Parkki', 'Parkki', 'Parkki', 'Perch', 'Perch',\n",
       "       'Perch', 'Perch', 'Perch', 'Perch', 'Perch', 'Perch', 'Perch',\n",
       "       'Perch', 'Perch', 'Perch', 'Perch', 'Perch', 'Perch', 'Perch',\n",
       "       'Perch', 'Perch', 'Perch', 'Perch', 'Perch', 'Perch', 'Perch',\n",
       "       'Perch', 'Perch', 'Perch', 'Perch', 'Perch', 'Perch', 'Perch',\n",
       "       'Perch', 'Perch', 'Perch', 'Perch', 'Perch', 'Perch', 'Perch',\n",
       "       'Perch', 'Perch', 'Perch', 'Perch', 'Perch', 'Perch', 'Perch',\n",
       "       'Perch', 'Perch', 'Perch', 'Perch', 'Perch', 'Perch', 'Perch',\n",
       "       'Perch', 'Perch', 'Perch', 'Perch', 'Perch', 'Pike', 'Pike',\n",
       "       'Pike', 'Pike', 'Pike', 'Pike', 'Pike', 'Pike', 'Pike', 'Pike',\n",
       "       'Pike', 'Pike', 'Pike', 'Pike', 'Pike', 'Pike', 'Pike', 'Smelt',\n",
       "       'Smelt', 'Smelt', 'Smelt', 'Smelt', 'Smelt', 'Smelt', 'Smelt',\n",
       "       'Smelt', 'Smelt', 'Smelt', 'Smelt', 'Smelt', 'Smelt'], dtype=object)"
      ]
     },
     "execution_count": 11,
     "metadata": {},
     "output_type": "execute_result"
    }
   ],
   "source": [
    "## 종속변수 만들기\n",
    "# - 변수명 : fish_target\n",
    "fish_target = fish['Species'].to_numpy()\n",
    "fish_target"
   ]
  },
  {
   "cell_type": "code",
   "execution_count": null,
   "id": "10c6d6b9-60c4-4410-b485-b461e1894c1a",
   "metadata": {},
   "outputs": [],
   "source": [
    "## 훈련/테스트데이터 나누기\n",
    "# - seed = 42"
   ]
  },
  {
   "cell_type": "code",
   "execution_count": 12,
   "id": "f0037e4b-7727-4dd5-8dfb-7c7668594d4d",
   "metadata": {},
   "outputs": [],
   "source": [
    "from sklearn.model_selection import train_test_split"
   ]
  },
  {
   "cell_type": "code",
   "execution_count": 18,
   "id": "4cc7c7fb-8ec7-47ba-bb68-3713a793c9ad",
   "metadata": {},
   "outputs": [
    {
     "name": "stdout",
     "output_type": "stream",
     "text": [
      "(119, 5)\n",
      "(40, 5)\n",
      "(119,)\n",
      "(40,)\n"
     ]
    }
   ],
   "source": [
    "train_data, test_data, train_target, test_target = train_test_split(\n",
    "    fish_data, fish_target, random_state=42)\n",
    "\n",
    "# 차원 확인\n",
    "print(train_data.shape)\n",
    "print(test_data.shape)\n",
    "print(train_target.shape)\n",
    "print(test_target.shape)"
   ]
  },
  {
   "cell_type": "markdown",
   "id": "97530e1c-e3be-49cb-8392-25198826234d",
   "metadata": {},
   "source": [
    "### 3) 정규화(표준화) - 스케일링"
   ]
  },
  {
   "cell_type": "code",
   "execution_count": 19,
   "id": "7008f125-9e6d-4d42-815e-97874f9b343a",
   "metadata": {},
   "outputs": [],
   "source": [
    "### 정규화(표준화) : 스케일 표준화\n",
    "# - 변수 : train_scaled, test_scaled\n",
    "import numpy as np"
   ]
  },
  {
   "cell_type": "code",
   "execution_count": 25,
   "id": "cf5c4727-dc5d-4846-b4b1-a73fea56eb81",
   "metadata": {},
   "outputs": [
    {
     "data": {
      "text/plain": [
       "array([[ 0.91965782,  0.60943175,  0.81041221,  1.85194896,  1.00075672],\n",
       "       [ 0.30041219,  1.54653445,  1.45316551, -0.46981663,  0.27291745],\n",
       "       [-1.0858536 , -1.68646987, -1.70848587, -1.70159849, -2.0044758 ],\n",
       "       [-0.79734143, -0.60880176, -0.67486907, -0.82480589, -0.27631471],\n",
       "       [-0.71289885, -0.73062511, -0.70092664, -0.0802298 , -0.7033869 ]])"
      ]
     },
     "execution_count": 25,
     "metadata": {},
     "output_type": "execute_result"
    }
   ],
   "source": [
    "### 정규화(표준화)\n",
    "# 1. 정규화 : 스케일이 다른 항목들을 \"표준점수\"로 동일하게 표준화시키기\n",
    "#   - 표준점수는 사이킷런에서 제공하는 클래스(모델) 사용\n",
    "\n",
    "#  <정규화 순서>\n",
    "#   1.1 정규화(표준점수) 클래스 생성 : StandardScaler()\n",
    "#   1.2 훈련 시키기 : fit(훈련데이터) -> 스스로 표준점수 생성\n",
    "#   1.3 변환하기 : transform(훈련데이터) -> 표준점수로 변환하기\n",
    "#   1.4 표준점수에 사용된 5개 항목에 대한 평균과, 표준편차 확인\n",
    "#      - StandardScaler 클래스 내에 mean_, scale_ 변수에 저장되어 있음\n",
    "\n",
    "## 라이브러리 생성\n",
    "from sklearn.preprocessing import StandardScaler\n",
    "\n",
    "## 클래스(모델) 생성\n",
    "ss = StandardScaler()\n",
    "\n",
    "## 스스로 표준점수 생성\n",
    "ss.fit(train_data)\n",
    "\n",
    "## 훈련데이터를 표준점수로 변환하기\n",
    "train_scaled = ss.transform(train_data)\n",
    "## 테스트데이터를 표준점수로 변환하기\n",
    "test_scaled = ss.transform(test_data)\n",
    "\n",
    "## 샘플 5개 행 출력해 보기\n",
    "train_scaled[:5]"
   ]
  },
  {
   "cell_type": "markdown",
   "id": "9e932aa1-d6ff-4c8e-9fed-599c7f731180",
   "metadata": {},
   "source": [
    "### 4) k-최근접이웃 분류 모델 테스트"
   ]
  },
  {
   "cell_type": "code",
   "execution_count": 26,
   "id": "df2ebb1f-fe5d-4bcd-887e-1fde671ccca8",
   "metadata": {},
   "outputs": [],
   "source": [
    "### k-최근접이웃 분류모델로 테스트\n",
    "import matplotlib.pyplot as plt\n",
    "from sklearn.neighbors import KNeighborsClassifier"
   ]
  },
  {
   "cell_type": "code",
   "execution_count": 31,
   "id": "10941a76-b6f7-4fa7-b085-4b4db6244cf0",
   "metadata": {},
   "outputs": [
    {
     "name": "stdout",
     "output_type": "stream",
     "text": [
      "0.8907563025210085\n",
      "0.85\n"
     ]
    }
   ],
   "source": [
    "kn = KNeighborsClassifier(n_neighbors=3)\n",
    "\n",
    "kn.fit(train_scaled, train_target)\n",
    "print(kn.score(train_scaled, train_target))\n",
    "print(kn.score(test_scaled, test_target))"
   ]
  },
  {
   "cell_type": "code",
   "execution_count": null,
   "id": "bd3317db-7bae-480e-8ef5-c15b9f1d49c7",
   "metadata": {},
   "outputs": [],
   "source": [
    "'''\n",
    "훈련데이터 정확도가 테스트데이터 정확도보다 크므로 과대적합이 있을 가능성이 있다.\n",
    "하지만 훈련데이터 정확도가 좋게 나왔다.\n",
    "'''"
   ]
  },
  {
   "cell_type": "code",
   "execution_count": 35,
   "id": "824c63c9-9a84-4701-a009-51bd6f165e3a",
   "metadata": {},
   "outputs": [
    {
     "data": {
      "text/plain": [
       "array([['Perch', 'Perch'],\n",
       "       ['Smelt', 'Smelt'],\n",
       "       ['Pike', 'Pike'],\n",
       "       ['Whitefish', 'Perch'],\n",
       "       ['Perch', 'Perch']], dtype=object)"
      ]
     },
     "execution_count": 35,
     "metadata": {},
     "output_type": "execute_result"
    }
   ],
   "source": [
    "### 테스트데이터 상위 5개로 예측\n",
    "# [[실제값, 예측값], [실제값, 예측값]]\n",
    "result = np.column_stack((test_target[:5], kn.predict(test_scaled[:5])))\n",
    "result"
   ]
  },
  {
   "cell_type": "code",
   "execution_count": 41,
   "id": "aa7cd508-efce-4345-8b23-00d13bc5f97e",
   "metadata": {
    "tags": []
   },
   "outputs": [
    {
     "data": {
      "text/plain": [
       "array([[0.    , 0.    , 1.    , 0.    , 0.    , 0.    , 0.    ],\n",
       "       [0.    , 0.    , 0.    , 0.    , 0.    , 1.    , 0.    ],\n",
       "       [0.    , 0.    , 0.    , 1.    , 0.    , 0.    , 0.    ],\n",
       "       [0.    , 0.    , 0.6667, 0.    , 0.3333, 0.    , 0.    ],\n",
       "       [0.    , 0.    , 0.6667, 0.    , 0.3333, 0.    , 0.    ]])"
      ]
     },
     "execution_count": 41,
     "metadata": {},
     "output_type": "execute_result"
    }
   ],
   "source": [
    "## 각 행의 범주율의 확률값 확인\n",
    "# - 확률값의 범위 : 0~1 (0%~100%)\n",
    "# - 확률값 조회 함수 : predict_proba(테스트데이터)\n",
    "# - 사이킷런 분류보델 공통으로 사용됨\n",
    "proba = kn.predict_proba(test_scaled[:5])\n",
    "# proba\n",
    "np.round(proba, decimals=4)"
   ]
  },
  {
   "attachments": {
    "42c243b8-4911-4f41-a1b3-ba3971787335.png": {
     "image/png": "[encoded data removed]"
    }
   },
   "cell_type": "markdown",
   "id": "dd5c573a-0cd7-4291-b036-5277d1840c2a",
   "metadata": {},
   "source": [
    "---\n",
    "![image.png](attachment:42c243b8-4911-4f41-a1b3-ba3971787335.png)\n",
    "\n",
    "---"
   ]
  },
  {
   "cell_type": "code",
   "execution_count": 43,
   "id": "7af73735-6f88-44fb-88f3-2aaad98ea6fe",
   "metadata": {},
   "outputs": [
    {
     "name": "stdout",
     "output_type": "stream",
     "text": [
      "['Bream' 'Roach' 'Whitefish' 'Parkki' 'Perch' 'Pike' 'Smelt']\n"
     ]
    }
   ],
   "source": [
    "print(fish['Species'].unique())"
   ]
  },
  {
   "cell_type": "code",
   "execution_count": 45,
   "id": "cc50c8aa-a4a2-4a52-8a3b-c2a8a8504544",
   "metadata": {},
   "outputs": [
    {
     "name": "stdout",
     "output_type": "stream",
     "text": [
      "['Bream' 'Parkki' 'Perch' 'Pike' 'Roach' 'Smelt' 'Whitefish']\n"
     ]
    }
   ],
   "source": [
    "## 훈련모델이 가지고 있는 범주의 리스트 값 확인\n",
    "print(kn.classes_)"
   ]
  },
  {
   "cell_type": "code",
   "execution_count": null,
   "id": "fd74e532-c803-42fc-85bc-164aa877df88",
   "metadata": {},
   "outputs": [],
   "source": [
    "'''\n",
    "훈련을 시키면 데이터 범주 항목 순서가 달라진다. \n",
    "kn.classes_ 값에 해당하는 자리에 범주율 1 등 확률값이 표기됨\n",
    "\n",
    "이웃값 확인을 통해 확률값이 어떻게 나왔는지 확인해보자\n",
    "'''"
   ]
  },
  {
   "cell_type": "code",
   "execution_count": 86,
   "id": "8c1783b9-f1fb-4101-9a3a-e9042330d1ee",
   "metadata": {},
   "outputs": [
    {
     "name": "stdout",
     "output_type": "stream",
     "text": [
      "[[ 39  64  63]\n",
      " [ 93  99  43]\n",
      " [100 105  27]\n",
      " [104 115 106]\n",
      " [ 72  26  68]]\n",
      "\n",
      "\n",
      "[['Perch' 'Perch' 'Perch']]\n",
      "[['Smelt' 'Smelt' 'Smelt']]\n",
      "[['Pike' 'Pike' 'Pike']]\n",
      "[['Roach' 'Perch' 'Perch']]\n",
      "[['Perch' 'Perch' 'Roach']]\n"
     ]
    }
   ],
   "source": [
    "## 5개의 데이터 이웃 확인\n",
    "# - 각 행마다 이웃이 3개씩\n",
    "distances, indexes = kn.kneighbors(test_scaled[:5])\n",
    "print(indexes)\n",
    "print('\\n')\n",
    "for test in test_scaled[:5] :\n",
    "    distances, indexes = kn.kneighbors([test])\n",
    "    print(train_target[indexes])"
   ]
  },
  {
   "cell_type": "markdown",
   "id": "0031f3d5-eabc-4fc7-889b-9494eb4503c6",
   "metadata": {},
   "source": [
    "### 5) 로지스틱 회귀분류(이진분류)\n",
    "- 시그모이드 함수"
   ]
  },
  {
   "cell_type": "code",
   "execution_count": null,
   "id": "9adcd39e-adc0-4fdf-90da-ea378c0ebf79",
   "metadata": {},
   "outputs": [],
   "source": [
    "## 선형방정식 사용 : 다중회귀 방정식과 동일\n",
    "# - z = a*x1 + b*x2 + ... + y절편\n",
    "# - z값 구하는 함수 : decision_function(훈련데이터)\n",
    "# - z값의 범위(확률적 계산) : 0보다 작거나 크거나\n",
    "## 확률 : 0~1사이 값을 사용(0%~100%)\n",
    "# - 따라서, z값은 확률 0~1 사이의 값으로 변환하는 작업이 필요\n",
    "# - 시그모이드 방식(이진분류), 소프트맥스 방식(다중분류)"
   ]
  },
  {
   "cell_type": "code",
   "execution_count": 89,
   "id": "ffcd0bd1-ab33-4131-9541-f74f39c9f422",
   "metadata": {},
   "outputs": [],
   "source": [
    "# 사용 : train_scaled, train_target"
   ]
  },
  {
   "cell_type": "code",
   "execution_count": 110,
   "id": "e9dbda4e-62a8-42c3-bc6a-6b1be92eb697",
   "metadata": {
    "tags": []
   },
   "outputs": [
    {
     "data": {
      "text/plain": [
       "array([0.91965782, 0.60943175, 0.81041221, 1.85194896, 1.00075672])"
      ]
     },
     "execution_count": 110,
     "metadata": {},
     "output_type": "execute_result"
    }
   ],
   "source": [
    "## 이진분류 방식은 2개의 범주만 사용 가능\n",
    "# - 기존 데이터에서 2개(Bream과 Smelt) 범주만 추출하여 사용\n",
    "# 독립변수명 : train_bream_smelt\n",
    "# 종속변수명 : target_bream_smelt"
   ]
  },
  {
   "cell_type": "code",
   "execution_count": 161,
   "id": "f2eb6178-547c-4a9b-9cae-c35960552b0a",
   "metadata": {},
   "outputs": [
    {
     "data": {
      "text/plain": [
       "(33,)"
      ]
     },
     "execution_count": 161,
     "metadata": {},
     "output_type": "execute_result"
    }
   ],
   "source": [
    "target_bream_smelt = train_target[(train_target == 'Bream') | \n",
    "                                  (train_target == 'Smelt')]\n",
    "target_bream_smelt.shape"
   ]
  },
  {
   "cell_type": "code",
   "execution_count": 164,
   "id": "b33c0b08-5588-431b-a7f3-19127443899b",
   "metadata": {},
   "outputs": [
    {
     "data": {
      "text/plain": [
       "(33, 5)"
      ]
     },
     "execution_count": 164,
     "metadata": {},
     "output_type": "execute_result"
    }
   ],
   "source": [
    "train_bream_smelt = train_scaled[(train_target == 'Bream') | \n",
    "                                  (train_target == 'Smelt')]\n",
    "train_bream_smelt.shape"
   ]
  },
  {
   "cell_type": "code",
   "execution_count": 150,
   "id": "e0ff8bff-b344-49ff-a217-100b293b5678",
   "metadata": {
    "collapsed": true,
    "jupyter": {
     "outputs_hidden": true
    },
    "tags": []
   },
   "outputs": [
    {
     "data": {
      "text/plain": [
       "array([[ 0.91965782,  0.60943175,  0.81041221,  1.85194896,  1.00075672],\n",
       "       [-1.0858536 , -1.68646987, -1.70848587, -1.70159849, -2.0044758 ],\n",
       "       [ 0.63818253,  0.56257661,  0.73223951,  1.64473401,  0.50705737],\n",
       "       [ 0.30041219,  0.23459067,  0.42823457,  1.36042157,  0.22329758],\n",
       "       [ 0.9027693 ,  0.70314202,  0.88858491,  1.89027545,  0.85537174],\n",
       "       [-1.0824759 , -1.61150165, -1.62162731, -1.7000674 , -1.92815631],\n",
       "       [ 0.10337949,  0.04717013,  0.23714575,  0.88445197,  0.41799764],\n",
       "       [ 1.49668216,  1.03112796,  1.21864741,  2.44274986,  1.40289707],\n",
       "       [ 0.23004337,  0.23459067,  0.42823457,  1.3336029 ,  0.39983213],\n",
       "       [-0.42579405, -0.29018684, -0.11028847,  0.65627104, -0.26107519],\n",
       "       [ 1.28557569,  0.70314202,  0.89727076,  1.98228866,  1.06683526],\n",
       "       [ 0.93373158,  0.60943175,  0.83646978,  1.85150445,  0.97832415],\n",
       "       [ 0.80706771,  0.60943175,  0.81041221,  1.63137406,  1.0255057 ],\n",
       "       [-1.07262426, -1.52716241, -1.55214047, -1.67235972, -1.86207776],\n",
       "       [ 1.6374198 ,  1.17169337,  1.27076255,  2.41341232,  1.40143407],\n",
       "       [-1.07966115, -1.63961473, -1.67374245, -1.6462819 , -1.87036806],\n",
       "       [-1.05151362, -1.33037084, -1.39579507, -1.47914678, -1.45146425],\n",
       "       [ 0.15967454,  0.11276732,  0.29794674,  1.17051775,  0.29205828],\n",
       "       [ 1.56705098,  1.17169337,  1.32287768,  2.16352457,  1.17174409],\n",
       "       [-0.00921063,  0.1408804 ,  0.3240043 ,  0.94026245,  0.14734384],\n",
       "       [ 0.15967454,  0.1408804 ,  0.33269016,  1.26991474,  0.24109734],\n",
       "       [-0.14994827,  0.32830094,  0.52377898,  1.24719543,  0.3806913 ],\n",
       "       [-0.08520896,  0.04717013,  0.19371647,  0.95507939,  0.00439718],\n",
       "       [ 0.86336276,  0.42201121,  0.62800925,  1.5003429 ,  0.45670601],\n",
       "       [ 0.30041219,  0.11276732,  0.28057503,  1.31303204,  0.50608204],\n",
       "       [-1.07262426, -1.45219419, -1.51739705, -1.62627903, -1.94607798],\n",
       "       [ 0.82114147,  0.51572148,  0.68881023,  1.76102232,  0.5621025 ],\n",
       "       [-1.07937967, -1.54590446, -1.56951218, -1.64420753, -2.01154694],\n",
       "       [-1.07937967, -1.62087268, -1.63899902, -1.67413775, -1.93303295],\n",
       "       [-0.29068592, -0.2058476 , -0.0060582 ,  0.89334213, -0.08697896],\n",
       "       [-1.05095067, -1.26477365, -1.30893652, -1.46447801, -1.56606541],\n",
       "       [ 0.51151865,  0.51572148,  0.7148678 ,  1.54738669,  0.68347   ],\n",
       "       [ 0.58188748,  0.32830094,  0.51509312,  1.50439286,  0.4404302 ]])"
      ]
     },
     "execution_count": 150,
     "metadata": {},
     "output_type": "execute_result"
    }
   ],
   "source": [
    "bsindex = np.where((train_target == 'Bream') | (train_target == 'Smelt'))\n",
    "bsindex = bsindex[0]\n",
    "bsindex\n",
    "\n",
    "train_bream_smelt=np.empty((0, 5))\n",
    "\n",
    "for i in bsindex :\n",
    "    train_bream_smelt = np.append(train_bream_smelt, \n",
    "                                  np.array([train_scaled[i]]), axis = 0)\n",
    "    \n",
    "train_bream_smelt"
   ]
  },
  {
   "cell_type": "code",
   "execution_count": 165,
   "id": "0b3e6dc5-7e56-43a8-8b46-f5d0402e3f7b",
   "metadata": {},
   "outputs": [],
   "source": [
    "## 이진분류\n",
    "from sklearn.linear_model import LogisticRegression"
   ]
  },
  {
   "cell_type": "code",
   "execution_count": 173,
   "id": "6d0f6cec-0e0f-4f38-8e0c-1dff31b009c6",
   "metadata": {},
   "outputs": [
    {
     "data": {
      "text/plain": [
       "1.0"
      ]
     },
     "execution_count": 173,
     "metadata": {},
     "output_type": "execute_result"
    }
   ],
   "source": [
    "lg = LogisticRegression()\n",
    "\n",
    "lg.fit(train_bream_smelt, target_bream_smelt)\n",
    "lg.score(train_bream_smelt, target_bream_smelt)"
   ]
  },
  {
   "cell_type": "code",
   "execution_count": 174,
   "id": "25d69937-59f4-4479-b881-1c9c8190c411",
   "metadata": {},
   "outputs": [
    {
     "data": {
      "text/plain": [
       "array(['Bream', 'Smelt', 'Bream', 'Bream', 'Bream'], dtype=object)"
      ]
     },
     "execution_count": 174,
     "metadata": {},
     "output_type": "execute_result"
    }
   ],
   "source": [
    "## 상위5개 예측\n",
    "lg.predict(train_bream_smelt[:5])"
   ]
  },
  {
   "cell_type": "code",
   "execution_count": 176,
   "id": "dce9902f-10d1-459f-a659-121341678ad1",
   "metadata": {},
   "outputs": [
    {
     "data": {
      "text/plain": [
       "array([[0.99759855, 0.00240145],\n",
       "       [0.02735183, 0.97264817],\n",
       "       [0.99486072, 0.00513928],\n",
       "       [0.98584202, 0.01415798],\n",
       "       [0.99767269, 0.00232731]])"
      ]
     },
     "execution_count": 176,
     "metadata": {},
     "output_type": "execute_result"
    }
   ],
   "source": [
    "# 5개 행에 대한 범주별 확률 조회\n",
    "lg.predict_proba(train_bream_smelt[:5])"
   ]
  },
  {
   "cell_type": "code",
   "execution_count": 181,
   "id": "b78bc1e8-eddc-47e2-8701-409eb6d78538",
   "metadata": {},
   "outputs": [
    {
     "name": "stdout",
     "output_type": "stream",
     "text": [
      "['Bream' 'Smelt']\n"
     ]
    }
   ],
   "source": [
    "# 훈련모델이 가지고 있는 범주의 순서\n",
    "print(lg.classes_)"
   ]
  },
  {
   "cell_type": "code",
   "execution_count": 180,
   "id": "22a6a971-0bf8-4dcf-bb6f-32611a9d6a19",
   "metadata": {},
   "outputs": [
    {
     "name": "stdout",
     "output_type": "stream",
     "text": [
      "[[-0.4037798  -0.57620209 -0.66280298 -1.01290277 -0.73168947]] [-2.16155132]\n"
     ]
    }
   ],
   "source": [
    "# 계수(또는 가중치) 및 y절편값 조회\n",
    "print(lg.coef_, lg.intercept_)\n",
    "\n",
    "# "
   ]
  },
  {
   "cell_type": "code",
   "execution_count": null,
   "id": "d712abaf-15f3-4391-b1ec-bdfd36016cea",
   "metadata": {},
   "outputs": [],
   "source": [
    "'''\n",
    "훈련모델 범주 및 컬럼은 오름차순으로 바뀜 ( Diagonal, Height, Length, Weight, Width )\n",
    "\n",
    "<로지스틱회귀방정식>\n",
    "z = -0.403*Diagonal -0.576*Height -0.663*Length -1.013*Weight -0.732*Width -2.162\n",
    "'''"
   ]
  },
  {
   "cell_type": "code",
   "execution_count": 186,
   "id": "cea5bbc7-43c0-48c5-a065-f8be4a86df49",
   "metadata": {},
   "outputs": [
    {
     "name": "stdout",
     "output_type": "stream",
     "text": [
      "z값 =  [-6.02927744  3.57123907 -5.26568906 -4.24321775 -6.0607117 ]\n",
      "시그모이드 변환값(0~1) = [0.00240145 0.97264817 0.00513928 0.01415798 0.00232731]\n"
     ]
    }
   ],
   "source": [
    "## 이준분류에서 z값(선형방정식의 결과값들)을 0~1로 변환\n",
    "# z값 조회\n",
    "decisions = lg.decision_function(train_bream_smelt[:5])\n",
    "print('z값 = ', decisions)\n",
    "\n",
    "## 시그모이드 함수 : 싸이파이 패키지의 expit()\n",
    "# 0~1 사이 값으로 변환\n",
    "from scipy.special import expit\n",
    "print('시그모이드 변환값(0~1) =', expit(decisions))"
   ]
  },
  {
   "cell_type": "code",
   "execution_count": null,
   "id": "93293c04-49bf-4e63-9d56-5b7da1c535a3",
   "metadata": {},
   "outputs": [],
   "source": [
    "## <시그모이드 함수(sigmoid function) 또는 로지스틱함수>\n",
    "# - 이진분류라고 하며\n",
    "# - 범주가 2개일 때 주로 사용됨\n",
    "\n",
    "# - 사용 패키지 : from scipy.special\n",
    "# - 사용 모듈 : import expit\n",
    "# - 사용 함수 : expit(값)\n",
    "\n",
    "# - 0/1, y/n처럼 둘중 하나로 분류할 때 \n",
    "# -기존 knn에서 사용했었음\n",
    "# - 시그모이드 값의 범위 0과 1사잇값\n",
    "# - 범주들의 z값을 기준으로 0과 1의 사잇값으로 변환하여 반환\n",
    "\n",
    "# - 변환 공식 : 1/(1+np.exp^(-z))\n",
    "#  : np.exp() : 지수값으로 변화하는 함수(0~1)\n",
    "#  : -z : z값은 음수 사용\n",
    "#  : z=0일때, 확률은 0.5\n",
    "#  : z>0일때, 확률은 > 0.5(51% 이상) > 예측 확률이 높음\n",
    "#  : z<0일때, 확률은 < 0.5(49% 미만)\n",
    "# - 여러 개 범주들 중에 확률이 가장 높은"
   ]
  },
  {
   "cell_type": "code",
   "execution_count": 190,
   "id": "30b51f34-6c78-4308-bff0-a332297ef1e3",
   "metadata": {},
   "outputs": [
    {
     "data": {
      "image/png": "[encoded data removed]",
      "text/plain": [
       "<Figure size 432x288 with 1 Axes>"
      ]
     },
     "metadata": {
      "needs_background": "light"
     },
     "output_type": "display_data"
    }
   ],
   "source": [
    "## 시그모이드 함수 예시\n",
    "import numpy as np\n",
    "import matplotlib.pyplot as plt\n",
    "\n",
    "## 임의 z값\n",
    "z = np.arange(-5,5,0.1)\n",
    "\n",
    "## 시그모이드 공식 사용\n",
    "# - np.exe() : 0~1의 지수로 변환\n",
    "# : z값의 스케일을 통일시키기 위해서\n",
    "# : z값은 음수로 처리(제곱승 시에 분모로 꼐산)\n",
    "# : 2^(-2) = 1/(2^2), 2^0 = 1\n",
    "phi = 1/(1+np.exp(-z))\n",
    "\n",
    "plt.plot(z, phi)\n",
    "plt.show()"
   ]
  },
  {
   "cell_type": "markdown",
   "id": "06d93fd9-464f-4feb-8a64-cb3145c3c8ec",
   "metadata": {},
   "source": [
    "### 6) 로지스틱 회귀분류(다중분류)"
   ]
  },
  {
   "cell_type": "code",
   "execution_count": null,
   "id": "904f4e2e-1a81-45fa-87e6-bbe26b4da1a0",
   "metadata": {},
   "outputs": [],
   "source": [
    "## 다중분류는 모든 범주를 사용합니다.\n",
    "# - 독립변수도 모든 특성을 사용합니다.\n",
    "# - 모든 특성을 사용하다 보니 복잡도에 대한 부분을 고려해야 합니다\n",
    "#   (너무 복잡해도 안되고, 느슨해도 안되고.. 적당히)\n",
    "# - 사용하는 클래스 : 이진분류와 동일\n",
    "# - 복잡도를 강약으로 조절하기 위해 규제강도 조절값 사용\n",
    "# - 규제강도 조절값 속성명 : C (대문자), 기존의 alpha와 같음\n",
    "#   : alpha값은 클수록 강도가 커졌다면,\n",
    "#   : C값은 작을수록 강도가 커집니다.\n",
    "#   : 기본값은 1, 보통 20 정도로 완화시킨 후 진행\n",
    "# - 훈련반복횟수 사용\n",
    "#   : 훈련모델은 정확도를 높이기 위해 일반적으로 반복 수행을 합니다.\n",
    "#   : 기본 반복횟수 : 100회\n",
    "#   : 훈련 중에 100회보다 더 해야 하는 경우 경고 창이 뜨는 경우 있음\n",
    "#   : 독립변수의 특성이 많을수록 훈련 반복횟수가 늘어나는 경우 발생\n",
    "#   : 반복횟수 속성값 : max-iter\n",
    "#   : 보통 반복횟수를 1000으로 놓고 진행하는 경우가 많음\n",
    "# - 이외 모든 훈련 함수는 기존과 동일"
   ]
  },
  {
   "cell_type": "code",
   "execution_count": null,
   "id": "31e946cb-37e5-46f3-be56-695109a91594",
   "metadata": {},
   "outputs": [],
   "source": [
    "### 규제강도 = 20\n",
    "### 반복회수 = 1000회\n",
    "# 훈련/테스트데이터에 대한 정확도 확인"
   ]
  },
  {
   "cell_type": "code",
   "execution_count": 193,
   "id": "7ceed519-acf2-4d14-87cf-9c0f0953e1ae",
   "metadata": {},
   "outputs": [
    {
     "name": "stdout",
     "output_type": "stream",
     "text": [
      "0.9327731092436975\n",
      "0.925\n"
     ]
    }
   ],
   "source": [
    "lg_n = LogisticRegression(C=20, max_iter=1000)\n",
    "\n",
    "lg_n.fit(train_scaled, train_target)\n",
    "\n",
    "print(lg_n.score(train_scaled, train_target))\n",
    "print(lg_n.score(test_scaled, test_target))"
   ]
  },
  {
   "cell_type": "code",
   "execution_count": 197,
   "id": "2219c754-ae6d-4863-b9f7-21f3e048297b",
   "metadata": {},
   "outputs": [
    {
     "data": {
      "text/plain": [
       "array(['Perch', 'Smelt', 'Pike', 'Roach', 'Perch'], dtype=object)"
      ]
     },
     "execution_count": 197,
     "metadata": {},
     "output_type": "execute_result"
    }
   ],
   "source": [
    "## 상위 5건으로 예측 진행\n",
    "lg_n.predict(test_scaled[:5])"
   ]
  },
  {
   "cell_type": "code",
   "execution_count": 201,
   "id": "4af35610-8c39-4bad-af2f-cd9360262f22",
   "metadata": {},
   "outputs": [
    {
     "name": "stdout",
     "output_type": "stream",
     "text": [
      "[[0.    0.014 0.841 0.    0.136 0.007 0.003]\n",
      " [0.    0.003 0.044 0.    0.007 0.946 0.   ]\n",
      " [0.    0.    0.034 0.935 0.015 0.016 0.   ]\n",
      " [0.011 0.034 0.306 0.007 0.567 0.    0.076]\n",
      " [0.    0.    0.904 0.002 0.089 0.002 0.001]]\n"
     ]
    }
   ],
   "source": [
    "## 전체 범주별 확률 확인\n",
    "proba = lg_n.predict_proba(test_scaled[:5])\n",
    "print(np.round(proba, decimals=3))"
   ]
  },
  {
   "cell_type": "code",
   "execution_count": 196,
   "id": "cef6045a-8cec-4639-a642-2531fa129b8f",
   "metadata": {},
   "outputs": [
    {
     "name": "stdout",
     "output_type": "stream",
     "text": [
      "['Bream' 'Parkki' 'Perch' 'Pike' 'Roach' 'Smelt' 'Whitefish']\n"
     ]
    }
   ],
   "source": [
    "print(lg_n.classes_)"
   ]
  },
  {
   "cell_type": "code",
   "execution_count": 202,
   "id": "891fb99a-3101-4483-a19a-5739a5e6076d",
   "metadata": {},
   "outputs": [
    {
     "name": "stdout",
     "output_type": "stream",
     "text": [
      "[[-1.48987946 -1.029909    2.59435577  7.70317372 -1.20033002]\n",
      " [ 0.19634499 -2.00943135 -3.7804282   6.50475209 -1.9951452 ]\n",
      " [ 3.56251098  6.34407205 -8.49003212 -5.75747082  3.79323712]\n",
      " [-0.10502305  3.60283367  3.93064404 -3.61704957 -1.75100031]\n",
      " [-1.40029338 -6.07529102  5.25937883 -0.87225719  1.86066904]\n",
      " [-1.38534035  1.49231096  1.39234246 -5.67722609 -4.40100373]\n",
      " [ 0.62168026 -2.32458532 -0.90626079  1.71607787  3.6935731 ]]\n",
      "[-0.09215557 -0.2629502   3.25077384 -0.14657998  2.65465801 -6.78789398\n",
      "  1.38414788]\n"
     ]
    }
   ],
   "source": [
    "print(lg_n.coef_)\n",
    "print(lg_n.intercept_)"
   ]
  },
  {
   "cell_type": "code",
   "execution_count": 205,
   "id": "20fdb988-dd0b-4a3d-9dfc-7fc8ca4a3a62",
   "metadata": {},
   "outputs": [
    {
     "name": "stdout",
     "output_type": "stream",
     "text": [
      "[[ -6.498   1.032   5.163  -2.727   3.339   0.326  -0.635]\n",
      " [-10.86    1.927   4.77   -2.396   2.978   7.841  -4.26 ]\n",
      " [ -4.335  -6.233   3.174   6.488   2.357   2.421  -3.872]\n",
      " [ -0.684   0.453   2.647  -1.186   3.264  -5.753   1.258]\n",
      " [ -6.397  -1.993   5.815  -0.109   3.503  -0.112  -0.707]]\n"
     ]
    }
   ],
   "source": [
    "# z값 조회\n",
    "decisions = lg_n.decision_function(test_scaled[:5])\n",
    "print(np.round(decisions, decimals=3))"
   ]
  },
  {
   "cell_type": "code",
   "execution_count": 207,
   "id": "1d019cc1-98e7-41db-936c-37f91cf11777",
   "metadata": {},
   "outputs": [
    {
     "name": "stdout",
     "output_type": "stream",
     "text": [
      "[[0.    0.014 0.841 0.    0.136 0.007 0.003]\n",
      " [0.    0.003 0.044 0.    0.007 0.946 0.   ]\n",
      " [0.    0.    0.034 0.935 0.015 0.016 0.   ]\n",
      " [0.011 0.034 0.306 0.007 0.567 0.    0.076]\n",
      " [0.    0.    0.904 0.002 0.089 0.002 0.001]]\n"
     ]
    }
   ],
   "source": [
    "## 소프트맥스(softmax)\n",
    "# 사용하는 패키지 : scipy.special\n",
    "# 사용하는 모듈 : softmax\n",
    "from scipy.special import softmax\n",
    "proba = softmax(decisions, axis = 1)\n",
    "print(np.round(proba, decimals=3))"
   ]
  }
 ],
 "metadata": {
  "kernelspec": {
   "display_name": "ml_kernel",
   "language": "python",
   "name": "ml"
  },
  "language_info": {
   "codemirror_mode": {
    "name": "ipython",
    "version": 3
   },
   "file_extension": ".py",
   "mimetype": "text/x-python",
   "name": "python",
   "nbconvert_exporter": "python",
   "pygments_lexer": "ipython3",
   "version": "3.9.12"
  }
 },
 "nbformat": 4,
 "nbformat_minor": 5
}
