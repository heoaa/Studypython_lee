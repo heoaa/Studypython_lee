{
 "cells": [
  {
   "cell_type": "markdown",
   "id": "eb153871-4ec3-48ba-b778-112772f55301",
   "metadata": {},
   "source": [
    "# [문제] 붓꽃 품종 데이터 활용\n",
    "- 데이터를 이용해서 품종 분류하기"
   ]
  },
  {
   "cell_type": "code",
   "execution_count": 4,
   "id": "aea0ece7-7de0-42ff-bb8d-3162fee44caa",
   "metadata": {
    "collapsed": true,
    "jupyter": {
     "outputs_hidden": true
    },
    "tags": []
   },
   "outputs": [
    {
     "name": "stdout",
     "output_type": "stream",
     "text": [
      "{'data': array([[5.1, 3.5, 1.4, 0.2],\n",
      "       [4.9, 3. , 1.4, 0.2],\n",
      "       [4.7, 3.2, 1.3, 0.2],\n",
      "       [4.6, 3.1, 1.5, 0.2],\n",
      "       [5. , 3.6, 1.4, 0.2],\n",
      "       [5.4, 3.9, 1.7, 0.4],\n",
      "       [4.6, 3.4, 1.4, 0.3],\n",
      "       [5. , 3.4, 1.5, 0.2],\n",
      "       [4.4, 2.9, 1.4, 0.2],\n",
      "       [4.9, 3.1, 1.5, 0.1],\n",
      "       [5.4, 3.7, 1.5, 0.2],\n",
      "       [4.8, 3.4, 1.6, 0.2],\n",
      "       [4.8, 3. , 1.4, 0.1],\n",
      "       [4.3, 3. , 1.1, 0.1],\n",
      "       [5.8, 4. , 1.2, 0.2],\n",
      "       [5.7, 4.4, 1.5, 0.4],\n",
      "       [5.4, 3.9, 1.3, 0.4],\n",
      "       [5.1, 3.5, 1.4, 0.3],\n",
      "       [5.7, 3.8, 1.7, 0.3],\n",
      "       [5.1, 3.8, 1.5, 0.3],\n",
      "       [5.4, 3.4, 1.7, 0.2],\n",
      "       [5.1, 3.7, 1.5, 0.4],\n",
      "       [4.6, 3.6, 1. , 0.2],\n",
      "       [5.1, 3.3, 1.7, 0.5],\n",
      "       [4.8, 3.4, 1.9, 0.2],\n",
      "       [5. , 3. , 1.6, 0.2],\n",
      "       [5. , 3.4, 1.6, 0.4],\n",
      "       [5.2, 3.5, 1.5, 0.2],\n",
      "       [5.2, 3.4, 1.4, 0.2],\n",
      "       [4.7, 3.2, 1.6, 0.2],\n",
      "       [4.8, 3.1, 1.6, 0.2],\n",
      "       [5.4, 3.4, 1.5, 0.4],\n",
      "       [5.2, 4.1, 1.5, 0.1],\n",
      "       [5.5, 4.2, 1.4, 0.2],\n",
      "       [4.9, 3.1, 1.5, 0.2],\n",
      "       [5. , 3.2, 1.2, 0.2],\n",
      "       [5.5, 3.5, 1.3, 0.2],\n",
      "       [4.9, 3.6, 1.4, 0.1],\n",
      "       [4.4, 3. , 1.3, 0.2],\n",
      "       [5.1, 3.4, 1.5, 0.2],\n",
      "       [5. , 3.5, 1.3, 0.3],\n",
      "       [4.5, 2.3, 1.3, 0.3],\n",
      "       [4.4, 3.2, 1.3, 0.2],\n",
      "       [5. , 3.5, 1.6, 0.6],\n",
      "       [5.1, 3.8, 1.9, 0.4],\n",
      "       [4.8, 3. , 1.4, 0.3],\n",
      "       [5.1, 3.8, 1.6, 0.2],\n",
      "       [4.6, 3.2, 1.4, 0.2],\n",
      "       [5.3, 3.7, 1.5, 0.2],\n",
      "       [5. , 3.3, 1.4, 0.2],\n",
      "       [7. , 3.2, 4.7, 1.4],\n",
      "       [6.4, 3.2, 4.5, 1.5],\n",
      "       [6.9, 3.1, 4.9, 1.5],\n",
      "       [5.5, 2.3, 4. , 1.3],\n",
      "       [6.5, 2.8, 4.6, 1.5],\n",
      "       [5.7, 2.8, 4.5, 1.3],\n",
      "       [6.3, 3.3, 4.7, 1.6],\n",
      "       [4.9, 2.4, 3.3, 1. ],\n",
      "       [6.6, 2.9, 4.6, 1.3],\n",
      "       [5.2, 2.7, 3.9, 1.4],\n",
      "       [5. , 2. , 3.5, 1. ],\n",
      "       [5.9, 3. , 4.2, 1.5],\n",
      "       [6. , 2.2, 4. , 1. ],\n",
      "       [6.1, 2.9, 4.7, 1.4],\n",
      "       [5.6, 2.9, 3.6, 1.3],\n",
      "       [6.7, 3.1, 4.4, 1.4],\n",
      "       [5.6, 3. , 4.5, 1.5],\n",
      "       [5.8, 2.7, 4.1, 1. ],\n",
      "       [6.2, 2.2, 4.5, 1.5],\n",
      "       [5.6, 2.5, 3.9, 1.1],\n",
      "       [5.9, 3.2, 4.8, 1.8],\n",
      "       [6.1, 2.8, 4. , 1.3],\n",
      "       [6.3, 2.5, 4.9, 1.5],\n",
      "       [6.1, 2.8, 4.7, 1.2],\n",
      "       [6.4, 2.9, 4.3, 1.3],\n",
      "       [6.6, 3. , 4.4, 1.4],\n",
      "       [6.8, 2.8, 4.8, 1.4],\n",
      "       [6.7, 3. , 5. , 1.7],\n",
      "       [6. , 2.9, 4.5, 1.5],\n",
      "       [5.7, 2.6, 3.5, 1. ],\n",
      "       [5.5, 2.4, 3.8, 1.1],\n",
      "       [5.5, 2.4, 3.7, 1. ],\n",
      "       [5.8, 2.7, 3.9, 1.2],\n",
      "       [6. , 2.7, 5.1, 1.6],\n",
      "       [5.4, 3. , 4.5, 1.5],\n",
      "       [6. , 3.4, 4.5, 1.6],\n",
      "       [6.7, 3.1, 4.7, 1.5],\n",
      "       [6.3, 2.3, 4.4, 1.3],\n",
      "       [5.6, 3. , 4.1, 1.3],\n",
      "       [5.5, 2.5, 4. , 1.3],\n",
      "       [5.5, 2.6, 4.4, 1.2],\n",
      "       [6.1, 3. , 4.6, 1.4],\n",
      "       [5.8, 2.6, 4. , 1.2],\n",
      "       [5. , 2.3, 3.3, 1. ],\n",
      "       [5.6, 2.7, 4.2, 1.3],\n",
      "       [5.7, 3. , 4.2, 1.2],\n",
      "       [5.7, 2.9, 4.2, 1.3],\n",
      "       [6.2, 2.9, 4.3, 1.3],\n",
      "       [5.1, 2.5, 3. , 1.1],\n",
      "       [5.7, 2.8, 4.1, 1.3],\n",
      "       [6.3, 3.3, 6. , 2.5],\n",
      "       [5.8, 2.7, 5.1, 1.9],\n",
      "       [7.1, 3. , 5.9, 2.1],\n",
      "       [6.3, 2.9, 5.6, 1.8],\n",
      "       [6.5, 3. , 5.8, 2.2],\n",
      "       [7.6, 3. , 6.6, 2.1],\n",
      "       [4.9, 2.5, 4.5, 1.7],\n",
      "       [7.3, 2.9, 6.3, 1.8],\n",
      "       [6.7, 2.5, 5.8, 1.8],\n",
      "       [7.2, 3.6, 6.1, 2.5],\n",
      "       [6.5, 3.2, 5.1, 2. ],\n",
      "       [6.4, 2.7, 5.3, 1.9],\n",
      "       [6.8, 3. , 5.5, 2.1],\n",
      "       [5.7, 2.5, 5. , 2. ],\n",
      "       [5.8, 2.8, 5.1, 2.4],\n",
      "       [6.4, 3.2, 5.3, 2.3],\n",
      "       [6.5, 3. , 5.5, 1.8],\n",
      "       [7.7, 3.8, 6.7, 2.2],\n",
      "       [7.7, 2.6, 6.9, 2.3],\n",
      "       [6. , 2.2, 5. , 1.5],\n",
      "       [6.9, 3.2, 5.7, 2.3],\n",
      "       [5.6, 2.8, 4.9, 2. ],\n",
      "       [7.7, 2.8, 6.7, 2. ],\n",
      "       [6.3, 2.7, 4.9, 1.8],\n",
      "       [6.7, 3.3, 5.7, 2.1],\n",
      "       [7.2, 3.2, 6. , 1.8],\n",
      "       [6.2, 2.8, 4.8, 1.8],\n",
      "       [6.1, 3. , 4.9, 1.8],\n",
      "       [6.4, 2.8, 5.6, 2.1],\n",
      "       [7.2, 3. , 5.8, 1.6],\n",
      "       [7.4, 2.8, 6.1, 1.9],\n",
      "       [7.9, 3.8, 6.4, 2. ],\n",
      "       [6.4, 2.8, 5.6, 2.2],\n",
      "       [6.3, 2.8, 5.1, 1.5],\n",
      "       [6.1, 2.6, 5.6, 1.4],\n",
      "       [7.7, 3. , 6.1, 2.3],\n",
      "       [6.3, 3.4, 5.6, 2.4],\n",
      "       [6.4, 3.1, 5.5, 1.8],\n",
      "       [6. , 3. , 4.8, 1.8],\n",
      "       [6.9, 3.1, 5.4, 2.1],\n",
      "       [6.7, 3.1, 5.6, 2.4],\n",
      "       [6.9, 3.1, 5.1, 2.3],\n",
      "       [5.8, 2.7, 5.1, 1.9],\n",
      "       [6.8, 3.2, 5.9, 2.3],\n",
      "       [6.7, 3.3, 5.7, 2.5],\n",
      "       [6.7, 3. , 5.2, 2.3],\n",
      "       [6.3, 2.5, 5. , 1.9],\n",
      "       [6.5, 3. , 5.2, 2. ],\n",
      "       [6.2, 3.4, 5.4, 2.3],\n",
      "       [5.9, 3. , 5.1, 1.8]]), 'target': array([0, 0, 0, 0, 0, 0, 0, 0, 0, 0, 0, 0, 0, 0, 0, 0, 0, 0, 0, 0, 0, 0,\n",
      "       0, 0, 0, 0, 0, 0, 0, 0, 0, 0, 0, 0, 0, 0, 0, 0, 0, 0, 0, 0, 0, 0,\n",
      "       0, 0, 0, 0, 0, 0, 1, 1, 1, 1, 1, 1, 1, 1, 1, 1, 1, 1, 1, 1, 1, 1,\n",
      "       1, 1, 1, 1, 1, 1, 1, 1, 1, 1, 1, 1, 1, 1, 1, 1, 1, 1, 1, 1, 1, 1,\n",
      "       1, 1, 1, 1, 1, 1, 1, 1, 1, 1, 1, 1, 2, 2, 2, 2, 2, 2, 2, 2, 2, 2,\n",
      "       2, 2, 2, 2, 2, 2, 2, 2, 2, 2, 2, 2, 2, 2, 2, 2, 2, 2, 2, 2, 2, 2,\n",
      "       2, 2, 2, 2, 2, 2, 2, 2, 2, 2, 2, 2, 2, 2, 2, 2, 2, 2]), 'frame': None, 'target_names': array(['setosa', 'versicolor', 'virginica'], dtype='<U10'), 'DESCR': '.. _iris_dataset:\\n\\nIris plants dataset\\n--------------------\\n\\n**Data Set Characteristics:**\\n\\n    :Number of Instances: 150 (50 in each of three classes)\\n    :Number of Attributes: 4 numeric, predictive attributes and the class\\n    :Attribute Information:\\n        - sepal length in cm\\n        - sepal width in cm\\n        - petal length in cm\\n        - petal width in cm\\n        - class:\\n                - Iris-Setosa\\n                - Iris-Versicolour\\n                - Iris-Virginica\\n                \\n    :Summary Statistics:\\n\\n    ============== ==== ==== ======= ===== ====================\\n                    Min  Max   Mean    SD   Class Correlation\\n    ============== ==== ==== ======= ===== ====================\\n    sepal length:   4.3  7.9   5.84   0.83    0.7826\\n    sepal width:    2.0  4.4   3.05   0.43   -0.4194\\n    petal length:   1.0  6.9   3.76   1.76    0.9490  (high!)\\n    petal width:    0.1  2.5   1.20   0.76    0.9565  (high!)\\n    ============== ==== ==== ======= ===== ====================\\n\\n    :Missing Attribute Values: None\\n    :Class Distribution: 33.3% for each of 3 classes.\\n    :Creator: R.A. Fisher\\n    :Donor: Michael Marshall (MARSHALL%PLU@io.arc.nasa.gov)\\n    :Date: July, 1988\\n\\nThe famous Iris database, first used by Sir R.A. Fisher. The dataset is taken\\nfrom Fisher\\'s paper. Note that it\\'s the same as in R, but not as in the UCI\\nMachine Learning Repository, which has two wrong data points.\\n\\nThis is perhaps the best known database to be found in the\\npattern recognition literature.  Fisher\\'s paper is a classic in the field and\\nis referenced frequently to this day.  (See Duda & Hart, for example.)  The\\ndata set contains 3 classes of 50 instances each, where each class refers to a\\ntype of iris plant.  One class is linearly separable from the other 2; the\\nlatter are NOT linearly separable from each other.\\n\\n.. topic:: References\\n\\n   - Fisher, R.A. \"The use of multiple measurements in taxonomic problems\"\\n     Annual Eugenics, 7, Part II, 179-188 (1936); also in \"Contributions to\\n     Mathematical Statistics\" (John Wiley, NY, 1950).\\n   - Duda, R.O., & Hart, P.E. (1973) Pattern Classification and Scene Analysis.\\n     (Q327.D83) John Wiley & Sons.  ISBN 0-471-22361-1.  See page 218.\\n   - Dasarathy, B.V. (1980) \"Nosing Around the Neighborhood: A New System\\n     Structure and Classification Rule for Recognition in Partially Exposed\\n     Environments\".  IEEE Transactions on Pattern Analysis and Machine\\n     Intelligence, Vol. PAMI-2, No. 1, 67-71.\\n   - Gates, G.W. (1972) \"The Reduced Nearest Neighbor Rule\".  IEEE Transactions\\n     on Information Theory, May 1972, 431-433.\\n   - See also: 1988 MLC Proceedings, 54-64.  Cheeseman et al\"s AUTOCLASS II\\n     conceptual clustering system finds 3 classes in the data.\\n   - Many, many more ...', 'feature_names': ['sepal length (cm)', 'sepal width (cm)', 'petal length (cm)', 'petal width (cm)'], 'filename': 'iris.csv', 'data_module': 'sklearn.datasets.data'}\n"
     ]
    }
   ],
   "source": [
    "from sklearn.datasets import load_iris\n",
    "\n",
    "iris = load_iris()\n",
    "print(iris)\n",
    "# 품종 : setosa, versicolor, virginica\n",
    "# - sepal length : 꽃받침 길이\n",
    "# - sepal width : 꽃받침 폭\n",
    "# - petal length : 꽃잎 길이\n",
    "# - petal width : 꽃잎 폭"
   ]
  },
  {
   "cell_type": "markdown",
   "id": "5203b73d-5280-4530-89c2-701e0b919a1f",
   "metadata": {
    "tags": []
   },
   "source": [
    "### 1) 데이터 전처리"
   ]
  },
  {
   "cell_type": "markdown",
   "id": "97c9a9b8-32c5-485d-88bc-1b67ebce72b8",
   "metadata": {},
   "source": [
    "##### 훈련/테스트데이터 생성"
   ]
  },
  {
   "cell_type": "code",
   "execution_count": 7,
   "id": "bfe245f5-9a0b-40b5-838e-757ed799c292",
   "metadata": {},
   "outputs": [],
   "source": [
    "# 데이터형태 맞추기\n",
    "iris_data = iris['data']\n",
    "iris_target = iris['target']"
   ]
  },
  {
   "cell_type": "code",
   "execution_count": 197,
   "id": "003c8f0d-5401-4be1-97b1-7ff99dca9e7a",
   "metadata": {},
   "outputs": [],
   "source": [
    "# 데이터 분리하기\n",
    "from sklearn.model_selection import train_test_split\n",
    "\n",
    "train_data, test_data, train_target, test_target = train_test_split(\n",
    "    iris_data, iris_target, stratify=iris_target, random_state=123)"
   ]
  },
  {
   "cell_type": "markdown",
   "id": "b0f0c42f-04a3-43a9-ae39-426ff698d3ee",
   "metadata": {},
   "source": [
    "##### 정규화(표준화) - 스케일 처리"
   ]
  },
  {
   "cell_type": "code",
   "execution_count": 208,
   "id": "a80e95dd-8c54-4736-a6ca-d34ad0bdbbd5",
   "metadata": {},
   "outputs": [],
   "source": [
    "from sklearn.preprocessing import StandardScaler\n",
    "\n",
    "ss = StandardScaler()\n",
    "ss.fit(train_data)\n",
    "\n",
    "train_scaled = ss.transform(train_data)\n",
    "test_scaled = ss.transform(test_data)"
   ]
  },
  {
   "cell_type": "markdown",
   "id": "03860b7f-aa0e-4e37-8536-38978f81852e",
   "metadata": {},
   "source": [
    "### 2) 컬럼별데이터"
   ]
  },
  {
   "cell_type": "code",
   "execution_count": 127,
   "id": "94d2d9f1-3cc6-4cf2-9757-f1bee5d3cda3",
   "metadata": {},
   "outputs": [],
   "source": [
    "sepal_length=[]\n",
    "sepal_width=[]\n",
    "petal_length=[]\n",
    "petal_width=[]\n",
    "\n",
    "for i in range(len(iris_data)) :\n",
    "    sepal_length.append(iris_data[i][0])\n",
    "    sepal_width.append(iris_data[i][1])\n",
    "    petal_length.append(iris_data[i][2])\n",
    "    petal_width.append(iris_data[i][3])"
   ]
  },
  {
   "cell_type": "markdown",
   "id": "923bf5a6-3677-47ae-ac3c-0b1d1e11fb2b",
   "metadata": {
    "tags": []
   },
   "source": [
    "## k-최근접이웃(분류)"
   ]
  },
  {
   "cell_type": "code",
   "execution_count": 209,
   "id": "d81eee94-fbf4-4f01-89da-a8a7c675a7bf",
   "metadata": {},
   "outputs": [
    {
     "name": "stdout",
     "output_type": "stream",
     "text": [
      "0.9553571428571429\n",
      "0.9473684210526315\n"
     ]
    }
   ],
   "source": [
    "from sklearn.neighbors import KNeighborsClassifier\n",
    "\n",
    "kn = KNeighborsClassifier()\n",
    "\n",
    "kn.fit(train_scalde, train_target)\n",
    "print(kn.score(train_scaled, train_target))\n",
    "print(kn.score(test_scaled, test_target))"
   ]
  },
  {
   "cell_type": "code",
   "execution_count": null,
   "id": "a81163d2-56b3-4f0c-b17a-e3fc166ca87b",
   "metadata": {},
   "outputs": [],
   "source": [
    "'''\n",
    "훈련데이터의 정확도는 0.95로 높게 나타나 우수한 편이나,\n",
    "테스트데이터의 정확도가 더 높게 나타남  >  과소적합 주의\n",
    "'''"
   ]
  },
  {
   "cell_type": "code",
   "execution_count": 210,
   "id": "6034afb3-e082-4a01-8b1f-8b6e69db28a0",
   "metadata": {},
   "outputs": [
    {
     "name": "stdout",
     "output_type": "stream",
     "text": [
      "0.9553571428571429\n",
      "0.9473684210526315\n"
     ]
    }
   ],
   "source": [
    "# k 개수 조정\n",
    "kn2 = KNeighborsClassifier(n_neighbors=8)\n",
    "\n",
    "kn2.fit(train_scalde, train_target)\n",
    "print(kn2.score(train_scaled, train_target))\n",
    "print(kn2.score(test_scaled, test_target))"
   ]
  },
  {
   "cell_type": "code",
   "execution_count": 212,
   "id": "a43feeb6-a1a5-405f-af40-3e12ac295b9b",
   "metadata": {},
   "outputs": [
    {
     "data": {
      "text/plain": [
       "array([[2, 2],\n",
       "       [0, 0],\n",
       "       [1, 1],\n",
       "       [2, 2],\n",
       "       [0, 0]])"
      ]
     },
     "execution_count": 212,
     "metadata": {},
     "output_type": "execute_result"
    }
   ],
   "source": [
    "np.column_stack((test_target[:5], kn2.predict(test_scaled[:5])))"
   ]
  },
  {
   "cell_type": "code",
   "execution_count": 211,
   "id": "c9f4e553-614c-4e01-bcea-ed589a913389",
   "metadata": {},
   "outputs": [
    {
     "name": "stdout",
     "output_type": "stream",
     "text": [
      "[[  0  49   2  10  59  29  61  92]\n",
      " [  1  78  98   5  60 108  91  28]\n",
      " [  2  92   0  49  25  69 107   7]\n",
      " [  3  94  46  58  39  19  51 106]\n",
      " [  4  27  14  67  30  21  62  43]]\n",
      "\n",
      "\n",
      "[[2 2 2 2 2 2 2 2]]\n",
      "[[0 0 0 0 0 0 0 0]]\n",
      "[[1 1 1 1 1 1 1 1]]\n",
      "[[2 2 2 2 2 2 2 2]]\n",
      "[[0 0 0 0 0 0 0 0]]\n"
     ]
    }
   ],
   "source": [
    "## 5개의 데이터 이웃 확인\n",
    "# - 각 행마다 이웃이 3개씩\n",
    "distances, indexes = kn2.kneighbors(train_scaled[:5])\n",
    "print(indexes)\n",
    "print('\\n')\n",
    "for test in test_scaled[:5] :\n",
    "    distances, indexes = kn2.kneighbors([test])\n",
    "    print(train_target[indexes])"
   ]
  },
  {
   "cell_type": "code",
   "execution_count": null,
   "id": "90777d87-507e-41f2-8d94-392734a7f494",
   "metadata": {},
   "outputs": [],
   "source": [
    "'''\n",
    "k = 7 , train score = 0.96 / test score = 0.97\n",
    "이전보다 훈련정확도가 증가하였고,\n",
    "훈련/테스트 정확도가 가까워진 것을 확인할 수 있으나 과소적합은 해결되지 않음\n",
    "\n",
    "k = 8 , train score = 0.96 / test score = 0.95\n",
    "이전보다 훈련정확도가 증가하였고,\n",
    "훈련정확도가 테스트정확도보다 높게 나타나 과소적합은 해결되었으나 과대적합에 주의해야 함\n",
    "\n",
    "과대적합보다 과소적합에 더 주의해야하므로\n",
    "과소적합이 해결되는 k=8 모델을 선정할 수는 있으나 \n",
    "로지스틱회귀분류 모델 정확도 확인 후 결정\n",
    "'''"
   ]
  },
  {
   "cell_type": "markdown",
   "id": "27b2635d-2dff-4840-932d-0a1d409d2b20",
   "metadata": {},
   "source": [
    "## 로지스틱 회귀 분류(다중)"
   ]
  },
  {
   "cell_type": "code",
   "execution_count": 45,
   "id": "a54d914d-e94c-4746-895d-487f2494b514",
   "metadata": {},
   "outputs": [
    {
     "name": "stdout",
     "output_type": "stream",
     "text": [
      "0.9553571428571429\n",
      "0.9736842105263158\n"
     ]
    }
   ],
   "source": [
    "from sklearn.linear_model import LogisticRegression\n",
    "\n",
    "lg = LogisticRegression()\n",
    "\n",
    "lg.fit(train_scalde, train_target)\n",
    "\n",
    "print(lg.score(train_scalde, train_target))\n",
    "print(lg.score(test_scalde, test_target))"
   ]
  },
  {
   "cell_type": "code",
   "execution_count": null,
   "id": "b0e61c32-c8d0-4397-b2a7-298dd6e6c842",
   "metadata": {},
   "outputs": [],
   "source": [
    "'''\n",
    "훈련데이터의 정확도는 0.96으로 높게 나타나 우수한 편이나, \n",
    "테스트데이터의 정확도가 더 높게 나타남  >  과소적합 주의\n",
    "'''"
   ]
  },
  {
   "cell_type": "code",
   "execution_count": 67,
   "id": "899951e6-8e8f-4c4a-b03b-27a774751384",
   "metadata": {},
   "outputs": [
    {
     "name": "stdout",
     "output_type": "stream",
     "text": [
      "0.9821428571428571\n",
      "0.9736842105263158\n"
     ]
    }
   ],
   "source": [
    "# 규제강도 조절\n",
    "lg2 = LogisticRegression(C=4)\n",
    "\n",
    "lg2.fit(train_scalde, train_target)\n",
    "\n",
    "print(lg2.score(train_scalde, train_target))\n",
    "print(lg2.score(test_scalde, test_target))"
   ]
  },
  {
   "cell_type": "code",
   "execution_count": null,
   "id": "4ad60ac5-878e-4d24-b726-f6a1326544c4",
   "metadata": {},
   "outputs": [],
   "source": [
    "'''\n",
    "C = 3 , train score = 0.9732 / test score = 0.9737\n",
    "이전보다 훈련정확도가 증가하였고, 훈련/테스트 정확도가 가까워짐\n",
    "0.005차이로 테스트정확도가 크게 나타남. 과소적합이 완전히 해결되진 않음\n",
    "\n",
    "C = 4 , train score = 0.9821 / test score = 0.9737\n",
    "이전보다 훈련정확도가 증가하였고,\n",
    "훈련정확도가 테스트정확도보다 높게 나타나 과소적합은 해결되었으나 과대적합에 주의해야 함\n",
    "\n",
    "과대적합보다 과소적합에 더 주의해야하므로\n",
    "과소적합이 해결되는 C=4 모델 선정\n",
    "'''"
   ]
  },
  {
   "cell_type": "code",
   "execution_count": 68,
   "id": "2cd90373-a0e0-4723-b870-db191fb93667",
   "metadata": {},
   "outputs": [
    {
     "name": "stdout",
     "output_type": "stream",
     "text": [
      "[[-1.20930929  1.75947333 -2.52792012 -2.43225331]\n",
      " [ 0.91661713 -0.54055894 -0.96509686 -0.97774202]\n",
      " [ 0.29269216 -1.2189144   3.49301698  3.40999533]]\n",
      "[-1.55655347e-03  2.74779472e+00 -2.74623817e+00]\n"
     ]
    }
   ],
   "source": [
    "print(lg2.coef_)\n",
    "print(lg2.intercept_)"
   ]
  },
  {
   "cell_type": "markdown",
   "id": "3302e6e4-1641-4263-859d-5dec11685045",
   "metadata": {},
   "source": [
    "## 로지스틱 회귀 분류(이진)"
   ]
  },
  {
   "cell_type": "code",
   "execution_count": null,
   "id": "13268984-9dac-4bbb-9691-99c01b07adf0",
   "metadata": {
    "tags": []
   },
   "outputs": [],
   "source": [
    "# setosa, versicolor 품종만 가져와 이진 분류 진행"
   ]
  },
  {
   "cell_type": "code",
   "execution_count": 75,
   "id": "a87735a6-6005-4e2e-b7f0-6fc0853da890",
   "metadata": {},
   "outputs": [
    {
     "data": {
      "text/plain": [
       "(75, 4)"
      ]
     },
     "execution_count": 75,
     "metadata": {},
     "output_type": "execute_result"
    }
   ],
   "source": [
    "train_s_v = train_scalde[(train_target == 0) | (train_target == 1)]\n",
    "train_s_v.shape"
   ]
  },
  {
   "cell_type": "code",
   "execution_count": 76,
   "id": "dc8d2b66-acef-43ea-84b3-2f5bf303783b",
   "metadata": {},
   "outputs": [
    {
     "data": {
      "text/plain": [
       "(75,)"
      ]
     },
     "execution_count": 76,
     "metadata": {},
     "output_type": "execute_result"
    }
   ],
   "source": [
    "target_s_v = train_target[(train_target == 0) | (train_target == 1)]\n",
    "target_s_v.shape"
   ]
  },
  {
   "cell_type": "code",
   "execution_count": 82,
   "id": "d3913692-f161-4892-9382-b6cea17af15e",
   "metadata": {},
   "outputs": [
    {
     "name": "stdout",
     "output_type": "stream",
     "text": [
      "(25, 4)\n",
      "(25,)\n"
     ]
    }
   ],
   "source": [
    "test_s_v = test_scalde[(test_target == 0) | (test_target == 1)]\n",
    "print(test_s_v.shape)\n",
    "t_target_s_v = test_target[(test_target == 0) | (test_target == 1)]\n",
    "print(t_target_s_v.shape)"
   ]
  },
  {
   "cell_type": "code",
   "execution_count": 84,
   "id": "ad31b9a3-d63a-469d-942d-a64889fbf900",
   "metadata": {},
   "outputs": [
    {
     "name": "stdout",
     "output_type": "stream",
     "text": [
      "1.0\n",
      "1.0\n"
     ]
    }
   ],
   "source": [
    "lg_sv = LogisticRegression()\n",
    "\n",
    "lg_sv.fit(train_s_v, target_s_v)\n",
    "print(lg_sv.score(train_s_v, target_s_v))\n",
    "print(lg_sv.score(test_s_v, t_target_s_v))"
   ]
  },
  {
   "cell_type": "code",
   "execution_count": 144,
   "id": "144c0727-0363-439e-8272-163075af5d48",
   "metadata": {},
   "outputs": [
    {
     "name": "stdout",
     "output_type": "stream",
     "text": [
      "[1 1 0 1 0]\n",
      "[1 1 0 1 0]\n"
     ]
    }
   ],
   "source": [
    "print(t_target_s_v[:5])\n",
    "print(lg_sv.predict(test_s_v[:5]))"
   ]
  },
  {
   "cell_type": "code",
   "execution_count": 146,
   "id": "a32ec3b7-0a34-423b-9e63-4205a2f2dfd0",
   "metadata": {},
   "outputs": [
    {
     "name": "stdout",
     "output_type": "stream",
     "text": [
      "[[ 0.90991601 -1.37427898  1.58316505  1.45967901]] [2.10597974]\n"
     ]
    }
   ],
   "source": [
    "print(lg_sv.coef_, lg_sv.intercept_)"
   ]
  },
  {
   "cell_type": "code",
   "execution_count": null,
   "id": "74f47de2-578e-4ec7-bd06-f1c8e3d150a0",
   "metadata": {},
   "outputs": [],
   "source": [
    "'''\n",
    "<로지스틱회귀방정식>\n",
    "z = 0.91*sepal_length -1.37*petal_length +1.58*sepal_width +1.46*petal_width +2.11\n",
    "'''"
   ]
  },
  {
   "cell_type": "markdown",
   "id": "6259510f-a597-4bb3-826c-810bdc14fab4",
   "metadata": {},
   "source": [
    "## 컬럼별 상관관계 파악"
   ]
  },
  {
   "cell_type": "code",
   "execution_count": 136,
   "id": "5fc0dc75-d446-458d-b5d0-dea4ceedad91",
   "metadata": {},
   "outputs": [],
   "source": [
    "import pandas as pd"
   ]
  },
  {
   "cell_type": "code",
   "execution_count": 139,
   "id": "db7d91ee-7299-4398-87d4-6b4e4253da51",
   "metadata": {
    "collapsed": true,
    "jupyter": {
     "outputs_hidden": true
    },
    "tags": []
   },
   "outputs": [
    {
     "data": {
      "text/plain": [
       "[0.2,\n",
       " 0.2,\n",
       " 0.2,\n",
       " 0.2,\n",
       " 0.2,\n",
       " 0.4,\n",
       " 0.3,\n",
       " 0.2,\n",
       " 0.2,\n",
       " 0.1,\n",
       " 0.2,\n",
       " 0.2,\n",
       " 0.1,\n",
       " 0.1,\n",
       " 0.2,\n",
       " 0.4,\n",
       " 0.4,\n",
       " 0.3,\n",
       " 0.3,\n",
       " 0.3,\n",
       " 0.2,\n",
       " 0.4,\n",
       " 0.2,\n",
       " 0.5,\n",
       " 0.2,\n",
       " 0.2,\n",
       " 0.4,\n",
       " 0.2,\n",
       " 0.2,\n",
       " 0.2,\n",
       " 0.2,\n",
       " 0.4,\n",
       " 0.1,\n",
       " 0.2,\n",
       " 0.2,\n",
       " 0.2,\n",
       " 0.2,\n",
       " 0.1,\n",
       " 0.2,\n",
       " 0.2,\n",
       " 0.3,\n",
       " 0.3,\n",
       " 0.2,\n",
       " 0.6,\n",
       " 0.4,\n",
       " 0.3,\n",
       " 0.2,\n",
       " 0.2,\n",
       " 0.2,\n",
       " 0.2,\n",
       " 1.4,\n",
       " 1.5,\n",
       " 1.5,\n",
       " 1.3,\n",
       " 1.5,\n",
       " 1.3,\n",
       " 1.6,\n",
       " 1.0,\n",
       " 1.3,\n",
       " 1.4,\n",
       " 1.0,\n",
       " 1.5,\n",
       " 1.0,\n",
       " 1.4,\n",
       " 1.3,\n",
       " 1.4,\n",
       " 1.5,\n",
       " 1.0,\n",
       " 1.5,\n",
       " 1.1,\n",
       " 1.8,\n",
       " 1.3,\n",
       " 1.5,\n",
       " 1.2,\n",
       " 1.3,\n",
       " 1.4,\n",
       " 1.4,\n",
       " 1.7,\n",
       " 1.5,\n",
       " 1.0,\n",
       " 1.1,\n",
       " 1.0,\n",
       " 1.2,\n",
       " 1.6,\n",
       " 1.5,\n",
       " 1.6,\n",
       " 1.5,\n",
       " 1.3,\n",
       " 1.3,\n",
       " 1.3,\n",
       " 1.2,\n",
       " 1.4,\n",
       " 1.2,\n",
       " 1.0,\n",
       " 1.3,\n",
       " 1.2,\n",
       " 1.3,\n",
       " 1.3,\n",
       " 1.1,\n",
       " 1.3,\n",
       " 2.5,\n",
       " 1.9,\n",
       " 2.1,\n",
       " 1.8,\n",
       " 2.2,\n",
       " 2.1,\n",
       " 1.7,\n",
       " 1.8,\n",
       " 1.8,\n",
       " 2.5,\n",
       " 2.0,\n",
       " 1.9,\n",
       " 2.1,\n",
       " 2.0,\n",
       " 2.4,\n",
       " 2.3,\n",
       " 1.8,\n",
       " 2.2,\n",
       " 2.3,\n",
       " 1.5,\n",
       " 2.3,\n",
       " 2.0,\n",
       " 2.0,\n",
       " 1.8,\n",
       " 2.1,\n",
       " 1.8,\n",
       " 1.8,\n",
       " 1.8,\n",
       " 2.1,\n",
       " 1.6,\n",
       " 1.9,\n",
       " 2.0,\n",
       " 2.2,\n",
       " 1.5,\n",
       " 1.4,\n",
       " 2.3,\n",
       " 2.4,\n",
       " 1.8,\n",
       " 1.8,\n",
       " 2.1,\n",
       " 2.4,\n",
       " 2.3,\n",
       " 1.9,\n",
       " 2.3,\n",
       " 2.5,\n",
       " 2.3,\n",
       " 1.9,\n",
       " 2.0,\n",
       " 2.3,\n",
       " 1.8]"
      ]
     },
     "execution_count": 139,
     "metadata": {},
     "output_type": "execute_result"
    }
   ],
   "source": [
    "sepal_length\n",
    "petal_length\n",
    "sepal_width\n",
    "petal_width"
   ]
  },
  {
   "cell_type": "code",
   "execution_count": 140,
   "id": "203d2602-f2f8-42fa-84a9-0e3a4235720a",
   "metadata": {
    "collapsed": true,
    "jupyter": {
     "outputs_hidden": true
    },
    "tags": []
   },
   "outputs": [
    {
     "data": {
      "text/html": [
       "<div>\n",
       "<style scoped>\n",
       "    .dataframe tbody tr th:only-of-type {\n",
       "        vertical-align: middle;\n",
       "    }\n",
       "\n",
       "    .dataframe tbody tr th {\n",
       "        vertical-align: top;\n",
       "    }\n",
       "\n",
       "    .dataframe thead th {\n",
       "        text-align: right;\n",
       "    }\n",
       "</style>\n",
       "<table border=\"1\" class=\"dataframe\">\n",
       "  <thead>\n",
       "    <tr style=\"text-align: right;\">\n",
       "      <th></th>\n",
       "      <th>sepal_length</th>\n",
       "      <th>petal_length</th>\n",
       "      <th>sepal_width</th>\n",
       "      <th>petal_width</th>\n",
       "    </tr>\n",
       "  </thead>\n",
       "  <tbody>\n",
       "    <tr>\n",
       "      <th>0</th>\n",
       "      <td>5.1</td>\n",
       "      <td>1.4</td>\n",
       "      <td>3.5</td>\n",
       "      <td>0.2</td>\n",
       "    </tr>\n",
       "    <tr>\n",
       "      <th>1</th>\n",
       "      <td>4.9</td>\n",
       "      <td>1.4</td>\n",
       "      <td>3.0</td>\n",
       "      <td>0.2</td>\n",
       "    </tr>\n",
       "    <tr>\n",
       "      <th>2</th>\n",
       "      <td>4.7</td>\n",
       "      <td>1.3</td>\n",
       "      <td>3.2</td>\n",
       "      <td>0.2</td>\n",
       "    </tr>\n",
       "    <tr>\n",
       "      <th>3</th>\n",
       "      <td>4.6</td>\n",
       "      <td>1.5</td>\n",
       "      <td>3.1</td>\n",
       "      <td>0.2</td>\n",
       "    </tr>\n",
       "    <tr>\n",
       "      <th>4</th>\n",
       "      <td>5.0</td>\n",
       "      <td>1.4</td>\n",
       "      <td>3.6</td>\n",
       "      <td>0.2</td>\n",
       "    </tr>\n",
       "    <tr>\n",
       "      <th>...</th>\n",
       "      <td>...</td>\n",
       "      <td>...</td>\n",
       "      <td>...</td>\n",
       "      <td>...</td>\n",
       "    </tr>\n",
       "    <tr>\n",
       "      <th>145</th>\n",
       "      <td>6.7</td>\n",
       "      <td>5.2</td>\n",
       "      <td>3.0</td>\n",
       "      <td>2.3</td>\n",
       "    </tr>\n",
       "    <tr>\n",
       "      <th>146</th>\n",
       "      <td>6.3</td>\n",
       "      <td>5.0</td>\n",
       "      <td>2.5</td>\n",
       "      <td>1.9</td>\n",
       "    </tr>\n",
       "    <tr>\n",
       "      <th>147</th>\n",
       "      <td>6.5</td>\n",
       "      <td>5.2</td>\n",
       "      <td>3.0</td>\n",
       "      <td>2.0</td>\n",
       "    </tr>\n",
       "    <tr>\n",
       "      <th>148</th>\n",
       "      <td>6.2</td>\n",
       "      <td>5.4</td>\n",
       "      <td>3.4</td>\n",
       "      <td>2.3</td>\n",
       "    </tr>\n",
       "    <tr>\n",
       "      <th>149</th>\n",
       "      <td>5.9</td>\n",
       "      <td>5.1</td>\n",
       "      <td>3.0</td>\n",
       "      <td>1.8</td>\n",
       "    </tr>\n",
       "  </tbody>\n",
       "</table>\n",
       "<p>150 rows × 4 columns</p>\n",
       "</div>"
      ],
      "text/plain": [
       "     sepal_length  petal_length  sepal_width  petal_width\n",
       "0             5.1           1.4          3.5          0.2\n",
       "1             4.9           1.4          3.0          0.2\n",
       "2             4.7           1.3          3.2          0.2\n",
       "3             4.6           1.5          3.1          0.2\n",
       "4             5.0           1.4          3.6          0.2\n",
       "..            ...           ...          ...          ...\n",
       "145           6.7           5.2          3.0          2.3\n",
       "146           6.3           5.0          2.5          1.9\n",
       "147           6.5           5.2          3.0          2.0\n",
       "148           6.2           5.4          3.4          2.3\n",
       "149           5.9           5.1          3.0          1.8\n",
       "\n",
       "[150 rows x 4 columns]"
      ]
     },
     "execution_count": 140,
     "metadata": {},
     "output_type": "execute_result"
    }
   ],
   "source": [
    "df = pd.DataFrame({'sepal_length' : sepal_length,\n",
    "                   'petal_length' : petal_length,\n",
    "                   'sepal_width' : sepal_width,\n",
    "                   'petal_width' : petal_width,\n",
    "                  })\n",
    "df"
   ]
  },
  {
   "cell_type": "code",
   "execution_count": 141,
   "id": "6a62b492-cfb0-4cf7-b84b-5f1cf735cdb4",
   "metadata": {},
   "outputs": [
    {
     "data": {
      "text/html": [
       "<div>\n",
       "<style scoped>\n",
       "    .dataframe tbody tr th:only-of-type {\n",
       "        vertical-align: middle;\n",
       "    }\n",
       "\n",
       "    .dataframe tbody tr th {\n",
       "        vertical-align: top;\n",
       "    }\n",
       "\n",
       "    .dataframe thead th {\n",
       "        text-align: right;\n",
       "    }\n",
       "</style>\n",
       "<table border=\"1\" class=\"dataframe\">\n",
       "  <thead>\n",
       "    <tr style=\"text-align: right;\">\n",
       "      <th></th>\n",
       "      <th>sepal_length</th>\n",
       "      <th>petal_length</th>\n",
       "      <th>sepal_width</th>\n",
       "      <th>petal_width</th>\n",
       "    </tr>\n",
       "  </thead>\n",
       "  <tbody>\n",
       "    <tr>\n",
       "      <th>sepal_length</th>\n",
       "      <td>1.000000</td>\n",
       "      <td>0.871754</td>\n",
       "      <td>-0.117570</td>\n",
       "      <td>0.817941</td>\n",
       "    </tr>\n",
       "    <tr>\n",
       "      <th>petal_length</th>\n",
       "      <td>0.871754</td>\n",
       "      <td>1.000000</td>\n",
       "      <td>-0.428440</td>\n",
       "      <td>0.962865</td>\n",
       "    </tr>\n",
       "    <tr>\n",
       "      <th>sepal_width</th>\n",
       "      <td>-0.117570</td>\n",
       "      <td>-0.428440</td>\n",
       "      <td>1.000000</td>\n",
       "      <td>-0.366126</td>\n",
       "    </tr>\n",
       "    <tr>\n",
       "      <th>petal_width</th>\n",
       "      <td>0.817941</td>\n",
       "      <td>0.962865</td>\n",
       "      <td>-0.366126</td>\n",
       "      <td>1.000000</td>\n",
       "    </tr>\n",
       "  </tbody>\n",
       "</table>\n",
       "</div>"
      ],
      "text/plain": [
       "              sepal_length  petal_length  sepal_width  petal_width\n",
       "sepal_length      1.000000      0.871754    -0.117570     0.817941\n",
       "petal_length      0.871754      1.000000    -0.428440     0.962865\n",
       "sepal_width      -0.117570     -0.428440     1.000000    -0.366126\n",
       "petal_width       0.817941      0.962865    -0.366126     1.000000"
      ]
     },
     "execution_count": 141,
     "metadata": {},
     "output_type": "execute_result"
    }
   ],
   "source": [
    "df.corr(method=\"pearson\")"
   ]
  },
  {
   "cell_type": "code",
   "execution_count": null,
   "id": "bc966cfa-6713-4dda-9228-265531c0678d",
   "metadata": {
    "tags": []
   },
   "outputs": [],
   "source": [
    "# petal_width - sepal_length, petal_length"
   ]
  },
  {
   "cell_type": "markdown",
   "id": "4540cdbd-a38d-4dd2-ac78-65fc0c65b17c",
   "metadata": {},
   "source": [
    "## 다중선형회귀"
   ]
  },
  {
   "cell_type": "code",
   "execution_count": null,
   "id": "4488f3c5-41ee-4eeb-9bc5-36e57aa21889",
   "metadata": {},
   "outputs": [],
   "source": [
    "'''\n",
    "sepal_length, petal_length 변수로 petal_width를 예측해보기\n",
    "'''"
   ]
  },
  {
   "cell_type": "code",
   "execution_count": 130,
   "id": "dc3df96e-cf01-4899-83bd-543843404786",
   "metadata": {},
   "outputs": [],
   "source": [
    "import matplotlib.pyplot as plt"
   ]
  },
  {
   "cell_type": "code",
   "execution_count": 152,
   "id": "d2bbf7af-8bf0-44d7-afb7-27c45ab8791f",
   "metadata": {
    "tags": []
   },
   "outputs": [],
   "source": [
    "data_lr = df[['petal_width','sepal_length', 'petal_length']]"
   ]
  },
  {
   "cell_type": "code",
   "execution_count": 153,
   "id": "82bef1b0-5519-4695-9899-b0c410c8f7be",
   "metadata": {},
   "outputs": [],
   "source": [
    "lr_data = data_lr[['sepal_length', 'petal_length']].to_numpy()\n",
    "lr_target = data_lr['petal_width'].to_numpy()"
   ]
  },
  {
   "cell_type": "code",
   "execution_count": 154,
   "id": "70573c3f-3b9d-4cd6-92a8-63bb195fe011",
   "metadata": {},
   "outputs": [],
   "source": [
    "train_data, test_data, train_target, test_target = train_test_split(\n",
    "    lr_data, lr_target, random_state=123)"
   ]
  },
  {
   "cell_type": "code",
   "execution_count": 155,
   "id": "265ecff8-cbbc-40de-bab8-d544c7bd1489",
   "metadata": {},
   "outputs": [
    {
     "name": "stdout",
     "output_type": "stream",
     "text": [
      "(112, 2)\n",
      "(112,)\n",
      "(38, 2)\n",
      "(38,)\n"
     ]
    }
   ],
   "source": [
    "print(train_data.shape)\n",
    "print(train_target.shape)\n",
    "print(test_data.shape)\n",
    "print(test_target.shape)"
   ]
  },
  {
   "cell_type": "code",
   "execution_count": 157,
   "id": "94b5257d-1ae9-40b6-bad7-d18b3e036089",
   "metadata": {},
   "outputs": [
    {
     "data": {
      "text/plain": [
       "array(['x0', 'x1', 'x0^2', 'x0 x1', 'x1^2'], dtype=object)"
      ]
     },
     "execution_count": 157,
     "metadata": {},
     "output_type": "execute_result"
    }
   ],
   "source": [
    "from sklearn.preprocessing import PolynomialFeatures\n",
    "\n",
    "poly = PolynomialFeatures(include_bias=False)\n",
    "\n",
    "poly.fit(train_data)\n",
    "poly.fit(test_data)\n",
    "\n",
    "train_poly = poly.transform(train_data)\n",
    "test_poly = poly.transform(test_data)\n",
    "\n",
    "poly.get_feature_names_out()"
   ]
  },
  {
   "cell_type": "code",
   "execution_count": 158,
   "id": "86ac17d2-7e1c-4625-af00-331f159beeaa",
   "metadata": {},
   "outputs": [
    {
     "name": "stdout",
     "output_type": "stream",
     "text": [
      "훈련 =  0.9300481693828121\n",
      "테스트 =  0.9383156310069274\n"
     ]
    }
   ],
   "source": [
    "from sklearn.linear_model import LinearRegression\n",
    "\n",
    "lr = LinearRegression()\n",
    "\n",
    "lr.fit(train_poly, train_target)\n",
    "\n",
    "print('훈련 = ', lr.score(train_poly, train_target))\n",
    "print('테스트 = ', lr.score(test_poly, test_target))"
   ]
  },
  {
   "cell_type": "code",
   "execution_count": null,
   "id": "a55eed99-4342-42f9-8f7d-9e19bacd6b6b",
   "metadata": {},
   "outputs": [],
   "source": [
    "'''\n",
    "결정계수가 높게 나타나 우수한 모델이기는 하나\n",
    "훈련 결정계수보다 테스트 결정계수가 높게 나타나 과소적합 현상\n",
    "'''"
   ]
  },
  {
   "cell_type": "code",
   "execution_count": 166,
   "id": "bd361569-47f2-4545-9483-b5cd8d1cf96b",
   "metadata": {},
   "outputs": [
    {
     "data": {
      "text/plain": [
       "array(['x0', 'x1', 'x0^2', 'x0 x1', 'x1^2', 'x0^3', 'x0^2 x1', 'x0 x1^2',\n",
       "       'x1^3', 'x0^4', 'x0^3 x1', 'x0^2 x1^2', 'x0 x1^3', 'x1^4', 'x0^5',\n",
       "       'x0^4 x1', 'x0^3 x1^2', 'x0^2 x1^3', 'x0 x1^4', 'x1^5'],\n",
       "      dtype=object)"
      ]
     },
     "execution_count": 166,
     "metadata": {},
     "output_type": "execute_result"
    }
   ],
   "source": [
    "# 차수 조정\n",
    "poly = PolynomialFeatures(degree = 5, include_bias=False)\n",
    "\n",
    "poly.fit(train_data)\n",
    "poly.fit(test_data)\n",
    "\n",
    "train_poly = poly.transform(train_data)\n",
    "test_poly = poly.transform(test_data)\n",
    "\n",
    "poly.get_feature_names_out()"
   ]
  },
  {
   "cell_type": "code",
   "execution_count": 167,
   "id": "d8392c11-d7f4-4ae8-9ce5-c245b5965cef",
   "metadata": {},
   "outputs": [
    {
     "name": "stdout",
     "output_type": "stream",
     "text": [
      "훈련 =  0.9452564561228696\n",
      "테스트 =  0.9125618330487343\n"
     ]
    }
   ],
   "source": [
    "lr2 = LinearRegression()\n",
    "\n",
    "lr2.fit(train_poly, train_target)\n",
    "\n",
    "print('훈련 = ', lr2.score(train_poly, train_target))\n",
    "print('테스트 = ', lr2.score(test_poly, test_target))"
   ]
  },
  {
   "cell_type": "code",
   "execution_count": null,
   "id": "0d752957-f40e-4619-9844-3d8e4b69f8af",
   "metadata": {},
   "outputs": [],
   "source": [
    "'''\n",
    "차수를 5로 조정했을 때 훈련 결정계수가 높아졌으나 테스트 결정계수는 낮아진 것을 확인\n",
    "과소적합은 해소되었으나 과대적합에 주의해야함\n",
    "'''"
   ]
  },
  {
   "cell_type": "code",
   "execution_count": 170,
   "id": "04469482-654d-436c-9c76-3177a5ac1783",
   "metadata": {},
   "outputs": [],
   "source": [
    "## 규제\n",
    "from sklearn.preprocessing import StandardScaler\n",
    "from sklearn.linear_model import Ridge\n",
    "from sklearn.linear_model import Lasso"
   ]
  },
  {
   "cell_type": "code",
   "execution_count": 168,
   "id": "3e5600b9-50f4-40e6-854c-f6abb04e9aec",
   "metadata": {
    "collapsed": true,
    "jupyter": {
     "outputs_hidden": true
    },
    "tags": []
   },
   "outputs": [
    {
     "name": "stdout",
     "output_type": "stream",
     "text": [
      "[5.86428571e+00 3.83035714e+00 3.50076786e+01 2.36289286e+01\n",
      " 1.75898214e+01 2.12637732e+02 1.47799089e+02 1.11699804e+02\n",
      " 8.78896607e+01 1.31326497e+03 9.36779112e+02 7.17341789e+02\n",
      " 5.68358257e+02 4.58683427e+02 8.24024192e+03 6.01243722e+03\n",
      " 4.65697356e+03 3.71284417e+03 3.00827208e+03 2.46412430e+03] [7.86022667e-01 1.70826976e+00 9.36629100e+00 1.26101358e+01\n",
      " 1.22180853e+01 8.52423622e+01 9.33016073e+01 8.62824212e+01\n",
      " 7.63355996e+01 7.02063540e+02 6.90405890e+02 6.19548623e+02\n",
      " 5.42783656e+02 4.74332384e+02 5.51605313e+03 5.11176373e+03\n",
      " 4.50371786e+03 3.92167272e+03 3.41685895e+03 2.98654786e+03]\n"
     ]
    }
   ],
   "source": [
    "ss = StandardScaler()\n",
    "\n",
    "ss.fit(train_poly, train_target)\n",
    "\n",
    "train_scaled = ss.transform(train_poly)\n",
    "test_scaled = ss.transform(test_poly)\n",
    "\n",
    "print(ss.mean_, ss.scale_)"
   ]
  },
  {
   "cell_type": "code",
   "execution_count": 171,
   "id": "c7e2e59d-61e7-49c8-bc1b-871d621610d0",
   "metadata": {},
   "outputs": [
    {
     "name": "stdout",
     "output_type": "stream",
     "text": [
      "훈련 =  0.9342695992624591\n",
      "테스트 =  0.9418516734381293\n"
     ]
    }
   ],
   "source": [
    "ridge = Ridge()\n",
    "ridge.fit(train_scaled, train_target)\n",
    "\n",
    "print('훈련 = ', ridge.score(train_scaled, train_target))\n",
    "print('테스트 = ', ridge.score(test_scaled, test_target))"
   ]
  },
  {
   "cell_type": "code",
   "execution_count": 172,
   "id": "e7675e85-7caf-4e43-b7fa-21212a3f31e5",
   "metadata": {},
   "outputs": [
    {
     "name": "stdout",
     "output_type": "stream",
     "text": [
      "훈련 =  0.0\n",
      "테스트 =  -0.0368252703453289\n"
     ]
    }
   ],
   "source": [
    "lasso = Lasso()\n",
    "lasso.fit(train_scaled, train_target)\n",
    "\n",
    "print('훈련 = ', lasso.score(train_scaled, train_target))\n",
    "print('테스트 = ', lasso.score(test_scaled, test_target))"
   ]
  },
  {
   "cell_type": "code",
   "execution_count": 176,
   "id": "5fbef0c0-8aea-4078-a88c-b5fe177d7f54",
   "metadata": {},
   "outputs": [
    {
     "data": {
      "text/plain": [
       "[<matplotlib.lines.Line2D at 0x16fac05fdc0>]"
      ]
     },
     "execution_count": 176,
     "metadata": {},
     "output_type": "execute_result"
    },
    {
     "data": {
      "image/png": "[encoded data removed]",
      "text/plain": [
       "<Figure size 432x288 with 1 Axes>"
      ]
     },
     "metadata": {
      "needs_background": "light"
     },
     "output_type": "display_data"
    }
   ],
   "source": [
    "## 규제 강도 조절\n",
    "train_score = []\n",
    "test_score = []\n",
    "\n",
    "alpha_list = [0.0001, 0.001, 0.01, 0.1 , 1, 10, 100, 1000]\n",
    "\n",
    "\n",
    "for alpha in alpha_list :\n",
    "    # 릿지모델\n",
    "    ridge = Ridge(alpha = alpha)\n",
    "    ridge.fit(train_scaled, train_target)\n",
    "    train_score.append(ridge.score(train_scaled, train_target))\n",
    "    test_score.append(ridge.score(test_scaled, test_target))\n",
    "    \n",
    "plt.plot(np.log10(alpha_list), train_score) # blue\n",
    "plt.plot(np.log10(alpha_list), test_score)  # orange"
   ]
  },
  {
   "cell_type": "code",
   "execution_count": 178,
   "id": "67d7f338-2ac5-4201-9b02-8a67aa762ee9",
   "metadata": {},
   "outputs": [
    {
     "name": "stdout",
     "output_type": "stream",
     "text": [
      "0.9377193660680052\n",
      "0.918547412709071\n"
     ]
    }
   ],
   "source": [
    "ridge = Ridge(alpha = 0.001)\n",
    "ridge.fit(train_scaled, train_target)\n",
    "print(ridge.score(train_scaled, train_target))\n",
    "print(ridge.score(test_scaled, test_target))"
   ]
  },
  {
   "cell_type": "code",
   "execution_count": null,
   "id": "21126346-2742-4a7c-a56a-422319c3b4f9",
   "metadata": {},
   "outputs": [],
   "source": [
    "'''\n",
    "정규화 후 규제개념이 적용된 릿지/라쏘 모델에 적용한 후 \n",
    "차수 조정했을 때의 결정계수와 비교해보았다.\n",
    "\n",
    "차수를 조정했을 때는 train score = 0.9453, test score = 0.9126\n",
    "규제 강도를 조절했을 때는 train score = 0.9377, test score = 0.9185\n",
    "\n",
    "과대적합은 차수 조정했을 경우가 더 크게 나타났지만, \n",
    "훈련 결정계수가 더 높게 나타났으므로 차수를 조정한 모델을 예측 모델로 선정\n",
    "'''"
   ]
  }
 ],
 "metadata": {
  "kernelspec": {
   "display_name": "ml_kernel",
   "language": "python",
   "name": "ml"
  },
  "language_info": {
   "codemirror_mode": {
    "name": "ipython",
    "version": 3
   },
   "file_extension": ".py",
   "mimetype": "text/x-python",
   "name": "python",
   "nbconvert_exporter": "python",
   "pygments_lexer": "ipython3",
   "version": "3.9.12"
  }
 },
 "nbformat": 4,
 "nbformat_minor": 5
}
