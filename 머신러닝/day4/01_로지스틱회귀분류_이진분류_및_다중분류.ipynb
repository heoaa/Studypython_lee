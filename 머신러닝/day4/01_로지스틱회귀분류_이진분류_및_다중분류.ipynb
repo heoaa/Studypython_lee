{
 "cells": [
  {
   "cell_type": "markdown",
   "id": "90f55f07",
   "metadata": {},
   "source": [
    "## 로지스틱 회귀분류 모델"
   ]
  },
  {
   "cell_type": "code",
   "execution_count": 1,
   "id": "f3616d66",
   "metadata": {},
   "outputs": [],
   "source": [
    "### 데이터 준비하기\n",
    "# - 구글드라이브 > Dataset > 머신러닝 > data > 05_생선_분류_데이터셋.csv\n",
    "# - 데이터프레임 변수명 : fish"
   ]
  },
  {
   "cell_type": "code",
   "execution_count": 2,
   "id": "90f15141",
   "metadata": {},
   "outputs": [
    {
     "data": {
      "text/html": [
       "<div>\n",
       "<style scoped>\n",
       "    .dataframe tbody tr th:only-of-type {\n",
       "        vertical-align: middle;\n",
       "    }\n",
       "\n",
       "    .dataframe tbody tr th {\n",
       "        vertical-align: top;\n",
       "    }\n",
       "\n",
       "    .dataframe thead th {\n",
       "        text-align: right;\n",
       "    }\n",
       "</style>\n",
       "<table border=\"1\" class=\"dataframe\">\n",
       "  <thead>\n",
       "    <tr style=\"text-align: right;\">\n",
       "      <th></th>\n",
       "      <th>Species</th>\n",
       "      <th>Weight</th>\n",
       "      <th>Length</th>\n",
       "      <th>Diagonal</th>\n",
       "      <th>Height</th>\n",
       "      <th>Width</th>\n",
       "    </tr>\n",
       "  </thead>\n",
       "  <tbody>\n",
       "    <tr>\n",
       "      <th>0</th>\n",
       "      <td>Bream</td>\n",
       "      <td>242.0</td>\n",
       "      <td>25.4</td>\n",
       "      <td>30.0</td>\n",
       "      <td>11.5200</td>\n",
       "      <td>4.0200</td>\n",
       "    </tr>\n",
       "    <tr>\n",
       "      <th>1</th>\n",
       "      <td>Bream</td>\n",
       "      <td>290.0</td>\n",
       "      <td>26.3</td>\n",
       "      <td>31.2</td>\n",
       "      <td>12.4800</td>\n",
       "      <td>4.3056</td>\n",
       "    </tr>\n",
       "    <tr>\n",
       "      <th>2</th>\n",
       "      <td>Bream</td>\n",
       "      <td>340.0</td>\n",
       "      <td>26.5</td>\n",
       "      <td>31.1</td>\n",
       "      <td>12.3778</td>\n",
       "      <td>4.6961</td>\n",
       "    </tr>\n",
       "    <tr>\n",
       "      <th>3</th>\n",
       "      <td>Bream</td>\n",
       "      <td>363.0</td>\n",
       "      <td>29.0</td>\n",
       "      <td>33.5</td>\n",
       "      <td>12.7300</td>\n",
       "      <td>4.4555</td>\n",
       "    </tr>\n",
       "    <tr>\n",
       "      <th>4</th>\n",
       "      <td>Bream</td>\n",
       "      <td>430.0</td>\n",
       "      <td>29.0</td>\n",
       "      <td>34.0</td>\n",
       "      <td>12.4440</td>\n",
       "      <td>5.1340</td>\n",
       "    </tr>\n",
       "    <tr>\n",
       "      <th>...</th>\n",
       "      <td>...</td>\n",
       "      <td>...</td>\n",
       "      <td>...</td>\n",
       "      <td>...</td>\n",
       "      <td>...</td>\n",
       "      <td>...</td>\n",
       "    </tr>\n",
       "    <tr>\n",
       "      <th>154</th>\n",
       "      <td>Smelt</td>\n",
       "      <td>12.2</td>\n",
       "      <td>12.2</td>\n",
       "      <td>13.4</td>\n",
       "      <td>2.0904</td>\n",
       "      <td>1.3936</td>\n",
       "    </tr>\n",
       "    <tr>\n",
       "      <th>155</th>\n",
       "      <td>Smelt</td>\n",
       "      <td>13.4</td>\n",
       "      <td>12.4</td>\n",
       "      <td>13.5</td>\n",
       "      <td>2.4300</td>\n",
       "      <td>1.2690</td>\n",
       "    </tr>\n",
       "    <tr>\n",
       "      <th>156</th>\n",
       "      <td>Smelt</td>\n",
       "      <td>12.2</td>\n",
       "      <td>13.0</td>\n",
       "      <td>13.8</td>\n",
       "      <td>2.2770</td>\n",
       "      <td>1.2558</td>\n",
       "    </tr>\n",
       "    <tr>\n",
       "      <th>157</th>\n",
       "      <td>Smelt</td>\n",
       "      <td>19.7</td>\n",
       "      <td>14.3</td>\n",
       "      <td>15.2</td>\n",
       "      <td>2.8728</td>\n",
       "      <td>2.0672</td>\n",
       "    </tr>\n",
       "    <tr>\n",
       "      <th>158</th>\n",
       "      <td>Smelt</td>\n",
       "      <td>19.9</td>\n",
       "      <td>15.0</td>\n",
       "      <td>16.2</td>\n",
       "      <td>2.9322</td>\n",
       "      <td>1.8792</td>\n",
       "    </tr>\n",
       "  </tbody>\n",
       "</table>\n",
       "<p>159 rows × 6 columns</p>\n",
       "</div>"
      ],
      "text/plain": [
       "    Species  Weight  Length  Diagonal   Height   Width\n",
       "0     Bream   242.0    25.4      30.0  11.5200  4.0200\n",
       "1     Bream   290.0    26.3      31.2  12.4800  4.3056\n",
       "2     Bream   340.0    26.5      31.1  12.3778  4.6961\n",
       "3     Bream   363.0    29.0      33.5  12.7300  4.4555\n",
       "4     Bream   430.0    29.0      34.0  12.4440  5.1340\n",
       "..      ...     ...     ...       ...      ...     ...\n",
       "154   Smelt    12.2    12.2      13.4   2.0904  1.3936\n",
       "155   Smelt    13.4    12.4      13.5   2.4300  1.2690\n",
       "156   Smelt    12.2    13.0      13.8   2.2770  1.2558\n",
       "157   Smelt    19.7    14.3      15.2   2.8728  2.0672\n",
       "158   Smelt    19.9    15.0      16.2   2.9322  1.8792\n",
       "\n",
       "[159 rows x 6 columns]"
      ]
     },
     "execution_count": 2,
     "metadata": {},
     "output_type": "execute_result"
    }
   ],
   "source": [
    "import pandas as pd\n",
    "\n",
    "file_path = \"./data/05_생선_분류_데이터셋.csv\"\n",
    "\n",
    "fish = pd.read_csv(file_path)\n",
    "fish\n",
    "\n",
    "# Species\tWeight\tLength\tDiagonal\tHeight\tWidth\n",
    "#  종류      무게    길이     대각선     높이    두께"
   ]
  },
  {
   "cell_type": "code",
   "execution_count": 4,
   "id": "e57f62ed",
   "metadata": {},
   "outputs": [
    {
     "name": "stdout",
     "output_type": "stream",
     "text": [
      "['Bream' 'Roach' 'Whitefish' 'Parkki' 'Perch' 'Pike' 'Smelt']\n"
     ]
    }
   ],
   "source": [
    "### 종류 특성의 고유한 값 조회하기\n",
    "print(pd.unique(fish[\"Species\"]))"
   ]
  },
  {
   "cell_type": "code",
   "execution_count": 8,
   "id": "e753d439",
   "metadata": {},
   "outputs": [
    {
     "data": {
      "text/plain": [
       "array([[242.    ,  25.4   ,  30.    ,  11.52  ,   4.02  ],\n",
       "       [290.    ,  26.3   ,  31.2   ,  12.48  ,   4.3056],\n",
       "       [340.    ,  26.5   ,  31.1   ,  12.3778,   4.6961],\n",
       "       [363.    ,  29.    ,  33.5   ,  12.73  ,   4.4555],\n",
       "       [430.    ,  29.    ,  34.    ,  12.444 ,   5.134 ]])"
      ]
     },
     "execution_count": 8,
     "metadata": {},
     "output_type": "execute_result"
    }
   ],
   "source": [
    "### 독립변수 추출하기\n",
    "# - 변수명은 fish_input\n",
    "# - 사이킷런 훈련에 사용하는 형태로 만들어주세요..출력까지..\n",
    "\n",
    "fish_input = fish[[\"Weight\", \"Length\", \"Diagonal\", \n",
    "                      \"Height\", \"Width\"]].to_numpy()\n",
    "fish_input\n",
    "\n",
    "### 상위 5개 추출하기\n",
    "fish_input[ : 5]"
   ]
  },
  {
   "cell_type": "code",
   "execution_count": 9,
   "id": "f365837e",
   "metadata": {},
   "outputs": [
    {
     "data": {
      "text/plain": [
       "array(['Bream', 'Bream', 'Bream', 'Bream', 'Bream', 'Bream', 'Bream',\n",
       "       'Bream', 'Bream', 'Bream', 'Bream', 'Bream', 'Bream', 'Bream',\n",
       "       'Bream', 'Bream', 'Bream', 'Bream', 'Bream', 'Bream', 'Bream',\n",
       "       'Bream', 'Bream', 'Bream', 'Bream', 'Bream', 'Bream', 'Bream',\n",
       "       'Bream', 'Bream', 'Bream', 'Bream', 'Bream', 'Bream', 'Bream',\n",
       "       'Roach', 'Roach', 'Roach', 'Roach', 'Roach', 'Roach', 'Roach',\n",
       "       'Roach', 'Roach', 'Roach', 'Roach', 'Roach', 'Roach', 'Roach',\n",
       "       'Roach', 'Roach', 'Roach', 'Roach', 'Roach', 'Roach', 'Whitefish',\n",
       "       'Whitefish', 'Whitefish', 'Whitefish', 'Whitefish', 'Whitefish',\n",
       "       'Parkki', 'Parkki', 'Parkki', 'Parkki', 'Parkki', 'Parkki',\n",
       "       'Parkki', 'Parkki', 'Parkki', 'Parkki', 'Parkki', 'Perch', 'Perch',\n",
       "       'Perch', 'Perch', 'Perch', 'Perch', 'Perch', 'Perch', 'Perch',\n",
       "       'Perch', 'Perch', 'Perch', 'Perch', 'Perch', 'Perch', 'Perch',\n",
       "       'Perch', 'Perch', 'Perch', 'Perch', 'Perch', 'Perch', 'Perch',\n",
       "       'Perch', 'Perch', 'Perch', 'Perch', 'Perch', 'Perch', 'Perch',\n",
       "       'Perch', 'Perch', 'Perch', 'Perch', 'Perch', 'Perch', 'Perch',\n",
       "       'Perch', 'Perch', 'Perch', 'Perch', 'Perch', 'Perch', 'Perch',\n",
       "       'Perch', 'Perch', 'Perch', 'Perch', 'Perch', 'Perch', 'Perch',\n",
       "       'Perch', 'Perch', 'Perch', 'Perch', 'Perch', 'Pike', 'Pike',\n",
       "       'Pike', 'Pike', 'Pike', 'Pike', 'Pike', 'Pike', 'Pike', 'Pike',\n",
       "       'Pike', 'Pike', 'Pike', 'Pike', 'Pike', 'Pike', 'Pike', 'Smelt',\n",
       "       'Smelt', 'Smelt', 'Smelt', 'Smelt', 'Smelt', 'Smelt', 'Smelt',\n",
       "       'Smelt', 'Smelt', 'Smelt', 'Smelt', 'Smelt', 'Smelt'], dtype=object)"
      ]
     },
     "execution_count": 9,
     "metadata": {},
     "output_type": "execute_result"
    }
   ],
   "source": [
    "### 종속변수 만들기 : 1차원..\n",
    "# - 변수명 : fish_target\n",
    "\n",
    "fish_target = fish[\"Species\"].to_numpy()\n",
    "fish_target"
   ]
  },
  {
   "cell_type": "code",
   "execution_count": 13,
   "id": "59a62f55",
   "metadata": {},
   "outputs": [
    {
     "name": "stdout",
     "output_type": "stream",
     "text": [
      "(119, 5)\n",
      "(119,)\n",
      "(40, 5)\n",
      "(40,)\n"
     ]
    }
   ],
   "source": [
    "### 훈련데이터와 테스트데이터로 나누기\n",
    "# - 변수명 어제와 동일\n",
    "# - seed = 42\n",
    "\n",
    "### 사용 패키지 불러들이기\n",
    "from sklearn.model_selection import train_test_split\n",
    "\n",
    "### 데이터 나누기\n",
    "train_input, test_input, train_target, test_target = \\\n",
    "    train_test_split(fish_input, fish_target, random_state=42)\n",
    "\n",
    "### 차원 확인하기\n",
    "print(train_input.shape)\n",
    "print(train_target.shape)\n",
    "print(test_input.shape)\n",
    "print(test_target.shape)"
   ]
  },
  {
   "cell_type": "code",
   "execution_count": null,
   "id": "f27fa8f5",
   "metadata": {},
   "outputs": [],
   "source": [
    "### 정규화(표준화) : 스케일 표준화\n",
    "# - 변수 : train_scaled, test_scaled"
   ]
  },
  {
   "cell_type": "code",
   "execution_count": 14,
   "id": "7d0c8105",
   "metadata": {},
   "outputs": [
    {
     "data": {
      "text/plain": [
       "array([[ 0.91965782,  0.60943175,  0.81041221,  1.85194896,  1.00075672],\n",
       "       [ 0.30041219,  1.54653445,  1.45316551, -0.46981663,  0.27291745],\n",
       "       [-1.0858536 , -1.68646987, -1.70848587, -1.70159849, -2.0044758 ],\n",
       "       [-0.79734143, -0.60880176, -0.67486907, -0.82480589, -0.27631471],\n",
       "       [-0.71289885, -0.73062511, -0.70092664, -0.0802298 , -0.7033869 ]])"
      ]
     },
     "execution_count": 14,
     "metadata": {},
     "output_type": "execute_result"
    }
   ],
   "source": [
    "### 정규화(표준화)\n",
    "# 1. 정규화 : 스케일이 다른 항목들을 \"표준점수\"로 동일하게 표준화시키기\n",
    "#   - 표준점수는 사이킷런에서 제공하는 클래스(모델) 사용\n",
    "\n",
    "#  <정규화 순서>\n",
    "#   1.1 정규화(표준점수) 클래스 생성 : StandardScaler()\n",
    "#   1.2 훈련 시키기 : fit(훈련데이터) -> 스스로 표준점수 생성\n",
    "#   1.3 변환하기 : transform(훈련데이터) -> 표준점수로 변환하기\n",
    "#   1.4 표준점수에 사용된 5개 항목에 대한 평균과, 표준편차 확인\n",
    "#      - StandardScaler 클래스 내에 mean_, scale_ 변수에 저장되어 있음\n",
    "\n",
    "### 라이브러리 생성\n",
    "from sklearn.preprocessing import StandardScaler\n",
    "\n",
    "### 클래스(모델) 생성\n",
    "ss = StandardScaler()\n",
    "\n",
    "### 스스로 표준점수 생성\n",
    "ss.fit(train_input)\n",
    "\n",
    "### 훈련데이터를 표준점수로 변환하기\n",
    "train_scaled = ss.transform(train_input)\n",
    "### 테스트데이터를 표준점수로 변환하기\n",
    "test_scaled = ss.transform(test_input)\n",
    "\n",
    "### 샘플 5개 행 출력해 보기\n",
    "train_scaled[:5]"
   ]
  },
  {
   "cell_type": "code",
   "execution_count": null,
   "id": "c64c0705",
   "metadata": {},
   "outputs": [],
   "source": []
  },
  {
   "cell_type": "code",
   "execution_count": null,
   "id": "1d5d76bf",
   "metadata": {},
   "outputs": [],
   "source": []
  },
  {
   "cell_type": "code",
   "execution_count": null,
   "id": "bfbf7c14",
   "metadata": {},
   "outputs": [],
   "source": []
  },
  {
   "cell_type": "code",
   "execution_count": null,
   "id": "d39c5698",
   "metadata": {},
   "outputs": [],
   "source": []
  }
 ],
 "metadata": {
  "kernelspec": {
   "display_name": "ml_kernel",
   "language": "python",
   "name": "ml"
  },
  "language_info": {
   "codemirror_mode": {
    "name": "ipython",
    "version": 3
   },
   "file_extension": ".py",
   "mimetype": "text/x-python",
   "name": "python",
   "nbconvert_exporter": "python",
   "pygments_lexer": "ipython3",
   "version": "3.9.12"
  }
 },
 "nbformat": 4,
 "nbformat_minor": 5
}
