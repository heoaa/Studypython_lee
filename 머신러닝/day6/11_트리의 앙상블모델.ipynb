{
 "cells": [
  {
   "cell_type": "code",
   "execution_count": null,
   "id": "3d0e2222-311d-4dab-9827-01b25f412a3a",
   "metadata": {},
   "outputs": [],
   "source": [
    "# 정형데이터에 가장 뛰어난 성능을 보이는 모델\n",
    "# 결정트리(Decision Tree) 기반\n",
    "# 앙상블 모델\n",
    "# - 랜덤포레스트(Random Forest)\n",
    "# - 엑스트라 트리(Extra Trees)\n",
    "# - 그레디언트 부스팅(Gradient Boosting)\n",
    "# - 히스토그램 기반 그레디언트 부스팅(Histogram-base Gradient Boosting)"
   ]
  },
  {
   "cell_type": "markdown",
   "id": "6b71a74b-6909-42dc-8558-372f29b254a3",
   "metadata": {},
   "source": [
    "## 1. 랜덤포레스트(Random Forest)"
   ]
  },
  {
   "cell_type": "code",
   "execution_count": null,
   "id": "f0eb20ee-eb06-479e-aaf8-efe800fa92de",
   "metadata": {},
   "outputs": [],
   "source": [
    "# 앙상블 모델 중 가장 대표격 모델로 사용\n",
    "# - 안정적인 성능으로 널리 사용됨\n",
    "# - 앙상블 모델 중 가장 먼저 시도하는 모델\n",
    "# - 훈련데이터에서 과대적합되는 것을 막아줌\n",
    "# - 검증데이터와 테스트데이터에서 안정적인 성능을 얻을 수 있음\n",
    "\n",
    "## 학습개념\n",
    "# - 결정트리 하나하나를 랜덤하게 만들어서 숲을 만듦\n",
    "# - 훈련데이터에서 랜덤하게 샘플을 추출하여 훈련을 완료한 후,\n",
    "#   다시 원본 훈련데이터에 반환\n",
    "# - 랜덤하게 추출 시 이전에 사용된 샘플을 사용할 수도 있음(중복 허용)\n",
    "\n",
    "## 부트스트랩 샘플(Bootstrap Sample)\n",
    "# - 위에 설명한 랜덤한 샘플 추출 시 중복을 허용하여 데이터를 샘플링하는 방식\n",
    "# - 샘플 추출 방식\n",
    "#   1) 원본에서 랜덤 샘플 추출\n",
    "#   2) 훈련 이후 사용이 끝나면 원본에 반환\n",
    "#   3) 다시 원본에서 샘플 추출, 이때 중복값 추출될 수 있음\n",
    "#   위 순서를 반복하면서 샘플링을 통해 훈련하는 방식을 랜덤포레스트가 적용함"
   ]
  },
  {
   "cell_type": "code",
   "execution_count": 3,
   "id": "ce9e3654-3613-4ab3-a177-43455a7fd482",
   "metadata": {
    "tags": []
   },
   "outputs": [],
   "source": [
    "# import numpy as np\n",
    "# import pandas as pd\n",
    "from sklearn.model_selection import train_test_split"
   ]
  },
  {
   "cell_type": "code",
   "execution_count": 4,
   "id": "613ef79c-6dde-498e-9ea5-851aebca46a1",
   "metadata": {},
   "outputs": [
    {
     "name": "stdout",
     "output_type": "stream",
     "text": [
      "(4872, 3) (4872,)\n",
      "(1625, 3) (1625,)\n"
     ]
    }
   ],
   "source": [
    "# 데이터 불러오기\n",
    "file_path = '../data/08_wine.csv'\n",
    "wine = pd.read_csv(file_path)\n",
    "\n",
    "# 훈련/테스트 데이터 추출\n",
    "data = wine[['alcohol', 'sugar', 'pH']].to_numpy()\n",
    "target = wine['class'].to_numpy()\n",
    "\n",
    "# 데이터 분리\n",
    "train_data, test_data, train_target, test_target = train_test_split(\n",
    "    data, target, random_state=42)\n",
    "    \n",
    "print(train_data.shape, train_target.shape)\n",
    "print(test_data.shape, test_target.shape)"
   ]
  },
  {
   "cell_type": "code",
   "execution_count": 5,
   "id": "7d8bf11d-0d9f-4678-9ea5-72b0efc6bc40",
   "metadata": {},
   "outputs": [],
   "source": [
    "# 랜덤포레스트 패키지 : sklearn.ensemble\n",
    "# 랜덤포레스트 클래스(모델) : RandomForestClssifier\n",
    "# 교차검증 : cross_validate()\n",
    "# 교차검증 후 훈련검증결과와 테스트검증 결과 확인\n",
    "from sklearn.model_selection import cross_validate\n",
    "from sklearn.ensemble import RandomForestClassifier"
   ]
  },
  {
   "cell_type": "code",
   "execution_count": 6,
   "id": "3067b403-5b88-4590-a444-7d0ee9591ed0",
   "metadata": {},
   "outputs": [
    {
     "name": "stdout",
     "output_type": "stream",
     "text": [
      "{'fit_time': array([0.24218178, 0.2288177 , 0.26561141, 0.25263715, 0.36381817]), 'score_time': array([0.05536556, 0.04576755, 0.04296255, 0.04295135, 0.02293849]), 'test_score': array([0.88      , 0.90051282, 0.90349076, 0.89014374, 0.88295688]), 'train_score': array([0.99743392, 0.99692071, 0.99846075, 0.99820421, 0.99820421])}\n",
      "0.997844759088341 0.8914208392565683\n"
     ]
    }
   ],
   "source": [
    "# 클래스(모델)생성\n",
    "rf = RandomForestClassifier(n_jobs=-1, random_state=42)\n",
    "\n",
    "# 교차검증\n",
    "# - return_train_score=True : 검증결과 반환받기\n",
    "scores = cross_validate(rf, train_data, train_target,\n",
    "                        return_train_score=True, n_jobs=-1)\n",
    "\n",
    "# 최종 훈련 평가결과, 검증결과\n",
    "print(scores)\n",
    "print(np.mean(scores['train_score']), np.mean(scores['test_score']))\n",
    "\n",
    "## 과대적합이 다소 나온 편이다."
   ]
  },
  {
   "cell_type": "code",
   "execution_count": 7,
   "id": "a18e1cb3-96d0-454c-ab24-44ff81fecc57",
   "metadata": {},
   "outputs": [
    {
     "name": "stdout",
     "output_type": "stream",
     "text": [
      "[0.23155241 0.49706658 0.27138101]\n"
     ]
    }
   ],
   "source": [
    "## 훈련\n",
    "rf.fit(train_data, train_target)\n",
    "\n",
    "## 특성중요도\n",
    "print(rf.feature_importances_)"
   ]
  },
  {
   "cell_type": "code",
   "execution_count": 8,
   "id": "9a8805b1-915f-4589-b6d5-3f228c63b25a",
   "metadata": {},
   "outputs": [
    {
     "name": "stdout",
     "output_type": "stream",
     "text": [
      "0.8670769230769231\n"
     ]
    }
   ],
   "source": [
    "## OOb 기능 사용\n",
    "# 룬현에 참여하지 못한 잔여샘픙 사용하는 기술\n",
    "# 기본은 사용 x\n",
    "rf =RandomForestClassifier(oob_score=True, n_jobs=-1, random_state=42)\n",
    "rf.fit(test_data,test_target)\n",
    "print(rf.oob_score_)"
   ]
  },
  {
   "cell_type": "markdown",
   "id": "b2b1cbbd-4b6c-42d6-bab5-a05d612a669a",
   "metadata": {},
   "source": [
    "## 2. 엑스트라 트리(Extra Tree)"
   ]
  },
  {
   "cell_type": "code",
   "execution_count": null,
   "id": "86a0a517-8f87-4a0f-a63c-d067a2115e8d",
   "metadata": {},
   "outputs": [],
   "source": [
    "# 랜덤포레스트와 유사하게 작동\n",
    "# - 기본적으로 100개의 결정트리를 훈련함\n",
    "# - 랜덤포레스트와의 차이점\n",
    "#   : 부트스트랩 샘플링을 지원하지 않음\n",
    "#   : 훈련데이터 전체를 이용하여 결정트리를 생성\n",
    "#   : 무작위로 트리를 분리함\n",
    "# - 사용되는 속성 : splitter = 'random'  무작위속성\n",
    "# - 장점\n",
    "#   : 과대적합을 막고, 검증데이터의 평가값을 높일 수 있음\n",
    "#   : 특성 데이터가 많지 않은 경우에는 랜덤포레스트와 큰 차이가 없음\n",
    "# - 랜덤포레스트는 불순도 등 여러가지 조건에 따라 결정트리를 생성하기 때문에 속도가 느린 반면,\n",
    "#   엑스트라 트리는 랜덤하게 결정트리를 생성하기에 속도가 다소 빠르다는 장점이 있음"
   ]
  },
  {
   "cell_type": "code",
   "execution_count": 11,
   "id": "d3de66af-1b39-4a96-959f-2abbb66ecbe7",
   "metadata": {},
   "outputs": [],
   "source": [
    "## 사용패키지 : 랜덤포레스트와 동일\n",
    "# 사용되는 클래스(모델) : ExtraTreeClassifier\n",
    "\n",
    "## 코어 전체사용, 훈련/테스트 결과값 출력, 최종 훈련/테스트 결과 확인\n",
    "from sklearn.ensemble import ExtraTreesClassifier\n",
    "from sklearn.model_selection import cross_validate"
   ]
  },
  {
   "cell_type": "code",
   "execution_count": 17,
   "id": "db566270-4bf7-4cff-85e5-4537bc8d94df",
   "metadata": {},
   "outputs": [
    {
     "name": "stdout",
     "output_type": "stream",
     "text": [
      "{'fit_time': array([0.16778326, 0.16878033, 0.15434003, 0.18734527, 0.19133449]), 'score_time': array([0.02393579, 0.023947  , 0.026407  , 0.03597569, 0.03497267]), 'test_score': array([0.89128205, 0.89128205, 0.89938398, 0.88706366, 0.88295688]), 'train_score': array([0.99743392, 0.99692071, 0.99846075, 0.99820421, 0.99820421])}\n",
      "0.997844759088341 0.8903937240035804\n"
     ]
    }
   ],
   "source": [
    "et = ExtraTreesClassifier(n_jobs=-1, random_state=42)\n",
    "\n",
    "scores = cross_validate(et, train_data, train_target,\n",
    "                        return_train_score=True, n_jobs=-1)\n",
    "\n",
    "print(scores)\n",
    "print(np.mean(scores['train_score']), np.mean(scores['test_score']))\n",
    "# 0.997844759088341 0.8914208392565683 (랜덤포레스트)"
   ]
  },
  {
   "cell_type": "code",
   "execution_count": 18,
   "id": "235cccb7-71ec-4c12-8706-44c5e6d745f6",
   "metadata": {},
   "outputs": [
    {
     "name": "stdout",
     "output_type": "stream",
     "text": [
      "[0.20702369 0.51313261 0.2798437 ]\n"
     ]
    }
   ],
   "source": [
    "et.fit(train_data, train_target)\n",
    "print(et.feature_importances_)\n",
    "# [0.23155241 0.49706658 0.27138101] (랜덤포레스트)"
   ]
  },
  {
   "cell_type": "code",
   "execution_count": null,
   "id": "56058dd8-1a7a-4dbe-9abd-3eae7d23bab8",
   "metadata": {},
   "outputs": [],
   "source": [
    "'''\n",
    "랜덤포레스트에 비해 알코올 도수는 낮아지고 당도가 높아지니 테스트정확도가 조금 떨어진 것이 확인됨\n",
    "'''"
   ]
  },
  {
   "cell_type": "markdown",
   "id": "45e2fd59-92fb-40a5-a0c3-6b688ce3ae80",
   "metadata": {},
   "source": [
    "## 3. 그레디언트 부스팅(Gradient Boosting)"
   ]
  },
  {
   "cell_type": "code",
   "execution_count": null,
   "id": "ea66dd0d-ef56-4ea6-9253-52935d85be99",
   "metadata": {},
   "outputs": [],
   "source": [
    "# 길이(max_depth)가 얕은 결정트리를 사용함\n",
    "#  - 기본적으로 max_depth=3 사용\n",
    "#  - 결정트리는 100개 사용\n",
    "## ** 기존에 다른 훈련모델의 결과가 좋지 않을 때 사용하는 모델 **\n",
    "# 기존 훈련모델의 오차를 많이 보완해 줌\n",
    "# 성능 향상을 위한 모델로 주로 사용됨\n",
    "# 과대적합에 강하며, 일반화(과대/과소적합이 없는 상태)에 강함\n",
    "\n",
    "# 성능향상 테스트 방법\n",
    "#  - 결정트리의 갯수를 조절하면서 테스트 진행\n",
    "#  - 학습률을 지원하기 때문에 학습률의 값을 증가시키면서 테스트 진행\n",
    "#   : 기본 학습률은 0.1\n",
    "\n",
    "# 단점\n",
    "#  - 순서대로 트리를 추가(랜덤하지 않음)하지 않기 때문에 훈련 속도 느림\n",
    "#  - 이런 느린 속도를 개선한 모델이 '히스토그램 기반 그레디언트 부스팅'"
   ]
  },
  {
   "cell_type": "code",
   "execution_count": 19,
   "id": "a159515f-62e5-489f-aefa-4375e1c78c52",
   "metadata": {},
   "outputs": [],
   "source": [
    "## 사용하는 클래스(모델) : GradientBoostingClassifier\n",
    "# 객체 생성 시 아무것도 안주고 시드값만 줌\n",
    "# 교차검증시에는 훈련/테스트값 결과 출력\n",
    "from sklearn.ensemble import GradientBoostingClassifier\n",
    "from sklearn.model_selection import cross_validate"
   ]
  },
  {
   "cell_type": "code",
   "execution_count": 29,
   "id": "69e6def8-6440-4ba9-976d-859547a2383f",
   "metadata": {},
   "outputs": [
    {
     "name": "stdout",
     "output_type": "stream",
     "text": [
      "{'fit_time': array([0.38828325, 0.36679268, 0.37078643, 0.40415573, 0.39117765]), 'score_time': array([0.00199413, 0.00199509, 0.00303888, 0.00199556, 0.00195098]), 'test_score': array([0.86461538, 0.87794872, 0.88090349, 0.8613963 , 0.87268994]), 'train_score': array([0.89299461, 0.88555299, 0.88660852, 0.89276552, 0.88943048])}\n",
      "0.8894704231708938 0.8715107671247301\n"
     ]
    }
   ],
   "source": [
    "gb = GradientBoostingClassifier(random_state=42)\n",
    "scores = cross_validate(gb, train_data, train_target,\n",
    "                        return_train_score=True, n_jobs=-1)\n",
    "\n",
    "print(scores)\n",
    "print(np.mean(scores['train_score']), np.mean(scores['test_score']))"
   ]
  },
  {
   "cell_type": "code",
   "execution_count": null,
   "id": "96357019-5b2a-4c4e-8ee4-cb1761b65eb6",
   "metadata": {},
   "outputs": [],
   "source": [
    "'''\n",
    "훈련정확도가 줄어들었지만 과대적합 의심이 가장 덜한 가장 일반적인 형태이므로 선택하기 좋은 모델이다.\n",
    "'''"
   ]
  },
  {
   "cell_type": "code",
   "execution_count": 30,
   "id": "f327a150-5771-4a4d-a197-3cd282949282",
   "metadata": {},
   "outputs": [
    {
     "data": {
      "text/plain": [
       "array([0.12517641, 0.73300095, 0.14182264])"
      ]
     },
     "execution_count": 30,
     "metadata": {},
     "output_type": "execute_result"
    }
   ],
   "source": [
    "gb.fit(train_data, train_target)\n",
    "gb.feature_importances_"
   ]
  },
  {
   "cell_type": "code",
   "execution_count": 31,
   "id": "8415a415-219f-4f2a-ab36-5c89be50bab6",
   "metadata": {},
   "outputs": [
    {
     "data": {
      "text/plain": [
       "0.8578461538461538"
      ]
     },
     "execution_count": 31,
     "metadata": {},
     "output_type": "execute_result"
    }
   ],
   "source": [
    "gb.score(test_data, test_target)"
   ]
  },
  {
   "cell_type": "code",
   "execution_count": null,
   "id": "77f53af5-104f-4838-bf9f-488e2920fd8b",
   "metadata": {},
   "outputs": [],
   "source": [
    "'''\n",
    "특성중요도를 살펴보면 나머지는 줄고 당도가 매우 증가함, 당도가 올라갈수록 성능이 좋아지는 것이 확인됨\n",
    "'''"
   ]
  },
  {
   "cell_type": "markdown",
   "id": "72527203-5500-490a-b435-efce3c8904ec",
   "metadata": {},
   "source": [
    "### 3-1. 학습률 적용"
   ]
  },
  {
   "cell_type": "code",
   "execution_count": null,
   "id": "d28b36dc-6836-4d02-b421-76f002880467",
   "metadata": {},
   "outputs": [],
   "source": [
    "## 학습률이 커지면 트리 보정을 강하게 하기 때문에 복잡한 모델을 만들어서 일반화 성능을 떨어뜨림\n",
    "# 학습률 : (default) learning_rate=0.1 \n",
    "#  - 값이 낮을수록 과대/소적합이 줄어든다, 높을수록 복잡도가 강해진다\n"
   ]
  },
  {
   "cell_type": "code",
   "execution_count": 26,
   "id": "54bb21c7-573a-4479-87be-58d14e76da62",
   "metadata": {},
   "outputs": [
    {
     "name": "stdout",
     "output_type": "stream",
     "text": [
      "{'fit_time': array([0.35265374, 0.34857631, 0.33755088, 0.34724712, 0.33754992]), 'score_time': array([0.00205302, 0.00199437, 0.00299168, 0.00232649, 0.00304341]), 'test_score': array([0.86461538, 0.87794872, 0.88090349, 0.8613963 , 0.87268994]), 'train_score': array([0.89299461, 0.88555299, 0.88660852, 0.89276552, 0.88943048])}\n",
      "0.8894704231708938 0.8715107671247301\n",
      "[0.20702369 0.51313261 0.2798437 ]\n"
     ]
    }
   ],
   "source": [
    "gb = GradientBoostingClassifier(n_estimators=100,\n",
    "                                learning_rate=0.1,\n",
    "                                random_state=42)\n",
    "scores = cross_validate(gb, train_data, train_target,\n",
    "                        return_train_score=True, n_jobs=-1)\n",
    "\n",
    "print(scores)\n",
    "print(np.mean(scores['train_score']), np.mean(scores['test_score']))\n",
    "\n",
    "# 훈련\n",
    "gb.fit(train_data, train_target)\n",
    "\n",
    "# 특성중요도\n",
    "print(et.feature_importances_)"
   ]
  },
  {
   "cell_type": "markdown",
   "id": "0cf41679-e54d-4b52-9629-ae051a3627e0",
   "metadata": {},
   "source": [
    "## 4. 히스토그램 기반 그레디언트 부스팅(Histogram-base Gradient Boosting)"
   ]
  },
  {
   "cell_type": "code",
   "execution_count": 24,
   "id": "40722c78-257c-4946-85f5-7d3475899a6e",
   "metadata": {},
   "outputs": [],
   "source": [
    "## 사용하는 클래스(모델) : HistGradientBoostingClassfier\n",
    "from sklearn.ensemble import HistGradientBoostingClassifier\n",
    "from sklearn.model_selection import cross_validate"
   ]
  },
  {
   "cell_type": "code",
   "execution_count": 25,
   "id": "7853e298-c3ff-4efc-8eaa-bc1d4ef993e4",
   "metadata": {},
   "outputs": [
    {
     "name": "stdout",
     "output_type": "stream",
     "text": [
      "{'fit_time': array([0.59532833, 0.53106523, 0.53505611, 0.52109456, 0.59460211]), 'score_time': array([0.00897574, 0.01043463, 0.01043558, 0.0099721 , 0.01001692]), 'test_score': array([0.87179487, 0.89333333, 0.8973306 , 0.85934292, 0.88090349]), 'train_score': array([0.93815756, 0.93482166, 0.9374038 , 0.93945613, 0.94022576])}\n",
      "0.9380129799494501 0.8805410414363187\n"
     ]
    }
   ],
   "source": [
    "hgb = HistGradientBoostingClassifier(random_state=42)\n",
    "scores = cross_validate(hgb, train_data, train_target,\n",
    "                        return_train_score=True, n_jobs=-1)\n",
    "\n",
    "print(scores)\n",
    "print(np.mean(scores['train_score']), np.mean(scores['test_score']))"
   ]
  },
  {
   "cell_type": "code",
   "execution_count": 28,
   "id": "c9f8eff7-cd4b-441a-a8dc-c196c8852c99",
   "metadata": {},
   "outputs": [
    {
     "data": {
      "text/plain": [
       "0.8584615384615385"
      ]
     },
     "execution_count": 28,
     "metadata": {},
     "output_type": "execute_result"
    }
   ],
   "source": [
    "hgb.score(test_data, test_target)"
   ]
  },
  {
   "cell_type": "markdown",
   "id": "b2e28e98-0941-4b88-ab95-e9f6b398b589",
   "metadata": {},
   "source": [
    "## 5. 사이킷런 외 다른 패키징서 지원하는 그레디언트 부스팅"
   ]
  },
  {
   "cell_type": "markdown",
   "id": "1d9ed60a-4405-4f74-a2b6-00475cfb7feb",
   "metadata": {},
   "source": [
    "### XGBoost"
   ]
  },
  {
   "cell_type": "code",
   "execution_count": 33,
   "id": "f18b8e11-ae50-4b9e-9b31-6b858360dc6f",
   "metadata": {},
   "outputs": [],
   "source": [
    "from xgboost import XGBClassifier\n",
    "from sklearn.model_selection import cross_validate"
   ]
  },
  {
   "cell_type": "code",
   "execution_count": 36,
   "id": "85757a16-ac54-4f81-b2fd-c47bdd509a69",
   "metadata": {},
   "outputs": [
    {
     "name": "stdout",
     "output_type": "stream",
     "text": [
      "{'fit_time': array([0.08877945, 0.11172414, 0.09051156, 0.0887804 , 0.11371565]), 'score_time': array([0.00398874, 0.00498176, 0.00405097, 0.00498605, 0.0039928 ]), 'test_score': array([0.87487179, 0.89333333, 0.8973306 , 0.87268994, 0.8788501 ]), 'train_score': array([0.96176546, 0.96279189, 0.95997948, 0.95690097, 0.9656234 ])}\n",
      "0.9614122399872658 0.8834151529510873\n"
     ]
    }
   ],
   "source": [
    "xgb = XGBClassifier(tree_method='hist', random_state=42)\n",
    "\n",
    "scores = cross_validate(xgb, train_data, train_target,\n",
    "                        return_train_score=True, n_jobs=-1)\n",
    "\n",
    "print(scores)\n",
    "print(np.mean(scores['train_score']), np.mean(scores['test_score']))"
   ]
  },
  {
   "cell_type": "markdown",
   "id": "ad7de03a-3a3d-4c2e-804c-b9e7e6ac6e62",
   "metadata": {},
   "source": [
    "### LightGBM"
   ]
  },
  {
   "cell_type": "code",
   "execution_count": 1,
   "id": "47c0b089-f41d-4db2-bb0f-6e5d1555f467",
   "metadata": {
    "collapsed": true,
    "jupyter": {
     "outputs_hidden": true
    },
    "tags": []
   },
   "outputs": [
    {
     "ename": "AttributeError",
     "evalue": "module 'snappy' has no attribute 'compress'",
     "output_type": "error",
     "traceback": [
      "\u001b[1;31m---------------------------------------------------------------------------\u001b[0m",
      "\u001b[1;31mAttributeError\u001b[0m                            Traceback (most recent call last)",
      "\u001b[1;32m~\\AppData\\Local\\Temp\\ipykernel_17660\\4272258143.py\u001b[0m in \u001b[0;36m<module>\u001b[1;34m\u001b[0m\n\u001b[0;32m      5\u001b[0m \u001b[1;31m# 아나콘다 : conda install -c conda-forge lightgbm\u001b[0m\u001b[1;33m\u001b[0m\u001b[1;33m\u001b[0m\u001b[0m\n\u001b[0;32m      6\u001b[0m \u001b[1;31m# 파이썬 : pip install lightgbm\u001b[0m\u001b[1;33m\u001b[0m\u001b[1;33m\u001b[0m\u001b[0m\n\u001b[1;32m----> 7\u001b[1;33m \u001b[1;32mfrom\u001b[0m \u001b[0mlightgbm\u001b[0m \u001b[1;32mimport\u001b[0m \u001b[0mLGBMClassifier\u001b[0m\u001b[1;33m\u001b[0m\u001b[1;33m\u001b[0m\u001b[0m\n\u001b[0m",
      "\u001b[1;32m~\\anaconda3\\lib\\site-packages\\lightgbm\\__init__.py\u001b[0m in \u001b[0;36m<module>\u001b[1;34m\u001b[0m\n\u001b[0;32m      6\u001b[0m \u001b[1;32mfrom\u001b[0m \u001b[0mpathlib\u001b[0m \u001b[1;32mimport\u001b[0m \u001b[0mPath\u001b[0m\u001b[1;33m\u001b[0m\u001b[1;33m\u001b[0m\u001b[0m\n\u001b[0;32m      7\u001b[0m \u001b[1;33m\u001b[0m\u001b[0m\n\u001b[1;32m----> 8\u001b[1;33m \u001b[1;32mfrom\u001b[0m \u001b[1;33m.\u001b[0m\u001b[0mbasic\u001b[0m \u001b[1;32mimport\u001b[0m \u001b[0mBooster\u001b[0m\u001b[1;33m,\u001b[0m \u001b[0mDataset\u001b[0m\u001b[1;33m,\u001b[0m \u001b[0mSequence\u001b[0m\u001b[1;33m,\u001b[0m \u001b[0mregister_logger\u001b[0m\u001b[1;33m\u001b[0m\u001b[1;33m\u001b[0m\u001b[0m\n\u001b[0m\u001b[0;32m      9\u001b[0m \u001b[1;32mfrom\u001b[0m \u001b[1;33m.\u001b[0m\u001b[0mcallback\u001b[0m \u001b[1;32mimport\u001b[0m \u001b[0mearly_stopping\u001b[0m\u001b[1;33m,\u001b[0m \u001b[0mlog_evaluation\u001b[0m\u001b[1;33m,\u001b[0m \u001b[0mprint_evaluation\u001b[0m\u001b[1;33m,\u001b[0m \u001b[0mrecord_evaluation\u001b[0m\u001b[1;33m,\u001b[0m \u001b[0mreset_parameter\u001b[0m\u001b[1;33m\u001b[0m\u001b[1;33m\u001b[0m\u001b[0m\n\u001b[0;32m     10\u001b[0m \u001b[1;32mfrom\u001b[0m \u001b[1;33m.\u001b[0m\u001b[0mengine\u001b[0m \u001b[1;32mimport\u001b[0m \u001b[0mCVBooster\u001b[0m\u001b[1;33m,\u001b[0m \u001b[0mcv\u001b[0m\u001b[1;33m,\u001b[0m \u001b[0mtrain\u001b[0m\u001b[1;33m\u001b[0m\u001b[1;33m\u001b[0m\u001b[0m\n",
      "\u001b[1;32m~\\anaconda3\\lib\\site-packages\\lightgbm\\basic.py\u001b[0m in \u001b[0;36m<module>\u001b[1;34m\u001b[0m\n\u001b[0;32m     18\u001b[0m \u001b[1;32mimport\u001b[0m \u001b[0mscipy\u001b[0m\u001b[1;33m.\u001b[0m\u001b[0msparse\u001b[0m\u001b[1;33m\u001b[0m\u001b[1;33m\u001b[0m\u001b[0m\n\u001b[0;32m     19\u001b[0m \u001b[1;33m\u001b[0m\u001b[0m\n\u001b[1;32m---> 20\u001b[1;33m \u001b[1;32mfrom\u001b[0m \u001b[1;33m.\u001b[0m\u001b[0mcompat\u001b[0m \u001b[1;32mimport\u001b[0m \u001b[0mPANDAS_INSTALLED\u001b[0m\u001b[1;33m,\u001b[0m \u001b[0mconcat\u001b[0m\u001b[1;33m,\u001b[0m \u001b[0mdt_DataTable\u001b[0m\u001b[1;33m,\u001b[0m \u001b[0mis_dtype_sparse\u001b[0m\u001b[1;33m,\u001b[0m \u001b[0mpd_DataFrame\u001b[0m\u001b[1;33m,\u001b[0m \u001b[0mpd_Series\u001b[0m\u001b[1;33m\u001b[0m\u001b[1;33m\u001b[0m\u001b[0m\n\u001b[0m\u001b[0;32m     21\u001b[0m \u001b[1;32mfrom\u001b[0m \u001b[1;33m.\u001b[0m\u001b[0mlibpath\u001b[0m \u001b[1;32mimport\u001b[0m \u001b[0mfind_lib_path\u001b[0m\u001b[1;33m\u001b[0m\u001b[1;33m\u001b[0m\u001b[0m\n\u001b[0;32m     22\u001b[0m \u001b[1;33m\u001b[0m\u001b[0m\n",
      "\u001b[1;32m~\\anaconda3\\lib\\site-packages\\lightgbm\\compat.py\u001b[0m in \u001b[0;36m<module>\u001b[1;34m\u001b[0m\n\u001b[0;32m    125\u001b[0m \u001b[1;32mtry\u001b[0m\u001b[1;33m:\u001b[0m\u001b[1;33m\u001b[0m\u001b[1;33m\u001b[0m\u001b[0m\n\u001b[0;32m    126\u001b[0m     \u001b[1;32mfrom\u001b[0m \u001b[0mdask\u001b[0m \u001b[1;32mimport\u001b[0m \u001b[0mdelayed\u001b[0m\u001b[1;33m\u001b[0m\u001b[1;33m\u001b[0m\u001b[0m\n\u001b[1;32m--> 127\u001b[1;33m     \u001b[1;32mfrom\u001b[0m \u001b[0mdask\u001b[0m\u001b[1;33m.\u001b[0m\u001b[0marray\u001b[0m \u001b[1;32mimport\u001b[0m \u001b[0mArray\u001b[0m \u001b[1;32mas\u001b[0m \u001b[0mdask_Array\u001b[0m\u001b[1;33m\u001b[0m\u001b[1;33m\u001b[0m\u001b[0m\n\u001b[0m\u001b[0;32m    128\u001b[0m     \u001b[1;32mfrom\u001b[0m \u001b[0mdask\u001b[0m\u001b[1;33m.\u001b[0m\u001b[0marray\u001b[0m \u001b[1;32mimport\u001b[0m \u001b[0mfrom_delayed\u001b[0m \u001b[1;32mas\u001b[0m \u001b[0mdask_array_from_delayed\u001b[0m\u001b[1;33m\u001b[0m\u001b[1;33m\u001b[0m\u001b[0m\n\u001b[0;32m    129\u001b[0m     \u001b[1;32mfrom\u001b[0m \u001b[0mdask\u001b[0m\u001b[1;33m.\u001b[0m\u001b[0mbag\u001b[0m \u001b[1;32mimport\u001b[0m \u001b[0mfrom_delayed\u001b[0m \u001b[1;32mas\u001b[0m \u001b[0mdask_bag_from_delayed\u001b[0m\u001b[1;33m\u001b[0m\u001b[1;33m\u001b[0m\u001b[0m\n",
      "\u001b[1;32m~\\anaconda3\\lib\\site-packages\\dask\\array\\__init__.py\u001b[0m in \u001b[0;36m<module>\u001b[1;34m\u001b[0m\n\u001b[0;32m      1\u001b[0m \u001b[1;32mtry\u001b[0m\u001b[1;33m:\u001b[0m\u001b[1;33m\u001b[0m\u001b[1;33m\u001b[0m\u001b[0m\n\u001b[1;32m----> 2\u001b[1;33m     \u001b[1;32mfrom\u001b[0m \u001b[0mdask\u001b[0m\u001b[1;33m.\u001b[0m\u001b[0marray\u001b[0m \u001b[1;32mimport\u001b[0m \u001b[0mbackends\u001b[0m\u001b[1;33m,\u001b[0m \u001b[0mfft\u001b[0m\u001b[1;33m,\u001b[0m \u001b[0mlib\u001b[0m\u001b[1;33m,\u001b[0m \u001b[0mlinalg\u001b[0m\u001b[1;33m,\u001b[0m \u001b[0mma\u001b[0m\u001b[1;33m,\u001b[0m \u001b[0moverlap\u001b[0m\u001b[1;33m,\u001b[0m \u001b[0mrandom\u001b[0m\u001b[1;33m\u001b[0m\u001b[1;33m\u001b[0m\u001b[0m\n\u001b[0m\u001b[0;32m      3\u001b[0m     \u001b[1;32mfrom\u001b[0m \u001b[0mdask\u001b[0m\u001b[1;33m.\u001b[0m\u001b[0marray\u001b[0m\u001b[1;33m.\u001b[0m\u001b[0mblockwise\u001b[0m \u001b[1;32mimport\u001b[0m \u001b[0matop\u001b[0m\u001b[1;33m,\u001b[0m \u001b[0mblockwise\u001b[0m\u001b[1;33m\u001b[0m\u001b[1;33m\u001b[0m\u001b[0m\n\u001b[0;32m      4\u001b[0m     \u001b[1;32mfrom\u001b[0m \u001b[0mdask\u001b[0m\u001b[1;33m.\u001b[0m\u001b[0marray\u001b[0m\u001b[1;33m.\u001b[0m\u001b[0mchunk_types\u001b[0m \u001b[1;32mimport\u001b[0m \u001b[0mregister_chunk_type\u001b[0m\u001b[1;33m\u001b[0m\u001b[1;33m\u001b[0m\u001b[0m\n\u001b[0;32m      5\u001b[0m     from dask.array.core import (\n",
      "\u001b[1;32m~\\anaconda3\\lib\\site-packages\\dask\\array\\backends.py\u001b[0m in \u001b[0;36m<module>\u001b[1;34m\u001b[0m\n\u001b[0;32m     11\u001b[0m \u001b[1;32mfrom\u001b[0m \u001b[0mdask\u001b[0m\u001b[1;33m.\u001b[0m\u001b[0marray\u001b[0m\u001b[1;33m.\u001b[0m\u001b[0mnumpy_compat\u001b[0m \u001b[1;32mimport\u001b[0m \u001b[0mdivide\u001b[0m \u001b[1;32mas\u001b[0m \u001b[0mnp_divide\u001b[0m\u001b[1;33m\u001b[0m\u001b[1;33m\u001b[0m\u001b[0m\n\u001b[0;32m     12\u001b[0m \u001b[1;32mfrom\u001b[0m \u001b[0mdask\u001b[0m\u001b[1;33m.\u001b[0m\u001b[0marray\u001b[0m\u001b[1;33m.\u001b[0m\u001b[0mnumpy_compat\u001b[0m \u001b[1;32mimport\u001b[0m \u001b[0mma_divide\u001b[0m\u001b[1;33m\u001b[0m\u001b[1;33m\u001b[0m\u001b[0m\n\u001b[1;32m---> 13\u001b[1;33m \u001b[1;32mfrom\u001b[0m \u001b[0mdask\u001b[0m\u001b[1;33m.\u001b[0m\u001b[0marray\u001b[0m\u001b[1;33m.\u001b[0m\u001b[0mpercentile\u001b[0m \u001b[1;32mimport\u001b[0m \u001b[0m_percentile\u001b[0m\u001b[1;33m\u001b[0m\u001b[1;33m\u001b[0m\u001b[0m\n\u001b[0m\u001b[0;32m     14\u001b[0m \u001b[1;33m\u001b[0m\u001b[0m\n\u001b[0;32m     15\u001b[0m \u001b[0mconcatenate_lookup\u001b[0m\u001b[1;33m.\u001b[0m\u001b[0mregister\u001b[0m\u001b[1;33m(\u001b[0m\u001b[1;33m(\u001b[0m\u001b[0mobject\u001b[0m\u001b[1;33m,\u001b[0m \u001b[0mnp\u001b[0m\u001b[1;33m.\u001b[0m\u001b[0mndarray\u001b[0m\u001b[1;33m)\u001b[0m\u001b[1;33m,\u001b[0m \u001b[0mnp\u001b[0m\u001b[1;33m.\u001b[0m\u001b[0mconcatenate\u001b[0m\u001b[1;33m)\u001b[0m\u001b[1;33m\u001b[0m\u001b[1;33m\u001b[0m\u001b[0m\n",
      "\u001b[1;32m~\\anaconda3\\lib\\site-packages\\dask\\array\\percentile.py\u001b[0m in \u001b[0;36m<module>\u001b[1;34m\u001b[0m\n\u001b[0;32m      7\u001b[0m \u001b[1;32mfrom\u001b[0m \u001b[0mtlz\u001b[0m \u001b[1;32mimport\u001b[0m \u001b[0mmerge\u001b[0m\u001b[1;33m\u001b[0m\u001b[1;33m\u001b[0m\u001b[0m\n\u001b[0;32m      8\u001b[0m \u001b[1;33m\u001b[0m\u001b[0m\n\u001b[1;32m----> 9\u001b[1;33m \u001b[1;32mfrom\u001b[0m \u001b[0mdask\u001b[0m\u001b[1;33m.\u001b[0m\u001b[0marray\u001b[0m\u001b[1;33m.\u001b[0m\u001b[0mcore\u001b[0m \u001b[1;32mimport\u001b[0m \u001b[0mArray\u001b[0m\u001b[1;33m\u001b[0m\u001b[1;33m\u001b[0m\u001b[0m\n\u001b[0m\u001b[0;32m     10\u001b[0m \u001b[1;32mfrom\u001b[0m \u001b[0mdask\u001b[0m\u001b[1;33m.\u001b[0m\u001b[0marray\u001b[0m\u001b[1;33m.\u001b[0m\u001b[0mnumpy_compat\u001b[0m \u001b[1;32mimport\u001b[0m \u001b[0m_numpy_122\u001b[0m\u001b[1;33m\u001b[0m\u001b[1;33m\u001b[0m\u001b[0m\n\u001b[0;32m     11\u001b[0m \u001b[1;32mfrom\u001b[0m \u001b[0mdask\u001b[0m\u001b[1;33m.\u001b[0m\u001b[0marray\u001b[0m\u001b[1;33m.\u001b[0m\u001b[0mnumpy_compat\u001b[0m \u001b[1;32mimport\u001b[0m \u001b[0mpercentile\u001b[0m \u001b[1;32mas\u001b[0m \u001b[0mnp_percentile\u001b[0m\u001b[1;33m\u001b[0m\u001b[1;33m\u001b[0m\u001b[0m\n",
      "\u001b[1;32m~\\anaconda3\\lib\\site-packages\\dask\\array\\core.py\u001b[0m in \u001b[0;36m<module>\u001b[1;34m\u001b[0m\n\u001b[0;32m     28\u001b[0m \u001b[1;33m\u001b[0m\u001b[0m\n\u001b[0;32m     29\u001b[0m \u001b[1;32mimport\u001b[0m \u001b[0mnumpy\u001b[0m \u001b[1;32mas\u001b[0m \u001b[0mnp\u001b[0m\u001b[1;33m\u001b[0m\u001b[1;33m\u001b[0m\u001b[0m\n\u001b[1;32m---> 30\u001b[1;33m \u001b[1;32mfrom\u001b[0m \u001b[0mfsspec\u001b[0m \u001b[1;32mimport\u001b[0m \u001b[0mget_mapper\u001b[0m\u001b[1;33m\u001b[0m\u001b[1;33m\u001b[0m\u001b[0m\n\u001b[0m\u001b[0;32m     31\u001b[0m \u001b[1;32mfrom\u001b[0m \u001b[0mtlz\u001b[0m \u001b[1;32mimport\u001b[0m \u001b[0maccumulate\u001b[0m\u001b[1;33m,\u001b[0m \u001b[0mconcat\u001b[0m\u001b[1;33m,\u001b[0m \u001b[0mfirst\u001b[0m\u001b[1;33m,\u001b[0m \u001b[0mfrequencies\u001b[0m\u001b[1;33m,\u001b[0m \u001b[0mgroupby\u001b[0m\u001b[1;33m,\u001b[0m \u001b[0mpartition\u001b[0m\u001b[1;33m\u001b[0m\u001b[1;33m\u001b[0m\u001b[0m\n\u001b[0;32m     32\u001b[0m \u001b[1;32mfrom\u001b[0m \u001b[0mtlz\u001b[0m\u001b[1;33m.\u001b[0m\u001b[0mcurried\u001b[0m \u001b[1;32mimport\u001b[0m \u001b[0mpluck\u001b[0m\u001b[1;33m\u001b[0m\u001b[1;33m\u001b[0m\u001b[0m\n",
      "\u001b[1;32m~\\anaconda3\\lib\\site-packages\\fsspec\\__init__.py\u001b[0m in \u001b[0;36m<module>\u001b[1;34m\u001b[0m\n\u001b[0;32m     10\u001b[0m \u001b[1;32mfrom\u001b[0m \u001b[1;33m.\u001b[0m \u001b[1;32mimport\u001b[0m \u001b[0m_version\u001b[0m\u001b[1;33m,\u001b[0m \u001b[0mcaching\u001b[0m\u001b[1;33m\u001b[0m\u001b[1;33m\u001b[0m\u001b[0m\n\u001b[0;32m     11\u001b[0m \u001b[1;32mfrom\u001b[0m \u001b[1;33m.\u001b[0m\u001b[0mcallbacks\u001b[0m \u001b[1;32mimport\u001b[0m \u001b[0mCallback\u001b[0m\u001b[1;33m\u001b[0m\u001b[1;33m\u001b[0m\u001b[0m\n\u001b[1;32m---> 12\u001b[1;33m \u001b[1;32mfrom\u001b[0m \u001b[1;33m.\u001b[0m\u001b[0mcompression\u001b[0m \u001b[1;32mimport\u001b[0m \u001b[0mavailable_compressions\u001b[0m\u001b[1;33m\u001b[0m\u001b[1;33m\u001b[0m\u001b[0m\n\u001b[0m\u001b[0;32m     13\u001b[0m \u001b[1;32mfrom\u001b[0m \u001b[1;33m.\u001b[0m\u001b[0mcore\u001b[0m \u001b[1;32mimport\u001b[0m \u001b[0mget_fs_token_paths\u001b[0m\u001b[1;33m,\u001b[0m \u001b[0mopen\u001b[0m\u001b[1;33m,\u001b[0m \u001b[0mopen_files\u001b[0m\u001b[1;33m,\u001b[0m \u001b[0mopen_local\u001b[0m\u001b[1;33m\u001b[0m\u001b[1;33m\u001b[0m\u001b[0m\n\u001b[0;32m     14\u001b[0m \u001b[1;32mfrom\u001b[0m \u001b[1;33m.\u001b[0m\u001b[0mexceptions\u001b[0m \u001b[1;32mimport\u001b[0m \u001b[0mFSTimeoutError\u001b[0m\u001b[1;33m\u001b[0m\u001b[1;33m\u001b[0m\u001b[0m\n",
      "\u001b[1;32m~\\anaconda3\\lib\\site-packages\\fsspec\\compression.py\u001b[0m in \u001b[0;36m<module>\u001b[1;34m\u001b[0m\n\u001b[0;32m    138\u001b[0m     \u001b[1;32mimport\u001b[0m \u001b[0msnappy\u001b[0m\u001b[1;33m\u001b[0m\u001b[1;33m\u001b[0m\u001b[0m\n\u001b[0;32m    139\u001b[0m \u001b[1;33m\u001b[0m\u001b[0m\n\u001b[1;32m--> 140\u001b[1;33m     \u001b[0msnappy\u001b[0m\u001b[1;33m.\u001b[0m\u001b[0mcompress\u001b[0m\u001b[1;33m\u001b[0m\u001b[1;33m\u001b[0m\u001b[0m\n\u001b[0m\u001b[0;32m    141\u001b[0m     \u001b[1;31m# Snappy may use the .sz file extension, but this is not part of the\u001b[0m\u001b[1;33m\u001b[0m\u001b[1;33m\u001b[0m\u001b[0m\n\u001b[0;32m    142\u001b[0m     \u001b[1;31m# standard implementation.\u001b[0m\u001b[1;33m\u001b[0m\u001b[1;33m\u001b[0m\u001b[0m\n",
      "\u001b[1;31mAttributeError\u001b[0m: module 'snappy' has no attribute 'compress'"
     ]
    }
   ],
   "source": [
    "# 마이크로소프트에서 만든 히스토그램 기반 그레디언트 부스트 패키지\n",
    "#  - 훈련 속도가 매우 빠르다는 장점\n",
    "#  - 최신 기술을 많이 적용하고 있어 인기가 증가\n",
    "\n",
    "# 아나콘다 : conda install -c conda-forge lightgbm \n",
    "# 파이썬 : pip install lightgbm\n",
    "from lightgbm import LGBMClassifier"
   ]
  },
  {
   "cell_type": "code",
   "execution_count": 2,
   "id": "c0cd737b-2ad1-4026-9560-65ad7e285338",
   "metadata": {},
   "outputs": [],
   "source": [
    "from sklearn.model_selection import cross_validate"
   ]
  },
  {
   "cell_type": "code",
   "execution_count": 6,
   "id": "8903991d-bc4f-4a86-ad78-82ba6d08c912",
   "metadata": {
    "collapsed": true,
    "jupyter": {
     "outputs_hidden": true
    },
    "tags": []
   },
   "outputs": [
    {
     "ename": "NameError",
     "evalue": "name 'LGBMClassifier' is not defined",
     "output_type": "error",
     "traceback": [
      "\u001b[1;31m---------------------------------------------------------------------------\u001b[0m",
      "\u001b[1;31mNameError\u001b[0m                                 Traceback (most recent call last)",
      "Input \u001b[1;32mIn [6]\u001b[0m, in \u001b[0;36m<cell line: 1>\u001b[1;34m()\u001b[0m\n\u001b[1;32m----> 1\u001b[0m lgb \u001b[38;5;241m=\u001b[39m \u001b[43mLGBMClassifier\u001b[49m(random_state\u001b[38;5;241m=\u001b[39m\u001b[38;5;241m42\u001b[39m)\n\u001b[0;32m      3\u001b[0m scores \u001b[38;5;241m=\u001b[39m cross_validate(lgb, train_data, train_target,\n\u001b[0;32m      4\u001b[0m                         return_train_score\u001b[38;5;241m=\u001b[39m\u001b[38;5;28;01mTrue\u001b[39;00m, n_jobs\u001b[38;5;241m=\u001b[39m\u001b[38;5;241m-\u001b[39m\u001b[38;5;241m1\u001b[39m)\n\u001b[0;32m      6\u001b[0m \u001b[38;5;28mprint\u001b[39m(scores)\n",
      "\u001b[1;31mNameError\u001b[0m: name 'LGBMClassifier' is not defined"
     ]
    }
   ],
   "source": [
    "lgb = LGBMClassifier(random_state=42)\n",
    "\n",
    "scores = cross_validate(lgb, train_data, train_target,\n",
    "                        return_train_score=True, n_jobs=-1)\n",
    "\n",
    "print(scores)\n",
    "print(np.mean(scores['train_score']), np.mean(scores['test_score']))"
   ]
  },
  {
   "cell_type": "code",
   "execution_count": null,
   "id": "df27bb7b-1a16-4a24-8838-5de54d939733",
   "metadata": {},
   "outputs": [],
   "source": [
    "'''\n",
    "xgboost보다 일반화가 적용되어 괜찮은 모델로 판단\n",
    "'''"
   ]
  }
 ],
 "metadata": {
  "kernelspec": {
   "display_name": "ml_kernel",
   "language": "python",
   "name": "ml"
  },
  "language_info": {
   "codemirror_mode": {
    "name": "ipython",
    "version": 3
   },
   "file_extension": ".py",
   "mimetype": "text/x-python",
   "name": "python",
   "nbconvert_exporter": "python",
   "pygments_lexer": "ipython3",
   "version": "3.9.12"
  }
 },
 "nbformat": 4,
 "nbformat_minor": 5
}
