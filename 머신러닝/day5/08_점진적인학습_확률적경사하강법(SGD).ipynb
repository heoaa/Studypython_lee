{
 "cells": [
  {
   "cell_type": "markdown",
   "id": "1138c4dc-f83e-457c-b363-fe300fee4a07",
   "metadata": {},
   "source": [
    "## 점진적인 학습이란?\n",
    "- "
   ]
  },
  {
   "cell_type": "markdown",
   "id": "67bfc6f2-c1ce-41f7-b9d7-3d1c92f191dc",
   "metadata": {},
   "source": [
    "### 1. 데이터 준비"
   ]
  },
  {
   "cell_type": "code",
   "execution_count": 51,
   "id": "2b578148-3b1d-45bc-96f9-ecab2abb410a",
   "metadata": {},
   "outputs": [],
   "source": [
    "import pandas as pd"
   ]
  },
  {
   "cell_type": "code",
   "execution_count": 52,
   "id": "f71ffacf-e07c-415e-825c-03f05c808653",
   "metadata": {},
   "outputs": [
    {
     "data": {
      "text/html": [
       "<div>\n",
       "<style scoped>\n",
       "    .dataframe tbody tr th:only-of-type {\n",
       "        vertical-align: middle;\n",
       "    }\n",
       "\n",
       "    .dataframe tbody tr th {\n",
       "        vertical-align: top;\n",
       "    }\n",
       "\n",
       "    .dataframe thead th {\n",
       "        text-align: right;\n",
       "    }\n",
       "</style>\n",
       "<table border=\"1\" class=\"dataframe\">\n",
       "  <thead>\n",
       "    <tr style=\"text-align: right;\">\n",
       "      <th></th>\n",
       "      <th>Species</th>\n",
       "      <th>Weight</th>\n",
       "      <th>Length</th>\n",
       "      <th>Diagonal</th>\n",
       "      <th>Height</th>\n",
       "      <th>Width</th>\n",
       "    </tr>\n",
       "  </thead>\n",
       "  <tbody>\n",
       "    <tr>\n",
       "      <th>0</th>\n",
       "      <td>Bream</td>\n",
       "      <td>242.0</td>\n",
       "      <td>25.4</td>\n",
       "      <td>30.0</td>\n",
       "      <td>11.5200</td>\n",
       "      <td>4.0200</td>\n",
       "    </tr>\n",
       "    <tr>\n",
       "      <th>1</th>\n",
       "      <td>Bream</td>\n",
       "      <td>290.0</td>\n",
       "      <td>26.3</td>\n",
       "      <td>31.2</td>\n",
       "      <td>12.4800</td>\n",
       "      <td>4.3056</td>\n",
       "    </tr>\n",
       "    <tr>\n",
       "      <th>2</th>\n",
       "      <td>Bream</td>\n",
       "      <td>340.0</td>\n",
       "      <td>26.5</td>\n",
       "      <td>31.1</td>\n",
       "      <td>12.3778</td>\n",
       "      <td>4.6961</td>\n",
       "    </tr>\n",
       "    <tr>\n",
       "      <th>3</th>\n",
       "      <td>Bream</td>\n",
       "      <td>363.0</td>\n",
       "      <td>29.0</td>\n",
       "      <td>33.5</td>\n",
       "      <td>12.7300</td>\n",
       "      <td>4.4555</td>\n",
       "    </tr>\n",
       "    <tr>\n",
       "      <th>4</th>\n",
       "      <td>Bream</td>\n",
       "      <td>430.0</td>\n",
       "      <td>29.0</td>\n",
       "      <td>34.0</td>\n",
       "      <td>12.4440</td>\n",
       "      <td>5.1340</td>\n",
       "    </tr>\n",
       "    <tr>\n",
       "      <th>...</th>\n",
       "      <td>...</td>\n",
       "      <td>...</td>\n",
       "      <td>...</td>\n",
       "      <td>...</td>\n",
       "      <td>...</td>\n",
       "      <td>...</td>\n",
       "    </tr>\n",
       "    <tr>\n",
       "      <th>154</th>\n",
       "      <td>Smelt</td>\n",
       "      <td>12.2</td>\n",
       "      <td>12.2</td>\n",
       "      <td>13.4</td>\n",
       "      <td>2.0904</td>\n",
       "      <td>1.3936</td>\n",
       "    </tr>\n",
       "    <tr>\n",
       "      <th>155</th>\n",
       "      <td>Smelt</td>\n",
       "      <td>13.4</td>\n",
       "      <td>12.4</td>\n",
       "      <td>13.5</td>\n",
       "      <td>2.4300</td>\n",
       "      <td>1.2690</td>\n",
       "    </tr>\n",
       "    <tr>\n",
       "      <th>156</th>\n",
       "      <td>Smelt</td>\n",
       "      <td>12.2</td>\n",
       "      <td>13.0</td>\n",
       "      <td>13.8</td>\n",
       "      <td>2.2770</td>\n",
       "      <td>1.2558</td>\n",
       "    </tr>\n",
       "    <tr>\n",
       "      <th>157</th>\n",
       "      <td>Smelt</td>\n",
       "      <td>19.7</td>\n",
       "      <td>14.3</td>\n",
       "      <td>15.2</td>\n",
       "      <td>2.8728</td>\n",
       "      <td>2.0672</td>\n",
       "    </tr>\n",
       "    <tr>\n",
       "      <th>158</th>\n",
       "      <td>Smelt</td>\n",
       "      <td>19.9</td>\n",
       "      <td>15.0</td>\n",
       "      <td>16.2</td>\n",
       "      <td>2.9322</td>\n",
       "      <td>1.8792</td>\n",
       "    </tr>\n",
       "  </tbody>\n",
       "</table>\n",
       "<p>159 rows × 6 columns</p>\n",
       "</div>"
      ],
      "text/plain": [
       "    Species  Weight  Length  Diagonal   Height   Width\n",
       "0     Bream   242.0    25.4      30.0  11.5200  4.0200\n",
       "1     Bream   290.0    26.3      31.2  12.4800  4.3056\n",
       "2     Bream   340.0    26.5      31.1  12.3778  4.6961\n",
       "3     Bream   363.0    29.0      33.5  12.7300  4.4555\n",
       "4     Bream   430.0    29.0      34.0  12.4440  5.1340\n",
       "..      ...     ...     ...       ...      ...     ...\n",
       "154   Smelt    12.2    12.2      13.4   2.0904  1.3936\n",
       "155   Smelt    13.4    12.4      13.5   2.4300  1.2690\n",
       "156   Smelt    12.2    13.0      13.8   2.2770  1.2558\n",
       "157   Smelt    19.7    14.3      15.2   2.8728  2.0672\n",
       "158   Smelt    19.9    15.0      16.2   2.9322  1.8792\n",
       "\n",
       "[159 rows x 6 columns]"
      ]
     },
     "execution_count": 52,
     "metadata": {},
     "output_type": "execute_result"
    }
   ],
   "source": [
    "file_path = '../data/07_fish.csv'\n",
    "fish = pd.read_csv(file_path)\n",
    "fish"
   ]
  },
  {
   "cell_type": "code",
   "execution_count": 53,
   "id": "7e569fd2-61f2-4b79-986b-5e7c9d6b35d5",
   "metadata": {},
   "outputs": [
    {
     "name": "stdout",
     "output_type": "stream",
     "text": [
      "<class 'pandas.core.frame.DataFrame'>\n",
      "RangeIndex: 159 entries, 0 to 158\n",
      "Data columns (total 6 columns):\n",
      " #   Column    Non-Null Count  Dtype  \n",
      "---  ------    --------------  -----  \n",
      " 0   Species   159 non-null    object \n",
      " 1   Weight    159 non-null    float64\n",
      " 2   Length    159 non-null    float64\n",
      " 3   Diagonal  159 non-null    float64\n",
      " 4   Height    159 non-null    float64\n",
      " 5   Width     159 non-null    float64\n",
      "dtypes: float64(5), object(1)\n",
      "memory usage: 7.6+ KB\n"
     ]
    }
   ],
   "source": [
    "# 결측치 확인\n",
    "fish.info()"
   ]
  },
  {
   "cell_type": "markdown",
   "id": "a628e97f-827e-439a-a8a2-8acfe32f184e",
   "metadata": {},
   "source": [
    "### 2. 데이터 전처리"
   ]
  },
  {
   "cell_type": "code",
   "execution_count": 54,
   "id": "67595ea6-031a-4249-90f2-c55607030e42",
   "metadata": {},
   "outputs": [
    {
     "name": "stdout",
     "output_type": "stream",
     "text": [
      "(159, 5)\n",
      "(159,)\n"
     ]
    }
   ],
   "source": [
    "### 독립변수와 종속변수를 분리하여 변수화\n",
    "# 독립변수명 : fish_data\n",
    "# 종속변수명 : fish_target\n",
    "fish_data = fish[['Weight','Length','Diagonal','Height','Width']].to_numpy()\n",
    "fish_target = fish['Species'].to_numpy()\n",
    "\n",
    "print(fish_data.shape)\n",
    "print(fish_target.shape)"
   ]
  },
  {
   "cell_type": "code",
   "execution_count": 44,
   "id": "4635c5bc-0535-45c5-b1f8-115e2af0849c",
   "metadata": {},
   "outputs": [
    {
     "name": "stdout",
     "output_type": "stream",
     "text": [
      "(119, 5)\n",
      "(40, 5)\n",
      "(119,)\n",
      "(40,)\n"
     ]
    }
   ],
   "source": [
    "### 훈련(입력, 타겟), 테스트(입력, 타겟) 데이터 분류\n",
    "from sklearn.model_selection import train_test_split\n",
    "\n",
    "train_data, test_data, train_target, test_target = train_test_split(\n",
    "    fish_data, fish_target, random_state=42)\n",
    "\n",
    "print(train_data.shape)\n",
    "print(test_data.shape)\n",
    "print(train_target.shape)\n",
    "print(test_target.shape)"
   ]
  },
  {
   "cell_type": "code",
   "execution_count": 55,
   "id": "4f49760e-b93f-4535-96d0-371573610037",
   "metadata": {},
   "outputs": [],
   "source": [
    "### 정규화(표준화) - 독립변수를 표준점수로 스케일 처리\n",
    "from sklearn.preprocessing import StandardScaler\n",
    "\n",
    "ss = StandardScaler()\n",
    "\n",
    "ss.fit(train_data)\n",
    "\n",
    "train_scaled = ss.transform(train_data)\n",
    "test_scaled = ss.transform(test_data)"
   ]
  },
  {
   "cell_type": "markdown",
   "id": "a0b094f8-aa38-4b74-8083-7e3348a8a100",
   "metadata": {},
   "source": [
    "## 확률적 경사 하강법을 이용한 분류"
   ]
  },
  {
   "cell_type": "code",
   "execution_count": 62,
   "id": "4ed88a3a-7baf-461f-bb43-43247e516bfc",
   "metadata": {},
   "outputs": [
    {
     "name": "stdout",
     "output_type": "stream",
     "text": [
      "0.773109243697479\n",
      "0.775\n"
     ]
    },
    {
     "name": "stderr",
     "output_type": "stream",
     "text": [
      "C:\\Users\\admin\\anaconda3\\lib\\site-packages\\sklearn\\linear_model\\_stochastic_gradient.py:696: ConvergenceWarning: Maximum number of iteration reached before convergence. Consider increasing max_iter to improve the fit.\n",
      "  warnings.warn(\n"
     ]
    }
   ],
   "source": [
    "### 사용 클래스 (모델) : SGDClassifier\n",
    "from sklearn.linear_model import SGDClassifier\n",
    "\n",
    "# 클래스(모델) 생성\n",
    "sc = SGDClassifier(loss='log', max_iter=10, random_state=42)\n",
    "\n",
    "# 훈련모델\n",
    "sc.fit(train_scaled, train_target)\n",
    "\n",
    "# 정확도 확인\n",
    "print(sc.score(train_scaled, train_target))\n",
    "print(sc.score(test_scaled, test_target))"
   ]
  },
  {
   "cell_type": "code",
   "execution_count": null,
   "id": "80b0d140-a8f7-442b-b9b4-880d349cb3ff",
   "metadata": {},
   "outputs": [],
   "source": [
    "'''\n",
    "훈련모델의 학습능력이 다소 떨어진다.\n",
    "이는 훈련 및 테스트 모두 과소적합을 보인다고 할 수 있다.\n",
    "'''"
   ]
  },
  {
   "cell_type": "markdown",
   "id": "a1626252-f254-4c61-9840-a77ecb1ff011",
   "metadata": {},
   "source": [
    "#### 점진적 학습"
   ]
  },
  {
   "cell_type": "code",
   "execution_count": 57,
   "id": "ee8b0dab-fb94-44ee-9ff7-5c6258daaa3a",
   "metadata": {},
   "outputs": [
    {
     "name": "stdout",
     "output_type": "stream",
     "text": [
      "0.8151260504201681\n",
      "0.85\n"
     ]
    }
   ],
   "source": [
    "### 점진적 학습 시작\n",
    "# 새로운 데이터가 들어왔다고 가정(실제로는 새로운 데이터 사용)\n",
    "# 기존 학습 구간과 능력을 가지고 다음 구간(새로운 데이터) 학습 진행\n",
    "sc.partial_fit(train_scaled, train_target)\n",
    "\n",
    "print(sc.score(train_scaled, train_target))\n",
    "print(sc.score(test_scaled, test_target))"
   ]
  },
  {
   "cell_type": "markdown",
   "id": "421fe6f0-4fc2-408a-82c4-33f98522938f",
   "metadata": {},
   "source": [
    "#### 에포크 반복 횟수 찾기"
   ]
  },
  {
   "cell_type": "code",
   "execution_count": 58,
   "id": "212b6e45-ec7e-4a27-86cc-128c5889e2f9",
   "metadata": {},
   "outputs": [],
   "source": [
    "import numpy as np\n",
    "\n",
    "so = SGDClassifier(loss='log', random_state=42)\n",
    "\n",
    "train_score = []\n",
    "test_score = []\n",
    "\n",
    "# 범주 고유값\n",
    "classes = np.unique(train_target)\n",
    "\n",
    "# 반복을 300회 이상으로 테스트하여, 정확도를 리스트에 저장\n",
    "for i in range(0,300) :\n",
    "    sc.partial_fit(train_scaled, train_target, classes=classes)\n",
    "    train_score.append(sc.score(train_scaled, train_target))\n",
    "    test_score.append(sc.score(test_scaled, test_target))"
   ]
  },
  {
   "cell_type": "code",
   "execution_count": 59,
   "id": "27ed191a-48b3-45b7-8ca7-99e8fab4f9bf",
   "metadata": {},
   "outputs": [
    {
     "name": "stdout",
     "output_type": "stream",
     "text": [
      "훈련 정확도 리스트 개수 =  300\n",
      "테스트 정확도 리스트 개수 =  300\n"
     ]
    }
   ],
   "source": [
    "print('훈련 정확도 리스트 개수 = ', len(train_score))\n",
    "print('테스트 정확도 리스트 개수 = ', len(test_score))"
   ]
  },
  {
   "cell_type": "code",
   "execution_count": 60,
   "id": "3668ee46-e999-4932-b5b6-f4eefa1f56af",
   "metadata": {},
   "outputs": [
    {
     "data": {
      "image/png": "[encoded data removed]",
      "text/plain": [
       "<Figure size 432x288 with 1 Axes>"
      ]
     },
     "metadata": {
      "needs_background": "light"
     },
     "output_type": "display_data"
    }
   ],
   "source": [
    "### 최적의 에포크 위치 확인 : 시각화\n",
    "import matplotlib.pyplot as plt\n",
    "\n",
    "plt.plot(train_score, label = 'train_score')\n",
    "plt.plot(test_score, label = 'test_score')\n",
    "plt.legend()\n",
    "plt.show()"
   ]
  },
  {
   "attachments": {
    "877166cc-07f1-49a1-a9cf-33b29c3be51c.png": {
     "image/png": "[encoded data removed]"
    }
   },
   "cell_type": "markdown",
   "id": "8b83b22e-2bf2-4070-b420-c4205fcba2d9",
   "metadata": {},
   "source": [
    "![image.png](attachment:877166cc-07f1-49a1-a9cf-33b29c3be51c.png)"
   ]
  },
  {
   "cell_type": "code",
   "execution_count": null,
   "id": "fcb5ed50-0137-457c-9712-5503df473939",
   "metadata": {},
   "outputs": [],
   "source": [
    "'''\n",
    "최적 에포크 위치 : 훈련과 테스트 정확도가 가장 가깝고 변화하는 시점의 끝부분\n",
    "'''"
   ]
  },
  {
   "cell_type": "code",
   "execution_count": 98,
   "id": "d8612eaf-d7a0-4422-834e-81c4d57f62f5",
   "metadata": {},
   "outputs": [
    {
     "name": "stdout",
     "output_type": "stream",
     "text": [
      "0.957983193277311\n",
      "0.925\n"
     ]
    }
   ],
   "source": [
    "### 사용 클래스 (모델) : SGDClassifier\n",
    "from sklearn.linear_model import SGDClassifier\n",
    "\n",
    "# 클래스(모델) 생성\n",
    "# tol=None : 모델 스스로 훈련 끝내지말고 무조건 100번 반복하도록 지정\n",
    "sc = SGDClassifier(loss='log', max_iter=100, tol=None, random_state=42)\n",
    "\n",
    "# 훈련모델\n",
    "sc.fit(train_scaled, train_target)\n",
    "\n",
    "# 정확도 확인\n",
    "print(sc.score(train_scaled, train_target))\n",
    "print(sc.score(test_scaled, test_target))"
   ]
  },
  {
   "cell_type": "markdown",
   "id": "5f4f35e5-b1af-4f96-8825-5e36ae6a31c4",
   "metadata": {},
   "source": [
    "## 모델 예측값 데이터프레임에 저장"
   ]
  },
  {
   "cell_type": "code",
   "execution_count": null,
   "id": "b6182de0-f9c6-4587-96d7-ddf29dede809",
   "metadata": {},
   "outputs": [],
   "source": [
    "### [문제]\n",
    "## - 새로운 데이터가 수집되었다고 가정하고 예측을 통해 결과값 저장\n",
    "# - 기존 fish 데이터 전체를 신규데이터라고 가정하고 진행\n",
    "# - 신규데이터는 Weight, Length, Diagonal, Height, Width\n",
    "#  (데이터프레임 변수는 별도로 만들어서 사용)\n",
    "\n",
    "## - 데이터프레임에 예측결과에 대한 Species_pred 컬럼 추가\n",
    "\n",
    "## <출력결과>\n",
    "# - Species_pred가 추가된 데이터프레임 출력 (7개 컬럼 모두 출력)\n",
    "\n",
    "# - 정답을 맞춘 갯수와 틀린 갯수 출력\n",
    "# - (예시) 총 갯수 [159]건 중, 정답갯수 [149]건, 오답갯수 [10]건\n",
    "\n",
    "# - 정답률과 오답률 출력\n",
    "# - (예시) 총 100.0% 중 정답률 [93.71%], 오답률[6.29%]"
   ]
  },
  {
   "cell_type": "code",
   "execution_count": 97,
   "id": "fa52ee0a-823e-4131-a836-d152bb1e3299",
   "metadata": {},
   "outputs": [],
   "source": [
    "## 독립변수 데이터만 추출\n",
    "pred_data = fish[['Weight','Length','Diagonal','Height','Width']].to_numpy()"
   ]
  },
  {
   "cell_type": "code",
   "execution_count": 92,
   "id": "c6adec3d-8045-4e16-89ad-2e6f6d3b887b",
   "metadata": {},
   "outputs": [],
   "source": [
    "# 예측데이터 표준화\n",
    "pred_scaled = ss.transform(pred_data)"
   ]
  },
  {
   "cell_type": "code",
   "execution_count": null,
   "id": "5b1b96a7-9ab4-4970-a10a-f7be4cac3c11",
   "metadata": {},
   "outputs": [],
   "source": [
    "result_pred = sc.predict(pred_scaled)"
   ]
  },
  {
   "cell_type": "code",
   "execution_count": null,
   "id": "45a18479-8304-4f1a-9925-fd80d5076b5e",
   "metadata": {},
   "outputs": [],
   "source": [
    "fish_pred = fish[['Weight','Length','Diagonal','Height','Width']].to_numpy()"
   ]
  },
  {
   "cell_type": "code",
   "execution_count": null,
   "id": "df9536f0-e87e-4c61-a58a-e929de6be38d",
   "metadata": {},
   "outputs": [],
   "source": []
  },
  {
   "cell_type": "code",
   "execution_count": null,
   "id": "9260cdf3-86eb-4f12-b658-602e4d835618",
   "metadata": {},
   "outputs": [],
   "source": [
    "# 정답갯수와 오답갯수 확인\n",
    "o_cnt = len()"
   ]
  },
  {
   "cell_type": "code",
   "execution_count": null,
   "id": "dce15cff-eb48-47c7-9c07-7ba4f8b174a0",
   "metadata": {},
   "outputs": [],
   "source": [
    "# 정답률과 오답률 확인하기\n",
    "import numpy as np\n",
    "o_p = np.round()"
   ]
  },
  {
   "cell_type": "code",
   "execution_count": null,
   "id": "648a50b7-eb41-4cf0-b0b9-2ae1d407590a",
   "metadata": {},
   "outputs": [],
   "source": []
  }
 ],
 "metadata": {
  "kernelspec": {
   "display_name": "ml_kernel",
   "language": "python",
   "name": "ml"
  },
  "language_info": {
   "codemirror_mode": {
    "name": "ipython",
    "version": 3
   },
   "file_extension": ".py",
   "mimetype": "text/x-python",
   "name": "python",
   "nbconvert_exporter": "python",
   "pygments_lexer": "ipython3",
   "version": "3.9.12"
  }
 },
 "nbformat": 4,
 "nbformat_minor": 5
}
