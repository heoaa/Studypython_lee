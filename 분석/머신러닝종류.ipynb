{
 "cells": [
  {
   "cell_type": "markdown",
   "id": "ee2e8fe2-b7fe-484e-95e7-3147ad7ad005",
   "metadata": {},
   "source": [
    "## 머신러닝 : 분석모델 결정"
   ]
  },
  {
   "cell_type": "markdown",
   "id": "8c825691-3e8c-4edb-bdd4-0a747f0898d3",
   "metadata": {
    "tags": []
   },
   "source": [
    "# 머신러닝 종류\n",
    "\n",
    "## 1) 분류분석 : 범주형데이터(여러개의 독립변수), 연속형데이터(종속변수)\n",
    "### : 결정계수(r^2, 예측할 수 있는 정확도)가 가장 좋은 모델을 선택\n",
    "### : 높을수록 좋으나 현장에서 0.5 이상이면 타당성이 있다고 판단하나 사용하기 위해선 0.8 이상인 경우 채택\n",
    " - 의사결정나무(Decision Tree)\n",
    " - <b>랜덤포레스트(Random Forest)</b>\n",
    " - SVM(소프트벡터머신)\n",
    " - KNN(최근접 알고리즘)\n",
    " - <b>로지스틱 회귀분류 모델</b>\n",
    " \n",
    "## 2) 회귀분석 : 연속형데이터(독립변수, 종속변수)\n",
    " - 선형회귀분석 : (독립변수가 하나만 존재)\n",
    " - 단순선형회귀분석\n",
    " - <b>다중선형회귀분석</b>\n",
    " - <b>다항회귀분석</b>\n",
    " - 로지스틱 회귀분석\n",
    " \n",
    "## 3) 군집분석 : 범주형데이터, 연속형데이터 (※ 독립변수만 존재하며 종속변수가 없음)\n",
    "### : 분류하는 군집이 여러개일 때 군집분석 사용\n",
    " - <b>클러스터링</b>\n",
    " - k-mean 군집분석\n",
    " - DB scan\n",
    " \n",
    " \n",
    "### 머신러닝은 데이터간 인과관계가 있는지 확인하는 단계(인과관계란 서로 영향을 미치는지)"
   ]
  },
  {
   "cell_type": "markdown",
   "id": "d977329d-d353-47d7-8d5b-8507905a06d2",
   "metadata": {},
   "source": [
    "## 머신러닝 학습 구분\n",
    "* 지도학습 : 종속변수가 존재(분류분석, 회귀분석)\n",
    "* 비지도학습 : 종속변수가 존재하지 않음(군집분석)"
   ]
  },
  {
   "cell_type": "markdown",
   "id": "e6ee5fa4-829d-47cf-8e34-c68cac50a198",
   "metadata": {},
   "source": [
    "## 분석방법\n",
    "* 1) 데이터 수집\n",
    "* 2) 데이터 전처리\n",
    "* 3) 학습모델 생성\n",
    "* 4) 예측(test)\n",
    "* 5) 최종 모델 평가"
   ]
  }
 ],
 "metadata": {
  "kernelspec": {
   "display_name": "Python 3 (ipykernel)",
   "language": "python",
   "name": "python3"
  },
  "language_info": {
   "codemirror_mode": {
    "name": "ipython",
    "version": 3
   },
   "file_extension": ".py",
   "mimetype": "text/x-python",
   "name": "python",
   "nbconvert_exporter": "python",
   "pygments_lexer": "ipython3",
   "version": "3.9.12"
  }
 },
 "nbformat": 4,
 "nbformat_minor": 5
}
