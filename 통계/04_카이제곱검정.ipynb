{
 "cells": [
  {
   "cell_type": "markdown",
   "id": "0916090e",
   "metadata": {},
   "source": [
    "# 카이제곱 검정(chi-squared test)\n",
    "- 교차분석 or X^2검정\n",
    "\n",
    "\n",
    "<b> 1. 데이터간의 연관성을 확인할 때 사용\n",
    "- 데이터간에 얼마나 가까운지에 대한 연관성 의미 부여\n",
    "- 인과관계와는 무관함(인과관계란? 특정 데이터가 다른 데이터값의 변화에 영향을 미치는지)\n",
    "\n",
    "\n",
    "<b> 2. 카이제곱 종류\n",
    "- 일원카이제곱(chisquare)\n",
    ": 1개 집단에서 기대값과 관찰값 사이의 유의미한 차이 확인\n",
    "- 이원카이제곱(chi2_contigency)\n",
    ": 두개 이상 집단에서 데이터 간의 연관성(차이) 확인 <br>\n",
    "　　　　 　 　　　 　　 　　　　:분석 대상의 집단수에 의해서 '독립성 검정'과 '동질성 검정'으로 나뉨"
   ]
  },
  {
   "cell_type": "markdown",
   "id": "391a82d1",
   "metadata": {},
   "source": [
    "## 일원카이제곱"
   ]
  },
  {
   "cell_type": "markdown",
   "id": "034b8f51",
   "metadata": {},
   "source": [
    "### exe1) 5개의 스포츠 음료에 대한 선호도에 차이가 있는지 검정\n",
    "- H0 : 스포츠 음료에 대한 선호도 차이가 없다.\n",
    "- H1 : 스포츠 음료에 대한 선호도 차이가 있다."
   ]
  },
  {
   "cell_type": "code",
   "execution_count": 2,
   "id": "85492262",
   "metadata": {},
   "outputs": [],
   "source": [
    "import pandas as pd\n",
    "import numpy as np\n",
    "import scipy.stats as stats"
   ]
  },
  {
   "cell_type": "markdown",
   "id": "079b17c7",
   "metadata": {},
   "source": [
    "#### 데이터 불러오기"
   ]
  },
  {
   "cell_type": "code",
   "execution_count": 1,
   "id": "481bf554",
   "metadata": {},
   "outputs": [
    {
     "data": {
      "text/html": [
       "<div>\n",
       "<style scoped>\n",
       "    .dataframe tbody tr th:only-of-type {\n",
       "        vertical-align: middle;\n",
       "    }\n",
       "\n",
       "    .dataframe tbody tr th {\n",
       "        vertical-align: top;\n",
       "    }\n",
       "\n",
       "    .dataframe thead th {\n",
       "        text-align: right;\n",
       "    }\n",
       "</style>\n",
       "<table border=\"1\" class=\"dataframe\">\n",
       "  <thead>\n",
       "    <tr style=\"text-align: right;\">\n",
       "      <th></th>\n",
       "      <th>음료종류</th>\n",
       "      <th>관측도수</th>\n",
       "    </tr>\n",
       "  </thead>\n",
       "  <tbody>\n",
       "    <tr>\n",
       "      <th>0</th>\n",
       "      <td>s1</td>\n",
       "      <td>41</td>\n",
       "    </tr>\n",
       "    <tr>\n",
       "      <th>1</th>\n",
       "      <td>s2</td>\n",
       "      <td>30</td>\n",
       "    </tr>\n",
       "    <tr>\n",
       "      <th>2</th>\n",
       "      <td>s3</td>\n",
       "      <td>51</td>\n",
       "    </tr>\n",
       "    <tr>\n",
       "      <th>3</th>\n",
       "      <td>s4</td>\n",
       "      <td>71</td>\n",
       "    </tr>\n",
       "    <tr>\n",
       "      <th>4</th>\n",
       "      <td>s5</td>\n",
       "      <td>61</td>\n",
       "    </tr>\n",
       "  </tbody>\n",
       "</table>\n",
       "</div>"
      ],
      "text/plain": [
       "  음료종류  관측도수\n",
       "0   s1    41\n",
       "1   s2    30\n",
       "2   s3    51\n",
       "3   s4    71\n",
       "4   s5    61"
      ]
     },
     "execution_count": 1,
     "metadata": {},
     "output_type": "execute_result"
    }
   ],
   "source": [
    "drink = pd.read_csv('./data2/drinkdata.csv')\n",
    "drink"
   ]
  },
  {
   "cell_type": "markdown",
   "id": "ede07711",
   "metadata": {},
   "source": [
    "#### 검증하기"
   ]
  },
  {
   "cell_type": "code",
   "execution_count": 3,
   "id": "b74d6147",
   "metadata": {},
   "outputs": [
    {
     "name": "stdout",
     "output_type": "stream",
     "text": [
      "검정 결과 =  Power_divergenceResult(statistic=20.488188976377952, pvalue=0.00039991784008227264)\n",
      "검정 통계량 = 20.488, p-value = 0.000\n"
     ]
    }
   ],
   "source": [
    "result = stats.chisquare(drink['관측도수'])\n",
    "\n",
    "print('검정 결과 = ', result)\n",
    "print('검정 통계량 = %.3f, p-value = %.3f' %(result))\n",
    "\n",
    "# 1. p-value = 0.000 < 0.05 이므로, 귀무가설 기각\n",
    "# 2. 대립가설 채택 : 스포츠 음료에 대한 선호도 차이가 있다고 할 수 있다."
   ]
  },
  {
   "cell_type": "markdown",
   "id": "639f3399",
   "metadata": {},
   "source": [
    "## 이원카이제곱 - 독립성 검정"
   ]
  },
  {
   "cell_type": "markdown",
   "id": "08241566",
   "metadata": {},
   "source": [
    "### exe2) 교육수준과 흡연율 간의 연관성 분석\n",
    "- H0 : 교육수준과 흡연율 간에 관련성이 없다.(독립적이다)\n",
    "- H1 : 교육수준과 흡연율 간에 관련성이 있다."
   ]
  },
  {
   "cell_type": "code",
   "execution_count": 4,
   "id": "b5bac2e9",
   "metadata": {},
   "outputs": [],
   "source": [
    "import pandas as pd\n",
    "import scipy.stats as stats"
   ]
  },
  {
   "cell_type": "markdown",
   "id": "e7482b48",
   "metadata": {},
   "source": [
    "#### 데이터 불러오기"
   ]
  },
  {
   "cell_type": "code",
   "execution_count": 5,
   "id": "a9c5c52f",
   "metadata": {
    "collapsed": true
   },
   "outputs": [
    {
     "data": {
      "text/html": [
       "<div>\n",
       "<style scoped>\n",
       "    .dataframe tbody tr th:only-of-type {\n",
       "        vertical-align: middle;\n",
       "    }\n",
       "\n",
       "    .dataframe tbody tr th {\n",
       "        vertical-align: top;\n",
       "    }\n",
       "\n",
       "    .dataframe thead th {\n",
       "        text-align: right;\n",
       "    }\n",
       "</style>\n",
       "<table border=\"1\" class=\"dataframe\">\n",
       "  <thead>\n",
       "    <tr style=\"text-align: right;\">\n",
       "      <th></th>\n",
       "      <th>education</th>\n",
       "      <th>smoking</th>\n",
       "    </tr>\n",
       "  </thead>\n",
       "  <tbody>\n",
       "    <tr>\n",
       "      <th>0</th>\n",
       "      <td>1</td>\n",
       "      <td>1</td>\n",
       "    </tr>\n",
       "    <tr>\n",
       "      <th>1</th>\n",
       "      <td>1</td>\n",
       "      <td>1</td>\n",
       "    </tr>\n",
       "    <tr>\n",
       "      <th>2</th>\n",
       "      <td>1</td>\n",
       "      <td>1</td>\n",
       "    </tr>\n",
       "    <tr>\n",
       "      <th>3</th>\n",
       "      <td>1</td>\n",
       "      <td>1</td>\n",
       "    </tr>\n",
       "    <tr>\n",
       "      <th>4</th>\n",
       "      <td>1</td>\n",
       "      <td>1</td>\n",
       "    </tr>\n",
       "    <tr>\n",
       "      <th>...</th>\n",
       "      <td>...</td>\n",
       "      <td>...</td>\n",
       "    </tr>\n",
       "    <tr>\n",
       "      <th>350</th>\n",
       "      <td>3</td>\n",
       "      <td>3</td>\n",
       "    </tr>\n",
       "    <tr>\n",
       "      <th>351</th>\n",
       "      <td>3</td>\n",
       "      <td>3</td>\n",
       "    </tr>\n",
       "    <tr>\n",
       "      <th>352</th>\n",
       "      <td>3</td>\n",
       "      <td>3</td>\n",
       "    </tr>\n",
       "    <tr>\n",
       "      <th>353</th>\n",
       "      <td>3</td>\n",
       "      <td>3</td>\n",
       "    </tr>\n",
       "    <tr>\n",
       "      <th>354</th>\n",
       "      <td>3</td>\n",
       "      <td>3</td>\n",
       "    </tr>\n",
       "  </tbody>\n",
       "</table>\n",
       "<p>355 rows × 2 columns</p>\n",
       "</div>"
      ],
      "text/plain": [
       "     education  smoking\n",
       "0            1        1\n",
       "1            1        1\n",
       "2            1        1\n",
       "3            1        1\n",
       "4            1        1\n",
       "..         ...      ...\n",
       "350          3        3\n",
       "351          3        3\n",
       "352          3        3\n",
       "353          3        3\n",
       "354          3        3\n",
       "\n",
       "[355 rows x 2 columns]"
      ]
     },
     "execution_count": 5,
     "metadata": {},
     "output_type": "execute_result"
    }
   ],
   "source": [
    "smoke = pd.read_csv('./data2/smoke.csv')\n",
    "smoke"
   ]
  },
  {
   "cell_type": "markdown",
   "id": "bfd560c6",
   "metadata": {},
   "source": [
    "#### 데이터 확인"
   ]
  },
  {
   "cell_type": "code",
   "execution_count": 9,
   "id": "66aea912",
   "metadata": {},
   "outputs": [
    {
     "name": "stdout",
     "output_type": "stream",
     "text": [
      "education =  [1 2 3]\n",
      "smoking =  [1 2 3]\n"
     ]
    }
   ],
   "source": [
    "# 각 데이터 집단간 고유한 값 확인\n",
    "\n",
    "# 교육수준(education) : 1(대학원졸), 2(대졸), 3(고졸)\n",
    "print('education = ', smoke['education'].unique())\n",
    "\n",
    "# 흡연정도(smoking) : 1(골초), 2(보통), 3(노담)\n",
    "print('smoking = ', smoke['smoking'].unique())"
   ]
  },
  {
   "cell_type": "markdown",
   "id": "647e4157",
   "metadata": {},
   "source": [
    "#### 교차표 생성"
   ]
  },
  {
   "cell_type": "code",
   "execution_count": 13,
   "id": "3f83c284",
   "metadata": {
    "scrolled": true
   },
   "outputs": [
    {
     "name": "stdout",
     "output_type": "stream",
     "text": [
      "smoking     1   2   3\n",
      "education            \n",
      "1          51  92  68\n",
      "2          22  21   9\n",
      "3          43  28  21\n",
      "\n",
      "smoking   1   2   3\n",
      "대학원졸     51  92  68\n",
      "대졸       22  21   9\n",
      "고졸       43  28  21\n",
      "\n"
     ]
    },
    {
     "data": {
      "text/html": [
       "<div>\n",
       "<style scoped>\n",
       "    .dataframe tbody tr th:only-of-type {\n",
       "        vertical-align: middle;\n",
       "    }\n",
       "\n",
       "    .dataframe tbody tr th {\n",
       "        vertical-align: top;\n",
       "    }\n",
       "\n",
       "    .dataframe thead th {\n",
       "        text-align: right;\n",
       "    }\n",
       "</style>\n",
       "<table border=\"1\" class=\"dataframe\">\n",
       "  <thead>\n",
       "    <tr style=\"text-align: right;\">\n",
       "      <th></th>\n",
       "      <th>골초</th>\n",
       "      <th>보통</th>\n",
       "      <th>노담</th>\n",
       "    </tr>\n",
       "  </thead>\n",
       "  <tbody>\n",
       "    <tr>\n",
       "      <th>대학원졸</th>\n",
       "      <td>51</td>\n",
       "      <td>92</td>\n",
       "      <td>68</td>\n",
       "    </tr>\n",
       "    <tr>\n",
       "      <th>대졸</th>\n",
       "      <td>22</td>\n",
       "      <td>21</td>\n",
       "      <td>9</td>\n",
       "    </tr>\n",
       "    <tr>\n",
       "      <th>고졸</th>\n",
       "      <td>43</td>\n",
       "      <td>28</td>\n",
       "      <td>21</td>\n",
       "    </tr>\n",
       "  </tbody>\n",
       "</table>\n",
       "</div>"
      ],
      "text/plain": [
       "      골초  보통  노담\n",
       "대학원졸  51  92  68\n",
       "대졸    22  21   9\n",
       "고졸    43  28  21"
      ]
     },
     "execution_count": 13,
     "metadata": {},
     "output_type": "execute_result"
    }
   ],
   "source": [
    "## 이원카이제곱은 두집단의 교차표를 생성합니다.\n",
    "#  - 교차표 : 빈도 집계를 의미함\n",
    "\n",
    "ctab = pd.crosstab(index = smoke['education'],\n",
    "                   columns = smoke['smoking'])\n",
    "print(ctab)\n",
    "print()\n",
    "\n",
    "# 행 인덱스값 한글로 변경\n",
    "ctab.index = ['대학원졸', '대졸', '고졸']\n",
    "print(ctab)\n",
    "print()\n",
    "\n",
    "# 컬럼 인덱스값 한글로 변경\n",
    "ctab.columns = ['골초', '보통', '노담']\n",
    "ctab"
   ]
  },
  {
   "cell_type": "markdown",
   "id": "9b8b6a2a",
   "metadata": {},
   "source": [
    "#### 검증하기"
   ]
  },
  {
   "cell_type": "code",
   "execution_count": 17,
   "id": "4fa04c05",
   "metadata": {},
   "outputs": [
    {
     "name": "stdout",
     "output_type": "stream",
     "text": [
      "검정 결과 =  (18.910915739853955, 0.0008182572832162924, 4, array([[68.94647887, 83.8056338 , 58.24788732],\n",
      "       [16.9915493 , 20.65352113, 14.35492958],\n",
      "       [30.06197183, 36.54084507, 25.3971831 ]]))\n",
      "검정 통계량 = 18.911, p-value = 0.001\n"
     ]
    }
   ],
   "source": [
    "result = stats.chi2_contingency(ctab)\n",
    "\n",
    "print('검정 결과 = ', result)\n",
    "print('검정 통계량 = %.3f, p-value = %.3f' %(result[0], result[1]))\n",
    "\n",
    "# 1. p-value = 0.001 < 0.05 이므로, 귀무가설 기각\n",
    "# 2. 대립가설 채택 : 교육수준과 흡연율 간에 관련성(연관성)이 있다. (독립적이지 않다)"
   ]
  },
  {
   "cell_type": "markdown",
   "id": "d698c938",
   "metadata": {},
   "source": [
    "### exe3) 국가전체와 지역에 대한 인종 간 인원수는 관련성이 있는가?\n",
    "- H0 : 국가전체와 특정지역에 대한 인종간 인원수는 관련성이 없다.\n",
    "- H1 : 국가전체와 특정지역에 대한 인종간 인원수는 관련성이 있다."
   ]
  },
  {
   "cell_type": "markdown",
   "id": "e09c562c",
   "metadata": {},
   "source": [
    "#### 데이터 생성"
   ]
  },
  {
   "cell_type": "code",
   "execution_count": 18,
   "id": "9905dbbd",
   "metadata": {
    "collapsed": true
   },
   "outputs": [
    {
     "data": {
      "text/html": [
       "<div>\n",
       "<style scoped>\n",
       "    .dataframe tbody tr th:only-of-type {\n",
       "        vertical-align: middle;\n",
       "    }\n",
       "\n",
       "    .dataframe tbody tr th {\n",
       "        vertical-align: top;\n",
       "    }\n",
       "\n",
       "    .dataframe thead th {\n",
       "        text-align: right;\n",
       "    }\n",
       "</style>\n",
       "<table border=\"1\" class=\"dataframe\">\n",
       "  <thead>\n",
       "    <tr style=\"text-align: right;\">\n",
       "      <th></th>\n",
       "      <th>0</th>\n",
       "    </tr>\n",
       "  </thead>\n",
       "  <tbody>\n",
       "    <tr>\n",
       "      <th>0</th>\n",
       "      <td>white</td>\n",
       "    </tr>\n",
       "    <tr>\n",
       "      <th>1</th>\n",
       "      <td>white</td>\n",
       "    </tr>\n",
       "    <tr>\n",
       "      <th>2</th>\n",
       "      <td>white</td>\n",
       "    </tr>\n",
       "    <tr>\n",
       "      <th>3</th>\n",
       "      <td>white</td>\n",
       "    </tr>\n",
       "    <tr>\n",
       "      <th>4</th>\n",
       "      <td>white</td>\n",
       "    </tr>\n",
       "    <tr>\n",
       "      <th>...</th>\n",
       "      <td>...</td>\n",
       "    </tr>\n",
       "    <tr>\n",
       "      <th>259995</th>\n",
       "      <td>other</td>\n",
       "    </tr>\n",
       "    <tr>\n",
       "      <th>259996</th>\n",
       "      <td>other</td>\n",
       "    </tr>\n",
       "    <tr>\n",
       "      <th>259997</th>\n",
       "      <td>other</td>\n",
       "    </tr>\n",
       "    <tr>\n",
       "      <th>259998</th>\n",
       "      <td>other</td>\n",
       "    </tr>\n",
       "    <tr>\n",
       "      <th>259999</th>\n",
       "      <td>other</td>\n",
       "    </tr>\n",
       "  </tbody>\n",
       "</table>\n",
       "<p>260000 rows × 1 columns</p>\n",
       "</div>"
      ],
      "text/plain": [
       "            0\n",
       "0       white\n",
       "1       white\n",
       "2       white\n",
       "3       white\n",
       "4       white\n",
       "...       ...\n",
       "259995  other\n",
       "259996  other\n",
       "259997  other\n",
       "259998  other\n",
       "259999  other\n",
       "\n",
       "[260000 rows x 1 columns]"
      ]
     },
     "execution_count": 18,
     "metadata": {},
     "output_type": "execute_result"
    }
   ],
   "source": [
    "# 국가전체 데이터 생성\n",
    "national = pd.DataFrame(['white']*100000 + ['hispanic']*60000 + \n",
    "                        ['black']*50000 + ['asian']*15000 + \n",
    "                        ['other']*35000)\n",
    "national"
   ]
  },
  {
   "cell_type": "code",
   "execution_count": 19,
   "id": "81f9b69b",
   "metadata": {
    "collapsed": true
   },
   "outputs": [
    {
     "data": {
      "text/html": [
       "<div>\n",
       "<style scoped>\n",
       "    .dataframe tbody tr th:only-of-type {\n",
       "        vertical-align: middle;\n",
       "    }\n",
       "\n",
       "    .dataframe tbody tr th {\n",
       "        vertical-align: top;\n",
       "    }\n",
       "\n",
       "    .dataframe thead th {\n",
       "        text-align: right;\n",
       "    }\n",
       "</style>\n",
       "<table border=\"1\" class=\"dataframe\">\n",
       "  <thead>\n",
       "    <tr style=\"text-align: right;\">\n",
       "      <th></th>\n",
       "      <th>0</th>\n",
       "    </tr>\n",
       "  </thead>\n",
       "  <tbody>\n",
       "    <tr>\n",
       "      <th>0</th>\n",
       "      <td>white</td>\n",
       "    </tr>\n",
       "    <tr>\n",
       "      <th>1</th>\n",
       "      <td>white</td>\n",
       "    </tr>\n",
       "    <tr>\n",
       "      <th>2</th>\n",
       "      <td>white</td>\n",
       "    </tr>\n",
       "    <tr>\n",
       "      <th>3</th>\n",
       "      <td>white</td>\n",
       "    </tr>\n",
       "    <tr>\n",
       "      <th>4</th>\n",
       "      <td>white</td>\n",
       "    </tr>\n",
       "    <tr>\n",
       "      <th>...</th>\n",
       "      <td>...</td>\n",
       "    </tr>\n",
       "    <tr>\n",
       "      <th>1370</th>\n",
       "      <td>other</td>\n",
       "    </tr>\n",
       "    <tr>\n",
       "      <th>1371</th>\n",
       "      <td>other</td>\n",
       "    </tr>\n",
       "    <tr>\n",
       "      <th>1372</th>\n",
       "      <td>other</td>\n",
       "    </tr>\n",
       "    <tr>\n",
       "      <th>1373</th>\n",
       "      <td>other</td>\n",
       "    </tr>\n",
       "    <tr>\n",
       "      <th>1374</th>\n",
       "      <td>other</td>\n",
       "    </tr>\n",
       "  </tbody>\n",
       "</table>\n",
       "<p>1375 rows × 1 columns</p>\n",
       "</div>"
      ],
      "text/plain": [
       "          0\n",
       "0     white\n",
       "1     white\n",
       "2     white\n",
       "3     white\n",
       "4     white\n",
       "...     ...\n",
       "1370  other\n",
       "1371  other\n",
       "1372  other\n",
       "1373  other\n",
       "1374  other\n",
       "\n",
       "[1375 rows x 1 columns]"
      ]
     },
     "execution_count": 19,
     "metadata": {},
     "output_type": "execute_result"
    }
   ],
   "source": [
    "# 특정지역 데이터 생성\n",
    "la = pd.DataFrame(['white']*600 + ['hispanic']*300 + \n",
    "                        ['black']*250 + ['asian']*75 + \n",
    "                        ['other']*150)\n",
    "la"
   ]
  },
  {
   "cell_type": "markdown",
   "id": "6dc619f8",
   "metadata": {},
   "source": [
    "#### 교차표 생성"
   ]
  },
  {
   "cell_type": "code",
   "execution_count": 23,
   "id": "98865e0e",
   "metadata": {},
   "outputs": [
    {
     "name": "stdout",
     "output_type": "stream",
     "text": [
      "col_0      count\n",
      "0               \n",
      "asian      15000\n",
      "black      50000\n",
      "hispanic   60000\n",
      "other      35000\n",
      "white     100000\n",
      "\n",
      "col_0     count\n",
      "0              \n",
      "asian        75\n",
      "black       250\n",
      "hispanic    300\n",
      "other       150\n",
      "white       600\n"
     ]
    },
    {
     "data": {
      "text/html": [
       "<div>\n",
       "<style scoped>\n",
       "    .dataframe tbody tr th:only-of-type {\n",
       "        vertical-align: middle;\n",
       "    }\n",
       "\n",
       "    .dataframe tbody tr th {\n",
       "        vertical-align: top;\n",
       "    }\n",
       "\n",
       "    .dataframe thead th {\n",
       "        text-align: right;\n",
       "    }\n",
       "</style>\n",
       "<table border=\"1\" class=\"dataframe\">\n",
       "  <thead>\n",
       "    <tr style=\"text-align: right;\">\n",
       "      <th>col_0</th>\n",
       "      <th>count</th>\n",
       "      <th>count_la</th>\n",
       "    </tr>\n",
       "    <tr>\n",
       "      <th>0</th>\n",
       "      <th></th>\n",
       "      <th></th>\n",
       "    </tr>\n",
       "  </thead>\n",
       "  <tbody>\n",
       "    <tr>\n",
       "      <th>asian</th>\n",
       "      <td>15000</td>\n",
       "      <td>75</td>\n",
       "    </tr>\n",
       "    <tr>\n",
       "      <th>black</th>\n",
       "      <td>50000</td>\n",
       "      <td>250</td>\n",
       "    </tr>\n",
       "    <tr>\n",
       "      <th>hispanic</th>\n",
       "      <td>60000</td>\n",
       "      <td>300</td>\n",
       "    </tr>\n",
       "    <tr>\n",
       "      <th>other</th>\n",
       "      <td>35000</td>\n",
       "      <td>150</td>\n",
       "    </tr>\n",
       "    <tr>\n",
       "      <th>white</th>\n",
       "      <td>100000</td>\n",
       "      <td>600</td>\n",
       "    </tr>\n",
       "  </tbody>\n",
       "</table>\n",
       "</div>"
      ],
      "text/plain": [
       "col_0      count  count_la\n",
       "0                         \n",
       "asian      15000        75\n",
       "black      50000       250\n",
       "hispanic   60000       300\n",
       "other      35000       150\n",
       "white     100000       600"
      ]
     },
     "execution_count": 23,
     "metadata": {},
     "output_type": "execute_result"
    }
   ],
   "source": [
    "# 국가전체에 대한 빈도표 생성\n",
    "na_table = pd.crosstab(index = national[0],\n",
    "                       columns = 'count')\n",
    "print(na_table)\n",
    "print()\n",
    "\n",
    "# 특정지역에 대한 빈도표 생성\n",
    "la_table = pd.crosstab(index = la[0],\n",
    "                       columns = 'count')\n",
    "print(la_table)\n",
    "\n",
    "# 국가전체와 특정지역에 대한 교차표 생성\n",
    "na_table['count_la'] = la_table['count']\n",
    "na_table"
   ]
  },
  {
   "cell_type": "markdown",
   "id": "70e9da8c",
   "metadata": {},
   "source": [
    "#### 검증하기"
   ]
  },
  {
   "cell_type": "code",
   "execution_count": 24,
   "id": "ed05bdde",
   "metadata": {},
   "outputs": [
    {
     "name": "stdout",
     "output_type": "stream",
     "text": [
      "검정 결과 =  (18.099524243141698, 0.0011800326671747886, 4, array([[1.49956958e+04, 7.93041607e+01],\n",
      "       [4.99856528e+04, 2.64347202e+02],\n",
      "       [5.99827834e+04, 3.17216643e+02],\n",
      "       [3.49650885e+04, 1.84911526e+02],\n",
      "       [1.00070780e+05, 5.29220469e+02]]))\n",
      "검정 통계량 = 18.100, p-value = 0.001\n"
     ]
    }
   ],
   "source": [
    "result = stats.chi2_contingency(na_table)\n",
    "\n",
    "print('검정 결과 = ', result)\n",
    "print('검정 통계량 = %.3f, p-value = %.3f' %(result[0], result[1]))\n",
    "\n",
    "# 1. p-value = 0.001 < 0.05 이므로, 귀무가설 기각\n",
    "# 2. 대립가설 채택 : 국가전체와 특정지역에 대한 인종간 인원수는 관련성이 있다"
   ]
  },
  {
   "cell_type": "markdown",
   "id": "bd5dd5dd",
   "metadata": {},
   "source": [
    "## 이원카이제곱 - 동질성 검정(빈도 or 비율 데이터를 주로 사용)"
   ]
  },
  {
   "cell_type": "markdown",
   "id": "dafb7c31",
   "metadata": {},
   "source": [
    "### exe4) 교육방법에 따른 교육생들의 만족도 분석\n",
    "- H0 : 교육방법에 따른 교육생들의 만족도에 차이가 없다. (동질이다)\n",
    "- H1 : 교육방법에 따른 교육생들의 만족도에 차이가 있다. (동질하지 않다)"
   ]
  },
  {
   "cell_type": "markdown",
   "id": "ad2ba290",
   "metadata": {},
   "source": [
    "#### 데이터 불러오기"
   ]
  },
  {
   "cell_type": "code",
   "execution_count": 25,
   "id": "116beb14",
   "metadata": {
    "collapsed": true
   },
   "outputs": [
    {
     "data": {
      "text/html": [
       "<div>\n",
       "<style scoped>\n",
       "    .dataframe tbody tr th:only-of-type {\n",
       "        vertical-align: middle;\n",
       "    }\n",
       "\n",
       "    .dataframe tbody tr th {\n",
       "        vertical-align: top;\n",
       "    }\n",
       "\n",
       "    .dataframe thead th {\n",
       "        text-align: right;\n",
       "    }\n",
       "</style>\n",
       "<table border=\"1\" class=\"dataframe\">\n",
       "  <thead>\n",
       "    <tr style=\"text-align: right;\">\n",
       "      <th></th>\n",
       "      <th>no</th>\n",
       "      <th>method</th>\n",
       "      <th>survey</th>\n",
       "    </tr>\n",
       "  </thead>\n",
       "  <tbody>\n",
       "    <tr>\n",
       "      <th>0</th>\n",
       "      <td>1</td>\n",
       "      <td>1</td>\n",
       "      <td>1</td>\n",
       "    </tr>\n",
       "    <tr>\n",
       "      <th>1</th>\n",
       "      <td>2</td>\n",
       "      <td>2</td>\n",
       "      <td>2</td>\n",
       "    </tr>\n",
       "    <tr>\n",
       "      <th>2</th>\n",
       "      <td>3</td>\n",
       "      <td>3</td>\n",
       "      <td>3</td>\n",
       "    </tr>\n",
       "    <tr>\n",
       "      <th>3</th>\n",
       "      <td>4</td>\n",
       "      <td>1</td>\n",
       "      <td>4</td>\n",
       "    </tr>\n",
       "    <tr>\n",
       "      <th>4</th>\n",
       "      <td>5</td>\n",
       "      <td>2</td>\n",
       "      <td>5</td>\n",
       "    </tr>\n",
       "    <tr>\n",
       "      <th>...</th>\n",
       "      <td>...</td>\n",
       "      <td>...</td>\n",
       "      <td>...</td>\n",
       "    </tr>\n",
       "    <tr>\n",
       "      <th>145</th>\n",
       "      <td>146</td>\n",
       "      <td>2</td>\n",
       "      <td>3</td>\n",
       "    </tr>\n",
       "    <tr>\n",
       "      <th>146</th>\n",
       "      <td>147</td>\n",
       "      <td>3</td>\n",
       "      <td>4</td>\n",
       "    </tr>\n",
       "    <tr>\n",
       "      <th>147</th>\n",
       "      <td>148</td>\n",
       "      <td>1</td>\n",
       "      <td>3</td>\n",
       "    </tr>\n",
       "    <tr>\n",
       "      <th>148</th>\n",
       "      <td>149</td>\n",
       "      <td>2</td>\n",
       "      <td>2</td>\n",
       "    </tr>\n",
       "    <tr>\n",
       "      <th>149</th>\n",
       "      <td>150</td>\n",
       "      <td>3</td>\n",
       "      <td>1</td>\n",
       "    </tr>\n",
       "  </tbody>\n",
       "</table>\n",
       "<p>150 rows × 3 columns</p>\n",
       "</div>"
      ],
      "text/plain": [
       "      no  method  survey\n",
       "0      1       1       1\n",
       "1      2       2       2\n",
       "2      3       3       3\n",
       "3      4       1       4\n",
       "4      5       2       5\n",
       "..   ...     ...     ...\n",
       "145  146       2       3\n",
       "146  147       3       4\n",
       "147  148       1       3\n",
       "148  149       2       2\n",
       "149  150       3       1\n",
       "\n",
       "[150 rows x 3 columns]"
      ]
     },
     "execution_count": 25,
     "metadata": {},
     "output_type": "execute_result"
    }
   ],
   "source": [
    "data = pd.read_csv('./data2/survey_method.csv')\n",
    "data"
   ]
  },
  {
   "cell_type": "code",
   "execution_count": 29,
   "id": "7d1e582c",
   "metadata": {},
   "outputs": [
    {
     "name": "stdout",
     "output_type": "stream",
     "text": [
      "method =  [1 2 3]\n",
      "survey =  [1 2 3 4 5]\n"
     ]
    }
   ],
   "source": [
    "# method(교육방법): 1(방법1), 2(방법2), 3(방법3)\n",
    "print('method = ', data['method'].unique())\n",
    "\n",
    "# survey(만족도): 1(매우만족), 2(만족), 3(보통), 4(불만족), 5(매우불만족)\n",
    "print('survey = ', data['survey'].unique())"
   ]
  },
  {
   "cell_type": "markdown",
   "id": "65d8ba6b",
   "metadata": {},
   "source": [
    "#### 교차표 작성"
   ]
  },
  {
   "cell_type": "code",
   "execution_count": 31,
   "id": "059599ce",
   "metadata": {},
   "outputs": [
    {
     "data": {
      "text/html": [
       "<div>\n",
       "<style scoped>\n",
       "    .dataframe tbody tr th:only-of-type {\n",
       "        vertical-align: middle;\n",
       "    }\n",
       "\n",
       "    .dataframe tbody tr th {\n",
       "        vertical-align: top;\n",
       "    }\n",
       "\n",
       "    .dataframe thead th {\n",
       "        text-align: right;\n",
       "    }\n",
       "</style>\n",
       "<table border=\"1\" class=\"dataframe\">\n",
       "  <thead>\n",
       "    <tr style=\"text-align: right;\">\n",
       "      <th></th>\n",
       "      <th>매우만족</th>\n",
       "      <th>만족</th>\n",
       "      <th>보통</th>\n",
       "      <th>불만족</th>\n",
       "      <th>매우불만족</th>\n",
       "    </tr>\n",
       "  </thead>\n",
       "  <tbody>\n",
       "    <tr>\n",
       "      <th>방법1</th>\n",
       "      <td>5</td>\n",
       "      <td>8</td>\n",
       "      <td>15</td>\n",
       "      <td>16</td>\n",
       "      <td>6</td>\n",
       "    </tr>\n",
       "    <tr>\n",
       "      <th>방법2</th>\n",
       "      <td>8</td>\n",
       "      <td>14</td>\n",
       "      <td>11</td>\n",
       "      <td>11</td>\n",
       "      <td>6</td>\n",
       "    </tr>\n",
       "    <tr>\n",
       "      <th>방법3</th>\n",
       "      <td>8</td>\n",
       "      <td>7</td>\n",
       "      <td>11</td>\n",
       "      <td>15</td>\n",
       "      <td>9</td>\n",
       "    </tr>\n",
       "  </tbody>\n",
       "</table>\n",
       "</div>"
      ],
      "text/plain": [
       "     매우만족  만족  보통  불만족  매우불만족\n",
       "방법1     5   8  15   16      6\n",
       "방법2     8  14  11   11      6\n",
       "방법3     8   7  11   15      9"
      ]
     },
     "execution_count": 31,
     "metadata": {},
     "output_type": "execute_result"
    }
   ],
   "source": [
    "# 교육방법에 대한 만족도이므로 index에는 method, columns에는 survey\n",
    "table = pd.crosstab(data['method'], data['survey'])\n",
    "table.index = ['방법1', '방법2', '방법3']\n",
    "table.columns = ['매우만족', '만족', '보통', '불만족', '매우불만족']\n",
    "table"
   ]
  },
  {
   "cell_type": "markdown",
   "id": "3c1fdccd",
   "metadata": {},
   "source": [
    "#### 검증하기"
   ]
  },
  {
   "cell_type": "code",
   "execution_count": 32,
   "id": "2e23cb52",
   "metadata": {},
   "outputs": [
    {
     "name": "stdout",
     "output_type": "stream",
     "text": [
      "검정 결과 =  (6.544667820529891, 0.5864574374550608, 8, array([[ 7.        ,  9.66666667, 12.33333333, 14.        ,  7.        ],\n",
      "       [ 7.        ,  9.66666667, 12.33333333, 14.        ,  7.        ],\n",
      "       [ 7.        ,  9.66666667, 12.33333333, 14.        ,  7.        ]]))\n",
      "검정 통계량 = 6.545, p-value = 0.586\n"
     ]
    }
   ],
   "source": [
    "result = stats.chi2_contingency(table)\n",
    "\n",
    "print('검정 결과 = ', result)\n",
    "print('검정 통계량 = %.3f, p-value = %.3f' %(result[0], result[1]))\n",
    "\n",
    "# 1. p-value = 0.586 > 0.05 이므로, 귀무가설 기각할 수 없음\n",
    "# 2. 귀무가설 채택 : 교육방법에 따른 교육생들의 만족도에 차이가 없다. (동질이다)"
   ]
  },
  {
   "cell_type": "markdown",
   "id": "fff050d0",
   "metadata": {},
   "source": [
    "### exe5) 연령대별 sns 이용률 차이 검증\n",
    "- H0 : 연령대별로 sns서비스 이용 현황에 차이가 없다. (동질이다)\n",
    "- H1 : 연령대별로 sns서비스 이용 현황에 차이가 있다. (동질하지 않다)"
   ]
  },
  {
   "cell_type": "markdown",
   "id": "1b4c07b0",
   "metadata": {},
   "source": [
    "#### 데이터 불러오기"
   ]
  },
  {
   "cell_type": "code",
   "execution_count": 33,
   "id": "f94639ef",
   "metadata": {
    "collapsed": true
   },
   "outputs": [
    {
     "data": {
      "text/html": [
       "<div>\n",
       "<style scoped>\n",
       "    .dataframe tbody tr th:only-of-type {\n",
       "        vertical-align: middle;\n",
       "    }\n",
       "\n",
       "    .dataframe tbody tr th {\n",
       "        vertical-align: top;\n",
       "    }\n",
       "\n",
       "    .dataframe thead th {\n",
       "        text-align: right;\n",
       "    }\n",
       "</style>\n",
       "<table border=\"1\" class=\"dataframe\">\n",
       "  <thead>\n",
       "    <tr style=\"text-align: right;\">\n",
       "      <th></th>\n",
       "      <th>age</th>\n",
       "      <th>service</th>\n",
       "    </tr>\n",
       "  </thead>\n",
       "  <tbody>\n",
       "    <tr>\n",
       "      <th>0</th>\n",
       "      <td>1</td>\n",
       "      <td>F</td>\n",
       "    </tr>\n",
       "    <tr>\n",
       "      <th>1</th>\n",
       "      <td>1</td>\n",
       "      <td>F</td>\n",
       "    </tr>\n",
       "    <tr>\n",
       "      <th>2</th>\n",
       "      <td>1</td>\n",
       "      <td>F</td>\n",
       "    </tr>\n",
       "    <tr>\n",
       "      <th>3</th>\n",
       "      <td>1</td>\n",
       "      <td>F</td>\n",
       "    </tr>\n",
       "    <tr>\n",
       "      <th>4</th>\n",
       "      <td>1</td>\n",
       "      <td>F</td>\n",
       "    </tr>\n",
       "    <tr>\n",
       "      <th>...</th>\n",
       "      <td>...</td>\n",
       "      <td>...</td>\n",
       "    </tr>\n",
       "    <tr>\n",
       "      <th>1434</th>\n",
       "      <td>3</td>\n",
       "      <td>E</td>\n",
       "    </tr>\n",
       "    <tr>\n",
       "      <th>1435</th>\n",
       "      <td>3</td>\n",
       "      <td>E</td>\n",
       "    </tr>\n",
       "    <tr>\n",
       "      <th>1436</th>\n",
       "      <td>3</td>\n",
       "      <td>E</td>\n",
       "    </tr>\n",
       "    <tr>\n",
       "      <th>1437</th>\n",
       "      <td>3</td>\n",
       "      <td>E</td>\n",
       "    </tr>\n",
       "    <tr>\n",
       "      <th>1438</th>\n",
       "      <td>3</td>\n",
       "      <td>E</td>\n",
       "    </tr>\n",
       "  </tbody>\n",
       "</table>\n",
       "<p>1439 rows × 2 columns</p>\n",
       "</div>"
      ],
      "text/plain": [
       "      age service\n",
       "0       1       F\n",
       "1       1       F\n",
       "2       1       F\n",
       "3       1       F\n",
       "4       1       F\n",
       "...   ...     ...\n",
       "1434    3       E\n",
       "1435    3       E\n",
       "1436    3       E\n",
       "1437    3       E\n",
       "1438    3       E\n",
       "\n",
       "[1439 rows x 2 columns]"
      ]
     },
     "execution_count": 33,
     "metadata": {},
     "output_type": "execute_result"
    }
   ],
   "source": [
    "sns_age = pd.read_csv('./data2/snsbyage.csv')\n",
    "sns_age"
   ]
  },
  {
   "cell_type": "code",
   "execution_count": 34,
   "id": "3cf72990",
   "metadata": {},
   "outputs": [
    {
     "name": "stdout",
     "output_type": "stream",
     "text": [
      "age =  [1 2 3]\n",
      "service =  ['F' 'T' 'K' 'C' 'E']\n"
     ]
    }
   ],
   "source": [
    "# age(연령대): 1(청소년), 2(중년), 3(노년)\n",
    "print('age = ', sns_age['age'].unique())\n",
    "\n",
    "# service() : \n",
    "print('service = ', sns_age['service'].unique())"
   ]
  },
  {
   "cell_type": "markdown",
   "id": "794b9a79",
   "metadata": {},
   "source": [
    "#### 교차표 작성"
   ]
  },
  {
   "cell_type": "code",
   "execution_count": 36,
   "id": "1f71910b",
   "metadata": {},
   "outputs": [
    {
     "data": {
      "text/html": [
       "<div>\n",
       "<style scoped>\n",
       "    .dataframe tbody tr th:only-of-type {\n",
       "        vertical-align: middle;\n",
       "    }\n",
       "\n",
       "    .dataframe tbody tr th {\n",
       "        vertical-align: top;\n",
       "    }\n",
       "\n",
       "    .dataframe thead th {\n",
       "        text-align: right;\n",
       "    }\n",
       "</style>\n",
       "<table border=\"1\" class=\"dataframe\">\n",
       "  <thead>\n",
       "    <tr style=\"text-align: right;\">\n",
       "      <th>service</th>\n",
       "      <th>C</th>\n",
       "      <th>E</th>\n",
       "      <th>F</th>\n",
       "      <th>K</th>\n",
       "      <th>T</th>\n",
       "    </tr>\n",
       "  </thead>\n",
       "  <tbody>\n",
       "    <tr>\n",
       "      <th>청소년</th>\n",
       "      <td>81</td>\n",
       "      <td>16</td>\n",
       "      <td>207</td>\n",
       "      <td>111</td>\n",
       "      <td>117</td>\n",
       "    </tr>\n",
       "    <tr>\n",
       "      <th>중년</th>\n",
       "      <td>109</td>\n",
       "      <td>15</td>\n",
       "      <td>107</td>\n",
       "      <td>236</td>\n",
       "      <td>104</td>\n",
       "    </tr>\n",
       "    <tr>\n",
       "      <th>노년</th>\n",
       "      <td>32</td>\n",
       "      <td>17</td>\n",
       "      <td>78</td>\n",
       "      <td>133</td>\n",
       "      <td>76</td>\n",
       "    </tr>\n",
       "  </tbody>\n",
       "</table>\n",
       "</div>"
      ],
      "text/plain": [
       "service    C   E    F    K    T\n",
       "청소년       81  16  207  111  117\n",
       "중년       109  15  107  236  104\n",
       "노년        32  17   78  133   76"
      ]
     },
     "execution_count": 36,
     "metadata": {},
     "output_type": "execute_result"
    }
   ],
   "source": [
    "table = pd.crosstab(sns_age['age'], sns_age['service'])\n",
    "table.index = ['청소년', '중년', '노년']\n",
    "table"
   ]
  },
  {
   "cell_type": "markdown",
   "id": "8d4fdbf0",
   "metadata": {},
   "source": [
    "#### 검증하기"
   ]
  },
  {
   "cell_type": "code",
   "execution_count": 37,
   "id": "1f2c5328",
   "metadata": {},
   "outputs": [
    {
     "name": "stdout",
     "output_type": "stream",
     "text": [
      "검정 결과 =  (102.75202494484225, 1.1679064204212775e-18, 8, array([[ 82.07366227,  17.74565671, 144.9228631 , 177.45656706,\n",
      "        109.80125087],\n",
      "       [ 88.09034051,  19.04656011, 155.54690757, 190.46560111,\n",
      "        117.85059069],\n",
      "       [ 51.83599722,  11.20778318,  91.53022933, 112.07783183,\n",
      "         69.34815844]]))\n",
      "검정 통계량 = 102.752, p-value = 0.000\n"
     ]
    }
   ],
   "source": [
    "result = stats.chi2_contingency(table)\n",
    "\n",
    "print('검정 결과 = ', result)\n",
    "print('검정 통계량 = %.3f, p-value = %.3f' %(result[0], result[1]))\n",
    "\n",
    "# 1. p-value = 0.000 < 0.05 이므로, 귀무가설 기각\n",
    "# 2. 대립가설 채택 : 연령대별로 SNS 서비스 이용 현황에 차이가 있다. (동질하지 않다)"
   ]
  }
 ],
 "metadata": {
  "kernelspec": {
   "display_name": "Python 3 (ipykernel)",
   "language": "python",
   "name": "python3"
  },
  "language_info": {
   "codemirror_mode": {
    "name": "ipython",
    "version": 3
   },
   "file_extension": ".py",
   "mimetype": "text/x-python",
   "name": "python",
   "nbconvert_exporter": "python",
   "pygments_lexer": "ipython3",
   "version": "3.9.12"
  },
  "toc": {
   "base_numbering": 1,
   "nav_menu": {},
   "number_sections": true,
   "sideBar": true,
   "skip_h1_title": false,
   "title_cell": "Table of Contents",
   "title_sidebar": "Contents",
   "toc_cell": false,
   "toc_position": {},
   "toc_section_display": true,
   "toc_window_display": true
  }
 },
 "nbformat": 4,
 "nbformat_minor": 5
}
