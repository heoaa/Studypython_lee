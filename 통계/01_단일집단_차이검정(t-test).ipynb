{
 "cells": [
  {
   "cell_type": "markdown",
   "id": "97b70998",
   "metadata": {},
   "source": [
    "- p-value < 유의수준(a) : 귀무가설 기각(대립가설 채택)\n",
    "- p-value > 유의수준(a) : 귀무가설 기각할 수 없음(귀무가설 채택)"
   ]
  },
  {
   "cell_type": "markdown",
   "id": "bbc6ee86",
   "metadata": {},
   "source": [
    "# 단일 집단 평균 비교(one sample t-test) - 유의수준 0.05하에서 진행\n",
    "- 하나의 데이터 집단의 평균과 비교하고자 하는 관측 평균값을 통해 차이를 검정하는 방법\n",
    "\n",
    "\n",
    "- 데이터 집단의 평균과 거리가 가까울 수록 귀무가설 채택(평균 차이가 없다)\n",
    "-  p-value 유의수준의 값이 높아진다 (p-value >= 0.05)\n",
    "\n",
    "\n",
    "- 데이터 집단의 평균과 거리가 멀수록 대립가설 채택(평균 차이가 있다)\n",
    "-  p-value 유의수준의 값이 낮아진다 (p-value <= 0.05)\n",
    "\n",
    "\n",
    "- 사용함수 : stats.ttest_1samp(x, y)\n",
    "- x: 한 집단, y: 관측평균값"
   ]
  },
  {
   "cell_type": "markdown",
   "id": "38be1ffe",
   "metadata": {},
   "source": [
    "## exe1) 학생 키에 대한 평균 차이 검정"
   ]
  },
  {
   "cell_type": "code",
   "execution_count": 2,
   "id": "824161e9",
   "metadata": {},
   "outputs": [],
   "source": [
    "# 랜덤한 데이터 생성에 사용\n",
    "import numpy\n",
    "\n",
    "# T-test에 사용되는 라이브러리 stats\n",
    "from scipy import stats"
   ]
  },
  {
   "cell_type": "code",
   "execution_count": 3,
   "id": "b81c6f0d",
   "metadata": {},
   "outputs": [
    {
     "data": {
      "text/plain": [
       "array([169, 167, 175, 166, 162, 180, 172, 162, 173, 162, 181, 175, 181,\n",
       "       181, 162, 165, 172, 176, 167, 165])"
      ]
     },
     "execution_count": 3,
     "metadata": {},
     "output_type": "execute_result"
    }
   ],
   "source": [
    "# 학생 키 데이터 생성하기\n",
    "height_list = numpy.array([169, 167, 175, 166, 162, 180, 172, \n",
    "                           162, 173, 162, 181, 175, 181, 181,\n",
    "                           162, 165, 172, 176, 167, 165])\n",
    "height_list"
   ]
  },
  {
   "cell_type": "code",
   "execution_count": 8,
   "id": "412183c9",
   "metadata": {},
   "outputs": [
    {
     "name": "stdout",
     "output_type": "stream",
     "text": [
      "평균 =  170.65\n"
     ]
    }
   ],
   "source": [
    "print('평균 = ', height_list.mean())"
   ]
  },
  {
   "cell_type": "code",
   "execution_count": 11,
   "id": "36a92a6d",
   "metadata": {},
   "outputs": [
    {
     "name": "stdout",
     "output_type": "stream",
     "text": [
      "한 집단 평균 검정(단일 표본검정) =  Ttest_1sampResult(statistic=3.6742535450095763, pvalue=0.0016115867466840847)\n",
      "t-검정 통계량 = 3.674, p-value = 0.002\n"
     ]
    }
   ],
   "source": [
    "# 한집단 검증하기\n",
    "# 관측 평균값 정의\n",
    "pmean = 165\n",
    "\n",
    "# 검증하기\n",
    "tTestResult = stats.ttest_1samp(height_list, popmean = pmean)\n",
    "print('한 집단 평균 검정(단일 표본검정) = ', tTestResult)\n",
    "print('t-검정 통계량 = %.3f, p-value = %.3f' %(tTestResult))"
   ]
  },
  {
   "cell_type": "code",
   "execution_count": null,
   "id": "5323e982",
   "metadata": {},
   "outputs": [],
   "source": [
    "'''\n",
    "1. p-value = 0.002 < 0.05 이므로, 귀무가설 기각\n",
    "2. 대립가설 채택 : 한개의 집단과 관측값 평균은 서로 같지 않다.\n",
    "'''"
   ]
  },
  {
   "cell_type": "markdown",
   "id": "db5b41c5",
   "metadata": {},
   "source": [
    "## exe2) 어느 남성 집단의 평균 키 검정\n",
    "- H0 : 남성 집단의 평균 키가 177이다. (샘플의 평균과 모집단 평균은 같다.)\n",
    "- H1 : 남성 집단의 평균 키가 177이 아니다. (샘플의 평균과 모집단 평균은 다르다.)"
   ]
  },
  {
   "cell_type": "code",
   "execution_count": 12,
   "id": "8f3ba6c6",
   "metadata": {},
   "outputs": [],
   "source": [
    "import numpy as np\n",
    "import pandas as pd\n",
    "import matplotlib.pyplot as plt\n",
    "import scipy.stats as stats"
   ]
  },
  {
   "cell_type": "code",
   "execution_count": 17,
   "id": "812182ab",
   "metadata": {},
   "outputs": [
    {
     "name": "stdout",
     "output_type": "stream",
     "text": [
      "one_sample 평균 =  177.21999999999997\n",
      "one_sample2 평균 =  169.21999999999997\n"
     ]
    }
   ],
   "source": [
    "# 데이터 생성하기\n",
    "one_sample = [177.0, 182.7, 169.6, 176.8, 180.0]\n",
    "print('one_sample 평균 = ', np.array(one_sample).mean())\n",
    "\n",
    "one_sample2 = [167.0, 162.7, 169.6, 176.8, 170.0]\n",
    "print('one_sample2 평균 = ', np.array(one_sample2).mean())"
   ]
  },
  {
   "cell_type": "code",
   "execution_count": 25,
   "id": "703e144f",
   "metadata": {},
   "outputs": [
    {
     "name": "stdout",
     "output_type": "stream",
     "text": [
      "한 집단 평균 검정(단일 표본검정) =  Ttest_1sampResult(statistic=0.10039070766877535, pvalue=0.9248646407498543)\n",
      "t-검정 통계량 = 0.100, p-value = 0.925\n"
     ]
    }
   ],
   "source": [
    "# one_sample 평균차이 검정\n",
    "\n",
    "result1 = stats.ttest_1samp(one_sample, popmean = 177)\n",
    "print('한 집단 평균 검정(단일 표본검정) = ', result1)\n",
    "print('t-검정 통계량 = %.3f, p-value = %.3f' %(result1))"
   ]
  },
  {
   "cell_type": "code",
   "execution_count": null,
   "id": "bc6c9288",
   "metadata": {},
   "outputs": [],
   "source": [
    "'''\n",
    "1. p-value = 0.925 > 0.05 이므로, 귀무가설 기각할 수 없음\n",
    "2. 귀무가설 채택 : 한개의 집단과 관측값 평균은 서로 같다고 할 수 있음\n",
    "'''"
   ]
  },
  {
   "cell_type": "code",
   "execution_count": 26,
   "id": "6bf21365",
   "metadata": {},
   "outputs": [
    {
     "name": "stdout",
     "output_type": "stream",
     "text": [
      "한 집단 평균 검정(단일 표본검정) =  Ttest_1sampResult(statistic=-3.3850411682038235, pvalue=0.02765632703927135)\n",
      "t-검정 통계량 = -3.385, p-value = 0.028\n"
     ]
    }
   ],
   "source": [
    "# one_sample2 평균차이 검정\n",
    "\n",
    "# 검증하기\n",
    "result2 = stats.ttest_1samp(one_sample2, popmean = 177)\n",
    "print('한 집단 평균 검정(단일 표본검정) = ', result2)\n",
    "print('t-검정 통계량 = %.3f, p-value = %.3f' %(result2))"
   ]
  },
  {
   "cell_type": "code",
   "execution_count": null,
   "id": "4a806953",
   "metadata": {},
   "outputs": [],
   "source": [
    "'''\n",
    "1. p-value = 0.028 < 0.05 이므로, 귀무가설 기각\n",
    "2. 대립가설 채택 : 한개의 집단과 관측값 평균은 서로 같지 않다고 할 수 있음\n",
    "'''"
   ]
  },
  {
   "cell_type": "markdown",
   "id": "4587622a",
   "metadata": {},
   "source": [
    "## exe3) 어느 집단 자료 평균 검정\n",
    "- H0 : 자료들의 평균은 0이다.\n",
    "- H1 : 자료들의 평균은 0이 아니다. "
   ]
  },
  {
   "cell_type": "code",
   "execution_count": 35,
   "id": "8c89f65d",
   "metadata": {},
   "outputs": [
    {
     "name": "stdout",
     "output_type": "stream",
     "text": [
      "생성된 난수 = [-1.0856306   0.99734545  0.2829785  -1.50629471 -0.57860025  1.65143654\n",
      " -2.42667924 -0.42891263  1.26593626 -0.8667404 ]\n",
      "10개 평균 = -0.26951611032632805\n"
     ]
    }
   ],
   "source": [
    "# 데이터 생성\n",
    "np.random.seed(123)\n",
    "\n",
    "# 난수 평균 변수\n",
    "nCnt = 0\n",
    "\n",
    "# 생성할 난수의 갯수\n",
    "mValue = 10\n",
    "\n",
    "# 평균이 0인 정규분포를 따르는 난수 10개 생성\n",
    "x = stats.norm(nCnt).rvs(mValue)\n",
    "print('생성된 난수 =', x)\n",
    "print('10개 평균 =', np.mean(x))"
   ]
  },
  {
   "cell_type": "code",
   "execution_count": 37,
   "id": "cb22a46a",
   "metadata": {},
   "outputs": [
    {
     "name": "stdout",
     "output_type": "stream",
     "text": [
      "정규성 검정 결과 =  ShapiroResult(statistic=0.9674148559570312, pvalue=0.8658965229988098)\n",
      "t-검정 통계량 = 0.967, p-value = 0.866\n"
     ]
    }
   ],
   "source": [
    "# 정규성 검정 (stats.shapiro())\n",
    "# 일반적으로 검증시 대부분의 집단은 정규분포를 따른다는 가정하에 진행\n",
    "# p-value값이 커질수록, 평균의 분포는 정규분포를 띔\n",
    "\n",
    "resultSh = stats.shapiro(x)\n",
    "print('정규성 검정 결과 = ', resultSh)\n",
    "print('t-검정 통계량 = %.3f, p-value = %.3f' %(resultSh))"
   ]
  },
  {
   "cell_type": "code",
   "execution_count": null,
   "id": "8ec21844",
   "metadata": {},
   "outputs": [],
   "source": [
    "'''\n",
    "1. p-value = 0.866 > 0.05 이므로, 정규성을 만족함(H0 : 정규성을 만족한다.)\n",
    "'''"
   ]
  },
  {
   "cell_type": "code",
   "execution_count": 82,
   "id": "e69b8187",
   "metadata": {},
   "outputs": [
    {
     "name": "stderr",
     "output_type": "stream",
     "text": [
      "C:\\Users\\admin\\anaconda3\\lib\\site-packages\\seaborn\\distributions.py:2619: FutureWarning: `distplot` is a deprecated function and will be removed in a future version. Please adapt your code to use either `displot` (a figure-level function with similar flexibility) or `histplot` (an axes-level function for histograms).\n",
      "  warnings.warn(msg, FutureWarning)\n",
      "C:\\Users\\admin\\anaconda3\\lib\\site-packages\\IPython\\core\\pylabtools.py:151: UserWarning: Glyph 8722 (\\N{MINUS SIGN}) missing from current font.\n",
      "  fig.canvas.print_figure(bytes_io, **kw)\n"
     ]
    },
    {
     "data": {
      "image/png": "[encoded data removed]",
      "text/plain": [
       "<Figure size 432x288 with 1 Axes>"
      ]
     },
     "metadata": {
      "needs_background": "light"
     },
     "output_type": "display_data"
    }
   ],
   "source": [
    "# 정규분포 시각화\n",
    "import seaborn as sns\n",
    "\n",
    "# 한글 처리\n",
    "plt.rc('font', family = 'Malgun Gothic')\n",
    "\n",
    "sns.distplot(x, fit=stats.norm)\n",
    "plt.show()"
   ]
  },
  {
   "cell_type": "code",
   "execution_count": 38,
   "id": "0760f0b5",
   "metadata": {},
   "outputs": [
    {
     "name": "stdout",
     "output_type": "stream",
     "text": [
      "한 집단 평균 검정(단일 표본검정) =  Ttest_1sampResult(statistic=-0.6540040368674593, pvalue=0.5294637946339893)\n",
      "t-검정 통계량 = -0.654, p-value = 0.529\n"
     ]
    }
   ],
   "source": [
    "# 검증\n",
    "result3 = stats.ttest_1samp(x, popmean = 0)\n",
    "print('한 집단 평균 검정(단일 표본검정) = ', result3)\n",
    "print('t-검정 통계량 = %.3f, p-value = %.3f' %(result3))"
   ]
  },
  {
   "cell_type": "code",
   "execution_count": null,
   "id": "f56d9020",
   "metadata": {},
   "outputs": [],
   "source": [
    "'''\n",
    "1. p-value = 0.529 >= 0.05 이므로, 귀무가설 기각할 수 없음\n",
    "2. 귀무가설 채택 : 한개의 집단과 관측값 평균은 서로 같다고 할 수 있음\n",
    "'''"
   ]
  },
  {
   "cell_type": "code",
   "execution_count": 39,
   "id": "5e56e8cb",
   "metadata": {},
   "outputs": [
    {
     "name": "stdout",
     "output_type": "stream",
     "text": [
      "한 집단 평균 검정(단일 표본검정) =  Ttest_1sampResult(statistic=-2.595272886660806, pvalue=0.028961904737220684)\n",
      "t-검정 통계량 = -2.595, p-value = 0.029\n"
     ]
    }
   ],
   "source": [
    "# 검증\n",
    "result4 = stats.ttest_1samp(x, popmean = 0.8)\n",
    "print('한 집단 평균 검정(단일 표본검정) = ', result4)\n",
    "print('t-검정 통계량 = %.3f, p-value = %.3f' %(result4))"
   ]
  },
  {
   "cell_type": "code",
   "execution_count": null,
   "id": "d86f4822",
   "metadata": {},
   "outputs": [],
   "source": [
    "'''\n",
    "1. p-value = 0.029 <= 0.05 이므로, 귀무가설 기각\n",
    "2. 대립가설 채택 : 한개의 집단과 관측값 평균은 서로 같지 않다고 할 수 있음\n",
    "'''"
   ]
  },
  {
   "cell_type": "markdown",
   "id": "9c948f9f",
   "metadata": {},
   "source": [
    "## exe4) 중학교 1개반 학생들의 시험결과가 담긴 student.csv 데이터 검정\n",
    "- H0 : 학생들의 국어점수 평균은 80이다.\n",
    "- H1 : 학생들의 국어점수 평균은 80이 아니다."
   ]
  },
  {
   "cell_type": "code",
   "execution_count": 40,
   "id": "8ea57cb0",
   "metadata": {
    "scrolled": true
   },
   "outputs": [
    {
     "data": {
      "text/html": [
       "<div>\n",
       "<style scoped>\n",
       "    .dataframe tbody tr th:only-of-type {\n",
       "        vertical-align: middle;\n",
       "    }\n",
       "\n",
       "    .dataframe tbody tr th {\n",
       "        vertical-align: top;\n",
       "    }\n",
       "\n",
       "    .dataframe thead th {\n",
       "        text-align: right;\n",
       "    }\n",
       "</style>\n",
       "<table border=\"1\" class=\"dataframe\">\n",
       "  <thead>\n",
       "    <tr style=\"text-align: right;\">\n",
       "      <th></th>\n",
       "      <th>이름</th>\n",
       "      <th>국어</th>\n",
       "      <th>영어</th>\n",
       "      <th>수학</th>\n",
       "    </tr>\n",
       "  </thead>\n",
       "  <tbody>\n",
       "    <tr>\n",
       "      <th>0</th>\n",
       "      <td>홍길동1</td>\n",
       "      <td>90</td>\n",
       "      <td>45</td>\n",
       "      <td>56</td>\n",
       "    </tr>\n",
       "    <tr>\n",
       "      <th>1</th>\n",
       "      <td>홍길동2</td>\n",
       "      <td>80</td>\n",
       "      <td>65</td>\n",
       "      <td>77</td>\n",
       "    </tr>\n",
       "    <tr>\n",
       "      <th>2</th>\n",
       "      <td>홍길동3</td>\n",
       "      <td>87</td>\n",
       "      <td>67</td>\n",
       "      <td>54</td>\n",
       "    </tr>\n",
       "    <tr>\n",
       "      <th>3</th>\n",
       "      <td>홍길동4</td>\n",
       "      <td>55</td>\n",
       "      <td>88</td>\n",
       "      <td>65</td>\n",
       "    </tr>\n",
       "    <tr>\n",
       "      <th>4</th>\n",
       "      <td>홍길동5</td>\n",
       "      <td>66</td>\n",
       "      <td>90</td>\n",
       "      <td>33</td>\n",
       "    </tr>\n",
       "    <tr>\n",
       "      <th>5</th>\n",
       "      <td>홍길동6</td>\n",
       "      <td>78</td>\n",
       "      <td>44</td>\n",
       "      <td>45</td>\n",
       "    </tr>\n",
       "    <tr>\n",
       "      <th>6</th>\n",
       "      <td>홍길동7</td>\n",
       "      <td>45</td>\n",
       "      <td>55</td>\n",
       "      <td>76</td>\n",
       "    </tr>\n",
       "    <tr>\n",
       "      <th>7</th>\n",
       "      <td>홍길동8</td>\n",
       "      <td>78</td>\n",
       "      <td>66</td>\n",
       "      <td>87</td>\n",
       "    </tr>\n",
       "    <tr>\n",
       "      <th>8</th>\n",
       "      <td>홍길동9</td>\n",
       "      <td>95</td>\n",
       "      <td>77</td>\n",
       "      <td>65</td>\n",
       "    </tr>\n",
       "    <tr>\n",
       "      <th>9</th>\n",
       "      <td>홍길동10</td>\n",
       "      <td>78</td>\n",
       "      <td>67</td>\n",
       "      <td>90</td>\n",
       "    </tr>\n",
       "    <tr>\n",
       "      <th>10</th>\n",
       "      <td>홍길동11</td>\n",
       "      <td>55</td>\n",
       "      <td>57</td>\n",
       "      <td>96</td>\n",
       "    </tr>\n",
       "    <tr>\n",
       "      <th>11</th>\n",
       "      <td>홍길동12</td>\n",
       "      <td>99</td>\n",
       "      <td>87</td>\n",
       "      <td>67</td>\n",
       "    </tr>\n",
       "    <tr>\n",
       "      <th>12</th>\n",
       "      <td>홍길동13</td>\n",
       "      <td>88</td>\n",
       "      <td>82</td>\n",
       "      <td>45</td>\n",
       "    </tr>\n",
       "    <tr>\n",
       "      <th>13</th>\n",
       "      <td>홍길동14</td>\n",
       "      <td>78</td>\n",
       "      <td>65</td>\n",
       "      <td>45</td>\n",
       "    </tr>\n",
       "    <tr>\n",
       "      <th>14</th>\n",
       "      <td>홍길동15</td>\n",
       "      <td>67</td>\n",
       "      <td>98</td>\n",
       "      <td>76</td>\n",
       "    </tr>\n",
       "    <tr>\n",
       "      <th>15</th>\n",
       "      <td>홍길동16</td>\n",
       "      <td>73</td>\n",
       "      <td>45</td>\n",
       "      <td>45</td>\n",
       "    </tr>\n",
       "    <tr>\n",
       "      <th>16</th>\n",
       "      <td>홍길동17</td>\n",
       "      <td>92</td>\n",
       "      <td>67</td>\n",
       "      <td>67</td>\n",
       "    </tr>\n",
       "    <tr>\n",
       "      <th>17</th>\n",
       "      <td>홍길동18</td>\n",
       "      <td>91</td>\n",
       "      <td>33</td>\n",
       "      <td>45</td>\n",
       "    </tr>\n",
       "    <tr>\n",
       "      <th>18</th>\n",
       "      <td>홍길동19</td>\n",
       "      <td>98</td>\n",
       "      <td>90</td>\n",
       "      <td>67</td>\n",
       "    </tr>\n",
       "  </tbody>\n",
       "</table>\n",
       "</div>"
      ],
      "text/plain": [
       "       이름  국어  영어  수학\n",
       "0    홍길동1  90  45  56\n",
       "1    홍길동2  80  65  77\n",
       "2    홍길동3  87  67  54\n",
       "3    홍길동4  55  88  65\n",
       "4    홍길동5  66  90  33\n",
       "5    홍길동6  78  44  45\n",
       "6    홍길동7  45  55  76\n",
       "7    홍길동8  78  66  87\n",
       "8    홍길동9  95  77  65\n",
       "9   홍길동10  78  67  90\n",
       "10  홍길동11  55  57  96\n",
       "11  홍길동12  99  87  67\n",
       "12  홍길동13  88  82  45\n",
       "13  홍길동14  78  65  45\n",
       "14  홍길동15  67  98  76\n",
       "15  홍길동16  73  45  45\n",
       "16  홍길동17  92  67  67\n",
       "17  홍길동18  91  33  45\n",
       "18  홍길동19  98  90  67"
      ]
     },
     "execution_count": 40,
     "metadata": {},
     "output_type": "execute_result"
    }
   ],
   "source": [
    "# 데이터\n",
    "student = pd.read_csv('./data/student.csv')\n",
    "student"
   ]
  },
  {
   "cell_type": "code",
   "execution_count": 41,
   "id": "a66c3454",
   "metadata": {},
   "outputs": [
    {
     "data": {
      "text/plain": [
       "78.57894736842105"
      ]
     },
     "execution_count": 41,
     "metadata": {},
     "output_type": "execute_result"
    }
   ],
   "source": [
    "student['국어'].mean()"
   ]
  },
  {
   "cell_type": "code",
   "execution_count": 45,
   "id": "d540acad",
   "metadata": {},
   "outputs": [
    {
     "name": "stdout",
     "output_type": "stream",
     "text": [
      "정규성 검정 결과 =  ShapiroResult(statistic=0.9356319904327393, pvalue=0.21971704065799713)\n",
      "t-검정 통계량 = 0.936, p-value = 0.220\n"
     ]
    }
   ],
   "source": [
    "# 정규성 검정 (stats.shapiro())\n",
    "\n",
    "resultSh2 = stats.shapiro(student['국어'])\n",
    "print('정규성 검정 결과 = ', resultSh2)\n",
    "print('t-검정 통계량 = %.3f, p-value = %.3f' %(resultSh2))"
   ]
  },
  {
   "cell_type": "code",
   "execution_count": null,
   "id": "cbfd7610",
   "metadata": {},
   "outputs": [],
   "source": [
    "'''\n",
    "p-value = 0.220 > 0.05 이므로, 정규성을 만족함(H0 : 정규성을 만족한다.)\n",
    "'''"
   ]
  },
  {
   "cell_type": "code",
   "execution_count": 79,
   "id": "db7fb984",
   "metadata": {},
   "outputs": [
    {
     "name": "stderr",
     "output_type": "stream",
     "text": [
      "C:\\Users\\admin\\anaconda3\\lib\\site-packages\\seaborn\\distributions.py:2619: FutureWarning: `distplot` is a deprecated function and will be removed in a future version. Please adapt your code to use either `displot` (a figure-level function with similar flexibility) or `histplot` (an axes-level function for histograms).\n",
      "  warnings.warn(msg, FutureWarning)\n",
      "C:\\Users\\admin\\anaconda3\\lib\\site-packages\\IPython\\core\\pylabtools.py:151: UserWarning: Glyph 44397 (\\N{HANGUL SYLLABLE GUG}) missing from current font.\n",
      "  fig.canvas.print_figure(bytes_io, **kw)\n",
      "C:\\Users\\admin\\anaconda3\\lib\\site-packages\\IPython\\core\\pylabtools.py:151: UserWarning: Glyph 50612 (\\N{HANGUL SYLLABLE EO}) missing from current font.\n",
      "  fig.canvas.print_figure(bytes_io, **kw)\n"
     ]
    },
    {
     "data": {
      "image/png": "[encoded data removed]",
      "text/plain": [
       "<Figure size 432x288 with 1 Axes>"
      ]
     },
     "metadata": {
      "needs_background": "light"
     },
     "output_type": "display_data"
    }
   ],
   "source": [
    "# 정규분포 시각화\n",
    "import seaborn as sns\n",
    "\n",
    "plt.rc('font', family = 'Malgun Gothioc')\n",
    "\n",
    "sns.distplot(student['국어'], fit=stats.norm)\n",
    "plt.show()"
   ]
  },
  {
   "cell_type": "code",
   "execution_count": 44,
   "id": "38705407",
   "metadata": {},
   "outputs": [
    {
     "name": "stdout",
     "output_type": "stream",
     "text": [
      "한 집단 평균 검정(단일 표본검정) =  Ttest_1sampResult(statistic=-0.40289533293226004, pvalue=0.6917702523394662)\n",
      "t-검정 통계량 = -0.403, p-value = 0.692\n"
     ]
    }
   ],
   "source": [
    "# 검증\n",
    "result5 = stats.ttest_1samp(student['국어'], popmean = 80)\n",
    "print('한 집단 평균 검정(단일 표본검정) = ', result5)\n",
    "print('t-검정 통계량 = %.3f, p-value = %.3f' %(result5))"
   ]
  },
  {
   "cell_type": "code",
   "execution_count": null,
   "id": "831595f8",
   "metadata": {},
   "outputs": [],
   "source": [
    "'''\n",
    "1. p-value = 0.692 >= 0.05 이므로, 귀무가설 기각할 수 없음\n",
    "2. 귀무가설 채택 : 한개의 집단과 관측값 평균은 서로 같다고 할 수 있음(국어점수 평균은 80점에 가깝다)\n",
    "'''"
   ]
  },
  {
   "cell_type": "markdown",
   "id": "034b8f51",
   "metadata": {},
   "source": [
    "## exe5) 여아 신생아 몸무게의 평균 검정 (babyboom.csv)\n",
    "- 분석 근거 : 일반적으로 여아 신생아 몸무게 평균은 2800g으로 알려져 왔다. 일부에서는 이보다크다고 주장하고 있다. 누가 맞을까?\n",
    "- gender : 1(여아), 2(남아)\n",
    "\n",
    "\n",
    "- H0 : 여아 신생아 몸무게 평균은 2800g이다.\n",
    "- H1 : 여아 신생아 몸무게 평균은 2800g이 아니다."
   ]
  },
  {
   "cell_type": "code",
   "execution_count": 69,
   "id": "cd7b3739",
   "metadata": {
    "scrolled": true
   },
   "outputs": [
    {
     "data": {
      "text/html": [
       "<div>\n",
       "<style scoped>\n",
       "    .dataframe tbody tr th:only-of-type {\n",
       "        vertical-align: middle;\n",
       "    }\n",
       "\n",
       "    .dataframe tbody tr th {\n",
       "        vertical-align: top;\n",
       "    }\n",
       "\n",
       "    .dataframe thead th {\n",
       "        text-align: right;\n",
       "    }\n",
       "</style>\n",
       "<table border=\"1\" class=\"dataframe\">\n",
       "  <thead>\n",
       "    <tr style=\"text-align: right;\">\n",
       "      <th></th>\n",
       "      <th>time</th>\n",
       "      <th>gender</th>\n",
       "      <th>weight</th>\n",
       "      <th>minutes</th>\n",
       "    </tr>\n",
       "  </thead>\n",
       "  <tbody>\n",
       "    <tr>\n",
       "      <th>0</th>\n",
       "      <td>5</td>\n",
       "      <td>1</td>\n",
       "      <td>3837</td>\n",
       "      <td>5</td>\n",
       "    </tr>\n",
       "    <tr>\n",
       "      <th>1</th>\n",
       "      <td>104</td>\n",
       "      <td>1</td>\n",
       "      <td>3334</td>\n",
       "      <td>64</td>\n",
       "    </tr>\n",
       "    <tr>\n",
       "      <th>2</th>\n",
       "      <td>118</td>\n",
       "      <td>2</td>\n",
       "      <td>3554</td>\n",
       "      <td>78</td>\n",
       "    </tr>\n",
       "    <tr>\n",
       "      <th>3</th>\n",
       "      <td>155</td>\n",
       "      <td>2</td>\n",
       "      <td>3838</td>\n",
       "      <td>115</td>\n",
       "    </tr>\n",
       "    <tr>\n",
       "      <th>4</th>\n",
       "      <td>257</td>\n",
       "      <td>2</td>\n",
       "      <td>3625</td>\n",
       "      <td>177</td>\n",
       "    </tr>\n",
       "    <tr>\n",
       "      <th>5</th>\n",
       "      <td>405</td>\n",
       "      <td>1</td>\n",
       "      <td>2208</td>\n",
       "      <td>245</td>\n",
       "    </tr>\n",
       "    <tr>\n",
       "      <th>6</th>\n",
       "      <td>407</td>\n",
       "      <td>1</td>\n",
       "      <td>1745</td>\n",
       "      <td>247</td>\n",
       "    </tr>\n",
       "    <tr>\n",
       "      <th>7</th>\n",
       "      <td>422</td>\n",
       "      <td>2</td>\n",
       "      <td>2846</td>\n",
       "      <td>262</td>\n",
       "    </tr>\n",
       "    <tr>\n",
       "      <th>8</th>\n",
       "      <td>431</td>\n",
       "      <td>2</td>\n",
       "      <td>3166</td>\n",
       "      <td>271</td>\n",
       "    </tr>\n",
       "    <tr>\n",
       "      <th>9</th>\n",
       "      <td>708</td>\n",
       "      <td>2</td>\n",
       "      <td>3520</td>\n",
       "      <td>428</td>\n",
       "    </tr>\n",
       "    <tr>\n",
       "      <th>10</th>\n",
       "      <td>735</td>\n",
       "      <td>2</td>\n",
       "      <td>3380</td>\n",
       "      <td>455</td>\n",
       "    </tr>\n",
       "    <tr>\n",
       "      <th>11</th>\n",
       "      <td>812</td>\n",
       "      <td>2</td>\n",
       "      <td>3294</td>\n",
       "      <td>492</td>\n",
       "    </tr>\n",
       "    <tr>\n",
       "      <th>12</th>\n",
       "      <td>814</td>\n",
       "      <td>1</td>\n",
       "      <td>2576</td>\n",
       "      <td>494</td>\n",
       "    </tr>\n",
       "    <tr>\n",
       "      <th>13</th>\n",
       "      <td>909</td>\n",
       "      <td>1</td>\n",
       "      <td>3208</td>\n",
       "      <td>549</td>\n",
       "    </tr>\n",
       "    <tr>\n",
       "      <th>14</th>\n",
       "      <td>1035</td>\n",
       "      <td>2</td>\n",
       "      <td>3521</td>\n",
       "      <td>635</td>\n",
       "    </tr>\n",
       "    <tr>\n",
       "      <th>15</th>\n",
       "      <td>1049</td>\n",
       "      <td>1</td>\n",
       "      <td>3746</td>\n",
       "      <td>649</td>\n",
       "    </tr>\n",
       "    <tr>\n",
       "      <th>16</th>\n",
       "      <td>1053</td>\n",
       "      <td>1</td>\n",
       "      <td>3523</td>\n",
       "      <td>653</td>\n",
       "    </tr>\n",
       "    <tr>\n",
       "      <th>17</th>\n",
       "      <td>1133</td>\n",
       "      <td>2</td>\n",
       "      <td>2902</td>\n",
       "      <td>693</td>\n",
       "    </tr>\n",
       "    <tr>\n",
       "      <th>18</th>\n",
       "      <td>1209</td>\n",
       "      <td>2</td>\n",
       "      <td>2635</td>\n",
       "      <td>729</td>\n",
       "    </tr>\n",
       "    <tr>\n",
       "      <th>19</th>\n",
       "      <td>1256</td>\n",
       "      <td>2</td>\n",
       "      <td>3920</td>\n",
       "      <td>776</td>\n",
       "    </tr>\n",
       "    <tr>\n",
       "      <th>20</th>\n",
       "      <td>1305</td>\n",
       "      <td>2</td>\n",
       "      <td>3690</td>\n",
       "      <td>785</td>\n",
       "    </tr>\n",
       "    <tr>\n",
       "      <th>21</th>\n",
       "      <td>1406</td>\n",
       "      <td>1</td>\n",
       "      <td>3430</td>\n",
       "      <td>846</td>\n",
       "    </tr>\n",
       "    <tr>\n",
       "      <th>22</th>\n",
       "      <td>1407</td>\n",
       "      <td>1</td>\n",
       "      <td>3480</td>\n",
       "      <td>847</td>\n",
       "    </tr>\n",
       "    <tr>\n",
       "      <th>23</th>\n",
       "      <td>1433</td>\n",
       "      <td>1</td>\n",
       "      <td>3116</td>\n",
       "      <td>873</td>\n",
       "    </tr>\n",
       "    <tr>\n",
       "      <th>24</th>\n",
       "      <td>1446</td>\n",
       "      <td>1</td>\n",
       "      <td>3428</td>\n",
       "      <td>886</td>\n",
       "    </tr>\n",
       "    <tr>\n",
       "      <th>25</th>\n",
       "      <td>1514</td>\n",
       "      <td>2</td>\n",
       "      <td>3783</td>\n",
       "      <td>914</td>\n",
       "    </tr>\n",
       "    <tr>\n",
       "      <th>26</th>\n",
       "      <td>1631</td>\n",
       "      <td>2</td>\n",
       "      <td>3345</td>\n",
       "      <td>991</td>\n",
       "    </tr>\n",
       "    <tr>\n",
       "      <th>27</th>\n",
       "      <td>1657</td>\n",
       "      <td>2</td>\n",
       "      <td>3034</td>\n",
       "      <td>1017</td>\n",
       "    </tr>\n",
       "    <tr>\n",
       "      <th>28</th>\n",
       "      <td>1742</td>\n",
       "      <td>1</td>\n",
       "      <td>2184</td>\n",
       "      <td>1062</td>\n",
       "    </tr>\n",
       "    <tr>\n",
       "      <th>29</th>\n",
       "      <td>1807</td>\n",
       "      <td>2</td>\n",
       "      <td>3300</td>\n",
       "      <td>1087</td>\n",
       "    </tr>\n",
       "    <tr>\n",
       "      <th>30</th>\n",
       "      <td>1825</td>\n",
       "      <td>1</td>\n",
       "      <td>2383</td>\n",
       "      <td>1105</td>\n",
       "    </tr>\n",
       "    <tr>\n",
       "      <th>31</th>\n",
       "      <td>1854</td>\n",
       "      <td>2</td>\n",
       "      <td>3428</td>\n",
       "      <td>1134</td>\n",
       "    </tr>\n",
       "    <tr>\n",
       "      <th>32</th>\n",
       "      <td>1909</td>\n",
       "      <td>2</td>\n",
       "      <td>4162</td>\n",
       "      <td>1149</td>\n",
       "    </tr>\n",
       "    <tr>\n",
       "      <th>33</th>\n",
       "      <td>1947</td>\n",
       "      <td>2</td>\n",
       "      <td>3630</td>\n",
       "      <td>1187</td>\n",
       "    </tr>\n",
       "    <tr>\n",
       "      <th>34</th>\n",
       "      <td>1949</td>\n",
       "      <td>2</td>\n",
       "      <td>3406</td>\n",
       "      <td>1189</td>\n",
       "    </tr>\n",
       "    <tr>\n",
       "      <th>35</th>\n",
       "      <td>1951</td>\n",
       "      <td>2</td>\n",
       "      <td>3402</td>\n",
       "      <td>1191</td>\n",
       "    </tr>\n",
       "    <tr>\n",
       "      <th>36</th>\n",
       "      <td>2010</td>\n",
       "      <td>1</td>\n",
       "      <td>3500</td>\n",
       "      <td>1210</td>\n",
       "    </tr>\n",
       "    <tr>\n",
       "      <th>37</th>\n",
       "      <td>2037</td>\n",
       "      <td>2</td>\n",
       "      <td>3736</td>\n",
       "      <td>1237</td>\n",
       "    </tr>\n",
       "    <tr>\n",
       "      <th>38</th>\n",
       "      <td>2051</td>\n",
       "      <td>2</td>\n",
       "      <td>3370</td>\n",
       "      <td>1251</td>\n",
       "    </tr>\n",
       "    <tr>\n",
       "      <th>39</th>\n",
       "      <td>2104</td>\n",
       "      <td>2</td>\n",
       "      <td>2121</td>\n",
       "      <td>1264</td>\n",
       "    </tr>\n",
       "    <tr>\n",
       "      <th>40</th>\n",
       "      <td>2123</td>\n",
       "      <td>2</td>\n",
       "      <td>3150</td>\n",
       "      <td>1283</td>\n",
       "    </tr>\n",
       "    <tr>\n",
       "      <th>41</th>\n",
       "      <td>2217</td>\n",
       "      <td>1</td>\n",
       "      <td>3866</td>\n",
       "      <td>1337</td>\n",
       "    </tr>\n",
       "    <tr>\n",
       "      <th>42</th>\n",
       "      <td>2327</td>\n",
       "      <td>1</td>\n",
       "      <td>3542</td>\n",
       "      <td>1407</td>\n",
       "    </tr>\n",
       "    <tr>\n",
       "      <th>43</th>\n",
       "      <td>2355</td>\n",
       "      <td>1</td>\n",
       "      <td>3278</td>\n",
       "      <td>1435</td>\n",
       "    </tr>\n",
       "  </tbody>\n",
       "</table>\n",
       "</div>"
      ],
      "text/plain": [
       "    time  gender  weight  minutes\n",
       "0      5       1    3837        5\n",
       "1    104       1    3334       64\n",
       "2    118       2    3554       78\n",
       "3    155       2    3838      115\n",
       "4    257       2    3625      177\n",
       "5    405       1    2208      245\n",
       "6    407       1    1745      247\n",
       "7    422       2    2846      262\n",
       "8    431       2    3166      271\n",
       "9    708       2    3520      428\n",
       "10   735       2    3380      455\n",
       "11   812       2    3294      492\n",
       "12   814       1    2576      494\n",
       "13   909       1    3208      549\n",
       "14  1035       2    3521      635\n",
       "15  1049       1    3746      649\n",
       "16  1053       1    3523      653\n",
       "17  1133       2    2902      693\n",
       "18  1209       2    2635      729\n",
       "19  1256       2    3920      776\n",
       "20  1305       2    3690      785\n",
       "21  1406       1    3430      846\n",
       "22  1407       1    3480      847\n",
       "23  1433       1    3116      873\n",
       "24  1446       1    3428      886\n",
       "25  1514       2    3783      914\n",
       "26  1631       2    3345      991\n",
       "27  1657       2    3034     1017\n",
       "28  1742       1    2184     1062\n",
       "29  1807       2    3300     1087\n",
       "30  1825       1    2383     1105\n",
       "31  1854       2    3428     1134\n",
       "32  1909       2    4162     1149\n",
       "33  1947       2    3630     1187\n",
       "34  1949       2    3406     1189\n",
       "35  1951       2    3402     1191\n",
       "36  2010       1    3500     1210\n",
       "37  2037       2    3736     1237\n",
       "38  2051       2    3370     1251\n",
       "39  2104       2    2121     1264\n",
       "40  2123       2    3150     1283\n",
       "41  2217       1    3866     1337\n",
       "42  2327       1    3542     1407\n",
       "43  2355       1    3278     1435"
      ]
     },
     "execution_count": 69,
     "metadata": {},
     "output_type": "execute_result"
    }
   ],
   "source": [
    "# 데이터\n",
    "baby = pd.read_csv('./data/babyboom.csv')\n",
    "baby"
   ]
  },
  {
   "cell_type": "code",
   "execution_count": 81,
   "id": "4b230bb6",
   "metadata": {},
   "outputs": [
    {
     "data": {
      "text/plain": [
       "3132.4444444444443"
      ]
     },
     "execution_count": 81,
     "metadata": {},
     "output_type": "execute_result"
    }
   ],
   "source": [
    "data = baby[baby['gender']==1]['weight']\n",
    "data.mean()"
   ]
  },
  {
   "cell_type": "code",
   "execution_count": 76,
   "id": "d06df9fe",
   "metadata": {},
   "outputs": [
    {
     "name": "stdout",
     "output_type": "stream",
     "text": [
      "정규성 검정 결과 =  ShapiroResult(statistic=0.8702831864356995, pvalue=0.017984945327043533)\n",
      "t-검정 통계량 = 0.870, p-value = 0.018\n"
     ]
    }
   ],
   "source": [
    "# 정규성 검정 (stats.shapiro())\n",
    "\n",
    "resultSh3 = stats.shapiro(data)\n",
    "print('정규성 검정 결과 = ', resultSh3)\n",
    "print('t-검정 통계량 = %.3f, p-value = %.3f' %(resultSh3))"
   ]
  },
  {
   "cell_type": "code",
   "execution_count": null,
   "id": "1e9c2ada",
   "metadata": {},
   "outputs": [],
   "source": [
    "'''\n",
    "p-value = 0.018 < 0.05 이므로, 정규성을 만족한다고 할 수 없음(귀무가설 기각)\n",
    "데이터 일관성은 부족하다고 할 수 있음\n",
    "'''"
   ]
  },
  {
   "cell_type": "code",
   "execution_count": 77,
   "id": "75e32468",
   "metadata": {},
   "outputs": [
    {
     "name": "stderr",
     "output_type": "stream",
     "text": [
      "C:\\Users\\admin\\anaconda3\\lib\\site-packages\\seaborn\\distributions.py:2619: FutureWarning: `distplot` is a deprecated function and will be removed in a future version. Please adapt your code to use either `displot` (a figure-level function with similar flexibility) or `histplot` (an axes-level function for histograms).\n",
      "  warnings.warn(msg, FutureWarning)\n",
      "findfont: Font family ['Malgun Gothioc'] not found. Falling back to DejaVu Sans.\n"
     ]
    },
    {
     "data": {
      "image/png": "[encoded data removed]",
      "text/plain": [
       "<Figure size 432x288 with 1 Axes>"
      ]
     },
     "metadata": {
      "needs_background": "light"
     },
     "output_type": "display_data"
    }
   ],
   "source": [
    "# 정규분포 시각화\n",
    "import seaborn as sns\n",
    "\n",
    "plt.rc('font', family = 'Malgun Gothioc')\n",
    "\n",
    "sns.distplot(data, fit=stats.norm)\n",
    "plt.show()"
   ]
  },
  {
   "cell_type": "code",
   "execution_count": 75,
   "id": "f1ff9afe",
   "metadata": {},
   "outputs": [
    {
     "name": "stdout",
     "output_type": "stream",
     "text": [
      "한 집단 평균 검정(단일 표본검정) =  Ttest_1sampResult(statistic=2.233187669387536, pvalue=0.03926844173060218)\n",
      "t-검정 통계량 = 2.233, p-value = 0.039\n"
     ]
    }
   ],
   "source": [
    "# 검증\n",
    "result6 = stats.ttest_1samp(data, popmean = 2800)\n",
    "print('한 집단 평균 검정(단일 표본검정) = ', result6)\n",
    "print('t-검정 통계량 = %.3f, p-value = %.3f' %(result6))"
   ]
  },
  {
   "cell_type": "code",
   "execution_count": null,
   "id": "48306d5c",
   "metadata": {},
   "outputs": [],
   "source": [
    "'''\n",
    "1. p-value = 0.039 <= 0.05 이므로, 귀무가설 기각\n",
    "2. 대립가설 채택 : 한개의 집단과 관측값 평균은 서로 같지 않음(여아 신생아 몸무게 평균은 2800g이 아니다)\n",
    "'''"
   ]
  }
 ],
 "metadata": {
  "kernelspec": {
   "display_name": "Python 3 (ipykernel)",
   "language": "python",
   "name": "python3"
  },
  "language_info": {
   "codemirror_mode": {
    "name": "ipython",
    "version": 3
   },
   "file_extension": ".py",
   "mimetype": "text/x-python",
   "name": "python",
   "nbconvert_exporter": "python",
   "pygments_lexer": "ipython3",
   "version": "3.9.12"
  },
  "toc": {
   "base_numbering": 1,
   "nav_menu": {},
   "number_sections": true,
   "sideBar": true,
   "skip_h1_title": false,
   "title_cell": "Table of Contents",
   "title_sidebar": "Contents",
   "toc_cell": false,
   "toc_position": {},
   "toc_section_display": true,
   "toc_window_display": false
  }
 },
 "nbformat": 4,
 "nbformat_minor": 5
}
