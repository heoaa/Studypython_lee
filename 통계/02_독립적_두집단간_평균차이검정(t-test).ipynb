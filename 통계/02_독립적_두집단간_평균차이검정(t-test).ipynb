{
 "cells": [
  {
   "cell_type": "markdown",
   "id": "f279f785",
   "metadata": {},
   "source": [
    "## exe1) 학생 키에 대한 두 집단 비교"
   ]
  },
  {
   "cell_type": "code",
   "execution_count": 1,
   "id": "0d5c103f",
   "metadata": {},
   "outputs": [],
   "source": [
    "import numpy as np\n",
    "from scipy import stats"
   ]
  },
  {
   "cell_type": "code",
   "execution_count": 2,
   "id": "ac175095",
   "metadata": {},
   "outputs": [
    {
     "name": "stdout",
     "output_type": "stream",
     "text": [
      "group1Heights =  [177 160 169 166 166 167 163 164 173 162 176 170 166 173 159 167 177 161\n",
      " 159 158]\n",
      "group2Heights =  [169 168 168 177 163 171 180 168 170 169 174 177 163 164 167 174 168 162\n",
      " 175 176]\n"
     ]
    }
   ],
   "source": [
    "# 데이터 생성\n",
    "# randint : 범위 지정 랜덤 데이터 생성\n",
    "# 최소값 157 ~ 최대값 178 까지 범위 중 size 20개 생성\n",
    "group1Heights = np.random.randint(low = 157, high = 178, size = 20)\n",
    "print('group1Heights = ', group1Heights)\n",
    "\n",
    "group2Heights = np.random.randint(low = 162, high = 182, size = 20)\n",
    "print('group2Heights = ', group2Heights)"
   ]
  },
  {
   "cell_type": "code",
   "execution_count": 3,
   "id": "a0f2bcef",
   "metadata": {},
   "outputs": [
    {
     "name": "stdout",
     "output_type": "stream",
     "text": [
      "서로 다른 두 집단 평균 검정(독립t표본검정) =  Ttest_indResult(statistic=-1.9476901351399283, pvalue=0.05886806173457992)\n",
      "t-검정 통계량 = -1.948, p-value = 0.059\n"
     ]
    }
   ],
   "source": [
    "# 검증하기(Independent Samples t-test)\n",
    "# stats.ttest_ind(기준집단, 관측집단)\n",
    "tResult = stats.ttest_ind(group1Heights, group2Heights)\n",
    "\n",
    "print('서로 다른 두 집단 평균 검정(독립t표본검정) = ', tResult)\n",
    "print('t-검정 통계량 = %.3f, p-value = %.3f' %(tResult))"
   ]
  },
  {
   "cell_type": "code",
   "execution_count": 4,
   "id": "e821b180",
   "metadata": {},
   "outputs": [
    {
     "name": "stdout",
     "output_type": "stream",
     "text": [
      "166.65 170.15\n"
     ]
    }
   ],
   "source": [
    "print(group1Heights.mean(), group2Heights.mean())"
   ]
  },
  {
   "cell_type": "code",
   "execution_count": null,
   "id": "e6d370f9",
   "metadata": {},
   "outputs": [],
   "source": [
    "'''\n",
    "1. p-value = 0.059 > 0.05 이므로, 귀무가설 기각할 수 없음\n",
    "2. 귀무가설 채택 : 두 집단의 관측값 평균은 서로 같다고 할 수 있음(평균 차이가 없다.)\n",
    "'''"
   ]
  },
  {
   "cell_type": "markdown",
   "id": "64d49570",
   "metadata": {},
   "source": [
    "## exe2) 남녀 두 집단간 파이썬 시험의 평균차이 검정\n",
    "- H0 : 남녀 두 집단간 파이썬 시험의 평균에 차이가 없다.\n",
    "- H1 : 남녀 두 집단간 파이썬 시험의 평균에 차이가 있다."
   ]
  },
  {
   "cell_type": "code",
   "execution_count": 5,
   "id": "e27d72d1",
   "metadata": {},
   "outputs": [],
   "source": [
    "import numpy as np\n",
    "import scipy.stats as stats"
   ]
  },
  {
   "cell_type": "code",
   "execution_count": 6,
   "id": "198643c2",
   "metadata": {},
   "outputs": [],
   "source": [
    "# 데이터 생성\n",
    "male = [75, 85, 100, 72.5, 86.5]\n",
    "female = [63.2, 76, 52, 100, 70]"
   ]
  },
  {
   "cell_type": "code",
   "execution_count": 7,
   "id": "f9bdb12e",
   "metadata": {},
   "outputs": [
    {
     "name": "stdout",
     "output_type": "stream",
     "text": [
      "서로 다른 두 집단 평균 검정(독립t표본검정) =  Ttest_indResult(statistic=1.233193127514512, pvalue=0.2525076844853278)\n",
      "t-검정 통계량 = 1.233, p-value = 0.253\n"
     ]
    }
   ],
   "source": [
    "# 두 집단 검증\n",
    "tResult2 = stats.ttest_ind(male, female)\n",
    "\n",
    "print('서로 다른 두 집단 평균 검정(독립t표본검정) = ', tResult2)\n",
    "print('t-검정 통계량 = %.3f, p-value = %.3f' %(tResult2))"
   ]
  },
  {
   "cell_type": "code",
   "execution_count": null,
   "id": "74d45cf7",
   "metadata": {},
   "outputs": [],
   "source": [
    "'''\n",
    "1. p-value = 0.253 > 0.05 이므로, 귀무가설 기각할 수 없음\n",
    "2. 귀무가설 채택 : 두 집단의 관측값 평균은 서로 같다고 할 수 있음(남녀간 파이썬 시험의 평균에 차이가 없다.)\n",
    "'''"
   ]
  },
  {
   "cell_type": "markdown",
   "id": "1a0041c8",
   "metadata": {},
   "source": [
    "## exe3) 두가지 교육방법에 따른 평균학점에 대한 차이 검정 수행 (two_sample.csv)\n",
    "- H0 : 두 교육방법에 따른 평균학점에는 차이가 없다\n",
    "- H1 : 두 교육방법에 따른 평균학점에는 차이가 있다"
   ]
  },
  {
   "cell_type": "code",
   "execution_count": 9,
   "id": "f1e4cc45",
   "metadata": {
    "scrolled": true
   },
   "outputs": [
    {
     "data": {
      "text/html": [
       "<div>\n",
       "<style scoped>\n",
       "    .dataframe tbody tr th:only-of-type {\n",
       "        vertical-align: middle;\n",
       "    }\n",
       "\n",
       "    .dataframe tbody tr th {\n",
       "        vertical-align: top;\n",
       "    }\n",
       "\n",
       "    .dataframe thead th {\n",
       "        text-align: right;\n",
       "    }\n",
       "</style>\n",
       "<table border=\"1\" class=\"dataframe\">\n",
       "  <thead>\n",
       "    <tr style=\"text-align: right;\">\n",
       "      <th></th>\n",
       "      <th>교육방법</th>\n",
       "      <th>학점</th>\n",
       "    </tr>\n",
       "  </thead>\n",
       "  <tbody>\n",
       "    <tr>\n",
       "      <th>0</th>\n",
       "      <td>1</td>\n",
       "      <td>4.4</td>\n",
       "    </tr>\n",
       "    <tr>\n",
       "      <th>1</th>\n",
       "      <td>1</td>\n",
       "      <td>3.8</td>\n",
       "    </tr>\n",
       "    <tr>\n",
       "      <th>2</th>\n",
       "      <td>1</td>\n",
       "      <td>4.2</td>\n",
       "    </tr>\n",
       "    <tr>\n",
       "      <th>3</th>\n",
       "      <td>1</td>\n",
       "      <td>4.0</td>\n",
       "    </tr>\n",
       "    <tr>\n",
       "      <th>4</th>\n",
       "      <td>1</td>\n",
       "      <td>NaN</td>\n",
       "    </tr>\n",
       "    <tr>\n",
       "      <th>5</th>\n",
       "      <td>1</td>\n",
       "      <td>4.1</td>\n",
       "    </tr>\n",
       "    <tr>\n",
       "      <th>6</th>\n",
       "      <td>1</td>\n",
       "      <td>NaN</td>\n",
       "    </tr>\n",
       "    <tr>\n",
       "      <th>7</th>\n",
       "      <td>1</td>\n",
       "      <td>3.9</td>\n",
       "    </tr>\n",
       "    <tr>\n",
       "      <th>8</th>\n",
       "      <td>1</td>\n",
       "      <td>3.7</td>\n",
       "    </tr>\n",
       "    <tr>\n",
       "      <th>9</th>\n",
       "      <td>1</td>\n",
       "      <td>3.9</td>\n",
       "    </tr>\n",
       "    <tr>\n",
       "      <th>10</th>\n",
       "      <td>2</td>\n",
       "      <td>4.2</td>\n",
       "    </tr>\n",
       "    <tr>\n",
       "      <th>11</th>\n",
       "      <td>2</td>\n",
       "      <td>4.1</td>\n",
       "    </tr>\n",
       "    <tr>\n",
       "      <th>12</th>\n",
       "      <td>2</td>\n",
       "      <td>NaN</td>\n",
       "    </tr>\n",
       "    <tr>\n",
       "      <th>13</th>\n",
       "      <td>2</td>\n",
       "      <td>3.9</td>\n",
       "    </tr>\n",
       "    <tr>\n",
       "      <th>14</th>\n",
       "      <td>2</td>\n",
       "      <td>4.2</td>\n",
       "    </tr>\n",
       "    <tr>\n",
       "      <th>15</th>\n",
       "      <td>2</td>\n",
       "      <td>4.1</td>\n",
       "    </tr>\n",
       "    <tr>\n",
       "      <th>16</th>\n",
       "      <td>2</td>\n",
       "      <td>4.3</td>\n",
       "    </tr>\n",
       "    <tr>\n",
       "      <th>17</th>\n",
       "      <td>2</td>\n",
       "      <td>3.8</td>\n",
       "    </tr>\n",
       "    <tr>\n",
       "      <th>18</th>\n",
       "      <td>2</td>\n",
       "      <td>4.2</td>\n",
       "    </tr>\n",
       "    <tr>\n",
       "      <th>19</th>\n",
       "      <td>2</td>\n",
       "      <td>3.9</td>\n",
       "    </tr>\n",
       "  </tbody>\n",
       "</table>\n",
       "</div>"
      ],
      "text/plain": [
       "    교육방법   학점\n",
       "0      1  4.4\n",
       "1      1  3.8\n",
       "2      1  4.2\n",
       "3      1  4.0\n",
       "4      1  NaN\n",
       "5      1  4.1\n",
       "6      1  NaN\n",
       "7      1  3.9\n",
       "8      1  3.7\n",
       "9      1  3.9\n",
       "10     2  4.2\n",
       "11     2  4.1\n",
       "12     2  NaN\n",
       "13     2  3.9\n",
       "14     2  4.2\n",
       "15     2  4.1\n",
       "16     2  4.3\n",
       "17     2  3.8\n",
       "18     2  4.2\n",
       "19     2  3.9"
      ]
     },
     "execution_count": 9,
     "metadata": {},
     "output_type": "execute_result"
    }
   ],
   "source": [
    "# 데이터 가져오기\n",
    "import pandas as pd\n",
    "two_sample = pd.read_csv('./data/two_sample.csv')\n",
    "two_sample"
   ]
  },
  {
   "cell_type": "code",
   "execution_count": 39,
   "id": "a0fe5cce",
   "metadata": {},
   "outputs": [],
   "source": [
    "# 교육방법 1과 2 추출하세요\n",
    "# 교육방법1에 대한 데이터 변수 : m1\n",
    "# 교육방법2 대한 데이터 변수 : m2\n",
    "\n",
    "m1 = two_sample[two_sample['교육방법']==1].reset_index(drop=True)\n",
    "m2 = two_sample[two_sample['교육방법']==2].reset_index(drop=True)"
   ]
  },
  {
   "cell_type": "code",
   "execution_count": 40,
   "id": "271406f6",
   "metadata": {},
   "outputs": [],
   "source": [
    "# 교육방법1에 대한 학점만 추출한 데이터 변수 : scor1\n",
    "# 교육방법2에 대한 학점만 추출한 데이터 변수 : scor2\n",
    "\n",
    "scor1 = m1['학점']\n",
    "scor2 = m2['학점']"
   ]
  },
  {
   "cell_type": "code",
   "execution_count": 41,
   "id": "20f11579",
   "metadata": {},
   "outputs": [],
   "source": [
    "# 결측치 처리\n",
    "scor1 = scor1.fillna(scor1.mean())\n",
    "scor2 = scor2.fillna(scor2.mean())"
   ]
  },
  {
   "cell_type": "markdown",
   "id": "abfb9148",
   "metadata": {},
   "source": [
    "#### 정규성 검증"
   ]
  },
  {
   "cell_type": "code",
   "execution_count": 43,
   "id": "ea6e28f8",
   "metadata": {},
   "outputs": [
    {
     "name": "stdout",
     "output_type": "stream",
     "text": [
      "정규성 검정 결과 =  ShapiroResult(statistic=0.9615016579627991, pvalue=0.8028513789176941)\n",
      "t-검정 통계량 = 0.962, p-value = 0.803\n"
     ]
    }
   ],
   "source": [
    "# 정규성 검증\n",
    "resultSh1 = stats.shapiro(scor1)\n",
    "print('정규성 검정 결과 = ', resultSh1)\n",
    "print('t-검정 통계량 = %.3f, p-value = %.3f' %(resultSh1))"
   ]
  },
  {
   "cell_type": "code",
   "execution_count": 44,
   "id": "4509da2c",
   "metadata": {},
   "outputs": [
    {
     "name": "stdout",
     "output_type": "stream",
     "text": [
      "정규성 검정 결과 =  ShapiroResult(statistic=0.9173869490623474, pvalue=0.3356756865978241)\n",
      "t-검정 통계량 = 0.917, p-value = 0.336\n"
     ]
    }
   ],
   "source": [
    "resultSh2 = stats.shapiro(scor2)\n",
    "print('정규성 검정 결과 = ', resultSh2)\n",
    "print('t-검정 통계량 = %.3f, p-value = %.3f' %(resultSh2))"
   ]
  },
  {
   "cell_type": "code",
   "execution_count": null,
   "id": "6d1ec9b8",
   "metadata": {},
   "outputs": [],
   "source": [
    "'''\n",
    "두 집단 모두 p-value > 0.05 이므로, 귀무가설 기각할 수 없음. 정규성을 만족한다 할 수 있음 \n",
    "'''"
   ]
  },
  {
   "cell_type": "code",
   "execution_count": 45,
   "id": "48ec702c",
   "metadata": {
    "scrolled": true
   },
   "outputs": [
    {
     "name": "stderr",
     "output_type": "stream",
     "text": [
      "C:\\Users\\admin\\anaconda3\\lib\\site-packages\\seaborn\\distributions.py:2619: FutureWarning: `distplot` is a deprecated function and will be removed in a future version. Please adapt your code to use either `displot` (a figure-level function with similar flexibility) or `histplot` (an axes-level function for histograms).\n",
      "  warnings.warn(msg, FutureWarning)\n",
      "C:\\Users\\admin\\anaconda3\\lib\\site-packages\\seaborn\\distributions.py:2619: FutureWarning: `distplot` is a deprecated function and will be removed in a future version. Please adapt your code to use either `displot` (a figure-level function with similar flexibility) or `histplot` (an axes-level function for histograms).\n",
      "  warnings.warn(msg, FutureWarning)\n",
      "C:\\Users\\admin\\anaconda3\\lib\\site-packages\\IPython\\core\\pylabtools.py:151: UserWarning: Glyph 54617 (\\N{HANGUL SYLLABLE HAG}) missing from current font.\n",
      "  fig.canvas.print_figure(bytes_io, **kw)\n",
      "C:\\Users\\admin\\anaconda3\\lib\\site-packages\\IPython\\core\\pylabtools.py:151: UserWarning: Glyph 51216 (\\N{HANGUL SYLLABLE JEOM}) missing from current font.\n",
      "  fig.canvas.print_figure(bytes_io, **kw)\n"
     ]
    },
    {
     "data": {
      "image/png": "[encoded data removed]",
      "text/plain": [
       "<Figure size 432x288 with 1 Axes>"
      ]
     },
     "metadata": {
      "needs_background": "light"
     },
     "output_type": "display_data"
    }
   ],
   "source": [
    "# 정규분포 시각화\n",
    "import seaborn as sns\n",
    "import matplotlib.pyplot as plt\n",
    "\n",
    "# 한글 처리\n",
    "plt.rc('font', family = 'Malgun Gothioc')\n",
    "\n",
    "sns.distplot(scor1, fit=stats.norm)\n",
    "sns.distplot(scor2, fit=stats.norm)b\n",
    "plt.show()"
   ]
  },
  {
   "cell_type": "markdown",
   "id": "c02c5469",
   "metadata": {},
   "source": [
    "#### 등분산성 검증"
   ]
  },
  {
   "cell_type": "code",
   "execution_count": 46,
   "id": "8dc0a210",
   "metadata": {},
   "outputs": [
    {
     "name": "stdout",
     "output_type": "stream",
     "text": [
      "등분산성 levene 검증결과 = LeveneResult(statistic=0.11149825783972156, pvalue=0.7423035272233627)\n",
      "t-검정 통계량 = 0.111, p-value = 0.742\n"
     ]
    }
   ],
   "source": [
    "# 등분산성 검증\n",
    "# H0 : 두 집단간 분산이 동일하다 (p-value > 0.05)\n",
    "# H1 : 두 집단간 분산이 동일하지 않다 \n",
    "\n",
    "# 등분산성 검증은 3가지 방법으로 진행됩니다\n",
    "#  1. 레빈(levene)\n",
    "#  2. 플리그너(fligner)\n",
    "#  3. 바틀렛(bartlett)\n",
    "\n",
    "sLevene = stats.levene(scor1, scor2)\n",
    "\n",
    "print('등분산성 levene 검증결과 =', sLevene)\n",
    "print('t-검정 통계량 = %.3f, p-value = %.3f' %(sLevene))\n",
    "\n",
    "# 1. p-value = 0.742 > 0.05 이므로, 귀무가설 기각할 수 없음\n",
    "# 2. 귀무가설 채택 : 두 집단간 등분산성 만족"
   ]
  },
  {
   "cell_type": "code",
   "execution_count": 47,
   "id": "d8553e54",
   "metadata": {},
   "outputs": [
    {
     "name": "stdout",
     "output_type": "stream",
     "text": [
      "등분산성 fligner 검증결과 = FlignerResult(statistic=0.009351524793910174, pvalue=0.9229620332079382)\n",
      "t-검정 통계량 = 0.009, p-value = 0.923\n"
     ]
    }
   ],
   "source": [
    "sFligner = stats.fligner(scor1, scor2)\n",
    "\n",
    "print('등분산성 fligner 검증결과 =', sFligner)\n",
    "print('t-검정 통계량 = %.3f, p-value = %.3f' %(sFligner))\n",
    "\n",
    "# 1. p-value = 0.923 > 0.05 이므로, 귀무가설 기각할 수 없음\n",
    "# 2. 귀무가설 채택 : 두 집단간 등분산성 만족"
   ]
  },
  {
   "cell_type": "code",
   "execution_count": 49,
   "id": "bfb008dd",
   "metadata": {},
   "outputs": [
    {
     "name": "stdout",
     "output_type": "stream",
     "text": [
      "등분산성 bartlett 검증결과 = BartlettResult(statistic=0.38065029633127184, pvalue=0.5372554141124455)\n",
      "t-검정 통계량 = 0.381, p-value = 0.537\n"
     ]
    }
   ],
   "source": [
    "sBartlett = stats.bartlett(scor1, scor2)\n",
    "\n",
    "print('등분산성 bartlett 검증결과 =', sBartlett)\n",
    "print('t-검정 통계량 = %.3f, p-value = %.3f' %(sBartlett))\n",
    "\n",
    "# 1. p-value = 0.923 > 0.05 이므로, 귀무가설 기각할 수 없음\n",
    "# 2. 귀무가설 채택 : 두 집단간 등분산성 만족"
   ]
  },
  {
   "cell_type": "code",
   "execution_count": 51,
   "id": "d31b2629",
   "metadata": {},
   "outputs": [
    {
     "name": "stdout",
     "output_type": "stream",
     "text": [
      "서로 다른 두 집단 평균 검정(독립t표본검정) =  Ttest_indResult(statistic=-0.9561271382392642, pvalue=0.3516741458629946)\n",
      "t-검정 통계량 = -0.956, p-value = 0.352\n"
     ]
    }
   ],
   "source": [
    "# 두 집단 검증\n",
    "# equal_var : 정규성과 등분산성 모두를 만족하는 경우 작성\n",
    "tResult3 = stats.ttest_ind(scor1, scor2, equal_var = True)\n",
    "\n",
    "print('서로 다른 두 집단 평균 검정(독립t표본검정) = ', tResult3)\n",
    "print('t-검정 통계량 = %.3f, p-value = %.3f' %(tResult3))"
   ]
  },
  {
   "cell_type": "code",
   "execution_count": null,
   "id": "1abb5f57",
   "metadata": {},
   "outputs": [],
   "source": [
    "''' 해석(검증결과)\n",
    "1. p-value = 0.352 > 0.05 이므로, 귀무가설 기각할 수 없음\n",
    "2. 귀무가설 채택 : 두 집단의 관측값 평균은 서로 같다고 할 수 있음(두 교육방법에 따른 평균학점의 차이가 없다.)\n",
    "'''"
   ]
  },
  {
   "cell_type": "markdown",
   "id": "c5a9df6f",
   "metadata": {},
   "source": [
    "## exe4) 어느 음식점의 매출자료와 날씨자료를 이용하여 강수여부에 따른 매출 차이에 대하여 분석\n",
    "- H0 : 강수여부에 따른 매출액 평균에 차이가 없다\n",
    "- H1 : 강수여부에 따른 매출액 평균에 차이가 있다\n",
    "\n",
    "\n",
    "- 집단1: 비가 올때의 매출, 집단2: 비가 안올때의 매출"
   ]
  },
  {
   "cell_type": "code",
   "execution_count": 52,
   "id": "a3b9d139",
   "metadata": {},
   "outputs": [],
   "source": [
    "# 사용 라이브러리\n",
    "import numpy as np\n",
    "import scipy.stats as stats\n",
    "import pandas as pd\n",
    "import matplotlib.pyplot as plt"
   ]
  },
  {
   "cell_type": "code",
   "execution_count": null,
   "id": "6dba4727",
   "metadata": {},
   "outputs": [],
   "source": [
    "# 매출 데이터 : tsales.csv\n",
    "#  YMD : 날짜, AMT : 매출\n",
    "\n",
    "# 날씨 데이터 : tweather.csv\n",
    "#  tm : 날짜, sumRn : 강수량"
   ]
  },
  {
   "cell_type": "code",
   "execution_count": 118,
   "id": "0f1f9e36",
   "metadata": {},
   "outputs": [
    {
     "name": "stdout",
     "output_type": "stream",
     "text": [
      "<class 'pandas.core.frame.DataFrame'>\n",
      "RangeIndex: 328 entries, 0 to 327\n",
      "Data columns (total 3 columns):\n",
      " #   Column  Non-Null Count  Dtype \n",
      "---  ------  --------------  ----- \n",
      " 0   YMD     328 non-null    object\n",
      " 1   AMT     328 non-null    int64 \n",
      " 2   CNT     328 non-null    int64 \n",
      "dtypes: int64(2), object(1)\n",
      "memory usage: 7.8+ KB\n"
     ]
    }
   ],
   "source": [
    "# 데이터 불러오기(불러오면서 자료형 형식 변경)\n",
    "sales_data = pd.read_csv('./data/tsales.csv', dtype = {'YMD':'object'})\n",
    "sales_data.info()"
   ]
  },
  {
   "cell_type": "code",
   "execution_count": 53,
   "id": "44b792cb",
   "metadata": {
    "collapsed": true
   },
   "outputs": [
    {
     "data": {
      "text/html": [
       "<div>\n",
       "<style scoped>\n",
       "    .dataframe tbody tr th:only-of-type {\n",
       "        vertical-align: middle;\n",
       "    }\n",
       "\n",
       "    .dataframe tbody tr th {\n",
       "        vertical-align: top;\n",
       "    }\n",
       "\n",
       "    .dataframe thead th {\n",
       "        text-align: right;\n",
       "    }\n",
       "</style>\n",
       "<table border=\"1\" class=\"dataframe\">\n",
       "  <thead>\n",
       "    <tr style=\"text-align: right;\">\n",
       "      <th></th>\n",
       "      <th>YMD</th>\n",
       "      <th>AMT</th>\n",
       "      <th>CNT</th>\n",
       "    </tr>\n",
       "  </thead>\n",
       "  <tbody>\n",
       "    <tr>\n",
       "      <th>0</th>\n",
       "      <td>20190514</td>\n",
       "      <td>0</td>\n",
       "      <td>1</td>\n",
       "    </tr>\n",
       "    <tr>\n",
       "      <th>1</th>\n",
       "      <td>20190519</td>\n",
       "      <td>18000</td>\n",
       "      <td>1</td>\n",
       "    </tr>\n",
       "    <tr>\n",
       "      <th>2</th>\n",
       "      <td>20190521</td>\n",
       "      <td>50000</td>\n",
       "      <td>4</td>\n",
       "    </tr>\n",
       "    <tr>\n",
       "      <th>3</th>\n",
       "      <td>20190522</td>\n",
       "      <td>125000</td>\n",
       "      <td>7</td>\n",
       "    </tr>\n",
       "    <tr>\n",
       "      <th>4</th>\n",
       "      <td>20190523</td>\n",
       "      <td>222500</td>\n",
       "      <td>13</td>\n",
       "    </tr>\n",
       "    <tr>\n",
       "      <th>...</th>\n",
       "      <td>...</td>\n",
       "      <td>...</td>\n",
       "      <td>...</td>\n",
       "    </tr>\n",
       "    <tr>\n",
       "      <th>323</th>\n",
       "      <td>20200424</td>\n",
       "      <td>1092500</td>\n",
       "      <td>51</td>\n",
       "    </tr>\n",
       "    <tr>\n",
       "      <th>324</th>\n",
       "      <td>20200425</td>\n",
       "      <td>672500</td>\n",
       "      <td>34</td>\n",
       "    </tr>\n",
       "    <tr>\n",
       "      <th>325</th>\n",
       "      <td>20200426</td>\n",
       "      <td>1123500</td>\n",
       "      <td>55</td>\n",
       "    </tr>\n",
       "    <tr>\n",
       "      <th>326</th>\n",
       "      <td>20200427</td>\n",
       "      <td>819500</td>\n",
       "      <td>45</td>\n",
       "    </tr>\n",
       "    <tr>\n",
       "      <th>327</th>\n",
       "      <td>20200428</td>\n",
       "      <td>950500</td>\n",
       "      <td>45</td>\n",
       "    </tr>\n",
       "  </tbody>\n",
       "</table>\n",
       "<p>328 rows × 3 columns</p>\n",
       "</div>"
      ],
      "text/plain": [
       "          YMD      AMT  CNT\n",
       "0    20190514        0    1\n",
       "1    20190519    18000    1\n",
       "2    20190521    50000    4\n",
       "3    20190522   125000    7\n",
       "4    20190523   222500   13\n",
       "..        ...      ...  ...\n",
       "323  20200424  1092500   51\n",
       "324  20200425   672500   34\n",
       "325  20200426  1123500   55\n",
       "326  20200427   819500   45\n",
       "327  20200428   950500   45\n",
       "\n",
       "[328 rows x 3 columns]"
      ]
     },
     "execution_count": 53,
     "metadata": {},
     "output_type": "execute_result"
    }
   ],
   "source": [
    "# 매출데이터\n",
    "tsales = pd.read_csv('./data/tsales.csv')\n",
    "tsales"
   ]
  },
  {
   "cell_type": "code",
   "execution_count": 119,
   "id": "9a085ebe",
   "metadata": {
    "collapsed": true
   },
   "outputs": [
    {
     "data": {
      "text/html": [
       "<div>\n",
       "<style scoped>\n",
       "    .dataframe tbody tr th:only-of-type {\n",
       "        vertical-align: middle;\n",
       "    }\n",
       "\n",
       "    .dataframe tbody tr th {\n",
       "        vertical-align: top;\n",
       "    }\n",
       "\n",
       "    .dataframe thead th {\n",
       "        text-align: right;\n",
       "    }\n",
       "</style>\n",
       "<table border=\"1\" class=\"dataframe\">\n",
       "  <thead>\n",
       "    <tr style=\"text-align: right;\">\n",
       "      <th></th>\n",
       "      <th>stnId</th>\n",
       "      <th>tm</th>\n",
       "      <th>avgTa</th>\n",
       "      <th>minTa</th>\n",
       "      <th>maxTa</th>\n",
       "      <th>sumRn</th>\n",
       "      <th>maxWs</th>\n",
       "      <th>avgWs</th>\n",
       "      <th>ddMes</th>\n",
       "    </tr>\n",
       "  </thead>\n",
       "  <tbody>\n",
       "    <tr>\n",
       "      <th>0</th>\n",
       "      <td>108</td>\n",
       "      <td>2018-06-01</td>\n",
       "      <td>23.8</td>\n",
       "      <td>17.5</td>\n",
       "      <td>30.2</td>\n",
       "      <td>0.0</td>\n",
       "      <td>4.3</td>\n",
       "      <td>1.9</td>\n",
       "      <td>0.0</td>\n",
       "    </tr>\n",
       "    <tr>\n",
       "      <th>1</th>\n",
       "      <td>108</td>\n",
       "      <td>2018-06-02</td>\n",
       "      <td>23.4</td>\n",
       "      <td>17.6</td>\n",
       "      <td>30.1</td>\n",
       "      <td>0.0</td>\n",
       "      <td>4.5</td>\n",
       "      <td>2.0</td>\n",
       "      <td>0.0</td>\n",
       "    </tr>\n",
       "    <tr>\n",
       "      <th>2</th>\n",
       "      <td>108</td>\n",
       "      <td>2018-06-03</td>\n",
       "      <td>24.0</td>\n",
       "      <td>16.9</td>\n",
       "      <td>30.8</td>\n",
       "      <td>0.0</td>\n",
       "      <td>4.2</td>\n",
       "      <td>1.6</td>\n",
       "      <td>0.0</td>\n",
       "    </tr>\n",
       "    <tr>\n",
       "      <th>3</th>\n",
       "      <td>108</td>\n",
       "      <td>2018-06-04</td>\n",
       "      <td>22.6</td>\n",
       "      <td>18.9</td>\n",
       "      <td>27.5</td>\n",
       "      <td>0.0</td>\n",
       "      <td>4.4</td>\n",
       "      <td>1.9</td>\n",
       "      <td>0.0</td>\n",
       "    </tr>\n",
       "    <tr>\n",
       "      <th>4</th>\n",
       "      <td>108</td>\n",
       "      <td>2018-06-05</td>\n",
       "      <td>23.7</td>\n",
       "      <td>17.7</td>\n",
       "      <td>29.2</td>\n",
       "      <td>0.0</td>\n",
       "      <td>4.0</td>\n",
       "      <td>1.7</td>\n",
       "      <td>0.0</td>\n",
       "    </tr>\n",
       "    <tr>\n",
       "      <th>...</th>\n",
       "      <td>...</td>\n",
       "      <td>...</td>\n",
       "      <td>...</td>\n",
       "      <td>...</td>\n",
       "      <td>...</td>\n",
       "      <td>...</td>\n",
       "      <td>...</td>\n",
       "      <td>...</td>\n",
       "      <td>...</td>\n",
       "    </tr>\n",
       "    <tr>\n",
       "      <th>697</th>\n",
       "      <td>108</td>\n",
       "      <td>2020-04-28</td>\n",
       "      <td>13.9</td>\n",
       "      <td>7.8</td>\n",
       "      <td>19.9</td>\n",
       "      <td>0.0</td>\n",
       "      <td>5.5</td>\n",
       "      <td>3.0</td>\n",
       "      <td>0.0</td>\n",
       "    </tr>\n",
       "    <tr>\n",
       "      <th>698</th>\n",
       "      <td>108</td>\n",
       "      <td>2020-04-29</td>\n",
       "      <td>14.9</td>\n",
       "      <td>9.3</td>\n",
       "      <td>21.0</td>\n",
       "      <td>0.0</td>\n",
       "      <td>5.2</td>\n",
       "      <td>2.6</td>\n",
       "      <td>0.0</td>\n",
       "    </tr>\n",
       "    <tr>\n",
       "      <th>699</th>\n",
       "      <td>108</td>\n",
       "      <td>2020-04-30</td>\n",
       "      <td>17.1</td>\n",
       "      <td>9.3</td>\n",
       "      <td>23.4</td>\n",
       "      <td>0.0</td>\n",
       "      <td>5.9</td>\n",
       "      <td>2.7</td>\n",
       "      <td>0.0</td>\n",
       "    </tr>\n",
       "    <tr>\n",
       "      <th>700</th>\n",
       "      <td>108</td>\n",
       "      <td>2020-05-01</td>\n",
       "      <td>20.2</td>\n",
       "      <td>16.4</td>\n",
       "      <td>26.2</td>\n",
       "      <td>0.0</td>\n",
       "      <td>5.5</td>\n",
       "      <td>2.7</td>\n",
       "      <td>0.0</td>\n",
       "    </tr>\n",
       "    <tr>\n",
       "      <th>701</th>\n",
       "      <td>108</td>\n",
       "      <td>2020-05-02</td>\n",
       "      <td>20.3</td>\n",
       "      <td>18.0</td>\n",
       "      <td>23.9</td>\n",
       "      <td>0.0</td>\n",
       "      <td>4.6</td>\n",
       "      <td>2.3</td>\n",
       "      <td>0.0</td>\n",
       "    </tr>\n",
       "  </tbody>\n",
       "</table>\n",
       "<p>702 rows × 9 columns</p>\n",
       "</div>"
      ],
      "text/plain": [
       "     stnId          tm  avgTa  minTa  maxTa  sumRn  maxWs  avgWs  ddMes\n",
       "0      108  2018-06-01   23.8   17.5   30.2    0.0    4.3    1.9    0.0\n",
       "1      108  2018-06-02   23.4   17.6   30.1    0.0    4.5    2.0    0.0\n",
       "2      108  2018-06-03   24.0   16.9   30.8    0.0    4.2    1.6    0.0\n",
       "3      108  2018-06-04   22.6   18.9   27.5    0.0    4.4    1.9    0.0\n",
       "4      108  2018-06-05   23.7   17.7   29.2    0.0    4.0    1.7    0.0\n",
       "..     ...         ...    ...    ...    ...    ...    ...    ...    ...\n",
       "697    108  2020-04-28   13.9    7.8   19.9    0.0    5.5    3.0    0.0\n",
       "698    108  2020-04-29   14.9    9.3   21.0    0.0    5.2    2.6    0.0\n",
       "699    108  2020-04-30   17.1    9.3   23.4    0.0    5.9    2.7    0.0\n",
       "700    108  2020-05-01   20.2   16.4   26.2    0.0    5.5    2.7    0.0\n",
       "701    108  2020-05-02   20.3   18.0   23.9    0.0    4.6    2.3    0.0\n",
       "\n",
       "[702 rows x 9 columns]"
      ]
     },
     "execution_count": 119,
     "metadata": {},
     "output_type": "execute_result"
    }
   ],
   "source": [
    "# 날씨데이터\n",
    "tweather = pd.read_csv('./data/tweather.csv')\n",
    "tweather"
   ]
  },
  {
   "cell_type": "code",
   "execution_count": 106,
   "id": "7a168eba",
   "metadata": {},
   "outputs": [
    {
     "name": "stdout",
     "output_type": "stream",
     "text": [
      "<class 'pandas.core.frame.DataFrame'>\n",
      "RangeIndex: 328 entries, 0 to 327\n",
      "Data columns (total 3 columns):\n",
      " #   Column  Non-Null Count  Dtype\n",
      "---  ------  --------------  -----\n",
      " 0   YMD     328 non-null    int64\n",
      " 1   AMT     328 non-null    int64\n",
      " 2   CNT     328 non-null    int64\n",
      "dtypes: int64(3)\n",
      "memory usage: 7.8 KB\n"
     ]
    }
   ],
   "source": [
    "tsales.info()"
   ]
  },
  {
   "cell_type": "code",
   "execution_count": 107,
   "id": "026c5292",
   "metadata": {},
   "outputs": [],
   "source": [
    "# 매출데이터 자료형 변환\n",
    "tsales['YMD']= tsales['YMD'].astype('str')"
   ]
  },
  {
   "cell_type": "code",
   "execution_count": 97,
   "id": "7642745f",
   "metadata": {},
   "outputs": [],
   "source": [
    "# tweather['tm'] = tweather['tm'].str.replace('-','')\n",
    "\n",
    "a = []\n",
    "for i in range(len(tweather['tm'])) :\n",
    "    a.append(tweather['tm'][i].replace(\"-\", \"\",))\n",
    "    \n",
    "tweather['n_tm'] = a"
   ]
  },
  {
   "cell_type": "code",
   "execution_count": 102,
   "id": "eb58aa11",
   "metadata": {},
   "outputs": [
    {
     "data": {
      "text/plain": [
       "0      20180601\n",
       "1      20180602\n",
       "2      20180603\n",
       "3      20180604\n",
       "4      20180605\n",
       "         ...   \n",
       "697    20200428\n",
       "698    20200429\n",
       "699    20200430\n",
       "700    20200501\n",
       "701    20200502\n",
       "Name: n_tm, Length: 702, dtype: object"
      ]
     },
     "execution_count": 102,
     "metadata": {},
     "output_type": "execute_result"
    }
   ],
   "source": [
    "tweather['n_tm']"
   ]
  },
  {
   "cell_type": "code",
   "execution_count": 109,
   "id": "c81f6b0c",
   "metadata": {},
   "outputs": [
    {
     "data": {
      "text/html": [
       "<div>\n",
       "<style scoped>\n",
       "    .dataframe tbody tr th:only-of-type {\n",
       "        vertical-align: middle;\n",
       "    }\n",
       "\n",
       "    .dataframe tbody tr th {\n",
       "        vertical-align: top;\n",
       "    }\n",
       "\n",
       "    .dataframe thead th {\n",
       "        text-align: right;\n",
       "    }\n",
       "</style>\n",
       "<table border=\"1\" class=\"dataframe\">\n",
       "  <thead>\n",
       "    <tr style=\"text-align: right;\">\n",
       "      <th></th>\n",
       "      <th>YMD</th>\n",
       "      <th>AMT</th>\n",
       "      <th>CNT</th>\n",
       "      <th>stnId</th>\n",
       "      <th>tm</th>\n",
       "      <th>avgTa</th>\n",
       "      <th>minTa</th>\n",
       "      <th>maxTa</th>\n",
       "      <th>sumRn</th>\n",
       "      <th>maxWs</th>\n",
       "      <th>avgWs</th>\n",
       "      <th>ddMes</th>\n",
       "      <th>n_tm</th>\n",
       "    </tr>\n",
       "  </thead>\n",
       "  <tbody>\n",
       "    <tr>\n",
       "      <th>0</th>\n",
       "      <td>20190514</td>\n",
       "      <td>0</td>\n",
       "      <td>1</td>\n",
       "      <td>108</td>\n",
       "      <td>2019-05-14</td>\n",
       "      <td>19.6</td>\n",
       "      <td>12.9</td>\n",
       "      <td>26.9</td>\n",
       "      <td>0.0</td>\n",
       "      <td>4.1</td>\n",
       "      <td>1.6</td>\n",
       "      <td>0.0</td>\n",
       "      <td>20190514</td>\n",
       "    </tr>\n",
       "    <tr>\n",
       "      <th>1</th>\n",
       "      <td>20190519</td>\n",
       "      <td>18000</td>\n",
       "      <td>1</td>\n",
       "      <td>108</td>\n",
       "      <td>2019-05-19</td>\n",
       "      <td>19.4</td>\n",
       "      <td>17.9</td>\n",
       "      <td>21.6</td>\n",
       "      <td>22.0</td>\n",
       "      <td>2.7</td>\n",
       "      <td>1.2</td>\n",
       "      <td>0.0</td>\n",
       "      <td>20190519</td>\n",
       "    </tr>\n",
       "    <tr>\n",
       "      <th>2</th>\n",
       "      <td>20190521</td>\n",
       "      <td>50000</td>\n",
       "      <td>4</td>\n",
       "      <td>108</td>\n",
       "      <td>2019-05-21</td>\n",
       "      <td>17.2</td>\n",
       "      <td>11.7</td>\n",
       "      <td>23.8</td>\n",
       "      <td>0.0</td>\n",
       "      <td>5.9</td>\n",
       "      <td>2.9</td>\n",
       "      <td>0.0</td>\n",
       "      <td>20190521</td>\n",
       "    </tr>\n",
       "    <tr>\n",
       "      <th>3</th>\n",
       "      <td>20190522</td>\n",
       "      <td>125000</td>\n",
       "      <td>7</td>\n",
       "      <td>108</td>\n",
       "      <td>2019-05-22</td>\n",
       "      <td>19.5</td>\n",
       "      <td>12.3</td>\n",
       "      <td>26.5</td>\n",
       "      <td>0.0</td>\n",
       "      <td>5.4</td>\n",
       "      <td>2.4</td>\n",
       "      <td>0.0</td>\n",
       "      <td>20190522</td>\n",
       "    </tr>\n",
       "    <tr>\n",
       "      <th>4</th>\n",
       "      <td>20190523</td>\n",
       "      <td>222500</td>\n",
       "      <td>13</td>\n",
       "      <td>108</td>\n",
       "      <td>2019-05-23</td>\n",
       "      <td>22.1</td>\n",
       "      <td>15.0</td>\n",
       "      <td>29.2</td>\n",
       "      <td>0.0</td>\n",
       "      <td>3.5</td>\n",
       "      <td>1.7</td>\n",
       "      <td>0.0</td>\n",
       "      <td>20190523</td>\n",
       "    </tr>\n",
       "    <tr>\n",
       "      <th>...</th>\n",
       "      <td>...</td>\n",
       "      <td>...</td>\n",
       "      <td>...</td>\n",
       "      <td>...</td>\n",
       "      <td>...</td>\n",
       "      <td>...</td>\n",
       "      <td>...</td>\n",
       "      <td>...</td>\n",
       "      <td>...</td>\n",
       "      <td>...</td>\n",
       "      <td>...</td>\n",
       "      <td>...</td>\n",
       "      <td>...</td>\n",
       "    </tr>\n",
       "    <tr>\n",
       "      <th>323</th>\n",
       "      <td>20200424</td>\n",
       "      <td>1092500</td>\n",
       "      <td>51</td>\n",
       "      <td>108</td>\n",
       "      <td>2020-04-24</td>\n",
       "      <td>9.9</td>\n",
       "      <td>4.1</td>\n",
       "      <td>14.3</td>\n",
       "      <td>0.0</td>\n",
       "      <td>8.2</td>\n",
       "      <td>3.9</td>\n",
       "      <td>0.0</td>\n",
       "      <td>20200424</td>\n",
       "    </tr>\n",
       "    <tr>\n",
       "      <th>324</th>\n",
       "      <td>20200425</td>\n",
       "      <td>672500</td>\n",
       "      <td>34</td>\n",
       "      <td>108</td>\n",
       "      <td>2020-04-25</td>\n",
       "      <td>13.1</td>\n",
       "      <td>9.9</td>\n",
       "      <td>17.1</td>\n",
       "      <td>0.0</td>\n",
       "      <td>7.8</td>\n",
       "      <td>3.9</td>\n",
       "      <td>0.0</td>\n",
       "      <td>20200425</td>\n",
       "    </tr>\n",
       "    <tr>\n",
       "      <th>325</th>\n",
       "      <td>20200426</td>\n",
       "      <td>1123500</td>\n",
       "      <td>55</td>\n",
       "      <td>108</td>\n",
       "      <td>2020-04-26</td>\n",
       "      <td>12.3</td>\n",
       "      <td>6.8</td>\n",
       "      <td>19.0</td>\n",
       "      <td>0.0</td>\n",
       "      <td>6.5</td>\n",
       "      <td>3.2</td>\n",
       "      <td>0.0</td>\n",
       "      <td>20200426</td>\n",
       "    </tr>\n",
       "    <tr>\n",
       "      <th>326</th>\n",
       "      <td>20200427</td>\n",
       "      <td>819500</td>\n",
       "      <td>45</td>\n",
       "      <td>108</td>\n",
       "      <td>2020-04-27</td>\n",
       "      <td>12.9</td>\n",
       "      <td>8.7</td>\n",
       "      <td>18.3</td>\n",
       "      <td>0.0</td>\n",
       "      <td>5.5</td>\n",
       "      <td>2.8</td>\n",
       "      <td>0.0</td>\n",
       "      <td>20200427</td>\n",
       "    </tr>\n",
       "    <tr>\n",
       "      <th>327</th>\n",
       "      <td>20200428</td>\n",
       "      <td>950500</td>\n",
       "      <td>45</td>\n",
       "      <td>108</td>\n",
       "      <td>2020-04-28</td>\n",
       "      <td>13.9</td>\n",
       "      <td>7.8</td>\n",
       "      <td>19.9</td>\n",
       "      <td>0.0</td>\n",
       "      <td>5.5</td>\n",
       "      <td>3.0</td>\n",
       "      <td>0.0</td>\n",
       "      <td>20200428</td>\n",
       "    </tr>\n",
       "  </tbody>\n",
       "</table>\n",
       "<p>328 rows × 13 columns</p>\n",
       "</div>"
      ],
      "text/plain": [
       "          YMD      AMT  CNT  stnId          tm  avgTa  minTa  maxTa  sumRn  \\\n",
       "0    20190514        0    1    108  2019-05-14   19.6   12.9   26.9    0.0   \n",
       "1    20190519    18000    1    108  2019-05-19   19.4   17.9   21.6   22.0   \n",
       "2    20190521    50000    4    108  2019-05-21   17.2   11.7   23.8    0.0   \n",
       "3    20190522   125000    7    108  2019-05-22   19.5   12.3   26.5    0.0   \n",
       "4    20190523   222500   13    108  2019-05-23   22.1   15.0   29.2    0.0   \n",
       "..        ...      ...  ...    ...         ...    ...    ...    ...    ...   \n",
       "323  20200424  1092500   51    108  2020-04-24    9.9    4.1   14.3    0.0   \n",
       "324  20200425   672500   34    108  2020-04-25   13.1    9.9   17.1    0.0   \n",
       "325  20200426  1123500   55    108  2020-04-26   12.3    6.8   19.0    0.0   \n",
       "326  20200427   819500   45    108  2020-04-27   12.9    8.7   18.3    0.0   \n",
       "327  20200428   950500   45    108  2020-04-28   13.9    7.8   19.9    0.0   \n",
       "\n",
       "     maxWs  avgWs  ddMes      n_tm  \n",
       "0      4.1    1.6    0.0  20190514  \n",
       "1      2.7    1.2    0.0  20190519  \n",
       "2      5.9    2.9    0.0  20190521  \n",
       "3      5.4    2.4    0.0  20190522  \n",
       "4      3.5    1.7    0.0  20190523  \n",
       "..     ...    ...    ...       ...  \n",
       "323    8.2    3.9    0.0  20200424  \n",
       "324    7.8    3.9    0.0  20200425  \n",
       "325    6.5    3.2    0.0  20200426  \n",
       "326    5.5    2.8    0.0  20200427  \n",
       "327    5.5    3.0    0.0  20200428  \n",
       "\n",
       "[328 rows x 13 columns]"
      ]
     },
     "execution_count": 109,
     "metadata": {},
     "output_type": "execute_result"
    }
   ],
   "source": [
    "# 데이터 합치기\n",
    "# tsales.merge(left_on='YMD', right_on='n_tm', how='left')\n",
    "data = pd.merge(tsales,tweather, left_on='YMD', right_on='n_tm', how='inner')\n",
    "data"
   ]
  },
  {
   "cell_type": "code",
   "execution_count": 111,
   "id": "f5c9ebdf",
   "metadata": {},
   "outputs": [],
   "source": [
    "# no_rain = data[data['sumRn'] != 0]\n",
    "# rain = data[data['sumRn'] == 0]"
   ]
  },
  {
   "cell_type": "code",
   "execution_count": 122,
   "id": "55c6623c",
   "metadata": {},
   "outputs": [],
   "source": [
    "## solution\n",
    "\n",
    "# 원핫인코딩\n",
    "data['rain_yn'] = (data['sumRn']>0).astype(int)\n",
    "\n",
    "# 비가 안올때 매출값 추출\n",
    "rainNAMT = data[(data['rain_yn']==0)]['AMT']\n",
    "rainNAMT = rainNAMT.reset_index(drop=True)\n",
    "\n",
    "# 비가 올때 매출값 추출\n",
    "rainAMT = data[(data['rain_yn']==1)]['AMT']\n",
    "rainAMT = rainAMT.reset_index(drop=True)"
   ]
  },
  {
   "cell_type": "code",
   "execution_count": 126,
   "id": "e7684242",
   "metadata": {
    "scrolled": true
   },
   "outputs": [
    {
     "data": {
      "image/png": "[encoded data removed]",
      "text/plain": [
       "<Figure size 432x288 with 1 Axes>"
      ]
     },
     "metadata": {
      "needs_background": "light"
     },
     "output_type": "display_data"
    },
    {
     "data": {
      "image/png": "[encoded data removed]",
      "text/plain": [
       "<Figure size 432x288 with 1 Axes>"
      ]
     },
     "metadata": {
      "needs_background": "light"
     },
     "output_type": "display_data"
    }
   ],
   "source": [
    "plt.rc('font', family = 'Malgun Gothic')\n",
    "\n",
    "plt.plot(rainNAMT)\n",
    "plt.title('비가 안올때 매출액 추이')\n",
    "plt.xlabel('index번호')\n",
    "plt.ylabel('매출액')\n",
    "plt.show()\n",
    "\n",
    "plt.plot(rainAMT)\n",
    "plt.title('비가 올때 매출액 추이')\n",
    "plt.xlabel('index번호')\n",
    "plt.ylabel('매출액')\n",
    "plt.show()"
   ]
  },
  {
   "cell_type": "code",
   "execution_count": 127,
   "id": "d35fcc88",
   "metadata": {},
   "outputs": [
    {
     "data": {
      "image/png": "[encoded data removed]",
      "text/plain": [
       "<Figure size 432x288 with 1 Axes>"
      ]
     },
     "metadata": {
      "needs_background": "light"
     },
     "output_type": "display_data"
    }
   ],
   "source": [
    "# 평균(중앙점) 추이 분석 - 박스플롯\n",
    "plt.boxplot([rainNAMT,rainAMT],\n",
    "           meanline = True,\n",
    "           showmeans = True,\n",
    "           notch = True)\n",
    "plt.show()"
   ]
  },
  {
   "cell_type": "code",
   "execution_count": 130,
   "id": "b64b9f1d",
   "metadata": {},
   "outputs": [
    {
     "name": "stdout",
     "output_type": "stream",
     "text": [
      "정규성 검정 결과 =  ShapiroResult(statistic=0.9884955883026123, pvalue=0.056049469858407974)\n",
      "t-검정 통계량 = 0.988, p-value = 0.056\n"
     ]
    }
   ],
   "source": [
    "# 정규성 검증\n",
    "resultSh1 = stats.shapiro(rainNAMT)\n",
    "print('정규성 검정 결과 = ', resultSh1)\n",
    "print('t-검정 통계량 = %.3f, p-value = %.3f' %(resultSh1))\n",
    "\n",
    "# 정규성 만족"
   ]
  },
  {
   "cell_type": "code",
   "execution_count": 131,
   "id": "fc80aedf",
   "metadata": {},
   "outputs": [
    {
     "name": "stdout",
     "output_type": "stream",
     "text": [
      "정규성 검정 결과 =  ShapiroResult(statistic=0.9924222826957703, pvalue=0.882739782333374)\n",
      "t-검정 통계량 = 0.992, p-value = 0.883\n"
     ]
    }
   ],
   "source": [
    "resultSh2 = stats.shapiro(rainAMT)\n",
    "print('정규성 검정 결과 = ', resultSh2)\n",
    "print('t-검정 통계량 = %.3f, p-value = %.3f' %(resultSh2))\n",
    "\n",
    "# 정규성 만족"
   ]
  },
  {
   "cell_type": "code",
   "execution_count": 128,
   "id": "dc7544a7",
   "metadata": {
    "scrolled": true
   },
   "outputs": [
    {
     "name": "stderr",
     "output_type": "stream",
     "text": [
      "C:\\Users\\admin\\anaconda3\\lib\\site-packages\\seaborn\\distributions.py:2619: FutureWarning: `distplot` is a deprecated function and will be removed in a future version. Please adapt your code to use either `displot` (a figure-level function with similar flexibility) or `histplot` (an axes-level function for histograms).\n",
      "  warnings.warn(msg, FutureWarning)\n",
      "C:\\Users\\admin\\anaconda3\\lib\\site-packages\\seaborn\\distributions.py:2619: FutureWarning: `distplot` is a deprecated function and will be removed in a future version. Please adapt your code to use either `displot` (a figure-level function with similar flexibility) or `histplot` (an axes-level function for histograms).\n",
      "  warnings.warn(msg, FutureWarning)\n"
     ]
    },
    {
     "data": {
      "image/png": "[encoded data removed]",
      "text/plain": [
       "<Figure size 432x288 with 1 Axes>"
      ]
     },
     "metadata": {
      "needs_background": "light"
     },
     "output_type": "display_data"
    }
   ],
   "source": [
    "# 정규분포 시각화\n",
    "import seaborn as sns\n",
    "import matplotlib.pyplot as plt\n",
    "\n",
    "# 한글 처리\n",
    "plt.rc('font', family = 'Malgun Gothioc')\n",
    "\n",
    "sns.distplot(rainAMT, fit=stats.norm)\n",
    "sns.distplot(rainNAMT, fit=stats.norm)\n",
    "plt.show()"
   ]
  },
  {
   "cell_type": "code",
   "execution_count": 132,
   "id": "544a0ed5",
   "metadata": {},
   "outputs": [
    {
     "name": "stdout",
     "output_type": "stream",
     "text": [
      "등분산성 levene 검증결과 = LeveneResult(statistic=0.13618283405945808, pvalue=0.7123452333011173)\n",
      "t-검정 통계량 = 0.136, p-value = 0.712\n"
     ]
    }
   ],
   "source": [
    "# 등분산성 검증\n",
    "sLevene = stats.levene(rainAMT, rainNAMT)\n",
    "\n",
    "print('등분산성 levene 검증결과 =', sLevene)\n",
    "print('t-검정 통계량 = %.3f, p-value = %.3f' %(sLevene))\n",
    "\n",
    "# 1. p-value = 0.712 > 0.05 이므로, 귀무가설 기각할 수 없음\n",
    "# 2. 귀무가설 채택 : 두 집단간 등분산성 만족"
   ]
  },
  {
   "cell_type": "code",
   "execution_count": 133,
   "id": "cd7881f3",
   "metadata": {},
   "outputs": [
    {
     "name": "stdout",
     "output_type": "stream",
     "text": [
      "서로 다른 두 집단 평균 검정(독립t표본검정) =  Ttest_indResult(statistic=-0.10109828602924716, pvalue=0.919534587722196)\n",
      "t-검정 통계량 = -0.101, p-value = 0.920\n"
     ]
    }
   ],
   "source": [
    "# 두 집단 검증\n",
    "tResult4 = stats.ttest_ind(rainAMT, rainNAMT, equal_var = True)\n",
    "\n",
    "print('서로 다른 두 집단 평균 검정(독립t표본검정) = ', tResult4)\n",
    "print('t-검정 통계량 = %.3f, p-value = %.3f' %(tResult4))"
   ]
  },
  {
   "cell_type": "code",
   "execution_count": null,
   "id": "927e79b5",
   "metadata": {},
   "outputs": [],
   "source": [
    "''' 해석(검증결과)\n",
    "1. p-value = 0.920 > 0.05 이므로, 귀무가설 기각할 수 없음\n",
    "2. 귀무가설 채택 : 두 집단간 평균 차이는 없다(강수여부에 따라 매출액에 차이가 없다)\n",
    "'''"
   ]
  }
 ],
 "metadata": {
  "kernelspec": {
   "display_name": "Python 3 (ipykernel)",
   "language": "python",
   "name": "python3"
  },
  "language_info": {
   "codemirror_mode": {
    "name": "ipython",
    "version": 3
   },
   "file_extension": ".py",
   "mimetype": "text/x-python",
   "name": "python",
   "nbconvert_exporter": "python",
   "pygments_lexer": "ipython3",
   "version": "3.9.12"
  },
  "toc": {
   "base_numbering": 1,
   "nav_menu": {},
   "number_sections": true,
   "sideBar": true,
   "skip_h1_title": false,
   "title_cell": "Table of Contents",
   "title_sidebar": "Contents",
   "toc_cell": false,
   "toc_position": {},
   "toc_section_display": true,
   "toc_window_display": false
  }
 },
 "nbformat": 4,
 "nbformat_minor": 5
}
