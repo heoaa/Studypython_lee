{
 "cells": [
  {
   "cell_type": "markdown",
   "id": "c0e6d060",
   "metadata": {},
   "source": [
    "# Paired Samples t-test\n",
    "* 하나의 집단에서 전(before)/후(after)의 관계를 확인할 때 사용 (하나의 집단이므로 정규성검정만 실시, 등분산성 검정 x)\n",
    "* 사용되는 함수 : ttest_rel(x, y)\n",
    "* x : before, y : after\n",
    "\n",
    "\n",
    "##### 　검증\n",
    "-  　: p-value > 0.05 (전후 상관없음 = 차이없음)\n",
    "-  　: p-value > 0.05 (전후 상관있음 = 차이있음)"
   ]
  },
  {
   "cell_type": "markdown",
   "id": "9ea4f152",
   "metadata": {},
   "source": [
    "## exe1) 야식을 먹기전과 먹은후의 몸무게 차이 검정\n",
    "- H0 : 야식을 먹기전과 먹은후의 몸무게에 차이가 없다\n",
    "- H1 : 야식을 먹기전과 먹은후의 몸무게에 차이가 있다"
   ]
  },
  {
   "cell_type": "markdown",
   "id": "cf0a7895",
   "metadata": {},
   "source": [
    "### 데이터 생성"
   ]
  },
  {
   "cell_type": "code",
   "execution_count": 13,
   "id": "0907e3a7",
   "metadata": {},
   "outputs": [
    {
     "name": "stdout",
     "output_type": "stream",
     "text": [
      "beforeWeights =  [80 56 84 52 74 89 56 64 44 79 78 40 60 51 73 60 82 76 72 89]\n",
      "afterWeights = [59.24979565 81.22051026 58.32088406 52.89802093 44.81046875 51.21515998\n",
      " 42.40706916 45.17371313 41.13055183 80.03212236 73.66723274 89.046538\n",
      " 77.9352732  73.9228476  51.12389853 62.53801495 75.23815505 56.76178487\n",
      " 67.79890205 81.6264808 ]\n"
     ]
    }
   ],
   "source": [
    "import numpy as np\n",
    "from scipy import stats\n",
    "\n",
    "# 야식 복용 전 몸무게 랜덤 생성\n",
    "beforeWeights = np.random.randint(low=40, high=90, size=20)\n",
    "print('beforeWeights = ',beforeWeights)\n",
    "\n",
    "# 야식 복용 후 몸무게 랜덤 생성\n",
    "tmp_list = []\n",
    "for weight in beforWeights :\n",
    "    # np.random.normal(0.99,0.02) : 0.99(-0.02) ~ 0.99(+0.02)\n",
    "    tmp_list.append(weight*np.random.normal(0.99,0.02))\n",
    "    \n",
    "afterWeights = np.array(tmp_list)\n",
    "print('afterWeights =', afterWeights)"
   ]
  },
  {
   "cell_type": "markdown",
   "id": "1e85e4f2",
   "metadata": {},
   "source": [
    "### 전/후 검증하기"
   ]
  },
  {
   "cell_type": "code",
   "execution_count": 15,
   "id": "f4713562",
   "metadata": {},
   "outputs": [
    {
     "name": "stdout",
     "output_type": "stream",
     "text": [
      "검정 결과 =  Ttest_relResult(statistic=0.9896552136534261, pvalue=0.3347794087189413)\n",
      "검정 통계량 = 0.990, p-value = 0.335\n"
     ]
    }
   ],
   "source": [
    "result = stats.ttest_rel(beforeWeights, afterWeights)\n",
    "print('검정 결과 = ', result)\n",
    "print('검정 통계량 = %.3f, p-value = %.3f' %(result))\n",
    "\n",
    "# 1. p-value = 0.335 > 0.05 이므로, 귀무가설 기각할 수 없음\n",
    "# 2. 귀무가설 채택 : 전/후 차이가 없다, 야식 먹기전과 후의 몸무게 차이가 거의 없다고 할 수 있다."
   ]
  },
  {
   "cell_type": "markdown",
   "id": "a7d21bb5",
   "metadata": {},
   "source": [
    "---"
   ]
  },
  {
   "cell_type": "markdown",
   "id": "b57f7c24",
   "metadata": {},
   "source": [
    "## exe2) 특강 전/후 시험점수의 차이 검정\n",
    "- H0 : 특강 전/후 시험점수의 차이가 없다\n",
    "- H1 : 특강 전/후 시험점수의 차이가 있다"
   ]
  },
  {
   "cell_type": "code",
   "execution_count": 16,
   "id": "5ea2d6dc",
   "metadata": {},
   "outputs": [],
   "source": [
    "import numpy as np\n",
    "import scipy.stats as stats\n",
    "from seaborn.distributions import distplot"
   ]
  },
  {
   "cell_type": "code",
   "execution_count": null,
   "id": "e0673e3b",
   "metadata": {},
   "outputs": [],
   "source": [
    "## 데이터 생성(랜덤값 시드 생성)\n",
    "# 특강전 : 랜덤하게 80을 기준으로 + - 10, 100개 생성\n",
    "# 특강후 : 랜덤하게 77을 기준으로 + - 10, 100개 생성\n",
    "\n",
    "## 정규성 검사\n",
    "# 정규성 시각화(한글처리 포함)\n",
    "\n",
    "## 전/후 검정\n",
    "# 해석"
   ]
  },
  {
   "cell_type": "markdown",
   "id": "55e8591c",
   "metadata": {},
   "source": [
    "### 데이터 생성"
   ]
  },
  {
   "cell_type": "code",
   "execution_count": 17,
   "id": "0f5a0087",
   "metadata": {
    "scrolled": true
   },
   "outputs": [
    {
     "name": "stdout",
     "output_type": "stream",
     "text": [
      "beforeScore = [ 68.66161666  83.84319193  94.96553776  76.44617703  72.12466459\n",
      "  75.40561092  79.40831229  76.45826499  72.64476945  68.16060114\n",
      "  82.38894134  74.10079738  65.59414882  87.73703108  69.7203267\n",
      "  79.0901375   84.92003003  84.24672201  92.83048815  83.15986454\n",
      "  75.91917798  79.32052407  70.47573342  78.89322598  85.70594293\n",
      "  89.15420172  63.30659493  84.82713644  76.89527329 103.94689731\n",
      "  95.50930919  73.53534823  70.71062764  63.45023855  83.50192503\n",
      "  78.58243484  85.21081787  79.79099136  62.56156051  72.00841124\n",
      "  66.9642957   81.78105002  76.65597637  76.9397287   76.67594426\n",
      "  99.6294734   87.19242492  91.42886511 100.82876969  67.15352247\n",
      "  85.3812761   79.55460592 105.97164372  79.41733718  70.54713004\n",
      "  85.41172389  79.44991113  91.20020809  78.0835705   73.89861578\n",
      "  75.55421148  57.95990703  75.69329516  75.74906542  81.47291993\n",
      "  84.24924272  83.47257744  77.23764455  67.97704377  90.31023303\n",
      "  87.23318952  94.32778725  86.09506866  74.15844456  78.42125025\n",
      "  76.37046835  82.68068655  86.21987421  82.38169366  72.50816441\n",
      "  77.2101855   87.01622147  85.9934453   82.15407697  92.99866659\n",
      "  73.96365998  82.52243807  88.31516792  76.30811303  69.70063839\n",
      "  73.52417761 101.49267106  58.62976553  84.66418934  76.91145416\n",
      " 101.03122447  69.49602677  78.72886366  64.1586945   73.88925561]\n",
      "afterScore = [ 78.03719408  76.66490711  83.76452416  66.47751389  63.28035422\n",
      "  81.4566265   60.63584022  70.91942965  75.26860757  67.74391683\n",
      "  86.12657795  89.55954092  79.24465992  72.19580313  81.62788355\n",
      "  74.2970839   73.16305732  89.11867583  72.1075622   82.18548884\n",
      "  51.6673575   83.51949104  66.68464046  77.02771693  89.25553772\n",
      "  77.4428612   78.74590912  71.3591069   76.13345353  80.96050974\n",
      "  65.61710605  83.3709135   84.82667939  90.20286629  75.37786811\n",
      "  60.38084321  83.30403032  73.02950211  70.1287048   67.267085\n",
      "  61.86199141  76.9064058   94.56813008  79.86169914  86.66794805\n",
      "  81.61023174  64.35393173  57.84649681  75.78595292  89.85415452\n",
      "  67.18380925  74.27331394  74.66244513  73.96362902  78.49778684\n",
      "  77.8623722   69.63118556  54.6833127   78.99272737  79.36553208\n",
      "  80.87079219 101.61918836  90.1265522   80.90913941  72.63001524\n",
      "  72.44044745  56.72956835  84.202628    76.52456512  85.47146478\n",
      "  85.88175938  69.85580136  89.69427098  72.46006606  68.96755448\n",
      "  75.7151809   76.69822951  74.86338003  78.9652037   98.05104031\n",
      "  74.68137763 103.93605545  85.20103553  83.81458847  72.8031816\n",
      "  80.16705859  80.64820019  78.66595901  86.19543408  93.92392396\n",
      "  70.56089251  74.60344709  74.0384938   77.48709234  97.83426657\n",
      "  85.23496815  67.55412867  82.11588601  63.35119157  80.57739991]\n"
     ]
    }
   ],
   "source": [
    "np.random.seed(111)\n",
    "\n",
    "# 특강전 시험점수 랜덤 생성\n",
    "# x1 =np.rondom.normal(80, 10, 100)\n",
    "beforeScore = []\n",
    "for score in range(0,100) :\n",
    "    beforeScore.append(np.random.normal(80,10))\n",
    "\n",
    "# 특강후 시험점수 랜덤 생성\n",
    "# x2=np.rondom.normal(77, 10, 100)\n",
    "afterScore = []\n",
    "for score in range(0,100) :\n",
    "    afterScore.append(np.random.normal(77,10))\n",
    "\n",
    "beforeScore = np.array(beforeScore)\n",
    "afterScore = np.array(afterScore)\n",
    "print('beforeScore =', beforeScore)\n",
    "print('afterScore =', afterScore)"
   ]
  },
  {
   "cell_type": "markdown",
   "id": "ce5c36e0",
   "metadata": {},
   "source": [
    "### 정규성 검정 및 시각화"
   ]
  },
  {
   "cell_type": "code",
   "execution_count": 20,
   "id": "9efa95aa",
   "metadata": {},
   "outputs": [
    {
     "name": "stdout",
     "output_type": "stream",
     "text": [
      "beforeScore 정규성 검정 결과 =  ShapiroResult(statistic=0.9838762283325195, pvalue=0.2628101706504822)\n",
      "t-검정 통계량 = 0.984, p-value = 0.263\n",
      "\n",
      "\n",
      "afterScore 정규성 검정 결과 =  ShapiroResult(statistic=0.9919325113296509, pvalue=0.8163166642189026)\n",
      "t-검정 통계량 = 0.992, p-value = 0.816\n"
     ]
    }
   ],
   "source": [
    "resultSh1 = stats.shapiro(beforeScore)\n",
    "print('beforeScore 정규성 검정 결과 = ', resultSh1)\n",
    "print('t-검정 통계량 = %.3f, p-value = %.3f' %(resultSh1))\n",
    "\n",
    "print('\\n')\n",
    "\n",
    "resultSh2 = stats.shapiro(afterScore)\n",
    "print('afterScore 정규성 검정 결과 = ', resultSh2)\n",
    "print('t-검정 통계량 = %.3f, p-value = %.3f' %(resultSh2))\n",
    "\n",
    "# p-value > 0.05 이므로, 귀무가설 기각할 수 없음\n",
    "# 특강전/후 데이터 모두 정규성을 만족함(H0 : 정규성을 만족한다.)"
   ]
  },
  {
   "cell_type": "code",
   "execution_count": 22,
   "id": "d3e52a6f",
   "metadata": {},
   "outputs": [
    {
     "name": "stderr",
     "output_type": "stream",
     "text": [
      "C:\\Users\\admin\\anaconda3\\lib\\site-packages\\seaborn\\distributions.py:2619: FutureWarning: `distplot` is a deprecated function and will be removed in a future version. Please adapt your code to use either `displot` (a figure-level function with similar flexibility) or `histplot` (an axes-level function for histograms).\n",
      "  warnings.warn(msg, FutureWarning)\n",
      "C:\\Users\\admin\\anaconda3\\lib\\site-packages\\seaborn\\distributions.py:2619: FutureWarning: `distplot` is a deprecated function and will be removed in a future version. Please adapt your code to use either `displot` (a figure-level function with similar flexibility) or `histplot` (an axes-level function for histograms).\n",
      "  warnings.warn(msg, FutureWarning)\n"
     ]
    },
    {
     "data": {
      "image/png": "[encoded data removed]",
      "text/plain": [
       "<Figure size 432x288 with 1 Axes>"
      ]
     },
     "metadata": {
      "needs_background": "light"
     },
     "output_type": "display_data"
    }
   ],
   "source": [
    "import seaborn as sns\n",
    "import matplotlib.pyplot as plt \n",
    "\n",
    "plt.rc('font', family = 'Malgun Gothic')\n",
    "\n",
    "sns.distplot(beforeScore, fit=stats.norm)\n",
    "sns.distplot(afterScore, fit=stats.norm)\n",
    "plt.show()"
   ]
  },
  {
   "cell_type": "markdown",
   "id": "1fb37080",
   "metadata": {},
   "source": [
    "### 등분산성 검증 (실시X)"
   ]
  },
  {
   "cell_type": "code",
   "execution_count": 25,
   "id": "986a0606",
   "metadata": {},
   "outputs": [
    {
     "name": "stdout",
     "output_type": "stream",
     "text": [
      "등분산성 levene 검증결과 = LeveneResult(statistic=0.00483237506925527, pvalue=0.9446496207929885)\n",
      "t-검정 통계량 = 0.005, p-value = 0.945\n",
      "등분산성 fligner 검증결과 = FlignerResult(statistic=0.011540962784682411, pvalue=0.9144487495914634)\n",
      "t-검정 통계량 = 0.012, p-value = 0.914\n",
      "등분산성 bartlett 검증결과 = BartlettResult(statistic=0.0014757388055649196, pvalue=0.9693565257030983)\n",
      "t-검정 통계량 = 0.001, p-value = 0.969\n"
     ]
    }
   ],
   "source": [
    "# 등분산성 검증 : 같은 집단 내 전/후 검정 즉 하나의 집단에서는 하지 않음\n",
    "sLevene = stats.levene(beforeScore, afterScore)\n",
    "\n",
    "print('등분산성 levene 검증결과 =', sLevene)\n",
    "print('t-검정 통계량 = %.3f, p-value = %.3f' %(sLevene))\n",
    "\n",
    "sFligner = stats.fligner(beforeScore, afterScore)\n",
    "\n",
    "print('등분산성 fligner 검증결과 =', sFligner)\n",
    "print('t-검정 통계량 = %.3f, p-value = %.3f' %(sFligner))\n",
    "\n",
    "sBartlett = stats.bartlett(beforeScore, afterScore)\n",
    "\n",
    "print('등분산성 bartlett 검증결과 =', sBartlett)\n",
    "print('t-검정 통계량 = %.3f, p-value = %.3f' %(sBartlett))"
   ]
  },
  {
   "cell_type": "markdown",
   "id": "adad1861",
   "metadata": {},
   "source": [
    "### 전/후 검정 및 결과 해석"
   ]
  },
  {
   "cell_type": "code",
   "execution_count": 23,
   "id": "d8baf515",
   "metadata": {},
   "outputs": [
    {
     "name": "stdout",
     "output_type": "stream",
     "text": [
      "검정 결과 =  Ttest_relResult(statistic=1.764156249431226, pvalue=0.08079024833017731)\n",
      "검정 통계량 = 1.764, p-value = 0.081\n"
     ]
    }
   ],
   "source": [
    "result = stats.ttest_rel(beforeScore, afterScore)\n",
    "print('검정 결과 = ', result)\n",
    "print('검정 통계량 = %.3f, p-value = %.3f' %(result))\n",
    "\n",
    "# 1. p-value = 0.081 > 0.05 이므로, 귀무가설 기각할 수 없음\n",
    "# 2. 귀무가설 채택 : 전/후 차이가 없다, 특강전/후 시험점수 차이가 거의 없다고 할 수 있다."
   ]
  },
  {
   "cell_type": "markdown",
   "id": "c7f58168",
   "metadata": {},
   "source": [
    "##### 전체코드"
   ]
  },
  {
   "cell_type": "code",
   "execution_count": null,
   "id": "7c9d7733",
   "metadata": {},
   "outputs": [],
   "source": [
    "## 데이터생성\n",
    "np.ramdom.seed(123)\n",
    "x1 =np.rondom.normal(80, 10, 100)\n",
    "x2 =np.rondom.normal(77, 10, 100)\n",
    "\n",
    "## 정규성 검정-------------------------------------------------\n",
    "resultSh1 = stats.shapiro(beforeScore)\n",
    "print('beforeScore 정규성 검정 결과 = ', resultSh1)\n",
    "print('t-검정 통계량 = %.3f, p-value = %.3f' %(resultSh1))\n",
    "\n",
    "print('\\n')\n",
    "\n",
    "resultSh2 = stats.shapiro(afterScore)\n",
    "print('afterScore 정규성 검정 결과 = ', resultSh2)\n",
    "print('t-검정 통계량 = %.3f, p-value = %.3f' %(resultSh2))\n",
    "\n",
    "# p-value > 0.05 이므로, 귀무가설 기각할 수 없음\n",
    "# 특강전/후 데이터 모두 정규성을 만족함(H0 : 정규성을 만족한다.)\n",
    "\n",
    "## 정규성 시각화-----------------------------------------------\n",
    "import seaborn as sns\n",
    "import matplotlib.pyplot as plt \n",
    "\n",
    "plt.rc('font', family = 'Malgun Gothic')\n",
    "\n",
    "sns.distplot(beforeScore, fit=stats.norm)\n",
    "sns.distplot(afterScore, fit=stats.norm)\n",
    "plt.show()\n",
    "\n",
    "## 검증결과 및 해석--------------------------------------------\n",
    "result = stats.ttest_rel(beforeScore, afterScore)\n",
    "print('검정 결과 = ', result)\n",
    "print('검정 통계량 = %.3f, p-value = %.3f' %(result))\n",
    "\n",
    "# 1. p-value = 0.081 > 0.05 이므로, 귀무가설 기각할 수 없음\n",
    "# 2. 귀무가설 채택 : 두 변수간 차이가 없다, 특강전/후 시험점수 차이가 거의 없다고 할 수 있다."
   ]
  },
  {
   "cell_type": "markdown",
   "id": "3cb06f14",
   "metadata": {},
   "source": [
    "## exe3) 환자 9명의 복부 수술전/후 몸무게 변화에 대한 차이 검정\n",
    "- H0 : 복부 수술 전/후의 몸무게 변화가 없다\n",
    "- H1 : 복부 수술 전/후의 몸무게 변화가 있다"
   ]
  },
  {
   "cell_type": "code",
   "execution_count": null,
   "id": "0034cf2b",
   "metadata": {},
   "outputs": [],
   "source": [
    "# 데이터 생성\n",
    "# 정규성 검정 및 시각화\n",
    "# 전/후 검정\n",
    "# 해석"
   ]
  },
  {
   "cell_type": "markdown",
   "id": "7054aa07",
   "metadata": {},
   "source": [
    "### 데이터 생성"
   ]
  },
  {
   "cell_type": "code",
   "execution_count": 54,
   "id": "bbc1b06d",
   "metadata": {},
   "outputs": [
    {
     "name": "stdout",
     "output_type": "stream",
     "text": [
      "weight1 =  [54.7 70.2 78.9 81.3 55.9 77.1 70.2 83.9 68.6]\n",
      "weight2 =  [56.30098697 69.88518065 78.83476265 82.11505634 54.48703212 77.44221245\n",
      " 68.22672073 84.74214355 67.19954133]\n"
     ]
    }
   ],
   "source": [
    "np.random.seed(222)\n",
    "\n",
    "weight1 = np.array([54.7, 70.2, 78.9, 81.3, 55.9, 77.1, 70.2, 83.9, 68.6])\n",
    "print('weight1 = ',weight1)\n",
    "\n",
    "tmp_list = []\n",
    "for i in weight1 :\n",
    "    tmp_list.append(i*np.random.normal(0.99,0.02))\n",
    "    \n",
    "weight2 = np.array(tmp_list)\n",
    "print('weight2 = ',weight2)"
   ]
  },
  {
   "cell_type": "markdown",
   "id": "7454a370",
   "metadata": {},
   "source": [
    "### 검정 전체코드"
   ]
  },
  {
   "cell_type": "code",
   "execution_count": 55,
   "id": "da65e627",
   "metadata": {},
   "outputs": [
    {
     "name": "stdout",
     "output_type": "stream",
     "text": [
      "weight1 정규성 검정 결과 =  ShapiroResult(statistic=0.9064915180206299, pvalue=0.29208552837371826)\n",
      "t-검정 통계량 = 0.906, p-value = 0.292\n",
      "weight2 정규성 검정 결과 =  ShapiroResult(statistic=0.9297181367874146, pvalue=0.4786675274372101)\n",
      "t-검정 통계량 = 0.930, p-value = 0.479\n"
     ]
    },
    {
     "name": "stderr",
     "output_type": "stream",
     "text": [
      "C:\\Users\\admin\\anaconda3\\lib\\site-packages\\seaborn\\distributions.py:2619: FutureWarning: `distplot` is a deprecated function and will be removed in a future version. Please adapt your code to use either `displot` (a figure-level function with similar flexibility) or `histplot` (an axes-level function for histograms).\n",
      "  warnings.warn(msg, FutureWarning)\n",
      "C:\\Users\\admin\\anaconda3\\lib\\site-packages\\seaborn\\distributions.py:2619: FutureWarning: `distplot` is a deprecated function and will be removed in a future version. Please adapt your code to use either `displot` (a figure-level function with similar flexibility) or `histplot` (an axes-level function for histograms).\n",
      "  warnings.warn(msg, FutureWarning)\n"
     ]
    },
    {
     "data": {
      "image/png": "[encoded data removed]",
      "text/plain": [
       "<Figure size 432x288 with 1 Axes>"
      ]
     },
     "metadata": {
      "needs_background": "light"
     },
     "output_type": "display_data"
    },
    {
     "name": "stdout",
     "output_type": "stream",
     "text": [
      "검정 결과 =  Ttest_relResult(statistic=0.4310756980810535, pvalue=0.6777933911257301)\n",
      "검정 통계량 = 0.431, p-value = 0.678\n"
     ]
    }
   ],
   "source": [
    "## 정규성 검정-------------------------------------------------\n",
    "resultSh1 = stats.shapiro(weight1)\n",
    "print('weight1 정규성 검정 결과 = ', resultSh1)\n",
    "print('t-검정 통계량 = %.3f, p-value = %.3f' %(resultSh1))\n",
    "\n",
    "resultSh2 = stats.shapiro(weight2)\n",
    "print('weight2 정규성 검정 결과 = ', resultSh2)\n",
    "print('t-검정 통계량 = %.3f, p-value = %.3f' %(resultSh2))\n",
    "\n",
    "# p-value > 0.05 이므로, 귀무가설 기각할 수 없음\n",
    "# 복부 수술전/후 몸무게 데이터 모두 정규성을 만족함(H0 : 정규성을 만족한다.)\n",
    "\n",
    "## 정규성 시각화-----------------------------------------------\n",
    "import seaborn as sns\n",
    "import matplotlib.pyplot as plt \n",
    "\n",
    "plt.rc('font', family = 'Malgun Gothic')\n",
    "\n",
    "sns.distplot(weight1, fit=stats.norm)\n",
    "sns.distplot(weight2, fit=stats.norm)\n",
    "plt.show()\n",
    "\n",
    "## 검증결과 및 해석--------------------------------------------\n",
    "result = stats.ttest_rel(weight1, weight2)\n",
    "print('검정 결과 = ', result)\n",
    "print('검정 통계량 = %.3f, p-value = %.3f' %(result))\n",
    "\n",
    "# 1. p-value = 0.978 > 0.05 이므로, 귀무가설 기각할 수 없음\n",
    "# 2. 귀무가설 채택 : 두 변수간 차이가 없다, 복부 수술전/후 몸무게 차이가 거의 없다고 할 수 있다."
   ]
  },
  {
   "cell_type": "code",
   "execution_count": null,
   "id": "4bba1fe9",
   "metadata": {},
   "outputs": [],
   "source": []
  },
  {
   "cell_type": "code",
   "execution_count": null,
   "id": "dbcff411",
   "metadata": {},
   "outputs": [],
   "source": []
  },
  {
   "cell_type": "code",
   "execution_count": null,
   "id": "63d6e402",
   "metadata": {},
   "outputs": [],
   "source": []
  },
  {
   "cell_type": "code",
   "execution_count": null,
   "id": "a7cdb789",
   "metadata": {},
   "outputs": [],
   "source": []
  },
  {
   "cell_type": "code",
   "execution_count": null,
   "id": "18ef4221",
   "metadata": {},
   "outputs": [],
   "source": []
  },
  {
   "cell_type": "code",
   "execution_count": null,
   "id": "940128e4",
   "metadata": {},
   "outputs": [],
   "source": []
  },
  {
   "cell_type": "code",
   "execution_count": null,
   "id": "822ce6b5",
   "metadata": {},
   "outputs": [],
   "source": []
  },
  {
   "cell_type": "code",
   "execution_count": null,
   "id": "263a104d",
   "metadata": {},
   "outputs": [],
   "source": []
  },
  {
   "cell_type": "code",
   "execution_count": null,
   "id": "cacd47d2",
   "metadata": {},
   "outputs": [],
   "source": []
  },
  {
   "cell_type": "code",
   "execution_count": null,
   "id": "5327c7f8",
   "metadata": {},
   "outputs": [],
   "source": []
  },
  {
   "cell_type": "code",
   "execution_count": null,
   "id": "ab563e6f",
   "metadata": {},
   "outputs": [],
   "source": []
  }
 ],
 "metadata": {
  "kernelspec": {
   "display_name": "Python 3 (ipykernel)",
   "language": "python",
   "name": "python3"
  },
  "language_info": {
   "codemirror_mode": {
    "name": "ipython",
    "version": 3
   },
   "file_extension": ".py",
   "mimetype": "text/x-python",
   "name": "python",
   "nbconvert_exporter": "python",
   "pygments_lexer": "ipython3",
   "version": "3.9.12"
  },
  "toc": {
   "base_numbering": 1,
   "nav_menu": {},
   "number_sections": true,
   "sideBar": true,
   "skip_h1_title": false,
   "title_cell": "Table of Contents",
   "title_sidebar": "Contents",
   "toc_cell": false,
   "toc_position": {},
   "toc_section_display": true,
   "toc_window_display": true
  }
 },
 "nbformat": 4,
 "nbformat_minor": 5
}
