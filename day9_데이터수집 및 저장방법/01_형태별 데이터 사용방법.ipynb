{
 "cells": [
  {
   "cell_type": "code",
   "execution_count": null,
   "id": "43888daf",
   "metadata": {},
   "outputs": [],
   "source": [
    "'''\n",
    "[파일 불러오기]\n",
    "파일 다운로드 포멧 : xlsx, csv txt json\n",
    "오픈 API 방식 : 프로그램과 프로그램이 서로 주고받는 방식 (인증키, API 정의된 문서, 규칙, XML, JSON)\n",
    "웹크롤링 : 찾아서 긁어내는 방식 (사전지식: html 태그 규칙, css 규칙)\n",
    "\n",
    "[파일 저장하기]\n",
    "판다스 : to_csv, to_excel, to_json\n",
    "'''"
   ]
  },
  {
   "cell_type": "markdown",
   "id": "318c4e84",
   "metadata": {},
   "source": [
    "## 데이터 파일 불러오기"
   ]
  },
  {
   "cell_type": "code",
   "execution_count": 1,
   "id": "1f20fe63",
   "metadata": {},
   "outputs": [],
   "source": [
    "import pandas as pd"
   ]
  },
  {
   "cell_type": "markdown",
   "id": "b28ad07b",
   "metadata": {},
   "source": [
    "### csv"
   ]
  },
  {
   "cell_type": "code",
   "execution_count": null,
   "id": "3645d181",
   "metadata": {},
   "outputs": [],
   "source": [
    "# bicycle.csv 파일을 읽어 들인 후 조회\n",
    "# 데이터프레임 변수 df1"
   ]
  },
  {
   "cell_type": "code",
   "execution_count": 3,
   "id": "55a8cb0c",
   "metadata": {},
   "outputs": [
    {
     "data": {
      "text/html": [
       "<div>\n",
       "<style scoped>\n",
       "    .dataframe tbody tr th:only-of-type {\n",
       "        vertical-align: middle;\n",
       "    }\n",
       "\n",
       "    .dataframe tbody tr th {\n",
       "        vertical-align: top;\n",
       "    }\n",
       "\n",
       "    .dataframe thead th {\n",
       "        text-align: right;\n",
       "    }\n",
       "</style>\n",
       "<table border=\"1\" class=\"dataframe\">\n",
       "  <thead>\n",
       "    <tr style=\"text-align: right;\">\n",
       "      <th></th>\n",
       "      <th>자전거번호</th>\n",
       "      <th>대여일시</th>\n",
       "      <th>대여소번호</th>\n",
       "      <th>대여소명</th>\n",
       "      <th>대여거치대</th>\n",
       "      <th>반납일시</th>\n",
       "      <th>반납대여소번호</th>\n",
       "      <th>반납대여소명</th>\n",
       "      <th>반납거치대</th>\n",
       "      <th>이용시간</th>\n",
       "      <th>이용거리</th>\n",
       "    </tr>\n",
       "  </thead>\n",
       "  <tbody>\n",
       "    <tr>\n",
       "      <th>0</th>\n",
       "      <td>SPB-23220</td>\n",
       "      <td>2019-11-01 8:48</td>\n",
       "      <td>646</td>\n",
       "      <td>장한평역 1번출구 (국민은행앞)</td>\n",
       "      <td>3.0</td>\n",
       "      <td>2019-11-01 9:01</td>\n",
       "      <td>3</td>\n",
       "      <td>중랑센터</td>\n",
       "      <td>7.0</td>\n",
       "      <td>12.0</td>\n",
       "      <td>1100.0</td>\n",
       "    </tr>\n",
       "    <tr>\n",
       "      <th>1</th>\n",
       "      <td>SPB-16216</td>\n",
       "      <td>2019-11-04 8:38</td>\n",
       "      <td>646</td>\n",
       "      <td>장한평역 1번출구 (국민은행앞)</td>\n",
       "      <td>2.0</td>\n",
       "      <td>2019-11-04 8:56</td>\n",
       "      <td>3</td>\n",
       "      <td>중랑센터</td>\n",
       "      <td>2.0</td>\n",
       "      <td>7.0</td>\n",
       "      <td>1420.0</td>\n",
       "    </tr>\n",
       "    <tr>\n",
       "      <th>2</th>\n",
       "      <td>SPB-21097</td>\n",
       "      <td>2019-11-04 8:46</td>\n",
       "      <td>646</td>\n",
       "      <td>장한평역 1번출구 (국민은행앞)</td>\n",
       "      <td>1.0</td>\n",
       "      <td>2019-11-04 8:57</td>\n",
       "      <td>3</td>\n",
       "      <td>중랑센터</td>\n",
       "      <td>7.0</td>\n",
       "      <td>10.0</td>\n",
       "      <td>NaN</td>\n",
       "    </tr>\n",
       "    <tr>\n",
       "      <th>3</th>\n",
       "      <td>SPB-22292</td>\n",
       "      <td>2019-11-05 8:34</td>\n",
       "      <td>646</td>\n",
       "      <td>장한평역 1번출구 (국민은행앞)</td>\n",
       "      <td>1.0</td>\n",
       "      <td>2019-11-05 8:45</td>\n",
       "      <td>3</td>\n",
       "      <td>중랑센터</td>\n",
       "      <td>NaN</td>\n",
       "      <td>10.0</td>\n",
       "      <td>1380.0</td>\n",
       "    </tr>\n",
       "    <tr>\n",
       "      <th>4</th>\n",
       "      <td>SPB-07935</td>\n",
       "      <td>2019-11-05 12:29</td>\n",
       "      <td>512</td>\n",
       "      <td>뚝섬역 1번 출구 옆</td>\n",
       "      <td>11.0</td>\n",
       "      <td>2019-11-05 12:39</td>\n",
       "      <td>3</td>\n",
       "      <td>중랑센터</td>\n",
       "      <td>7.0</td>\n",
       "      <td>10.0</td>\n",
       "      <td>1650.0</td>\n",
       "    </tr>\n",
       "    <tr>\n",
       "      <th>...</th>\n",
       "      <td>...</td>\n",
       "      <td>...</td>\n",
       "      <td>...</td>\n",
       "      <td>...</td>\n",
       "      <td>...</td>\n",
       "      <td>...</td>\n",
       "      <td>...</td>\n",
       "      <td>...</td>\n",
       "      <td>...</td>\n",
       "      <td>...</td>\n",
       "      <td>...</td>\n",
       "    </tr>\n",
       "    <tr>\n",
       "      <th>415</th>\n",
       "      <td>SPB-12116</td>\n",
       "      <td>2019-11-15 4:22</td>\n",
       "      <td>112</td>\n",
       "      <td>극동방송국 앞</td>\n",
       "      <td>5.0</td>\n",
       "      <td>2019-11-15 4:33</td>\n",
       "      <td>101</td>\n",
       "      <td>(구)합정동 주민센터</td>\n",
       "      <td>1.0</td>\n",
       "      <td>11.0</td>\n",
       "      <td>2200.0</td>\n",
       "    </tr>\n",
       "    <tr>\n",
       "      <th>416</th>\n",
       "      <td>SPB-17768</td>\n",
       "      <td>2019-11-15 9:31</td>\n",
       "      <td>103</td>\n",
       "      <td>망원역 2번출구 앞</td>\n",
       "      <td>14.0</td>\n",
       "      <td>2019-11-15 9:37</td>\n",
       "      <td>101</td>\n",
       "      <td>(구)합정동 주민센터</td>\n",
       "      <td>NaN</td>\n",
       "      <td>5.0</td>\n",
       "      <td>NaN</td>\n",
       "    </tr>\n",
       "    <tr>\n",
       "      <th>417</th>\n",
       "      <td>SPB-18841</td>\n",
       "      <td>2019-11-15 20:40</td>\n",
       "      <td>113</td>\n",
       "      <td>홍대입구역 2번출구 앞</td>\n",
       "      <td>24.0</td>\n",
       "      <td>2019-11-15 20:53</td>\n",
       "      <td>101</td>\n",
       "      <td>(구)합정동 주민센터</td>\n",
       "      <td>1.0</td>\n",
       "      <td>12.0</td>\n",
       "      <td>2280.0</td>\n",
       "    </tr>\n",
       "    <tr>\n",
       "      <th>418</th>\n",
       "      <td>SPB-24467</td>\n",
       "      <td>2019-11-15 21:55</td>\n",
       "      <td>152</td>\n",
       "      <td>마포구민체육센터 앞</td>\n",
       "      <td>18.0</td>\n",
       "      <td>2019-11-15 22:05</td>\n",
       "      <td>101</td>\n",
       "      <td>(구)합정동 주민센터</td>\n",
       "      <td>1.0</td>\n",
       "      <td>10.0</td>\n",
       "      <td>1180.0</td>\n",
       "    </tr>\n",
       "    <tr>\n",
       "      <th>419</th>\n",
       "      <td>SPB-17570</td>\n",
       "      <td>2019-11-15 22:16</td>\n",
       "      <td>391</td>\n",
       "      <td>정동길입구</td>\n",
       "      <td>7.0</td>\n",
       "      <td>2019-11-15 23:04</td>\n",
       "      <td>101</td>\n",
       "      <td>(구)합정동 주민센터</td>\n",
       "      <td>5.0</td>\n",
       "      <td>48.0</td>\n",
       "      <td>8100.0</td>\n",
       "    </tr>\n",
       "  </tbody>\n",
       "</table>\n",
       "<p>420 rows × 11 columns</p>\n",
       "</div>"
      ],
      "text/plain": [
       "         자전거번호              대여일시  대여소번호               대여소명  대여거치대  \\\n",
       "0    SPB-23220   2019-11-01 8:48    646  장한평역 1번출구 (국민은행앞)    3.0   \n",
       "1    SPB-16216   2019-11-04 8:38    646  장한평역 1번출구 (국민은행앞)    2.0   \n",
       "2    SPB-21097   2019-11-04 8:46    646  장한평역 1번출구 (국민은행앞)    1.0   \n",
       "3    SPB-22292   2019-11-05 8:34    646  장한평역 1번출구 (국민은행앞)    1.0   \n",
       "4    SPB-07935  2019-11-05 12:29    512        뚝섬역 1번 출구 옆   11.0   \n",
       "..         ...               ...    ...                ...    ...   \n",
       "415  SPB-12116   2019-11-15 4:22    112            극동방송국 앞    5.0   \n",
       "416  SPB-17768   2019-11-15 9:31    103         망원역 2번출구 앞   14.0   \n",
       "417  SPB-18841  2019-11-15 20:40    113       홍대입구역 2번출구 앞   24.0   \n",
       "418  SPB-24467  2019-11-15 21:55    152         마포구민체육센터 앞   18.0   \n",
       "419  SPB-17570  2019-11-15 22:16    391              정동길입구    7.0   \n",
       "\n",
       "                 반납일시  반납대여소번호       반납대여소명  반납거치대  이용시간    이용거리  \n",
       "0     2019-11-01 9:01        3         중랑센터    7.0  12.0  1100.0  \n",
       "1     2019-11-04 8:56        3         중랑센터    2.0   7.0  1420.0  \n",
       "2     2019-11-04 8:57        3         중랑센터    7.0  10.0     NaN  \n",
       "3     2019-11-05 8:45        3         중랑센터    NaN  10.0  1380.0  \n",
       "4    2019-11-05 12:39        3         중랑센터    7.0  10.0  1650.0  \n",
       "..                ...      ...          ...    ...   ...     ...  \n",
       "415   2019-11-15 4:33      101  (구)합정동 주민센터    1.0  11.0  2200.0  \n",
       "416   2019-11-15 9:37      101  (구)합정동 주민센터    NaN   5.0     NaN  \n",
       "417  2019-11-15 20:53      101  (구)합정동 주민센터    1.0  12.0  2280.0  \n",
       "418  2019-11-15 22:05      101  (구)합정동 주민센터    1.0  10.0  1180.0  \n",
       "419  2019-11-15 23:04      101  (구)합정동 주민센터    5.0  48.0  8100.0  \n",
       "\n",
       "[420 rows x 11 columns]"
      ]
     },
     "execution_count": 3,
     "metadata": {},
     "output_type": "execute_result"
    }
   ],
   "source": [
    "df1 = pd.read_csv('./data/bicycle.csv', encoding='euc-kr')\n",
    "df1"
   ]
  },
  {
   "cell_type": "markdown",
   "id": "c74c6aaf",
   "metadata": {},
   "source": [
    "### excel (.xlsx)"
   ]
  },
  {
   "cell_type": "code",
   "execution_count": 5,
   "id": "514c37b1",
   "metadata": {},
   "outputs": [
    {
     "data": {
      "text/html": [
       "<div>\n",
       "<style scoped>\n",
       "    .dataframe tbody tr th:only-of-type {\n",
       "        vertical-align: middle;\n",
       "    }\n",
       "\n",
       "    .dataframe tbody tr th {\n",
       "        vertical-align: top;\n",
       "    }\n",
       "\n",
       "    .dataframe thead th {\n",
       "        text-align: right;\n",
       "    }\n",
       "</style>\n",
       "<table border=\"1\" class=\"dataframe\">\n",
       "  <thead>\n",
       "    <tr style=\"text-align: right;\">\n",
       "      <th></th>\n",
       "      <th>자전거번호</th>\n",
       "      <th>대여일시</th>\n",
       "      <th>대여소번호</th>\n",
       "      <th>대여소명</th>\n",
       "      <th>대여거치대</th>\n",
       "      <th>반납일시</th>\n",
       "      <th>반납대여소번호</th>\n",
       "      <th>반납대여소명</th>\n",
       "      <th>반납거치대</th>\n",
       "      <th>이용시간</th>\n",
       "      <th>이용거리</th>\n",
       "    </tr>\n",
       "  </thead>\n",
       "  <tbody>\n",
       "    <tr>\n",
       "      <th>0</th>\n",
       "      <td>SPB-23220</td>\n",
       "      <td>2019-11-01 08:48:31</td>\n",
       "      <td>646</td>\n",
       "      <td>장한평역 1번출구 (국민은행앞)</td>\n",
       "      <td>3.0</td>\n",
       "      <td>2019-11-01 09:01:24</td>\n",
       "      <td>3</td>\n",
       "      <td>중랑센터</td>\n",
       "      <td>7.0</td>\n",
       "      <td>12.0</td>\n",
       "      <td>1100.0</td>\n",
       "    </tr>\n",
       "    <tr>\n",
       "      <th>1</th>\n",
       "      <td>SPB-16216</td>\n",
       "      <td>2019-11-04 08:38:39</td>\n",
       "      <td>646</td>\n",
       "      <td>장한평역 1번출구 (국민은행앞)</td>\n",
       "      <td>2.0</td>\n",
       "      <td>2019-11-04 08:56:33</td>\n",
       "      <td>3</td>\n",
       "      <td>중랑센터</td>\n",
       "      <td>2.0</td>\n",
       "      <td>7.0</td>\n",
       "      <td>1420.0</td>\n",
       "    </tr>\n",
       "    <tr>\n",
       "      <th>2</th>\n",
       "      <td>SPB-21097</td>\n",
       "      <td>2019-11-04 08:46:37</td>\n",
       "      <td>646</td>\n",
       "      <td>장한평역 1번출구 (국민은행앞)</td>\n",
       "      <td>1.0</td>\n",
       "      <td>2019-11-04 08:57:35</td>\n",
       "      <td>3</td>\n",
       "      <td>중랑센터</td>\n",
       "      <td>7.0</td>\n",
       "      <td>10.0</td>\n",
       "      <td>NaN</td>\n",
       "    </tr>\n",
       "    <tr>\n",
       "      <th>3</th>\n",
       "      <td>SPB-22292</td>\n",
       "      <td>2019-11-05 08:34:59</td>\n",
       "      <td>646</td>\n",
       "      <td>장한평역 1번출구 (국민은행앞)</td>\n",
       "      <td>1.0</td>\n",
       "      <td>2019-11-05 08:45:45</td>\n",
       "      <td>3</td>\n",
       "      <td>중랑센터</td>\n",
       "      <td>NaN</td>\n",
       "      <td>10.0</td>\n",
       "      <td>1380.0</td>\n",
       "    </tr>\n",
       "    <tr>\n",
       "      <th>4</th>\n",
       "      <td>SPB-07935</td>\n",
       "      <td>2019-11-05 12:29:00</td>\n",
       "      <td>512</td>\n",
       "      <td>뚝섬역 1번 출구 옆</td>\n",
       "      <td>11.0</td>\n",
       "      <td>2019-11-05 12:39:37</td>\n",
       "      <td>3</td>\n",
       "      <td>중랑센터</td>\n",
       "      <td>7.0</td>\n",
       "      <td>10.0</td>\n",
       "      <td>1650.0</td>\n",
       "    </tr>\n",
       "    <tr>\n",
       "      <th>...</th>\n",
       "      <td>...</td>\n",
       "      <td>...</td>\n",
       "      <td>...</td>\n",
       "      <td>...</td>\n",
       "      <td>...</td>\n",
       "      <td>...</td>\n",
       "      <td>...</td>\n",
       "      <td>...</td>\n",
       "      <td>...</td>\n",
       "      <td>...</td>\n",
       "      <td>...</td>\n",
       "    </tr>\n",
       "    <tr>\n",
       "      <th>415</th>\n",
       "      <td>SPB-12116</td>\n",
       "      <td>2019-11-15 04:22:13</td>\n",
       "      <td>112</td>\n",
       "      <td>극동방송국 앞</td>\n",
       "      <td>5.0</td>\n",
       "      <td>2019-11-15 04:33:40</td>\n",
       "      <td>101</td>\n",
       "      <td>(구)합정동 주민센터</td>\n",
       "      <td>1.0</td>\n",
       "      <td>11.0</td>\n",
       "      <td>2200.0</td>\n",
       "    </tr>\n",
       "    <tr>\n",
       "      <th>416</th>\n",
       "      <td>SPB-17768</td>\n",
       "      <td>2019-11-15 09:31:48</td>\n",
       "      <td>103</td>\n",
       "      <td>망원역 2번출구 앞</td>\n",
       "      <td>14.0</td>\n",
       "      <td>2019-11-15 09:37:56</td>\n",
       "      <td>101</td>\n",
       "      <td>(구)합정동 주민센터</td>\n",
       "      <td>NaN</td>\n",
       "      <td>5.0</td>\n",
       "      <td>NaN</td>\n",
       "    </tr>\n",
       "    <tr>\n",
       "      <th>417</th>\n",
       "      <td>SPB-18841</td>\n",
       "      <td>2019-11-15 20:40:40</td>\n",
       "      <td>113</td>\n",
       "      <td>홍대입구역 2번출구 앞</td>\n",
       "      <td>24.0</td>\n",
       "      <td>2019-11-15 20:53:46</td>\n",
       "      <td>101</td>\n",
       "      <td>(구)합정동 주민센터</td>\n",
       "      <td>1.0</td>\n",
       "      <td>12.0</td>\n",
       "      <td>2280.0</td>\n",
       "    </tr>\n",
       "    <tr>\n",
       "      <th>418</th>\n",
       "      <td>SPB-24467</td>\n",
       "      <td>2019-11-15 21:55:13</td>\n",
       "      <td>152</td>\n",
       "      <td>마포구민체육센터 앞</td>\n",
       "      <td>18.0</td>\n",
       "      <td>2019-11-15 22:05:40</td>\n",
       "      <td>101</td>\n",
       "      <td>(구)합정동 주민센터</td>\n",
       "      <td>1.0</td>\n",
       "      <td>10.0</td>\n",
       "      <td>1180.0</td>\n",
       "    </tr>\n",
       "    <tr>\n",
       "      <th>419</th>\n",
       "      <td>SPB-17570</td>\n",
       "      <td>2019-11-15 22:16:08</td>\n",
       "      <td>391</td>\n",
       "      <td>정동길입구</td>\n",
       "      <td>7.0</td>\n",
       "      <td>2019-11-15 23:04:53</td>\n",
       "      <td>101</td>\n",
       "      <td>(구)합정동 주민센터</td>\n",
       "      <td>5.0</td>\n",
       "      <td>48.0</td>\n",
       "      <td>8100.0</td>\n",
       "    </tr>\n",
       "  </tbody>\n",
       "</table>\n",
       "<p>420 rows × 11 columns</p>\n",
       "</div>"
      ],
      "text/plain": [
       "         자전거번호                대여일시  대여소번호               대여소명  대여거치대  \\\n",
       "0    SPB-23220 2019-11-01 08:48:31    646  장한평역 1번출구 (국민은행앞)    3.0   \n",
       "1    SPB-16216 2019-11-04 08:38:39    646  장한평역 1번출구 (국민은행앞)    2.0   \n",
       "2    SPB-21097 2019-11-04 08:46:37    646  장한평역 1번출구 (국민은행앞)    1.0   \n",
       "3    SPB-22292 2019-11-05 08:34:59    646  장한평역 1번출구 (국민은행앞)    1.0   \n",
       "4    SPB-07935 2019-11-05 12:29:00    512        뚝섬역 1번 출구 옆   11.0   \n",
       "..         ...                 ...    ...                ...    ...   \n",
       "415  SPB-12116 2019-11-15 04:22:13    112            극동방송국 앞    5.0   \n",
       "416  SPB-17768 2019-11-15 09:31:48    103         망원역 2번출구 앞   14.0   \n",
       "417  SPB-18841 2019-11-15 20:40:40    113       홍대입구역 2번출구 앞   24.0   \n",
       "418  SPB-24467 2019-11-15 21:55:13    152         마포구민체육센터 앞   18.0   \n",
       "419  SPB-17570 2019-11-15 22:16:08    391              정동길입구    7.0   \n",
       "\n",
       "                   반납일시  반납대여소번호       반납대여소명  반납거치대  이용시간    이용거리  \n",
       "0   2019-11-01 09:01:24        3         중랑센터    7.0  12.0  1100.0  \n",
       "1   2019-11-04 08:56:33        3         중랑센터    2.0   7.0  1420.0  \n",
       "2   2019-11-04 08:57:35        3         중랑센터    7.0  10.0     NaN  \n",
       "3   2019-11-05 08:45:45        3         중랑센터    NaN  10.0  1380.0  \n",
       "4   2019-11-05 12:39:37        3         중랑센터    7.0  10.0  1650.0  \n",
       "..                  ...      ...          ...    ...   ...     ...  \n",
       "415 2019-11-15 04:33:40      101  (구)합정동 주민센터    1.0  11.0  2200.0  \n",
       "416 2019-11-15 09:37:56      101  (구)합정동 주민센터    NaN   5.0     NaN  \n",
       "417 2019-11-15 20:53:46      101  (구)합정동 주민센터    1.0  12.0  2280.0  \n",
       "418 2019-11-15 22:05:40      101  (구)합정동 주민센터    1.0  10.0  1180.0  \n",
       "419 2019-11-15 23:04:53      101  (구)합정동 주민센터    5.0  48.0  8100.0  \n",
       "\n",
       "[420 rows x 11 columns]"
      ]
     },
     "execution_count": 5,
     "metadata": {},
     "output_type": "execute_result"
    }
   ],
   "source": [
    "# bicycle.xlsx 파일 불러온 후 조회\n",
    "# 변수명 df2\n",
    "df2 = pd.read_excel('./data/bicycle.xlsx')\n",
    "df2"
   ]
  },
  {
   "cell_type": "markdown",
   "id": "1692d8ac",
   "metadata": {},
   "source": [
    "### json"
   ]
  },
  {
   "cell_type": "code",
   "execution_count": 6,
   "id": "211a4198",
   "metadata": {},
   "outputs": [
    {
     "data": {
      "text/html": [
       "<div>\n",
       "<style scoped>\n",
       "    .dataframe tbody tr th:only-of-type {\n",
       "        vertical-align: middle;\n",
       "    }\n",
       "\n",
       "    .dataframe tbody tr th {\n",
       "        vertical-align: top;\n",
       "    }\n",
       "\n",
       "    .dataframe thead th {\n",
       "        text-align: right;\n",
       "    }\n",
       "</style>\n",
       "<table border=\"1\" class=\"dataframe\">\n",
       "  <thead>\n",
       "    <tr style=\"text-align: right;\">\n",
       "      <th></th>\n",
       "      <th>1.FirstName</th>\n",
       "      <th>2.LastName</th>\n",
       "      <th>3.Age</th>\n",
       "      <th>4.University</th>\n",
       "      <th>5.Courses</th>\n",
       "    </tr>\n",
       "  </thead>\n",
       "  <tbody>\n",
       "    <tr>\n",
       "      <th>0</th>\n",
       "      <td>Gildong</td>\n",
       "      <td>Hong</td>\n",
       "      <td>20</td>\n",
       "      <td>Gachon University</td>\n",
       "      <td>{'Classes': ['Probability', 'Generalized Linea...</td>\n",
       "    </tr>\n",
       "    <tr>\n",
       "      <th>1</th>\n",
       "      <td>Gildong</td>\n",
       "      <td>Hong</td>\n",
       "      <td>20</td>\n",
       "      <td>Gachon University</td>\n",
       "      <td>{'Classes': ['Data Structure', 'Programming', ...</td>\n",
       "    </tr>\n",
       "  </tbody>\n",
       "</table>\n",
       "</div>"
      ],
      "text/plain": [
       "  1.FirstName 2.LastName  3.Age       4.University  \\\n",
       "0     Gildong       Hong     20  Gachon University   \n",
       "1     Gildong       Hong     20  Gachon University   \n",
       "\n",
       "                                           5.Courses  \n",
       "0  {'Classes': ['Probability', 'Generalized Linea...  \n",
       "1  {'Classes': ['Data Structure', 'Programming', ...  "
      ]
     },
     "execution_count": 6,
     "metadata": {},
     "output_type": "execute_result"
    }
   ],
   "source": [
    "# read.json 파일 읽어들이기\n",
    "# 변수 df3\n",
    "df3 = pd.read_json('./data/read.json')\n",
    "df3"
   ]
  },
  {
   "cell_type": "markdown",
   "id": "a929cc1d",
   "metadata": {},
   "source": [
    "## 데이터 파일 저장"
   ]
  },
  {
   "cell_type": "markdown",
   "id": "dbd64182",
   "metadata": {},
   "source": [
    "### csv"
   ]
  },
  {
   "cell_type": "code",
   "execution_count": 7,
   "id": "ed9c8f52",
   "metadata": {},
   "outputs": [],
   "source": [
    "# df1 저장하기\n",
    "# 저장위치 : data2 폴더\n",
    "# 저장파일명 : sample_data.csv\n",
    "df1.to_csv('./data2/sample_data.csv')"
   ]
  },
  {
   "cell_type": "markdown",
   "id": "e5160585",
   "metadata": {},
   "source": [
    "### excel (.xlsx)"
   ]
  },
  {
   "cell_type": "code",
   "execution_count": 8,
   "id": "d1bd03a7",
   "metadata": {},
   "outputs": [],
   "source": [
    "# df2 저장하기\n",
    "# 저장위치 : data2 폴더\n",
    "# 저장파일명 : sample_data.xlsx\n",
    "df2.to_excel('./data2/sample_data.xlsx')"
   ]
  },
  {
   "cell_type": "markdown",
   "id": "f5f5c28b",
   "metadata": {},
   "source": [
    "### json"
   ]
  },
  {
   "cell_type": "code",
   "execution_count": 9,
   "id": "0e7df0a5",
   "metadata": {},
   "outputs": [],
   "source": [
    "# df3 저장하기\n",
    "# 저장위치 : data2 폴더\n",
    "# 저장파일명 : sample_data.json\n",
    "df3.to_json('./data2/sample_data.json')\n",
    "\n",
    "# json의 경우 딕셔너리 포멧임"
   ]
  },
  {
   "cell_type": "markdown",
   "id": "2c8ea6fc",
   "metadata": {},
   "source": [
    "## 데이터수집"
   ]
  },
  {
   "cell_type": "markdown",
   "id": "8a25b4bb",
   "metadata": {},
   "source": [
    "### OpenAPI 방식"
   ]
  },
  {
   "cell_type": "code",
   "execution_count": null,
   "id": "0837791e",
   "metadata": {},
   "outputs": [],
   "source": [
    "# 데이터포맷 확인\n",
    "# API 활용가이드 등 참고문서 다운로드"
   ]
  },
  {
   "cell_type": "markdown",
   "id": "f9f2c90d",
   "metadata": {},
   "source": [
    "#### XML 형태 가져오기"
   ]
  },
  {
   "cell_type": "code",
   "execution_count": 68,
   "id": "4eb393ee",
   "metadata": {},
   "outputs": [
    {
     "name": "stdout",
     "output_type": "stream",
     "text": [
      "<?xml version=\"1.0\" encoding=\"UTF-8\" standalone=\"yes\"?><response><header><resultCode>00</resultCode><resultMsg>NORMAL SERVICE.</resultMsg></header><body><items><item><addr>서울특별시 중랑구 봉화산로 215 1층 (신내동)</addr><clCd>81</clCd><clCdNm>약국</clCdNm><distance>.5478450769582605437588497466708942455</distance><emdongNm>신내동</emdongNm><estbDd>20001222</estbDd><postNo>02054</postNo><sgguCd>110019</sgguCd><sgguCdNm>중랑구</sgguCdNm><sidoCd>110000</sidoCd><sidoCdNm>서울</sidoCdNm><telno>02-3422-3097</telno><XPos>127.0965492</XPos><YPos>37.6076585</YPos><yadmNm>온누리건강약국</yadmNm><ykiho>JDQ4MTg4MSM1MSMkMSMkNCMkMDMkMzgxOTYxIzExIyQxIyQ3IyQ4MiQyNjEyMjIjODEjJDEjJDYjJDgz</ykiho></item><item><addr>서울특별시 중랑구 신내로 211 212호 (신내동, 금강리빙스텔)</addr><clCd>81</clCd><clCdNm>약국</clCdNm><distance>1035.1855820788666820304486290002772234</distance><emdongNm>신내동</emdongNm><estbDd>20140630</estbDd><postNo>02024</postNo><sgguCd>110019</sgguCd><sgguCdNm>중랑구</sgguCdNm><sidoCd>110000</sidoCd><sidoCdNm>서울</sidoCdNm><telno>02-6743-4262</telno><XPos>127.0926492</XPos><YPos>37.6164445</YPos><yadmNm>송이온누리약국</yadmNm><ykiho>JDQ4MTg4MSM1MSMkMSMkNCMkMDMkMzgxOTYxIzIxIyQxIyQ5IyQ4OSQyNjE0ODEjNjEjJDEjJDQjJDgz</ykiho></item></items><numOfRows>10</numOfRows><pageNo>1</pageNo><totalCount>2</totalCount></body></response>\n"
     ]
    }
   ],
   "source": [
    "import requests\n",
    "\n",
    "apikey = 'yxBA77YECKaAGkJ3f%2B6kzpJPhdIGoSw8qSBgriDUg%2FfhpKcugzqIAGX5Cx34fXh2IS5L%2BhpsXh0AQr2Nxi99Yw%3D%3D'\n",
    "\n",
    "pageNo = 1\n",
    "numOfRows = 10\n",
    "sidoCd = 110000\n",
    "sgguCd = 110019\n",
    "emdongNm = '신내동'\n",
    "yadmNm = '온누리'\n",
    "xPos = 127.0965441345503\n",
    "yPos = 37.60765568913871\n",
    "radius = 3000\n",
    "\n",
    "api = \"http://apis.data.go.kr/B551182/pharmacyInfoService/getParmacyBasisList?pageNo={no}&numOfRows={row}&sidoCd={sido}&sgguCd={sigu}&emdongNm={dong}&yadmNm={yanm}&xPos={x}&yPos={y}&radius={r}&ServiceKey={key}\"\n",
    "\n",
    "# 포멧팅 방식\n",
    "# f.'{pageNo}{sidoCd}'\n",
    "# '{}{}'.format(pageNo, sidoCd)\n",
    "url = api.format(no = pageNo, \n",
    "                 row = numOfRows, \n",
    "                 sido = sidoCd, \n",
    "                 sigu = sgguCd, \n",
    "                 dong = emdongNm, \n",
    "                 yanm = yadmNm, \n",
    "                 x = xPos, y = yPos, \n",
    "                 r = radius, \n",
    "                 key = apikey)\n",
    "\n",
    "# requests : 요청, response : 응답\n",
    "response = requests.get(url)\n",
    "print(response.text)"
   ]
  },
  {
   "cell_type": "markdown",
   "id": "d55aa6b3",
   "metadata": {},
   "source": [
    "#### XML 태그 접근"
   ]
  },
  {
   "cell_type": "code",
   "execution_count": 34,
   "id": "d1208b97",
   "metadata": {},
   "outputs": [],
   "source": [
    "from bs4 import BeautifulSoup\n",
    "import requests"
   ]
  },
  {
   "cell_type": "code",
   "execution_count": 46,
   "id": "36015f00",
   "metadata": {},
   "outputs": [
    {
     "name": "stdout",
     "output_type": "stream",
     "text": [
      "[<addr>서울특별시 중랑구 봉화산로 215 1층 (신내동)</addr>, <addr>서울특별시 중랑구 신내로 211 212호 (신내동, 금강리빙스텔)</addr>]\n",
      "[<telno>02-3422-3097</telno>, <telno>02-6743-4262</telno>]\n"
     ]
    }
   ],
   "source": [
    "re = response.text\n",
    "soup = BeautifulSoup(re, 'html.parser')   # html.parser : 태그를 의미있게 변경(태그 접근 가능)\n",
    "addr_list = soup.find_all('addr')    # list로 변수에 담을 수 있음\n",
    "telno_list = soup.find_all('telno')\n",
    "\n",
    "print(addr_list)\n",
    "print(telno_list)"
   ]
  },
  {
   "cell_type": "code",
   "execution_count": 40,
   "id": "530525ef",
   "metadata": {},
   "outputs": [
    {
     "data": {
      "text/plain": [
       "<addr>서울특별시 중랑구 봉화산로 215 1층 (신내동)</addr>"
      ]
     },
     "execution_count": 40,
     "metadata": {},
     "output_type": "execute_result"
    }
   ],
   "source": [
    "# 리스트 0번째의 태그를 가져옴\n",
    "addr_list[0]"
   ]
  },
  {
   "cell_type": "code",
   "execution_count": 41,
   "id": "1ff441cb",
   "metadata": {},
   "outputs": [
    {
     "data": {
      "text/plain": [
       "'서울특별시 중랑구 봉화산로 215 1층 (신내동)'"
      ]
     },
     "execution_count": 41,
     "metadata": {},
     "output_type": "execute_result"
    }
   ],
   "source": [
    "# 리스트 0번째에 태그의 텍스트만 가져옴\n",
    "addr_list[0].text"
   ]
  },
  {
   "cell_type": "code",
   "execution_count": 81,
   "id": "98fbc5d9",
   "metadata": {},
   "outputs": [
    {
     "name": "stdout",
     "output_type": "stream",
     "text": [
      "addr_list 2\n",
      "telno_list 2\n"
     ]
    }
   ],
   "source": [
    "# 길이 동일한지 확인\n",
    "print('addr_list', len(addr_list))\n",
    "print('telno_list', len(telno_list))"
   ]
  },
  {
   "cell_type": "code",
   "execution_count": 50,
   "id": "38f6676b",
   "metadata": {},
   "outputs": [
    {
     "name": "stdout",
     "output_type": "stream",
     "text": [
      "addr_list 2\n",
      "telno_list 2\n",
      "약국주소[ 0 ] :  서울특별시 중랑구 봉화산로 215 1층 (신내동)\n",
      "전화번호[ 0 ] :  02-3422-3097\n",
      "약국주소[ 1 ] :  서울특별시 중랑구 신내로 211 212호 (신내동, 금강리빙스텔)\n",
      "전화번호[ 1 ] :  02-6743-4262\n"
     ]
    }
   ],
   "source": [
    "# 인덱스를 이용하는 방식\n",
    "for i in range(len(addr_list)) :\n",
    "    print(\"약국주소[\", i, \"] : \", addr_list[i].text)\n",
    "    print(\"전화번호[\", i, \"] : \", telno_list[i].text)"
   ]
  },
  {
   "cell_type": "code",
   "execution_count": 43,
   "id": "ec57da1c",
   "metadata": {},
   "outputs": [
    {
     "name": "stdout",
     "output_type": "stream",
     "text": [
      "서울특별시 중랑구 봉화산로 215 1층 (신내동)\n",
      "서울특별시 중랑구 신내로 211 212호 (신내동, 금강리빙스텔)\n"
     ]
    }
   ],
   "source": [
    "# 값을 이용하는 방식\n",
    "for i in addr_list :\n",
    "    print(i.text)"
   ]
  },
  {
   "cell_type": "markdown",
   "id": "bcc8cb84",
   "metadata": {},
   "source": [
    "#### 데이터프레임 생성"
   ]
  },
  {
   "cell_type": "code",
   "execution_count": 72,
   "id": "14952630",
   "metadata": {},
   "outputs": [],
   "source": [
    "# 약국이름, 시도명, 주소, 전화번호에 대한 text값만 추출하여\n",
    "# 각각의 리스트에 담기\n",
    "# 변수명 : yad_txt_list, sido_txt_list, addr_txt_list, telno_txt_list"
   ]
  },
  {
   "cell_type": "code",
   "execution_count": 73,
   "id": "9551db5c",
   "metadata": {},
   "outputs": [
    {
     "data": {
      "text/plain": [
       "<?xml version=\"1.0\" encoding=\"UTF-8\" standalone=\"yes\"?><response><header><resultcode>00</resultcode><resultmsg>NORMAL SERVICE.</resultmsg></header><body><items><item><addr>서울특별시 중랑구 봉화산로 215 1층 (신내동)</addr><clcd>81</clcd><clcdnm>약국</clcdnm><distance>.5478450769582605437588497466708942455</distance><emdongnm>신내동</emdongnm><estbdd>20001222</estbdd><postno>02054</postno><sggucd>110019</sggucd><sggucdnm>중랑구</sggucdnm><sidocd>110000</sidocd><sidocdnm>서울</sidocdnm><telno>02-3422-3097</telno><xpos>127.0965492</xpos><ypos>37.6076585</ypos><yadmnm>온누리건강약국</yadmnm><ykiho>JDQ4MTg4MSM1MSMkMSMkNCMkMDMkMzgxOTYxIzExIyQxIyQ3IyQ4MiQyNjEyMjIjODEjJDEjJDYjJDgz</ykiho></item><item><addr>서울특별시 중랑구 신내로 211 212호 (신내동, 금강리빙스텔)</addr><clcd>81</clcd><clcdnm>약국</clcdnm><distance>1035.1855820788666820304486290002772234</distance><emdongnm>신내동</emdongnm><estbdd>20140630</estbdd><postno>02024</postno><sggucd>110019</sggucd><sggucdnm>중랑구</sggucdnm><sidocd>110000</sidocd><sidocdnm>서울</sidocdnm><telno>02-6743-4262</telno><xpos>127.0926492</xpos><ypos>37.6164445</ypos><yadmnm>송이온누리약국</yadmnm><ykiho>JDQ4MTg4MSM1MSMkMSMkNCMkMDMkMzgxOTYxIzIxIyQxIyQ5IyQ4OSQyNjE0ODEjNjEjJDEjJDQjJDgz</ykiho></item></items><numofrows>10</numofrows><pageno>1</pageno><totalcount>2</totalcount></body></response>"
      ]
     },
     "execution_count": 73,
     "metadata": {},
     "output_type": "execute_result"
    }
   ],
   "source": [
    "# 태그명 확인\n",
    "soup"
   ]
  },
  {
   "cell_type": "code",
   "execution_count": 74,
   "id": "1e2f9eb4",
   "metadata": {},
   "outputs": [],
   "source": [
    "# XML 형식에서 태그정보 가져오기\n",
    "yad_list = soup.find_all('yadmnm')\n",
    "sido_list = soup.find_all('sidocdnm')\n",
    "addr_list = soup.find_all('addr')\n",
    "telno_list = soup.find_all('telno')"
   ]
  },
  {
   "cell_type": "code",
   "execution_count": 89,
   "id": "87066c70",
   "metadata": {},
   "outputs": [
    {
     "name": "stdout",
     "output_type": "stream",
     "text": [
      "['온누리건강약국', '송이온누리약국']\n",
      "['서울', '서울']\n",
      "['서울특별시 중랑구 봉화산로 215 1층 (신내동)', '서울특별시 중랑구 신내로 211 212호 (신내동, 금강리빙스텔)']\n",
      "['02-3422-3097', '02-6743-4262']\n"
     ]
    }
   ],
   "source": [
    "yad_txt_list = []\n",
    "sido_txt_list = []\n",
    "addr_txt_list = []\n",
    "telno_txt_list = []\n",
    "\n",
    "for i in range(0, len(yad_list)) :\n",
    "    yad_txt_list.append(yad_list[i].text)\n",
    "    sido_txt_list.append(sido_list[i].text)\n",
    "    addr_txt_list.append(addr_list[i].text)\n",
    "    telno_txt_list.append(telno_list[i].text)\n",
    "    \n",
    "print(yad_txt_list)\n",
    "print(sido_txt_list)\n",
    "print(addr_txt_list)\n",
    "print(telno_txt_list)"
   ]
  },
  {
   "cell_type": "code",
   "execution_count": 92,
   "id": "e250587f",
   "metadata": {},
   "outputs": [
    {
     "data": {
      "text/html": [
       "<div>\n",
       "<style scoped>\n",
       "    .dataframe tbody tr th:only-of-type {\n",
       "        vertical-align: middle;\n",
       "    }\n",
       "\n",
       "    .dataframe tbody tr th {\n",
       "        vertical-align: top;\n",
       "    }\n",
       "\n",
       "    .dataframe thead th {\n",
       "        text-align: right;\n",
       "    }\n",
       "</style>\n",
       "<table border=\"1\" class=\"dataframe\">\n",
       "  <thead>\n",
       "    <tr style=\"text-align: right;\">\n",
       "      <th></th>\n",
       "      <th>약국명</th>\n",
       "      <th>시도명</th>\n",
       "      <th>주소</th>\n",
       "      <th>전화번호</th>\n",
       "    </tr>\n",
       "  </thead>\n",
       "  <tbody>\n",
       "    <tr>\n",
       "      <th>0</th>\n",
       "      <td>온누리건강약국</td>\n",
       "      <td>서울</td>\n",
       "      <td>서울특별시 중랑구 봉화산로 215 1층 (신내동)</td>\n",
       "      <td>02-3422-3097</td>\n",
       "    </tr>\n",
       "    <tr>\n",
       "      <th>1</th>\n",
       "      <td>송이온누리약국</td>\n",
       "      <td>서울</td>\n",
       "      <td>서울특별시 중랑구 신내로 211 212호 (신내동, 금강리빙스텔)</td>\n",
       "      <td>02-6743-4262</td>\n",
       "    </tr>\n",
       "  </tbody>\n",
       "</table>\n",
       "</div>"
      ],
      "text/plain": [
       "       약국명 시도명                                    주소          전화번호\n",
       "0  온누리건강약국  서울           서울특별시 중랑구 봉화산로 215 1층 (신내동)  02-3422-3097\n",
       "1  송이온누리약국  서울  서울특별시 중랑구 신내로 211 212호 (신내동, 금강리빙스텔)  02-6743-4262"
      ]
     },
     "execution_count": 92,
     "metadata": {},
     "output_type": "execute_result"
    }
   ],
   "source": [
    "# 데이터프레임 생성(딕셔너리)\n",
    "df_temp = pd.DataFrame({'약국명' : yad_txt_list,\n",
    "                        '시도명' : sido_txt_list,\n",
    "                        '주소' : addr_txt_list,\n",
    "                        '전화번호' : telno_txt_list})\n",
    "df_temp"
   ]
  },
  {
   "cell_type": "code",
   "execution_count": null,
   "id": "fafe702b",
   "metadata": {},
   "outputs": [],
   "source": [
    "# 아래와 같이 각각의 값들을 2차원 리스트 형태로 저장해주세요\n",
    "# 변수명 : list_all\n",
    "# [[유심약국, 서울, 서울특별시 중랑구 봉화산로 217 (신내동, 오상빌딩내), 02-3422-2755],\n",
    "#  [서울동산약국, 서울, 서울특별시 중랑구 신내로16길 17 1층 (신내동), 3423-0808]]"
   ]
  },
  {
   "cell_type": "code",
   "execution_count": 93,
   "id": "87a65959",
   "metadata": {},
   "outputs": [],
   "source": [
    "yad_list = soup.find_all('yadmnm')\n",
    "sido_list = soup.find_all('sidocdnm')\n",
    "addr_list = soup.find_all('addr')\n",
    "telno_list = soup.find_all('telno')"
   ]
  },
  {
   "cell_type": "code",
   "execution_count": 95,
   "id": "d4659bc7",
   "metadata": {},
   "outputs": [
    {
     "data": {
      "text/plain": [
       "[['온누리건강약국', '서울', '서울특별시 중랑구 봉화산로 215 1층 (신내동)', '02-3422-3097'],\n",
       " ['송이온누리약국', '서울', '서울특별시 중랑구 신내로 211 212호 (신내동, 금강리빙스텔)', '02-6743-4262']]"
      ]
     },
     "execution_count": 95,
     "metadata": {},
     "output_type": "execute_result"
    }
   ],
   "source": [
    "# 2차원 리스트 생성\n",
    "list_all = []\n",
    "\n",
    "for i in range(0, len(yad_list)) :\n",
    "    list_all.append([yad_list[i].text, sido_list[i].text, \n",
    "                     addr_list[i].text, telno_list[i].text])\n",
    "    \n",
    "list_all"
   ]
  },
  {
   "cell_type": "code",
   "execution_count": 99,
   "id": "d6fe18f7",
   "metadata": {},
   "outputs": [
    {
     "data": {
      "text/html": [
       "<div>\n",
       "<style scoped>\n",
       "    .dataframe tbody tr th:only-of-type {\n",
       "        vertical-align: middle;\n",
       "    }\n",
       "\n",
       "    .dataframe tbody tr th {\n",
       "        vertical-align: top;\n",
       "    }\n",
       "\n",
       "    .dataframe thead th {\n",
       "        text-align: right;\n",
       "    }\n",
       "</style>\n",
       "<table border=\"1\" class=\"dataframe\">\n",
       "  <thead>\n",
       "    <tr style=\"text-align: right;\">\n",
       "      <th></th>\n",
       "      <th>약국명</th>\n",
       "      <th>시도명</th>\n",
       "      <th>주소</th>\n",
       "      <th>전화번호</th>\n",
       "    </tr>\n",
       "  </thead>\n",
       "  <tbody>\n",
       "    <tr>\n",
       "      <th>0</th>\n",
       "      <td>온누리건강약국</td>\n",
       "      <td>서울</td>\n",
       "      <td>서울특별시 중랑구 봉화산로 215 1층 (신내동)</td>\n",
       "      <td>02-3422-3097</td>\n",
       "    </tr>\n",
       "    <tr>\n",
       "      <th>1</th>\n",
       "      <td>송이온누리약국</td>\n",
       "      <td>서울</td>\n",
       "      <td>서울특별시 중랑구 신내로 211 212호 (신내동, 금강리빙스텔)</td>\n",
       "      <td>02-6743-4262</td>\n",
       "    </tr>\n",
       "  </tbody>\n",
       "</table>\n",
       "</div>"
      ],
      "text/plain": [
       "       약국명 시도명                                    주소          전화번호\n",
       "0  온누리건강약국  서울           서울특별시 중랑구 봉화산로 215 1층 (신내동)  02-3422-3097\n",
       "1  송이온누리약국  서울  서울특별시 중랑구 신내로 211 212호 (신내동, 금강리빙스텔)  02-6743-4262"
      ]
     },
     "execution_count": 99,
     "metadata": {},
     "output_type": "execute_result"
    }
   ],
   "source": [
    "# 데이터프레임 생성(2차원 리스트)\n",
    "col_nm = ['약국명','시도명','주소','전화번호']\n",
    "new_df = pd.DataFrame(list_all, columns = col_nm)\n",
    "new_df"
   ]
  },
  {
   "cell_type": "markdown",
   "id": "cf97ca0f",
   "metadata": {},
   "source": [
    "### 데이터 다운로드"
   ]
  },
  {
   "cell_type": "markdown",
   "id": "f9120593",
   "metadata": {},
   "source": [
    "### 웹크롤링"
   ]
  }
 ],
 "metadata": {
  "kernelspec": {
   "display_name": "Python 3 (ipykernel)",
   "language": "python",
   "name": "python3"
  },
  "language_info": {
   "codemirror_mode": {
    "name": "ipython",
    "version": 3
   },
   "file_extension": ".py",
   "mimetype": "text/x-python",
   "name": "python",
   "nbconvert_exporter": "python",
   "pygments_lexer": "ipython3",
   "version": "3.9.12"
  },
  "toc": {
   "base_numbering": 1,
   "nav_menu": {},
   "number_sections": true,
   "sideBar": true,
   "skip_h1_title": false,
   "title_cell": "Table of Contents",
   "title_sidebar": "Contents",
   "toc_cell": false,
   "toc_position": {
    "height": "calc(100% - 180px)",
    "left": "10px",
    "top": "150px",
    "width": "259px"
   },
   "toc_section_display": true,
   "toc_window_display": true
  }
 },
 "nbformat": 4,
 "nbformat_minor": 5
}
